{
 "cells": [
  {
   "cell_type": "markdown",
   "id": "8397a9a5",
   "metadata": {},
   "source": [
    "# Projeto de Insights"
   ]
  },
  {
   "cell_type": "markdown",
   "id": "2c3a02d9",
   "metadata": {},
   "source": [
    "## 1. Objetivo"
   ]
  },
  {
   "cell_type": "markdown",
   "id": "a254a6cd",
   "metadata": {},
   "source": [
    "- Gerar insight através da análise e manipulação dos dados para auxiliar a tomada de decisão do time de negócio\n"
   ]
  },
  {
   "cell_type": "markdown",
   "id": "0257a6b5",
   "metadata": {},
   "source": [
    "## 2. Metodologia"
   ]
  },
  {
   "cell_type": "markdown",
   "id": "e5d9a403",
   "metadata": {},
   "source": [
    "### 2.1. Problema de negócio"
   ]
  },
  {
   "cell_type": "markdown",
   "id": "94ea051f",
   "metadata": {},
   "source": [
    "- Quais são os imóveis que a House Rocket deveria comprar e por qual preço\n",
    "- Uma vez que o imóvel foi comprado, qual o melhor momento para revendê-lo e por qual preço"
   ]
  },
  {
   "cell_type": "markdown",
   "id": "b4bb8563",
   "metadata": {},
   "source": [
    "### 2.2. Planejamento da solução"
   ]
  },
  {
   "cell_type": "markdown",
   "id": "fc61085f",
   "metadata": {
    "ExecuteTime": {
     "end_time": "2022-01-14T22:17:48.606788Z",
     "start_time": "2022-01-14T22:17:48.413489Z"
    }
   },
   "source": [
    "- **Saída:**\n",
    "    - Reposta:\n",
    "        - Filtrar os imóveis com preço de custo abaixo da média da região.\n",
    "        - Calcular a margem para revenda em função do preço de custo e a sazonalidade.\n",
    "    - Entrega:\n",
    "        - Dashboard interativo.\n",
    "    - Local:\n",
    "        - Plataforma cloud.  \n",
    "    \n",
    "- **Processo:**\n",
    "    - Etapas:\n",
    "        - Agrupar os dados por região.\n",
    "        - Encontrar a mediana do preço de custo dos imóveis.\n",
    "        - Identificar os imóveis que estão abaixo do preço mediano de cada região e que estejam em boas condições.\n",
    "        - Coletar os dados de localização dos imóveis.\n",
    "        - Agrupar os dados por estação do ano.\n",
    "        - Definir o preço de revenda:\n",
    "            - Se o preço de compra for maior que a mediana da região/sazonalidade, considerar uma margem de 10%.\n",
    "            - Se o preço de compra for menor que a mediana da região/sazonalidade, considerar uma margem de 30%.\n",
    "    - Formato da entrega:\n",
    "        - Gráfico de dispersão indicando quais imóveis estão elegíveis para aquisição.\n",
    "        - Tabela com os imóveis sugeridos para compra com os seguintes dados: código do imóvel, região, endereço, preço de custo, preço de venda sugerido, lucro previsto.\n",
    "        - Mapa com a localização dos imóveis da tabela.\n",
    "        - Filtro para selecionar uma região ou todas.\n",
    "    - Local da entrega:\n",
    "        - URL\n",
    "\n",
    "- **Entrada:**\n",
    "    - Fonte de dados:\n",
    "        - Site Kaggle\n",
    "    - Ferramentas:\n",
    "        - Python\n",
    "        - Streamlit framework\n",
    "        - Heroku cloud\n",
    "        - VSCode\n",
    "        - Jupyter Notebook"
   ]
  },
  {
   "cell_type": "markdown",
   "id": "931c428e",
   "metadata": {},
   "source": [
    "## 3. Execução da solução"
   ]
  },
  {
   "cell_type": "markdown",
   "id": "17c26a79",
   "metadata": {},
   "source": [
    "**Bibliotecas e parâmetros**"
   ]
  },
  {
   "cell_type": "code",
   "execution_count": 1,
   "id": "31d0c30d",
   "metadata": {
    "ExecuteTime": {
     "end_time": "2022-01-15T18:34:15.331858Z",
     "start_time": "2022-01-15T18:34:11.761520Z"
    }
   },
   "outputs": [],
   "source": [
    "import pandas as pd\n",
    "import numpy as np\n",
    "import seaborn as sns\n",
    "import plotly.express as px\n",
    "import geopy.geocoders\n",
    "import plotly.graph_objects as go\n",
    "import ipywidgets as widgets\n",
    "from ipywidgets import fixed, interact, interact_manual\n",
    "\n",
    "from matplotlib import pyplot as plt\n",
    "from geopy.geocoders import Nominatim\n",
    "\n",
    "# definindo formato de exibição dos números decimais\n",
    "pd.set_option('display.float_format', lambda x: '%.2f' % x)"
   ]
  },
  {
   "cell_type": "markdown",
   "id": "628207b1",
   "metadata": {},
   "source": [
    "**Coleta dos dados**"
   ]
  },
  {
   "cell_type": "code",
   "execution_count": 3,
   "id": "cf246465",
   "metadata": {
    "ExecuteTime": {
     "end_time": "2022-01-15T18:34:41.022695Z",
     "start_time": "2022-01-15T18:34:40.880978Z"
    }
   },
   "outputs": [
    {
     "data": {
      "text/html": [
       "<div>\n",
       "<style scoped>\n",
       "    .dataframe tbody tr th:only-of-type {\n",
       "        vertical-align: middle;\n",
       "    }\n",
       "\n",
       "    .dataframe tbody tr th {\n",
       "        vertical-align: top;\n",
       "    }\n",
       "\n",
       "    .dataframe thead th {\n",
       "        text-align: right;\n",
       "    }\n",
       "</style>\n",
       "<table border=\"1\" class=\"dataframe\">\n",
       "  <thead>\n",
       "    <tr style=\"text-align: right;\">\n",
       "      <th></th>\n",
       "      <th>id</th>\n",
       "      <th>date</th>\n",
       "      <th>price</th>\n",
       "      <th>bedrooms</th>\n",
       "      <th>bathrooms</th>\n",
       "      <th>sqft_living</th>\n",
       "      <th>sqft_lot</th>\n",
       "      <th>floors</th>\n",
       "      <th>waterfront</th>\n",
       "      <th>view</th>\n",
       "      <th>...</th>\n",
       "      <th>grade</th>\n",
       "      <th>sqft_above</th>\n",
       "      <th>sqft_basement</th>\n",
       "      <th>yr_built</th>\n",
       "      <th>yr_renovated</th>\n",
       "      <th>zipcode</th>\n",
       "      <th>lat</th>\n",
       "      <th>long</th>\n",
       "      <th>sqft_living15</th>\n",
       "      <th>sqft_lot15</th>\n",
       "    </tr>\n",
       "  </thead>\n",
       "  <tbody>\n",
       "    <tr>\n",
       "      <th>0</th>\n",
       "      <td>7129300520</td>\n",
       "      <td>20141013T000000</td>\n",
       "      <td>221900.00</td>\n",
       "      <td>3</td>\n",
       "      <td>1.00</td>\n",
       "      <td>1180</td>\n",
       "      <td>5650</td>\n",
       "      <td>1.00</td>\n",
       "      <td>0</td>\n",
       "      <td>0</td>\n",
       "      <td>...</td>\n",
       "      <td>7</td>\n",
       "      <td>1180</td>\n",
       "      <td>0</td>\n",
       "      <td>1955</td>\n",
       "      <td>0</td>\n",
       "      <td>98178</td>\n",
       "      <td>47.51</td>\n",
       "      <td>-122.26</td>\n",
       "      <td>1340</td>\n",
       "      <td>5650</td>\n",
       "    </tr>\n",
       "    <tr>\n",
       "      <th>1</th>\n",
       "      <td>6414100192</td>\n",
       "      <td>20141209T000000</td>\n",
       "      <td>538000.00</td>\n",
       "      <td>3</td>\n",
       "      <td>2.25</td>\n",
       "      <td>2570</td>\n",
       "      <td>7242</td>\n",
       "      <td>2.00</td>\n",
       "      <td>0</td>\n",
       "      <td>0</td>\n",
       "      <td>...</td>\n",
       "      <td>7</td>\n",
       "      <td>2170</td>\n",
       "      <td>400</td>\n",
       "      <td>1951</td>\n",
       "      <td>1991</td>\n",
       "      <td>98125</td>\n",
       "      <td>47.72</td>\n",
       "      <td>-122.32</td>\n",
       "      <td>1690</td>\n",
       "      <td>7639</td>\n",
       "    </tr>\n",
       "    <tr>\n",
       "      <th>2</th>\n",
       "      <td>5631500400</td>\n",
       "      <td>20150225T000000</td>\n",
       "      <td>180000.00</td>\n",
       "      <td>2</td>\n",
       "      <td>1.00</td>\n",
       "      <td>770</td>\n",
       "      <td>10000</td>\n",
       "      <td>1.00</td>\n",
       "      <td>0</td>\n",
       "      <td>0</td>\n",
       "      <td>...</td>\n",
       "      <td>6</td>\n",
       "      <td>770</td>\n",
       "      <td>0</td>\n",
       "      <td>1933</td>\n",
       "      <td>0</td>\n",
       "      <td>98028</td>\n",
       "      <td>47.74</td>\n",
       "      <td>-122.23</td>\n",
       "      <td>2720</td>\n",
       "      <td>8062</td>\n",
       "    </tr>\n",
       "    <tr>\n",
       "      <th>3</th>\n",
       "      <td>2487200875</td>\n",
       "      <td>20141209T000000</td>\n",
       "      <td>604000.00</td>\n",
       "      <td>4</td>\n",
       "      <td>3.00</td>\n",
       "      <td>1960</td>\n",
       "      <td>5000</td>\n",
       "      <td>1.00</td>\n",
       "      <td>0</td>\n",
       "      <td>0</td>\n",
       "      <td>...</td>\n",
       "      <td>7</td>\n",
       "      <td>1050</td>\n",
       "      <td>910</td>\n",
       "      <td>1965</td>\n",
       "      <td>0</td>\n",
       "      <td>98136</td>\n",
       "      <td>47.52</td>\n",
       "      <td>-122.39</td>\n",
       "      <td>1360</td>\n",
       "      <td>5000</td>\n",
       "    </tr>\n",
       "    <tr>\n",
       "      <th>4</th>\n",
       "      <td>1954400510</td>\n",
       "      <td>20150218T000000</td>\n",
       "      <td>510000.00</td>\n",
       "      <td>3</td>\n",
       "      <td>2.00</td>\n",
       "      <td>1680</td>\n",
       "      <td>8080</td>\n",
       "      <td>1.00</td>\n",
       "      <td>0</td>\n",
       "      <td>0</td>\n",
       "      <td>...</td>\n",
       "      <td>8</td>\n",
       "      <td>1680</td>\n",
       "      <td>0</td>\n",
       "      <td>1987</td>\n",
       "      <td>0</td>\n",
       "      <td>98074</td>\n",
       "      <td>47.62</td>\n",
       "      <td>-122.05</td>\n",
       "      <td>1800</td>\n",
       "      <td>7503</td>\n",
       "    </tr>\n",
       "  </tbody>\n",
       "</table>\n",
       "<p>5 rows × 21 columns</p>\n",
       "</div>"
      ],
      "text/plain": [
       "           id             date     price  bedrooms  bathrooms  sqft_living  \\\n",
       "0  7129300520  20141013T000000 221900.00         3       1.00         1180   \n",
       "1  6414100192  20141209T000000 538000.00         3       2.25         2570   \n",
       "2  5631500400  20150225T000000 180000.00         2       1.00          770   \n",
       "3  2487200875  20141209T000000 604000.00         4       3.00         1960   \n",
       "4  1954400510  20150218T000000 510000.00         3       2.00         1680   \n",
       "\n",
       "   sqft_lot  floors  waterfront  view  ...  grade  sqft_above  sqft_basement  \\\n",
       "0      5650    1.00           0     0  ...      7        1180              0   \n",
       "1      7242    2.00           0     0  ...      7        2170            400   \n",
       "2     10000    1.00           0     0  ...      6         770              0   \n",
       "3      5000    1.00           0     0  ...      7        1050            910   \n",
       "4      8080    1.00           0     0  ...      8        1680              0   \n",
       "\n",
       "   yr_built  yr_renovated  zipcode   lat    long  sqft_living15  sqft_lot15  \n",
       "0      1955             0    98178 47.51 -122.26           1340        5650  \n",
       "1      1951          1991    98125 47.72 -122.32           1690        7639  \n",
       "2      1933             0    98028 47.74 -122.23           2720        8062  \n",
       "3      1965             0    98136 47.52 -122.39           1360        5000  \n",
       "4      1987             0    98074 47.62 -122.05           1800        7503  \n",
       "\n",
       "[5 rows x 21 columns]"
      ]
     },
     "execution_count": 3,
     "metadata": {},
     "output_type": "execute_result"
    }
   ],
   "source": [
    "# dados dos imóveis em King County\n",
    "raw_data = pd.read_csv('kc_house_data.csv')\n",
    "raw_data.head()"
   ]
  },
  {
   "cell_type": "code",
   "execution_count": 6,
   "id": "dead594c",
   "metadata": {
    "ExecuteTime": {
     "end_time": "2022-01-15T01:30:46.751497Z",
     "start_time": "2022-01-15T01:30:46.741490Z"
    }
   },
   "outputs": [
    {
     "data": {
      "text/plain": [
       "id                 int64\n",
       "date              object\n",
       "price            float64\n",
       "bedrooms           int64\n",
       "bathrooms        float64\n",
       "sqft_living        int64\n",
       "sqft_lot           int64\n",
       "floors           float64\n",
       "waterfront         int64\n",
       "view               int64\n",
       "condition          int64\n",
       "grade              int64\n",
       "sqft_above         int64\n",
       "sqft_basement      int64\n",
       "yr_built           int64\n",
       "yr_renovated       int64\n",
       "zipcode            int64\n",
       "lat              float64\n",
       "long             float64\n",
       "sqft_living15      int64\n",
       "sqft_lot15         int64\n",
       "dtype: object"
      ]
     },
     "execution_count": 6,
     "metadata": {},
     "output_type": "execute_result"
    }
   ],
   "source": [
    "raw_data.dtypes"
   ]
  },
  {
   "cell_type": "markdown",
   "id": "4165b1e1",
   "metadata": {},
   "source": [
    "**Transformação dos dados**"
   ]
  },
  {
   "cell_type": "code",
   "execution_count": 4,
   "id": "86b1c2b3",
   "metadata": {
    "ExecuteTime": {
     "end_time": "2022-01-15T18:34:48.581727Z",
     "start_time": "2022-01-15T18:34:48.491440Z"
    }
   },
   "outputs": [],
   "source": [
    "# corrigindo tipagem dos dados\n",
    "raw_data['date'] = pd.to_datetime(raw_data['date'],format='%Y-%m-%d')\n",
    "raw_data['bathrooms'] = raw_data['bathrooms'].astype('int64')\n",
    "raw_data['floors'] = raw_data['floors'].astype('int64')\n",
    "\n",
    "# removendo atributos que não agregam à solução do problema\n",
    "raw_data = raw_data.drop(columns=['sqft_living15','sqft_lot15'])"
   ]
  },
  {
   "cell_type": "markdown",
   "id": "26c4b219",
   "metadata": {},
   "source": [
    "**Análise Descritiva**"
   ]
  },
  {
   "cell_type": "code",
   "execution_count": 8,
   "id": "bbef5123",
   "metadata": {
    "ExecuteTime": {
     "end_time": "2022-01-15T01:30:56.175069Z",
     "start_time": "2022-01-15T01:30:56.116919Z"
    }
   },
   "outputs": [],
   "source": [
    "# separando dados de tipos numéricos\n",
    "num_attributes = raw_data.select_dtypes(include=['int64','float64'])\n",
    "\n",
    "# definindo medidas de dispersão e tendencia central\n",
    "max_ = pd.DataFrame(num_attributes.apply(np.max))\n",
    "min_ = pd.DataFrame(num_attributes.apply(np.min))\n",
    "avg = pd.DataFrame(num_attributes.apply(np.mean))\n",
    "median = pd.DataFrame(num_attributes.apply(np.median))\n",
    "std = pd.DataFrame(num_attributes.apply(np.std))\n",
    "\n",
    "# unindo resultados\n",
    "descriptive_analysis = pd.concat([min_,max_,avg,median,std], axis=1).reset_index()\n",
    "descriptive_analysis.columns = ['attributes','min','max','average','median','std']"
   ]
  },
  {
   "cell_type": "code",
   "execution_count": 9,
   "id": "6d167806",
   "metadata": {
    "ExecuteTime": {
     "end_time": "2022-01-15T01:31:04.331580Z",
     "start_time": "2022-01-15T01:31:04.317643Z"
    }
   },
   "outputs": [
    {
     "data": {
      "text/html": [
       "<div>\n",
       "<style scoped>\n",
       "    .dataframe tbody tr th:only-of-type {\n",
       "        vertical-align: middle;\n",
       "    }\n",
       "\n",
       "    .dataframe tbody tr th {\n",
       "        vertical-align: top;\n",
       "    }\n",
       "\n",
       "    .dataframe thead th {\n",
       "        text-align: right;\n",
       "    }\n",
       "</style>\n",
       "<table border=\"1\" class=\"dataframe\">\n",
       "  <thead>\n",
       "    <tr style=\"text-align: right;\">\n",
       "      <th></th>\n",
       "      <th>attributes</th>\n",
       "      <th>min</th>\n",
       "      <th>max</th>\n",
       "      <th>average</th>\n",
       "      <th>median</th>\n",
       "      <th>std</th>\n",
       "    </tr>\n",
       "  </thead>\n",
       "  <tbody>\n",
       "    <tr>\n",
       "      <th>0</th>\n",
       "      <td>id</td>\n",
       "      <td>1000102.00</td>\n",
       "      <td>9900000190.00</td>\n",
       "      <td>4580301520.86</td>\n",
       "      <td>3904930410.00</td>\n",
       "      <td>2876499023.43</td>\n",
       "    </tr>\n",
       "    <tr>\n",
       "      <th>1</th>\n",
       "      <td>price</td>\n",
       "      <td>75000.00</td>\n",
       "      <td>7700000.00</td>\n",
       "      <td>540088.14</td>\n",
       "      <td>450000.00</td>\n",
       "      <td>367118.70</td>\n",
       "    </tr>\n",
       "    <tr>\n",
       "      <th>2</th>\n",
       "      <td>bedrooms</td>\n",
       "      <td>0.00</td>\n",
       "      <td>33.00</td>\n",
       "      <td>3.37</td>\n",
       "      <td>3.00</td>\n",
       "      <td>0.93</td>\n",
       "    </tr>\n",
       "    <tr>\n",
       "      <th>3</th>\n",
       "      <td>bathrooms</td>\n",
       "      <td>0.00</td>\n",
       "      <td>8.00</td>\n",
       "      <td>1.75</td>\n",
       "      <td>2.00</td>\n",
       "      <td>0.73</td>\n",
       "    </tr>\n",
       "    <tr>\n",
       "      <th>4</th>\n",
       "      <td>sqft_living</td>\n",
       "      <td>290.00</td>\n",
       "      <td>13540.00</td>\n",
       "      <td>2079.90</td>\n",
       "      <td>1910.00</td>\n",
       "      <td>918.42</td>\n",
       "    </tr>\n",
       "    <tr>\n",
       "      <th>5</th>\n",
       "      <td>sqft_lot</td>\n",
       "      <td>520.00</td>\n",
       "      <td>1651359.00</td>\n",
       "      <td>15106.97</td>\n",
       "      <td>7618.00</td>\n",
       "      <td>41419.55</td>\n",
       "    </tr>\n",
       "    <tr>\n",
       "      <th>6</th>\n",
       "      <td>floors</td>\n",
       "      <td>1.00</td>\n",
       "      <td>3.00</td>\n",
       "      <td>1.45</td>\n",
       "      <td>1.00</td>\n",
       "      <td>0.55</td>\n",
       "    </tr>\n",
       "    <tr>\n",
       "      <th>7</th>\n",
       "      <td>waterfront</td>\n",
       "      <td>0.00</td>\n",
       "      <td>1.00</td>\n",
       "      <td>0.01</td>\n",
       "      <td>0.00</td>\n",
       "      <td>0.09</td>\n",
       "    </tr>\n",
       "    <tr>\n",
       "      <th>8</th>\n",
       "      <td>view</td>\n",
       "      <td>0.00</td>\n",
       "      <td>4.00</td>\n",
       "      <td>0.23</td>\n",
       "      <td>0.00</td>\n",
       "      <td>0.77</td>\n",
       "    </tr>\n",
       "    <tr>\n",
       "      <th>9</th>\n",
       "      <td>condition</td>\n",
       "      <td>1.00</td>\n",
       "      <td>5.00</td>\n",
       "      <td>3.41</td>\n",
       "      <td>3.00</td>\n",
       "      <td>0.65</td>\n",
       "    </tr>\n",
       "    <tr>\n",
       "      <th>10</th>\n",
       "      <td>grade</td>\n",
       "      <td>1.00</td>\n",
       "      <td>13.00</td>\n",
       "      <td>7.66</td>\n",
       "      <td>7.00</td>\n",
       "      <td>1.18</td>\n",
       "    </tr>\n",
       "    <tr>\n",
       "      <th>11</th>\n",
       "      <td>sqft_above</td>\n",
       "      <td>290.00</td>\n",
       "      <td>9410.00</td>\n",
       "      <td>1788.39</td>\n",
       "      <td>1560.00</td>\n",
       "      <td>828.07</td>\n",
       "    </tr>\n",
       "    <tr>\n",
       "      <th>12</th>\n",
       "      <td>sqft_basement</td>\n",
       "      <td>0.00</td>\n",
       "      <td>4820.00</td>\n",
       "      <td>291.51</td>\n",
       "      <td>0.00</td>\n",
       "      <td>442.56</td>\n",
       "    </tr>\n",
       "    <tr>\n",
       "      <th>13</th>\n",
       "      <td>yr_built</td>\n",
       "      <td>1900.00</td>\n",
       "      <td>2015.00</td>\n",
       "      <td>1971.01</td>\n",
       "      <td>1975.00</td>\n",
       "      <td>29.37</td>\n",
       "    </tr>\n",
       "    <tr>\n",
       "      <th>14</th>\n",
       "      <td>yr_renovated</td>\n",
       "      <td>0.00</td>\n",
       "      <td>2015.00</td>\n",
       "      <td>84.40</td>\n",
       "      <td>0.00</td>\n",
       "      <td>401.67</td>\n",
       "    </tr>\n",
       "    <tr>\n",
       "      <th>15</th>\n",
       "      <td>zipcode</td>\n",
       "      <td>98001.00</td>\n",
       "      <td>98199.00</td>\n",
       "      <td>98077.94</td>\n",
       "      <td>98065.00</td>\n",
       "      <td>53.50</td>\n",
       "    </tr>\n",
       "    <tr>\n",
       "      <th>16</th>\n",
       "      <td>lat</td>\n",
       "      <td>47.16</td>\n",
       "      <td>47.78</td>\n",
       "      <td>47.56</td>\n",
       "      <td>47.57</td>\n",
       "      <td>0.14</td>\n",
       "    </tr>\n",
       "    <tr>\n",
       "      <th>17</th>\n",
       "      <td>long</td>\n",
       "      <td>-122.52</td>\n",
       "      <td>-121.31</td>\n",
       "      <td>-122.21</td>\n",
       "      <td>-122.23</td>\n",
       "      <td>0.14</td>\n",
       "    </tr>\n",
       "  </tbody>\n",
       "</table>\n",
       "</div>"
      ],
      "text/plain": [
       "       attributes        min           max       average        median  \\\n",
       "0              id 1000102.00 9900000190.00 4580301520.86 3904930410.00   \n",
       "1           price   75000.00    7700000.00     540088.14     450000.00   \n",
       "2        bedrooms       0.00         33.00          3.37          3.00   \n",
       "3       bathrooms       0.00          8.00          1.75          2.00   \n",
       "4     sqft_living     290.00      13540.00       2079.90       1910.00   \n",
       "5        sqft_lot     520.00    1651359.00      15106.97       7618.00   \n",
       "6          floors       1.00          3.00          1.45          1.00   \n",
       "7      waterfront       0.00          1.00          0.01          0.00   \n",
       "8            view       0.00          4.00          0.23          0.00   \n",
       "9       condition       1.00          5.00          3.41          3.00   \n",
       "10          grade       1.00         13.00          7.66          7.00   \n",
       "11     sqft_above     290.00       9410.00       1788.39       1560.00   \n",
       "12  sqft_basement       0.00       4820.00        291.51          0.00   \n",
       "13       yr_built    1900.00       2015.00       1971.01       1975.00   \n",
       "14   yr_renovated       0.00       2015.00         84.40          0.00   \n",
       "15        zipcode   98001.00      98199.00      98077.94      98065.00   \n",
       "16            lat      47.16         47.78         47.56         47.57   \n",
       "17           long    -122.52       -121.31       -122.21       -122.23   \n",
       "\n",
       "             std  \n",
       "0  2876499023.43  \n",
       "1      367118.70  \n",
       "2           0.93  \n",
       "3           0.73  \n",
       "4         918.42  \n",
       "5       41419.55  \n",
       "6           0.55  \n",
       "7           0.09  \n",
       "8           0.77  \n",
       "9           0.65  \n",
       "10          1.18  \n",
       "11        828.07  \n",
       "12        442.56  \n",
       "13         29.37  \n",
       "14        401.67  \n",
       "15         53.50  \n",
       "16          0.14  \n",
       "17          0.14  "
      ]
     },
     "execution_count": 9,
     "metadata": {},
     "output_type": "execute_result"
    }
   ],
   "source": [
    "descriptive_analysis"
   ]
  },
  {
   "cell_type": "markdown",
   "id": "4629ddea",
   "metadata": {},
   "source": [
    "**Limpeza dos dados**"
   ]
  },
  {
   "cell_type": "code",
   "execution_count": 10,
   "id": "a1dd377c",
   "metadata": {
    "ExecuteTime": {
     "end_time": "2022-01-15T01:31:16.701426Z",
     "start_time": "2022-01-15T01:31:16.666976Z"
    }
   },
   "outputs": [],
   "source": [
    "# correção de outlier\n",
    "'''\n",
    "assumo que o registro com 33 quartos é um erro de digitação,\n",
    "considerando que os valores de preço, sala de estar, terreno\n",
    "e numero de banheiros estão na média dos imóveis de 3 quartos\n",
    "'''\n",
    "raw_data[raw_data['bedrooms'].isin([3,33])]\n",
    "\n",
    "price = raw_data[raw_data['bedrooms']==3]['price'].mean()\n",
    "sqft_lot = raw_data[raw_data['bedrooms']==3]['sqft_lot'].mean()\n",
    "sqft_living = raw_data[raw_data['bedrooms']==3]['sqft_living'].mean()\n",
    "bath = raw_data[raw_data['bedrooms']==3]['bathrooms'].mean()\n",
    "\n",
    "raw_data.loc[raw_data['bedrooms']==33,'bedrooms'] = 3"
   ]
  },
  {
   "cell_type": "markdown",
   "id": "d98f0e73",
   "metadata": {
    "heading_collapsed": true
   },
   "source": [
    "##### Levantamento de hipóteses"
   ]
  },
  {
   "cell_type": "code",
   "execution_count": 11,
   "id": "cc291340",
   "metadata": {
    "ExecuteTime": {
     "end_time": "2022-01-15T01:31:23.221867Z",
     "start_time": "2022-01-15T01:31:22.980535Z"
    },
    "hidden": true
   },
   "outputs": [
    {
     "name": "stdout",
     "output_type": "stream",
     "text": [
      "Verdadeiro. O valor dos imóveis com vista para a água apresentam variação de 207.70% em relação à média geral\n"
     ]
    },
    {
     "data": {
      "image/png": "[encoded data removed]",
      "text/plain": [
       "<Figure size 432x288 with 1 Axes>"
      ]
     },
     "metadata": {
      "needs_background": "light"
     },
     "output_type": "display_data"
    }
   ],
   "source": [
    "# H1: Imóveis com vista para água são 20% mais caros que a média\n",
    "\n",
    "_all = raw_data['price'].mean()\n",
    "w_water = raw_data[raw_data['waterfront']==1]['price'].mean()\n",
    "df_h1 = pd.DataFrame({'attribute': ['geral','waterfront'], 'valor_medio': [_all, w_water]})\n",
    "df_h1['pct'] = df_h1['valor_medio'].pct_change()\n",
    "result = ''\n",
    "if df_h1.loc[1,'valor_medio'] > df_h1.loc[0,'valor_medio']:\n",
    "    result = 'Verdadeiro'\n",
    "else: 'Falso'\n",
    "\n",
    "print('{:}. O valor dos imóveis com vista para a água apresentam variação de {:.2f}% em relação à média geral'.format(result, df_h1.loc[1,'pct']*100))\n",
    "sns.barplot(data=df_h1, x='attribute', y='valor_medio');"
   ]
  },
  {
   "cell_type": "code",
   "execution_count": 22,
   "id": "09f26bb3",
   "metadata": {
    "ExecuteTime": {
     "end_time": "2022-01-15T01:37:29.920788Z",
     "start_time": "2022-01-15T01:37:29.808091Z"
    },
    "hidden": true
   },
   "outputs": [
    {
     "name": "stdout",
     "output_type": "stream",
     "text": [
      "Diferenca percentual: -0.56%\n"
     ]
    },
    {
     "data": {
      "image/png": "[encoded data removed]",
      "text/plain": [
       "<Figure size 432x288 with 1 Axes>"
      ]
     },
     "metadata": {},
     "output_type": "display_data"
    }
   ],
   "source": [
    "## H2: Imóveis com data de construção menor que 1955 são 50% mais baratos na média\n",
    "\n",
    "_all = raw_data['price'].mean()\n",
    "older_1955 = raw_data[raw_data['yr_built'] < 1955]['price'].mean()\n",
    "df_h2 = pd.DataFrame({'attribute': ['media_geral','older_1995'], 'mean': [_all, older_1955]})\n",
    "df_h2['pct'] = df_h2['mean'].pct_change()\n",
    "\n",
    "print('Diferenca percentual: {:.2f}%'.format(df_h2.loc[1,'pct']*100))\n",
    "sns.barplot(data=df_h2, x='attribute', y='mean');"
   ]
  },
  {
   "cell_type": "code",
   "execution_count": 17,
   "id": "09592934",
   "metadata": {
    "ExecuteTime": {
     "end_time": "2022-01-15T01:36:24.327406Z",
     "start_time": "2022-01-15T01:36:24.193765Z"
    },
    "hidden": true
   },
   "outputs": [
    {
     "name": "stdout",
     "output_type": "stream",
     "text": [
      "Verdadeiro. A diferença percentual da área total dos imóveis sem porão em relação aos imóveis com porão é de 22.56%\n"
     ]
    },
    {
     "data": {
      "image/png": "[encoded data removed]",
      "text/plain": [
       "<Figure size 432x288 with 1 Axes>"
      ]
     },
     "metadata": {
      "needs_background": "light"
     },
     "output_type": "display_data"
    }
   ],
   "source": [
    "# H3: Imóveis sem porão são, em media, 40% maiores do que os imóveis com porão\n",
    "\n",
    "sem_porao = raw_data[raw_data['sqft_basement']==0]['sqft_lot'].mean()\n",
    "com_porao = raw_data[raw_data['sqft_basement']!=0]['sqft_lot'].mean()\n",
    "df_h3 = pd.DataFrame({'attribute': ['com_porao','sem_porao'], 'mean_sqft_lot': [com_porao, sem_porao]})\n",
    "df_h3['pct'] = df_h3['mean_sqft_lot'].pct_change()\n",
    "result = ''\n",
    "if df_h3.loc[0,'mean_sqft_lot'] < df_h3.loc[1,'mean_sqft_lot']:\n",
    "    result = 'Verdadeiro'\n",
    "else: result = 'Falso'\n",
    "\n",
    "print('{:}. A diferença percentual da área total dos imóveis sem porão em relação aos imóveis com porão é de {:.2f}%'.format(result, df_h3.loc[1,'pct']*100))\n",
    "sns.barplot(data=df_h3, x='attribute', y='mean_sqft_lot');"
   ]
  },
  {
   "cell_type": "code",
   "execution_count": 18,
   "id": "0d61831d",
   "metadata": {
    "ExecuteTime": {
     "end_time": "2022-01-15T01:36:26.920534Z",
     "start_time": "2022-01-15T01:36:26.594628Z"
    },
    "hidden": true
   },
   "outputs": [
    {
     "name": "stdout",
     "output_type": "stream",
     "text": [
      "Falso. A variação percentual do valor médio dos imóveis ano a ano é de 0.52%\n"
     ]
    },
    {
     "data": {
      "image/png": "[encoded data removed]",
      "text/plain": [
       "<Figure size 432x288 with 1 Axes>"
      ]
     },
     "metadata": {
      "needs_background": "light"
     },
     "output_type": "display_data"
    }
   ],
   "source": [
    "# H4: Crescimento do preço dos imóveis Yoy é de 10%\n",
    "\n",
    "raw_data['year'] = pd.to_datetime(raw_data['date']).dt.strftime('%Y')\n",
    "df_h4 = raw_data[['year','price']].groupby('year').mean().reset_index()\n",
    "df_h4 = df_h4.rename(columns={'price': 'mean'})\n",
    "df_h4['pct'] = df_h4['mean'].pct_change()\n",
    "result = ''\n",
    "if df_h4.loc[1,'mean'] == 0.1:\n",
    "    result = 'Verdadeiro'\n",
    "else: result = 'Falso'\n",
    "    \n",
    "print('{:}. A variação percentual do valor médio dos imóveis ano a ano é de {:.2f}%'.format(result, df_h4.loc[1,'pct']*100))\n",
    "sns.barplot(data=df_h4, x='year', y='mean');"
   ]
  },
  {
   "cell_type": "code",
   "execution_count": 19,
   "id": "998a310f",
   "metadata": {
    "ExecuteTime": {
     "end_time": "2022-01-15T01:36:31.082425Z",
     "start_time": "2022-01-15T01:36:30.606627Z"
    },
    "hidden": true
   },
   "outputs": [
    {
     "data": {
      "image/png": "[encoded data removed]",
      "text/plain": [
       "<Figure size 432x288 with 1 Axes>"
      ]
     },
     "metadata": {},
     "output_type": "display_data"
    }
   ],
   "source": [
    "## H5: Imóveis com 3 banheiros tem um crescimento MoM de 15%\n",
    "\n",
    "df_h5 = raw_data.loc[raw_data['bathrooms']==3,:].copy()\n",
    "df_h5['yr_m'] = raw_data['date'].dt.strftime('%Y-%m')\n",
    "df_h5 = df_h5[['yr_m','price']].groupby('yr_m').sum().reset_index()\n",
    "df_h5 = df_h5.rename(columns={'price': 'mean'})\n",
    "df_h5['pct'] = df_h5['mean'].pct_change()\n",
    "df_h5['variacao'] = df_h5['pct'].apply(lambda x: 'positivo' if x>0 else 'negativo')\n",
    "\n",
    "sns.set_style('darkgrid')\n",
    "color = ['red','green']\n",
    "p = sns.barplot(data=df_h5, x='yr_m', y='pct', hue='variacao', palette=color);\n",
    "plt.xticks(rotation=45);"
   ]
  },
  {
   "cell_type": "code",
   "execution_count": 20,
   "id": "e5a64b1c",
   "metadata": {
    "ExecuteTime": {
     "end_time": "2022-01-15T01:36:34.285387Z",
     "start_time": "2022-01-15T01:36:34.156732Z"
    },
    "hidden": true
   },
   "outputs": [
    {
     "name": "stdout",
     "output_type": "stream",
     "text": [
      "Diferenca percentual: 15.24%\n"
     ]
    },
    {
     "data": {
      "image/png": "[encoded data removed]",
      "text/plain": [
       "<Figure size 432x288 with 1 Axes>"
      ]
     },
     "metadata": {},
     "output_type": "display_data"
    }
   ],
   "source": [
    "## H6: Imóveis com sótão são 20% mais caros do que imóveis com porão\n",
    "\n",
    "above = raw_data.loc[raw_data['sqft_above']>0,'price'].mean()\n",
    "basement = raw_data.loc[raw_data['sqft_basement']>0,'price'].mean()\n",
    "df_h6 = pd.DataFrame([['above',above],['basement',basement]],columns=['attribute','mean'])\n",
    "df_h6['pct'] = df_h6['mean'].pct_change()\n",
    "\n",
    "print('Diferenca percentual: {:.2f}%'.format(df_h6.loc[1,'pct']*100))\n",
    "sns.barplot(data=df_h6, x='attribute', y='mean');"
   ]
  },
  {
   "cell_type": "code",
   "execution_count": 23,
   "id": "2409cecd",
   "metadata": {
    "ExecuteTime": {
     "end_time": "2022-01-15T01:37:42.124076Z",
     "start_time": "2022-01-15T01:37:41.982420Z"
    },
    "hidden": true
   },
   "outputs": [
    {
     "name": "stdout",
     "output_type": "stream",
     "text": [
      "Verdadeiro. A diferença da média do valor dos imóveis antigos reformados em relação aos imóveis novos é de 22.96%\n"
     ]
    },
    {
     "data": {
      "image/png": "[encoded data removed]",
      "text/plain": [
       "<Figure size 432x288 with 1 Axes>"
      ]
     },
     "metadata": {},
     "output_type": "display_data"
    }
   ],
   "source": [
    "# H7: Imóveis antigos reformados são 30% mais caros do que imóveis novos\n",
    "    #imóvel antigo = ano de construção anterior a 2000\n",
    "\n",
    "old = raw_data.loc[(raw_data['yr_renovated']>0) & (raw_data['yr_built'].between(1,2000)),'price'].mean()\n",
    "new = raw_data.loc[(raw_data['yr_renovated']==0) & (raw_data['yr_built']>=2000),'price'].mean()\n",
    "df_h7 = pd.DataFrame([['new',new],['old_renovated',old]],columns=['attribute','mean'])\n",
    "df_h7['pct'] = df_h7['mean'].pct_change()\n",
    "result = ''\n",
    "if df_h7.loc[1,'mean'] > df_h7.loc[0,'mean']:\n",
    "    result = 'Verdadeiro'\n",
    "else: result = 'Falso'\n",
    "    \n",
    "print('{:}. A diferença da média do valor dos imóveis antigos reformados em relação aos imóveis novos é de {:.2f}%'.format(result, df_h7.loc[1,'pct']*100))\n",
    "sns.barplot(data=df_h7, x='attribute', y='mean');"
   ]
  },
  {
   "cell_type": "code",
   "execution_count": 24,
   "id": "47a32808",
   "metadata": {
    "ExecuteTime": {
     "end_time": "2022-01-15T01:37:44.710286Z",
     "start_time": "2022-01-15T01:37:44.582626Z"
    },
    "hidden": true
   },
   "outputs": [
    {
     "name": "stdout",
     "output_type": "stream",
     "text": [
      "Diferenca percentual: -58.19%\n"
     ]
    },
    {
     "data": {
      "image/png": "[encoded data removed]",
      "text/plain": [
       "<Figure size 432x288 with 1 Axes>"
      ]
     },
     "metadata": {},
     "output_type": "display_data"
    }
   ],
   "source": [
    "# H8: Imóveis com vista pra água tem um crescimento YoY de 20%\n",
    "df_h8 = raw_data[raw_data['waterfront']==1].copy()\n",
    "df_h8 = df_h8[['year','price']].groupby('year').sum().reset_index()\n",
    "df_h8 = df_h8.rename(columns={'price': 'mean'})\n",
    "df_h8['pct'] = df_h8['mean'].pct_change()\n",
    "\n",
    "print('Diferenca percentual: {:.2f}%'.format(df_h8.loc[1,'pct']*100))\n",
    "sns.barplot(data=df_h8, x='year', y='mean');"
   ]
  },
  {
   "cell_type": "code",
   "execution_count": 25,
   "id": "19e0a72b",
   "metadata": {
    "ExecuteTime": {
     "end_time": "2022-01-15T01:37:47.035262Z",
     "start_time": "2022-01-15T01:37:46.907612Z"
    },
    "hidden": true
   },
   "outputs": [
    {
     "name": "stdout",
     "output_type": "stream",
     "text": [
      "Diferenca percentual: 24.24%\n"
     ]
    },
    {
     "data": {
      "image/png": "[encoded data removed]",
      "text/plain": [
       "<Figure size 432x288 with 1 Axes>"
      ]
     },
     "metadata": {},
     "output_type": "display_data"
    }
   ],
   "source": [
    "# H9: Imóveis com mais de 3 quartos são 30% mais caros que a média\n",
    "\n",
    "_3more = raw_data.loc[raw_data['bedrooms']>3,'price'].mean()\n",
    "_all = raw_data['price'].mean()\n",
    "df_h9 = pd.DataFrame([['all',_all],['3more',_3more]],columns=['attribute','mean'])\n",
    "df_h9['pct'] = df_h9['mean'].pct_change()\n",
    "\n",
    "print('Diferenca percentual: {:.2f}%'.format(df_h9.loc[1,'pct']*100))\n",
    "sns.barplot(data=df_h9, x='attribute', y='mean');"
   ]
  },
  {
   "cell_type": "code",
   "execution_count": 26,
   "id": "30217de1",
   "metadata": {
    "ExecuteTime": {
     "end_time": "2022-01-15T01:37:49.918804Z",
     "start_time": "2022-01-15T01:37:49.794805Z"
    },
    "hidden": true
   },
   "outputs": [
    {
     "name": "stdout",
     "output_type": "stream",
     "text": [
      "Diferenca percentual: -16.20%\n"
     ]
    },
    {
     "data": {
      "image/png": "[encoded data removed]",
      "text/plain": [
       "<Figure size 432x288 with 1 Axes>"
      ]
     },
     "metadata": {},
     "output_type": "display_data"
    }
   ],
   "source": [
    "# H10: Imóveis em boas condições com 1 andar são 20% mais caros que a média\n",
    "\n",
    "raw_data['condition_type'] = raw_data['condition'].apply(lambda x: 'bad' if x <= 2 else 'regular' if x in([3,4]) else 'good' )\n",
    "good1f = raw_data.loc[(raw_data['floors']==1)&(raw_data['condition_type']=='regular'),'price'].mean()\n",
    "all = raw_data['price'].mean()\n",
    "df_h0 = pd.DataFrame([['all',all],['good1f',good1f]], columns=['attribute','mean'])\n",
    "df_h0['pct'] = df_h0['mean'].pct_change()\n",
    "\n",
    "print('Diferenca percentual: {:.2f}%'.format(df_h0.loc[1,'pct']*100))\n",
    "sns.barplot(data=df_h0, x='attribute', y='mean');"
   ]
  },
  {
   "cell_type": "markdown",
   "id": "685a9840",
   "metadata": {},
   "source": [
    "##### Construção do algoritmo da solução"
   ]
  },
  {
   "cell_type": "markdown",
   "id": "d847f18d",
   "metadata": {},
   "source": [
    "**Engenharia de atributos**"
   ]
  },
  {
   "cell_type": "code",
   "execution_count": 5,
   "id": "32a5dc8b",
   "metadata": {
    "ExecuteTime": {
     "end_time": "2022-01-15T18:35:01.191249Z",
     "start_time": "2022-01-15T18:35:00.845026Z"
    }
   },
   "outputs": [],
   "source": [
    "#new attributes\n",
    "data = raw_data.copy()\n",
    "\n",
    "data['sn_compra'] = 'NA'\n",
    "data['condition_type'] = 'NA'\n",
    "\n",
    "data['sell_price'] = 0.0\n",
    "data['profit'] = 0.0\n",
    "data['month'] = data['date'].dt.strftime('%m').astype('int64')\n",
    "data['season'] = data['month'].apply(lambda x: 'winter' if x in(12,1,2) else\n",
    "                                               'spring' if x in(3,4,5) else\n",
    "                                               'summer' if x in(6,7,8) else 'fall' )\n",
    "data['sn_compra'] = data['sn_compra'].astype('string')\n",
    "data['condition_type'] = data['condition_type'].astype('string')\n",
    "data['condition_type'] = data['condition'].apply(lambda x: 'good' if x==5 else 'regular' if x in(3,4) else 'bad')\n",
    "data['season'] = data['season'].astype('string')\n",
    "\n",
    "# definindo mediana do custo por região\n",
    "regional_median = data[['zipcode','price']].groupby('zipcode').median().reset_index().copy()\n",
    "regional_median.columns = ['zipcode','regional_median']\n",
    "\n",
    "# definindo mediana do custo por região/estação\n",
    "season_median = data[['price','zipcode','season']].groupby(['zipcode','season']).median('price')\n",
    "season_median = season_median.rename(columns={'price': 'season_median'})"
   ]
  },
  {
   "cell_type": "markdown",
   "id": "6f41a223",
   "metadata": {},
   "source": [
    "**Criando filtros**"
   ]
  },
  {
   "cell_type": "code",
   "execution_count": 28,
   "id": "c6f7c495",
   "metadata": {
    "ExecuteTime": {
     "end_time": "2022-01-15T01:38:00.044856Z",
     "start_time": "2022-01-15T01:38:00.019887Z"
    }
   },
   "outputs": [],
   "source": [
    "f_zipcode = widgets.Dropdown(\n",
    "    options = data['zipcode'].sort_values().unique().tolist(),\n",
    "    description = 'Zipcode',\n",
    "    disable = False\n",
    ")\n",
    "\n",
    "f_filters = widgets.Checkbox(\n",
    "    value=False,\n",
    "    description='Disable filter',\n",
    "    disabled=False,\n",
    "    indent=False\n",
    ")"
   ]
  },
  {
   "cell_type": "markdown",
   "id": "988ab1fe",
   "metadata": {
    "ExecuteTime": {
     "end_time": "2022-01-15T01:14:17.692078Z",
     "start_time": "2022-01-15T01:14:17.677112Z"
    }
   },
   "source": [
    "**Definição dos imóveis para compra**"
   ]
  },
  {
   "cell_type": "code",
   "execution_count": 6,
   "id": "0dc01ba8",
   "metadata": {
    "ExecuteTime": {
     "end_time": "2022-01-15T18:35:06.189134Z",
     "start_time": "2022-01-15T18:35:05.695202Z"
    }
   },
   "outputs": [],
   "source": [
    "# adicionando a mediana regional para cada imóvel\n",
    "purchase = data.merge(regional_median,how='inner',on='zipcode').copy()\n",
    "\n",
    "purchase['condition_type'] = purchase['condition_type'].astype('string')\n",
    "purchase['sn_compra'] = purchase['sn_compra'].astype('string')\n",
    "\n",
    "purchase['sn_compra'] = purchase.apply(\n",
    "    lambda x: 'y' if (x['price'] < x['regional_median']) & (x['condition_type']=='good') else 'n',\n",
    "    axis=1 )\n",
    "\n",
    "purchase_list = purchase.drop(columns=['bedrooms', 'bathrooms', 'sqft_living', 'sqft_lot', 'floors', 'waterfront',\n",
    "                                  'view', 'condition', 'grade', 'sqft_above', 'sqft_basement', 'yr_built',\n",
    "                                  'yr_renovated', 'month'])"
   ]
  },
  {
   "cell_type": "markdown",
   "id": "caa5f7c8",
   "metadata": {},
   "source": [
    "**Coleta dos dados de geolocalização dos imóveis elegíveis**"
   ]
  },
  {
   "cell_type": "code",
   "execution_count": 12,
   "id": "73a3982f",
   "metadata": {
    "ExecuteTime": {
     "end_time": "2022-01-15T18:44:21.710385Z",
     "start_time": "2022-01-15T18:38:29.520500Z"
    }
   },
   "outputs": [],
   "source": [
    "# dados de geolocalização\n",
    "\n",
    "geolocation = purchase_list.loc[purchase_list['sn_compra'] == 'y'][['id', 'lat', 'long']].copy().reset_index( drop=True )\n",
    "geolocator = Nominatim( user_agent='geoapiExercises' )\n",
    "geolocation['street'] = 'NA'\n",
    "geolocation['house_num'] = 'NA'\n",
    "geolocation['city'] = 'NA'\n",
    "geolocation['neighbourhood'] = 'NA'\n",
    "geolocation['state'] = 'NA'\n",
    "\n",
    "for i in range( len( geolocation ) ):\n",
    "    query = str( geolocation.loc[i, 'lat'] ) + ',' + str( geolocation.loc[i, 'long'] )\n",
    "    response = geolocator.reverse( query, timeout=10000 )\n",
    "    response = pd.json_normalize( response.raw['address'] )\n",
    "    geolocation.iloc[i, 3] = response.apply( lambda x: x['road'] if 'road' in response.columns else 'NA', axis = 1 )    \n",
    "    geolocation.iloc[i, 4] = response.apply( lambda x: x['house_number'] if 'house_number' in response.columns else 'NA', axis = 1 )\n",
    "    geolocation.iloc[i, 5] = response.apply( lambda x: x['city'] if 'city' in response.columns else 'NA', axis = 1 )\n",
    "    geolocation.iloc[i, 6] = response.apply( lambda x: x['neighbourhood'] if 'neighbourhood' in response.columns else\n",
    "                                                       x['county'] if 'county' in response.columns else 'NA', axis = 1 )\n",
    "    geolocation.iloc[i, 7] = response.apply( lambda x: x['state'] if 'state' in response.columns else 'NA', axis = 1 )\n",
    "geolocation['address'] = geolocation['street'] + ', ' + geolocation['house_num']"
   ]
  },
  {
   "cell_type": "code",
   "execution_count": 13,
   "id": "cc3cde1d",
   "metadata": {
    "ExecuteTime": {
     "end_time": "2022-01-15T18:46:24.611216Z",
     "start_time": "2022-01-15T18:46:24.583291Z"
    }
   },
   "outputs": [
    {
     "data": {
      "text/html": [
       "<div>\n",
       "<style scoped>\n",
       "    .dataframe tbody tr th:only-of-type {\n",
       "        vertical-align: middle;\n",
       "    }\n",
       "\n",
       "    .dataframe tbody tr th {\n",
       "        vertical-align: top;\n",
       "    }\n",
       "\n",
       "    .dataframe thead th {\n",
       "        text-align: right;\n",
       "    }\n",
       "</style>\n",
       "<table border=\"1\" class=\"dataframe\">\n",
       "  <thead>\n",
       "    <tr style=\"text-align: right;\">\n",
       "      <th></th>\n",
       "      <th>id</th>\n",
       "      <th>lat</th>\n",
       "      <th>long</th>\n",
       "      <th>street</th>\n",
       "      <th>house_num</th>\n",
       "      <th>city</th>\n",
       "      <th>neighbourhood</th>\n",
       "      <th>state</th>\n",
       "      <th>address</th>\n",
       "    </tr>\n",
       "  </thead>\n",
       "  <tbody>\n",
       "    <tr>\n",
       "      <th>0</th>\n",
       "      <td>3352402236</td>\n",
       "      <td>47.50</td>\n",
       "      <td>-122.26</td>\n",
       "      <td>Beacon Avenue South</td>\n",
       "      <td>11708</td>\n",
       "      <td>Seattle</td>\n",
       "      <td>King County</td>\n",
       "      <td>Washington</td>\n",
       "      <td>Beacon Avenue South, 11708</td>\n",
       "    </tr>\n",
       "    <tr>\n",
       "      <th>1</th>\n",
       "      <td>185000118</td>\n",
       "      <td>47.49</td>\n",
       "      <td>-122.27</td>\n",
       "      <td>56th Place South</td>\n",
       "      <td>12028</td>\n",
       "      <td>Seattle</td>\n",
       "      <td>King County</td>\n",
       "      <td>Washington</td>\n",
       "      <td>56th Place South, 12028</td>\n",
       "    </tr>\n",
       "    <tr>\n",
       "      <th>2</th>\n",
       "      <td>8068000585</td>\n",
       "      <td>47.51</td>\n",
       "      <td>-122.27</td>\n",
       "      <td>55th Avenue South</td>\n",
       "      <td>10425</td>\n",
       "      <td>Seattle</td>\n",
       "      <td>Rainier Beach</td>\n",
       "      <td>Washington</td>\n",
       "      <td>55th Avenue South, 10425</td>\n",
       "    </tr>\n",
       "    <tr>\n",
       "      <th>3</th>\n",
       "      <td>7129300420</td>\n",
       "      <td>47.51</td>\n",
       "      <td>-122.26</td>\n",
       "      <td>62nd Avenue South</td>\n",
       "      <td>10017</td>\n",
       "      <td>Seattle</td>\n",
       "      <td>Rainier Beach</td>\n",
       "      <td>Washington</td>\n",
       "      <td>62nd Avenue South, 10017</td>\n",
       "    </tr>\n",
       "    <tr>\n",
       "      <th>4</th>\n",
       "      <td>1180008315</td>\n",
       "      <td>47.49</td>\n",
       "      <td>-122.22</td>\n",
       "      <td>South 124th Street</td>\n",
       "      <td>8536</td>\n",
       "      <td>Seattle</td>\n",
       "      <td>King County</td>\n",
       "      <td>Washington</td>\n",
       "      <td>South 124th Street, 8536</td>\n",
       "    </tr>\n",
       "    <tr>\n",
       "      <th>...</th>\n",
       "      <td>...</td>\n",
       "      <td>...</td>\n",
       "      <td>...</td>\n",
       "      <td>...</td>\n",
       "      <td>...</td>\n",
       "      <td>...</td>\n",
       "      <td>...</td>\n",
       "      <td>...</td>\n",
       "      <td>...</td>\n",
       "    </tr>\n",
       "    <tr>\n",
       "      <th>698</th>\n",
       "      <td>6623400193</td>\n",
       "      <td>47.43</td>\n",
       "      <td>-122.20</td>\n",
       "      <td>Southeast 192nd Street</td>\n",
       "      <td>10617</td>\n",
       "      <td>NA</td>\n",
       "      <td>King County</td>\n",
       "      <td>Washington</td>\n",
       "      <td>Southeast 192nd Street, 10617</td>\n",
       "    </tr>\n",
       "    <tr>\n",
       "      <th>699</th>\n",
       "      <td>5365200040</td>\n",
       "      <td>47.48</td>\n",
       "      <td>-122.23</td>\n",
       "      <td>Southwest Langston Road</td>\n",
       "      <td>616</td>\n",
       "      <td>NA</td>\n",
       "      <td>King County</td>\n",
       "      <td>Washington</td>\n",
       "      <td>Southwest Langston Road, 616</td>\n",
       "    </tr>\n",
       "    <tr>\n",
       "      <th>700</th>\n",
       "      <td>7224500010</td>\n",
       "      <td>47.49</td>\n",
       "      <td>-122.20</td>\n",
       "      <td>Wells Avenue North</td>\n",
       "      <td>506</td>\n",
       "      <td>NA</td>\n",
       "      <td>North Renton</td>\n",
       "      <td>Washington</td>\n",
       "      <td>Wells Avenue North, 506</td>\n",
       "    </tr>\n",
       "    <tr>\n",
       "      <th>701</th>\n",
       "      <td>3262301355</td>\n",
       "      <td>47.63</td>\n",
       "      <td>-122.23</td>\n",
       "      <td>Northeast 22nd Street</td>\n",
       "      <td>7962</td>\n",
       "      <td>NA</td>\n",
       "      <td>King County</td>\n",
       "      <td>Washington</td>\n",
       "      <td>Northeast 22nd Street, 7962</td>\n",
       "    </tr>\n",
       "    <tr>\n",
       "      <th>702</th>\n",
       "      <td>3738000070</td>\n",
       "      <td>47.62</td>\n",
       "      <td>-122.22</td>\n",
       "      <td>88th Avenue Northeast</td>\n",
       "      <td>800</td>\n",
       "      <td>NA</td>\n",
       "      <td>Eastland</td>\n",
       "      <td>Washington</td>\n",
       "      <td>88th Avenue Northeast, 800</td>\n",
       "    </tr>\n",
       "  </tbody>\n",
       "</table>\n",
       "<p>703 rows × 9 columns</p>\n",
       "</div>"
      ],
      "text/plain": [
       "             id   lat    long                   street house_num     city  \\\n",
       "0    3352402236 47.50 -122.26      Beacon Avenue South     11708  Seattle   \n",
       "1     185000118 47.49 -122.27         56th Place South     12028  Seattle   \n",
       "2    8068000585 47.51 -122.27        55th Avenue South     10425  Seattle   \n",
       "3    7129300420 47.51 -122.26        62nd Avenue South     10017  Seattle   \n",
       "4    1180008315 47.49 -122.22       South 124th Street      8536  Seattle   \n",
       "..          ...   ...     ...                      ...       ...      ...   \n",
       "698  6623400193 47.43 -122.20   Southeast 192nd Street     10617       NA   \n",
       "699  5365200040 47.48 -122.23  Southwest Langston Road       616       NA   \n",
       "700  7224500010 47.49 -122.20       Wells Avenue North       506       NA   \n",
       "701  3262301355 47.63 -122.23    Northeast 22nd Street      7962       NA   \n",
       "702  3738000070 47.62 -122.22    88th Avenue Northeast       800       NA   \n",
       "\n",
       "     neighbourhood       state                        address  \n",
       "0      King County  Washington     Beacon Avenue South, 11708  \n",
       "1      King County  Washington        56th Place South, 12028  \n",
       "2    Rainier Beach  Washington       55th Avenue South, 10425  \n",
       "3    Rainier Beach  Washington       62nd Avenue South, 10017  \n",
       "4      King County  Washington       South 124th Street, 8536  \n",
       "..             ...         ...                            ...  \n",
       "698    King County  Washington  Southeast 192nd Street, 10617  \n",
       "699    King County  Washington   Southwest Langston Road, 616  \n",
       "700   North Renton  Washington        Wells Avenue North, 506  \n",
       "701    King County  Washington    Northeast 22nd Street, 7962  \n",
       "702       Eastland  Washington     88th Avenue Northeast, 800  \n",
       "\n",
       "[703 rows x 9 columns]"
      ]
     },
     "execution_count": 13,
     "metadata": {},
     "output_type": "execute_result"
    }
   ],
   "source": [
    "geolocation"
   ]
  },
  {
   "cell_type": "markdown",
   "id": "4a1a81d8",
   "metadata": {},
   "source": [
    "**Definição do preço de revenda**"
   ]
  },
  {
   "cell_type": "code",
   "execution_count": 14,
   "id": "bafdb0f4",
   "metadata": {
    "ExecuteTime": {
     "end_time": "2022-01-15T18:46:39.085857Z",
     "start_time": "2022-01-15T18:46:38.429983Z"
    }
   },
   "outputs": [],
   "source": [
    "sell = purchase_list.copy()\n",
    "\n",
    "sell = sell.merge(season_median,how='inner',on=['zipcode','season'])\n",
    "sell['sell_price'] = sell.apply(lambda x: x['price']*1.3 if x['price']<x['season_median'] else x['price']*1.1, axis=1)\n",
    "sell['profit'] = sell['sell_price'] - sell['price']\n",
    "sell = sell.loc[sell['sn_compra']=='y']\n",
    "sell = sell.drop(columns=['date','sn_compra','condition_type','regional_median','lat','long'])\n",
    "\n",
    "sell_list = sell.merge(geolocation[['id','address','neighbourhood','city']],how='inner',on='id')"
   ]
  },
  {
   "cell_type": "code",
   "execution_count": 15,
   "id": "a9aa0c97",
   "metadata": {
    "ExecuteTime": {
     "end_time": "2022-01-15T18:46:44.665658Z",
     "start_time": "2022-01-15T18:46:44.642441Z"
    }
   },
   "outputs": [
    {
     "data": {
      "text/html": [
       "<div>\n",
       "<style scoped>\n",
       "    .dataframe tbody tr th:only-of-type {\n",
       "        vertical-align: middle;\n",
       "    }\n",
       "\n",
       "    .dataframe tbody tr th {\n",
       "        vertical-align: top;\n",
       "    }\n",
       "\n",
       "    .dataframe thead th {\n",
       "        text-align: right;\n",
       "    }\n",
       "</style>\n",
       "<table border=\"1\" class=\"dataframe\">\n",
       "  <thead>\n",
       "    <tr style=\"text-align: right;\">\n",
       "      <th></th>\n",
       "      <th>id</th>\n",
       "      <th>price</th>\n",
       "      <th>zipcode</th>\n",
       "      <th>sell_price</th>\n",
       "      <th>profit</th>\n",
       "      <th>season</th>\n",
       "      <th>season_median</th>\n",
       "      <th>address</th>\n",
       "      <th>neighbourhood</th>\n",
       "      <th>city</th>\n",
       "    </tr>\n",
       "  </thead>\n",
       "  <tbody>\n",
       "    <tr>\n",
       "      <th>0</th>\n",
       "      <td>4279900140</td>\n",
       "      <td>251000.00</td>\n",
       "      <td>98178</td>\n",
       "      <td>326300.00</td>\n",
       "      <td>75300.00</td>\n",
       "      <td>fall</td>\n",
       "      <td>290500.00</td>\n",
       "      <td>61st Avenue South, 11410</td>\n",
       "      <td>King County</td>\n",
       "      <td>Seattle</td>\n",
       "    </tr>\n",
       "    <tr>\n",
       "      <th>1</th>\n",
       "      <td>8068000585</td>\n",
       "      <td>235000.00</td>\n",
       "      <td>98178</td>\n",
       "      <td>305500.00</td>\n",
       "      <td>70500.00</td>\n",
       "      <td>summer</td>\n",
       "      <td>265475.00</td>\n",
       "      <td>55th Avenue South, 10425</td>\n",
       "      <td>Rainier Beach</td>\n",
       "      <td>Seattle</td>\n",
       "    </tr>\n",
       "    <tr>\n",
       "      <th>2</th>\n",
       "      <td>1180008315</td>\n",
       "      <td>212000.00</td>\n",
       "      <td>98178</td>\n",
       "      <td>275600.00</td>\n",
       "      <td>63600.00</td>\n",
       "      <td>summer</td>\n",
       "      <td>265475.00</td>\n",
       "      <td>South 124th Street, 8536</td>\n",
       "      <td>King County</td>\n",
       "      <td>Seattle</td>\n",
       "    </tr>\n",
       "    <tr>\n",
       "      <th>3</th>\n",
       "      <td>4058801065</td>\n",
       "      <td>272000.00</td>\n",
       "      <td>98178</td>\n",
       "      <td>299200.00</td>\n",
       "      <td>27200.00</td>\n",
       "      <td>summer</td>\n",
       "      <td>265475.00</td>\n",
       "      <td>Woodley Avenue South, 11128</td>\n",
       "      <td>King County</td>\n",
       "      <td>Seattle</td>\n",
       "    </tr>\n",
       "    <tr>\n",
       "      <th>4</th>\n",
       "      <td>3348401622</td>\n",
       "      <td>223000.00</td>\n",
       "      <td>98178</td>\n",
       "      <td>289900.00</td>\n",
       "      <td>66900.00</td>\n",
       "      <td>summer</td>\n",
       "      <td>265475.00</td>\n",
       "      <td>South Augusta Street, 5130</td>\n",
       "      <td>King County</td>\n",
       "      <td>Seattle</td>\n",
       "    </tr>\n",
       "    <tr>\n",
       "      <th>...</th>\n",
       "      <td>...</td>\n",
       "      <td>...</td>\n",
       "      <td>...</td>\n",
       "      <td>...</td>\n",
       "      <td>...</td>\n",
       "      <td>...</td>\n",
       "      <td>...</td>\n",
       "      <td>...</td>\n",
       "      <td>...</td>\n",
       "      <td>...</td>\n",
       "    </tr>\n",
       "    <tr>\n",
       "      <th>704</th>\n",
       "      <td>6623400193</td>\n",
       "      <td>257000.00</td>\n",
       "      <td>98055</td>\n",
       "      <td>334100.00</td>\n",
       "      <td>77100.00</td>\n",
       "      <td>fall</td>\n",
       "      <td>265000.00</td>\n",
       "      <td>Southeast 192nd Street, 10617</td>\n",
       "      <td>King County</td>\n",
       "      <td>NA</td>\n",
       "    </tr>\n",
       "    <tr>\n",
       "      <th>705</th>\n",
       "      <td>5365200040</td>\n",
       "      <td>235000.00</td>\n",
       "      <td>98055</td>\n",
       "      <td>305500.00</td>\n",
       "      <td>70500.00</td>\n",
       "      <td>fall</td>\n",
       "      <td>265000.00</td>\n",
       "      <td>Southwest Langston Road, 616</td>\n",
       "      <td>King County</td>\n",
       "      <td>NA</td>\n",
       "    </tr>\n",
       "    <tr>\n",
       "      <th>706</th>\n",
       "      <td>7224500010</td>\n",
       "      <td>253000.00</td>\n",
       "      <td>98055</td>\n",
       "      <td>328900.00</td>\n",
       "      <td>75900.00</td>\n",
       "      <td>summer</td>\n",
       "      <td>290300.00</td>\n",
       "      <td>Wells Avenue North, 506</td>\n",
       "      <td>North Renton</td>\n",
       "      <td>NA</td>\n",
       "    </tr>\n",
       "    <tr>\n",
       "      <th>707</th>\n",
       "      <td>3262301355</td>\n",
       "      <td>1320000.00</td>\n",
       "      <td>98039</td>\n",
       "      <td>1716000.00</td>\n",
       "      <td>396000.00</td>\n",
       "      <td>summer</td>\n",
       "      <td>1950000.00</td>\n",
       "      <td>Northeast 22nd Street, 7962</td>\n",
       "      <td>King County</td>\n",
       "      <td>NA</td>\n",
       "    </tr>\n",
       "    <tr>\n",
       "      <th>708</th>\n",
       "      <td>3738000070</td>\n",
       "      <td>1712750.00</td>\n",
       "      <td>98039</td>\n",
       "      <td>2226575.00</td>\n",
       "      <td>513825.00</td>\n",
       "      <td>spring</td>\n",
       "      <td>1800000.00</td>\n",
       "      <td>88th Avenue Northeast, 800</td>\n",
       "      <td>Eastland</td>\n",
       "      <td>NA</td>\n",
       "    </tr>\n",
       "  </tbody>\n",
       "</table>\n",
       "<p>709 rows × 10 columns</p>\n",
       "</div>"
      ],
      "text/plain": [
       "             id      price  zipcode  sell_price    profit  season  \\\n",
       "0    4279900140  251000.00    98178   326300.00  75300.00    fall   \n",
       "1    8068000585  235000.00    98178   305500.00  70500.00  summer   \n",
       "2    1180008315  212000.00    98178   275600.00  63600.00  summer   \n",
       "3    4058801065  272000.00    98178   299200.00  27200.00  summer   \n",
       "4    3348401622  223000.00    98178   289900.00  66900.00  summer   \n",
       "..          ...        ...      ...         ...       ...     ...   \n",
       "704  6623400193  257000.00    98055   334100.00  77100.00    fall   \n",
       "705  5365200040  235000.00    98055   305500.00  70500.00    fall   \n",
       "706  7224500010  253000.00    98055   328900.00  75900.00  summer   \n",
       "707  3262301355 1320000.00    98039  1716000.00 396000.00  summer   \n",
       "708  3738000070 1712750.00    98039  2226575.00 513825.00  spring   \n",
       "\n",
       "     season_median                        address  neighbourhood     city  \n",
       "0        290500.00       61st Avenue South, 11410    King County  Seattle  \n",
       "1        265475.00       55th Avenue South, 10425  Rainier Beach  Seattle  \n",
       "2        265475.00       South 124th Street, 8536    King County  Seattle  \n",
       "3        265475.00    Woodley Avenue South, 11128    King County  Seattle  \n",
       "4        265475.00     South Augusta Street, 5130    King County  Seattle  \n",
       "..             ...                            ...            ...      ...  \n",
       "704      265000.00  Southeast 192nd Street, 10617    King County       NA  \n",
       "705      265000.00   Southwest Langston Road, 616    King County       NA  \n",
       "706      290300.00        Wells Avenue North, 506   North Renton       NA  \n",
       "707     1950000.00    Northeast 22nd Street, 7962    King County       NA  \n",
       "708     1800000.00     88th Avenue Northeast, 800       Eastland       NA  \n",
       "\n",
       "[709 rows x 10 columns]"
      ]
     },
     "execution_count": 15,
     "metadata": {},
     "output_type": "execute_result"
    }
   ],
   "source": [
    "sell_list"
   ]
  },
  {
   "cell_type": "markdown",
   "id": "8c7d63ca",
   "metadata": {},
   "source": [
    "**Visualização dos imóveis para compra**"
   ]
  },
  {
   "cell_type": "code",
   "execution_count": 34,
   "id": "c03156f2",
   "metadata": {
    "ExecuteTime": {
     "end_time": "2022-01-15T01:39:10.480988Z",
     "start_time": "2022-01-15T01:39:10.471014Z"
    }
   },
   "outputs": [],
   "source": [
    "def data_viz( df, region ):\n",
    "    plot = df[df['zipcode']==region][['id','price','zipcode','regional_median','condition_type','sn_compra']]\n",
    "    plot['color'] = plot['sn_compra'].apply(lambda x: 'lightgray' if x == 'n' else 'blue')\n",
    "     \n",
    "    fig = go.Figure()\n",
    "    \n",
    "    # Add traces\n",
    "    fig.add_trace(go.Scatter(y=plot['price'], \n",
    "                        marker_color=plot['color'],\n",
    "                        mode='markers',\n",
    "                        text='ID: '+plot['id'].astype('string')+' | Region: '+plot['zipcode'].astype('string')+' | Condition: ' + plot['condition_type'] + ' | Price: US$' + plot['price'].astype('string'),\n",
    "                        name='Imovel'))\n",
    "\n",
    "    fig.add_trace(go.Scatter(y=plot['regional_median'],\n",
    "                        mode='lines',\n",
    "                        text='Region: '+plot['zipcode'].astype('string')+' | Median: US$' + plot['regional_median'].astype('string'),\n",
    "                        name='Mediana Regional'))\n",
    "    \n",
    "    fig.update_layout(\n",
    "        xaxis_title=\"Houses\",\n",
    "        yaxis_title=\"Aquisition cost\",\n",
    "        font=dict( color=\"#000000\" )\n",
    "    )\n",
    "\n",
    "    fig.show()\n",
    "    \n",
    "    return None"
   ]
  },
  {
   "cell_type": "code",
   "execution_count": 37,
   "id": "04c66076",
   "metadata": {
    "ExecuteTime": {
     "end_time": "2022-01-15T01:40:30.015183Z",
     "start_time": "2022-01-15T01:40:29.508966Z"
    }
   },
   "outputs": [
    {
     "data": {
      "application/vnd.jupyter.widget-view+json": {
       "model_id": "96a88fc3b51a4220ad0955cf800fb2eb",
       "version_major": 2,
       "version_minor": 0
      },
      "text/plain": [
       "interactive(children=(Dropdown(description='Zipcode', options=(98001, 98002, 98003, 98004, 98005, 98006, 98007…"
      ]
     },
     "metadata": {},
     "output_type": "display_data"
    }
   ],
   "source": [
    "interact(data_viz, df=fixed(purchase_list), region = f_zipcode);"
   ]
  },
  {
   "cell_type": "markdown",
   "id": "fcac49b4",
   "metadata": {},
   "source": [
    "**Visualização dos imóveis para compra/revenda no mapa**"
   ]
  },
  {
   "cell_type": "code",
   "execution_count": 38,
   "id": "0ef26ef0",
   "metadata": {
    "ExecuteTime": {
     "end_time": "2022-01-15T01:41:06.432840Z",
     "start_time": "2022-01-15T01:41:06.420907Z"
    }
   },
   "outputs": [],
   "source": [
    "def make_map( house_list, geodata, region, filters ): \n",
    "    map_data = house_list[house_list['sn_compra']=='y'].merge(geodata[['id','address','neighbourhood','city']],how='inner',on='id').reset_index(drop=True)\n",
    "    map_data = map_data.drop(columns=['date','sn_compra','condition_type','sell_price','profit','regional_median'])\n",
    "    \n",
    "    if filters:\n",
    "        map_data\n",
    "    else:\n",
    "        map_data = map_data.loc[map_data['zipcode']==region]\n",
    "    \n",
    "    _map = px.scatter_mapbox( map_data,\n",
    "                              lat='lat',\n",
    "                              lon='long',\n",
    "                              hover_name='address',                              \n",
    "                              color='season',\n",
    "                              color_discrete_sequence=px.colors.qualitative.Dark2,\n",
    "                              zoom=10,\n",
    "                              text='ID: '+map_data['id'].astype('string'),\n",
    "                              hover_data=dict( lat=False, long=False, season=False)\n",
    "                            )\n",
    "\n",
    "    _map.update_layout(mapbox_style='open-street-map')\n",
    "    _map.update_layout(height=600, margin = {'r':0,'t':0,'l':0,'b':0})\n",
    "    _map.show()\n",
    "    \n",
    "    return None"
   ]
  },
  {
   "cell_type": "code",
   "execution_count": 39,
   "id": "30e764de",
   "metadata": {
    "ExecuteTime": {
     "end_time": "2022-01-15T01:41:16.366254Z",
     "start_time": "2022-01-15T01:41:15.695712Z"
    }
   },
   "outputs": [
    {
     "data": {
      "application/vnd.jupyter.widget-view+json": {
       "model_id": "091a4505371842919f15ec57aafb9fa7",
       "version_major": 2,
       "version_minor": 0
      },
      "text/plain": [
       "interactive(children=(Dropdown(description='Zipcode', options=(98001, 98002, 98003, 98004, 98005, 98006, 98007…"
      ]
     },
     "metadata": {},
     "output_type": "display_data"
    }
   ],
   "source": [
    "interact( make_map, house_list=fixed( purchase_list ), geodata=fixed( geolocation ), region=f_zipcode, filters=f_filters );"
   ]
  }
 ],
 "metadata": {
  "hide_input": false,
  "kernelspec": {
   "display_name": "Python 3",
   "language": "python",
   "name": "python3"
  },
  "language_info": {
   "codemirror_mode": {
    "name": "ipython",
    "version": 3
   },
   "file_extension": ".py",
   "mimetype": "text/x-python",
   "name": "python",
   "nbconvert_exporter": "python",
   "pygments_lexer": "ipython3",
   "version": "3.8.8"
  }
 },
 "nbformat": 4,
 "nbformat_minor": 5
}
