{
 "cells": [
  {
   "cell_type": "markdown",
   "id": "8397a9a5",
   "metadata": {},
   "source": [
    "# Projeto de Insights"
   ]
  },
  {
   "cell_type": "markdown",
   "id": "2c3a02d9",
   "metadata": {},
   "source": [
    "## 1. Objetivo"
   ]
  },
  {
   "cell_type": "markdown",
   "id": "a254a6cd",
   "metadata": {},
   "source": [
    "- Gerar insight através da análise e manipulação dos dados para auxiliar a tomada de decisão do time de negócio\n"
   ]
  },
  {
   "cell_type": "markdown",
   "id": "0257a6b5",
   "metadata": {},
   "source": [
    "## 2. Metodologia"
   ]
  },
  {
   "cell_type": "markdown",
   "id": "e5d9a403",
   "metadata": {},
   "source": [
    "### 2.1. Problema de negócio"
   ]
  },
  {
   "cell_type": "markdown",
   "id": "94ea051f",
   "metadata": {},
   "source": [
    "- Quais são os imóveis que a House Rocket deveria comprar e por qual preço\n",
    "- Uma vez que o imóvel foi comprado, qual o melhor momento para revendê-lo e por qual preço"
   ]
  },
  {
   "cell_type": "markdown",
   "id": "b4bb8563",
   "metadata": {},
   "source": [
    "### 2.2. Planejamento da solução"
   ]
  },
  {
   "cell_type": "markdown",
   "id": "fc61085f",
   "metadata": {
    "ExecuteTime": {
     "end_time": "2022-01-14T22:17:48.606788Z",
     "start_time": "2022-01-14T22:17:48.413489Z"
    }
   },
   "source": [
    "- **Saída:**\n",
    "    - Reposta:\n",
    "        - Filtrar os imóveis com preço de custo abaixo da média da região.\n",
    "        - Calcular a margem para revenda em função do preço de custo e a sazonalidade.\n",
    "    - Entrega:\n",
    "        - Dashboard interativo.\n",
    "    - Local:\n",
    "        - Plataforma cloud.  \n",
    "    \n",
    "- **Processo:**\n",
    "    - Etapas:\n",
    "        - Agrupar os dados por região.\n",
    "        - Encontrar a mediana do preço de custo dos imóveis.\n",
    "        - Identificar os imóveis que estão abaixo do preço mediano de cada região e que estejam em boas condições.\n",
    "        - Coletar os dados de localização dos imóveis.\n",
    "        - Agrupar os dados por estação do ano.\n",
    "        - Definir o preço de revenda:\n",
    "            - Se o preço de compra for maior que a mediana da região/sazonalidade, considerar uma margem de 10%.\n",
    "            - Se o preço de compra for menor que a mediana da região/sazonalidade, considerar uma margem de 30%.\n",
    "    - Formato da entrega:\n",
    "        - Gráfico de dispersão indicando quais imóveis estão elegíveis para aquisição.\n",
    "        - Tabela com os imóveis sugeridos para compra com os seguintes dados: código do imóvel, região, endereço, preço de custo, preço de venda sugerido, lucro previsto.\n",
    "        - Mapa com a localização dos imóveis da tabela.\n",
    "        - Filtro para selecionar uma região ou todas.\n",
    "    - Local da entrega:\n",
    "        - URL\n",
    "\n",
    "- **Entrada:**\n",
    "    - Fonte de dados:\n",
    "        - Site Kaggle\n",
    "    - Ferramentas:\n",
    "        - Python\n",
    "        - Streamlit framework\n",
    "        - Heroku cloud\n",
    "        - VSCode\n",
    "        - Jupyter Notebook"
   ]
  },
  {
   "cell_type": "markdown",
   "id": "931c428e",
   "metadata": {},
   "source": [
    "## 3. Execução da solução"
   ]
  },
  {
   "cell_type": "markdown",
   "id": "17c26a79",
   "metadata": {},
   "source": [
    "**Bibliotecas e parâmetros**"
   ]
  },
  {
   "cell_type": "code",
   "execution_count": null,
   "id": "31d0c30d",
   "metadata": {
    "ExecuteTime": {
     "end_time": "2022-01-15T19:54:50.385704Z",
     "start_time": "2022-01-15T19:54:49.006767Z"
    }
   },
   "outputs": [],
   "source": [
    "import pandas as pd\n",
    "import numpy as np\n",
    "import seaborn as sns\n",
    "import plotly.express as px\n",
    "import geopy.geocoders\n",
    "import plotly.graph_objects as go\n",
    "import ipywidgets as widgets\n",
    "from ipywidgets import fixed, interact, interact_manual\n",
    "\n",
    "from matplotlib import pyplot as plt\n",
    "from geopy.geocoders import Nominatim\n",
    "\n",
    "# definindo formato de exibição dos números decimais\n",
    "pd.set_option('display.float_format', lambda x: '%.2f' % x)"
   ]
  },
  {
   "cell_type": "markdown",
   "id": "628207b1",
   "metadata": {},
   "source": [
    "**Coleta dos dados**"
   ]
  },
  {
   "cell_type": "code",
   "execution_count": null,
   "id": "cf246465",
   "metadata": {
    "ExecuteTime": {
     "end_time": "2022-01-15T19:54:52.905633Z",
     "start_time": "2022-01-15T19:54:52.837381Z"
    }
   },
   "outputs": [],
   "source": [
    "# dados dos imóveis em King County\n",
    "raw_data = pd.read_csv('kc_house_data.csv')\n",
    "raw_data.head()"
   ]
  },
  {
   "cell_type": "code",
   "execution_count": null,
   "id": "dead594c",
   "metadata": {
    "ExecuteTime": {
     "end_time": "2022-01-15T19:55:00.875164Z",
     "start_time": "2022-01-15T19:55:00.868183Z"
    }
   },
   "outputs": [],
   "source": [
    "raw_data.dtypes"
   ]
  },
  {
   "cell_type": "markdown",
   "id": "4165b1e1",
   "metadata": {},
   "source": [
    "**Transformação dos dados**"
   ]
  },
  {
   "cell_type": "code",
   "execution_count": null,
   "id": "86b1c2b3",
   "metadata": {
    "ExecuteTime": {
     "end_time": "2022-01-15T19:55:10.929899Z",
     "start_time": "2022-01-15T19:55:10.891762Z"
    }
   },
   "outputs": [],
   "source": [
    "# corrigindo tipagem dos dados\n",
    "raw_data['date'] = pd.to_datetime(raw_data['date'],format='%Y-%m-%d')\n",
    "raw_data['bathrooms'] = raw_data['bathrooms'].astype('int64')\n",
    "raw_data['floors'] = raw_data['floors'].astype('int64')\n",
    "\n",
    "# removendo atributos que não agregam à solução do problema\n",
    "raw_data = raw_data.drop(columns=['sqft_living15','sqft_lot15'])\n",
    "\n",
    "# removendo registros duplicados\n",
    "raw_data = raw_data.drop_duplicates(subset='id')"
   ]
  },
  {
   "cell_type": "markdown",
   "id": "26c4b219",
   "metadata": {},
   "source": [
    "**Análise Descritiva**"
   ]
  },
  {
   "cell_type": "code",
   "execution_count": null,
   "id": "bbef5123",
   "metadata": {
    "ExecuteTime": {
     "end_time": "2022-01-15T19:55:14.753350Z",
     "start_time": "2022-01-15T19:55:14.694158Z"
    }
   },
   "outputs": [],
   "source": [
    "# separando dados de tipos numéricos\n",
    "num_attributes = raw_data.select_dtypes(include=['int64','float64'])\n",
    "\n",
    "# definindo medidas de dispersão e tendencia central\n",
    "max_ = pd.DataFrame(num_attributes.apply(np.max))\n",
    "min_ = pd.DataFrame(num_attributes.apply(np.min))\n",
    "avg = pd.DataFrame(num_attributes.apply(np.mean))\n",
    "median = pd.DataFrame(num_attributes.apply(np.median))\n",
    "std = pd.DataFrame(num_attributes.apply(np.std))\n",
    "\n",
    "# unindo resultados\n",
    "descriptive_analysis = pd.concat([min_,max_,avg,median,std], axis=1).reset_index()\n",
    "descriptive_analysis.columns = ['attributes','min','max','average','median','std']"
   ]
  },
  {
   "cell_type": "code",
   "execution_count": null,
   "id": "6d167806",
   "metadata": {
    "ExecuteTime": {
     "end_time": "2022-01-15T19:55:17.385161Z",
     "start_time": "2022-01-15T19:55:17.360947Z"
    }
   },
   "outputs": [],
   "source": [
    "descriptive_analysis"
   ]
  },
  {
   "cell_type": "markdown",
   "id": "4629ddea",
   "metadata": {},
   "source": [
    "**Limpeza dos dados**"
   ]
  },
  {
   "cell_type": "code",
   "execution_count": null,
   "id": "a1dd377c",
   "metadata": {
    "ExecuteTime": {
     "end_time": "2022-01-15T19:55:22.150773Z",
     "start_time": "2022-01-15T19:55:22.114873Z"
    }
   },
   "outputs": [],
   "source": [
    "# correção de outlier\n",
    "'''\n",
    "assumo que o registro com 33 quartos é um erro de digitação,\n",
    "considerando que os valores de preço, sala de estar, terreno\n",
    "e numero de banheiros estão na média dos imóveis de 3 quartos\n",
    "'''\n",
    "raw_data[raw_data['bedrooms'].isin([3,33])]\n",
    "\n",
    "price = raw_data[raw_data['bedrooms']==3]['price'].mean()\n",
    "sqft_lot = raw_data[raw_data['bedrooms']==3]['sqft_lot'].mean()\n",
    "sqft_living = raw_data[raw_data['bedrooms']==3]['sqft_living'].mean()\n",
    "bath = raw_data[raw_data['bedrooms']==3]['bathrooms'].mean()\n",
    "\n",
    "raw_data.loc[raw_data['bedrooms']==33,'bedrooms'] = 3"
   ]
  },
  {
   "cell_type": "markdown",
   "id": "d98f0e73",
   "metadata": {
    "heading_collapsed": true
   },
   "source": [
    "##### Levantamento de hipóteses"
   ]
  },
  {
   "cell_type": "code",
   "execution_count": null,
   "id": "cc291340",
   "metadata": {
    "ExecuteTime": {
     "end_time": "2022-01-15T01:31:23.221867Z",
     "start_time": "2022-01-15T01:31:22.980535Z"
    },
    "hidden": true
   },
   "outputs": [],
   "source": [
    "# H1: Imóveis com vista para água são 20% mais caros que a média\n",
    "\n",
    "_all = raw_data['price'].mean()\n",
    "w_water = raw_data[raw_data['waterfront']==1]['price'].mean()\n",
    "df_h1 = pd.DataFrame({'attribute': ['geral','waterfront'], 'valor_medio': [_all, w_water]})\n",
    "df_h1['pct'] = df_h1['valor_medio'].pct_change()\n",
    "result = ''\n",
    "if df_h1.loc[1,'valor_medio'] > df_h1.loc[0,'valor_medio']:\n",
    "    result = 'Verdadeiro'\n",
    "else: 'Falso'\n",
    "\n",
    "print('{:}. O valor dos imóveis com vista para a água apresentam variação de {:.2f}% em relação à média geral'.format(result, df_h1.loc[1,'pct']*100))\n",
    "sns.barplot(data=df_h1, x='attribute', y='valor_medio');"
   ]
  },
  {
   "cell_type": "code",
   "execution_count": null,
   "id": "09f26bb3",
   "metadata": {
    "ExecuteTime": {
     "end_time": "2022-01-15T01:37:29.920788Z",
     "start_time": "2022-01-15T01:37:29.808091Z"
    },
    "hidden": true
   },
   "outputs": [],
   "source": [
    "## H2: Imóveis com data de construção menor que 1955 são 50% mais baratos na média\n",
    "\n",
    "_all = raw_data['price'].mean()\n",
    "older_1955 = raw_data[raw_data['yr_built'] < 1955]['price'].mean()\n",
    "df_h2 = pd.DataFrame({'attribute': ['media_geral','older_1995'], 'mean': [_all, older_1955]})\n",
    "df_h2['pct'] = df_h2['mean'].pct_change()\n",
    "\n",
    "print('Diferenca percentual: {:.2f}%'.format(df_h2.loc[1,'pct']*100))\n",
    "sns.barplot(data=df_h2, x='attribute', y='mean');"
   ]
  },
  {
   "cell_type": "code",
   "execution_count": null,
   "id": "09592934",
   "metadata": {
    "ExecuteTime": {
     "end_time": "2022-01-15T01:36:24.327406Z",
     "start_time": "2022-01-15T01:36:24.193765Z"
    },
    "hidden": true
   },
   "outputs": [],
   "source": [
    "# H3: Imóveis sem porão são, em media, 40% maiores do que os imóveis com porão\n",
    "\n",
    "sem_porao = raw_data[raw_data['sqft_basement']==0]['sqft_lot'].mean()\n",
    "com_porao = raw_data[raw_data['sqft_basement']!=0]['sqft_lot'].mean()\n",
    "df_h3 = pd.DataFrame({'attribute': ['com_porao','sem_porao'], 'mean_sqft_lot': [com_porao, sem_porao]})\n",
    "df_h3['pct'] = df_h3['mean_sqft_lot'].pct_change()\n",
    "result = ''\n",
    "if df_h3.loc[0,'mean_sqft_lot'] < df_h3.loc[1,'mean_sqft_lot']:\n",
    "    result = 'Verdadeiro'\n",
    "else: result = 'Falso'\n",
    "\n",
    "print('{:}. A diferença percentual da área total dos imóveis sem porão em relação aos imóveis com porão é de {:.2f}%'.format(result, df_h3.loc[1,'pct']*100))\n",
    "sns.barplot(data=df_h3, x='attribute', y='mean_sqft_lot');"
   ]
  },
  {
   "cell_type": "code",
   "execution_count": null,
   "id": "0d61831d",
   "metadata": {
    "ExecuteTime": {
     "end_time": "2022-01-15T01:36:26.920534Z",
     "start_time": "2022-01-15T01:36:26.594628Z"
    },
    "hidden": true
   },
   "outputs": [],
   "source": [
    "# H4: Crescimento do preço dos imóveis Yoy é de 10%\n",
    "\n",
    "raw_data['year'] = pd.to_datetime(raw_data['date']).dt.strftime('%Y')\n",
    "df_h4 = raw_data[['year','price']].groupby('year').mean().reset_index()\n",
    "df_h4 = df_h4.rename(columns={'price': 'mean'})\n",
    "df_h4['pct'] = df_h4['mean'].pct_change()\n",
    "result = ''\n",
    "if df_h4.loc[1,'mean'] == 0.1:\n",
    "    result = 'Verdadeiro'\n",
    "else: result = 'Falso'\n",
    "    \n",
    "print('{:}. A variação percentual do valor médio dos imóveis ano a ano é de {:.2f}%'.format(result, df_h4.loc[1,'pct']*100))\n",
    "sns.barplot(data=df_h4, x='year', y='mean');"
   ]
  },
  {
   "cell_type": "code",
   "execution_count": null,
   "id": "998a310f",
   "metadata": {
    "ExecuteTime": {
     "end_time": "2022-01-15T01:36:31.082425Z",
     "start_time": "2022-01-15T01:36:30.606627Z"
    },
    "hidden": true
   },
   "outputs": [],
   "source": [
    "## H5: Imóveis com 3 banheiros tem um crescimento MoM de 15%\n",
    "\n",
    "df_h5 = raw_data.loc[raw_data['bathrooms']==3,:].copy()\n",
    "df_h5['yr_m'] = raw_data['date'].dt.strftime('%Y-%m')\n",
    "df_h5 = df_h5[['yr_m','price']].groupby('yr_m').sum().reset_index()\n",
    "df_h5 = df_h5.rename(columns={'price': 'mean'})\n",
    "df_h5['pct'] = df_h5['mean'].pct_change()\n",
    "df_h5['variacao'] = df_h5['pct'].apply(lambda x: 'positivo' if x>0 else 'negativo')\n",
    "\n",
    "sns.set_style('darkgrid')\n",
    "color = ['red','green']\n",
    "p = sns.barplot(data=df_h5, x='yr_m', y='pct', hue='variacao', palette=color);\n",
    "plt.xticks(rotation=45);"
   ]
  },
  {
   "cell_type": "code",
   "execution_count": null,
   "id": "e5a64b1c",
   "metadata": {
    "ExecuteTime": {
     "end_time": "2022-01-15T01:36:34.285387Z",
     "start_time": "2022-01-15T01:36:34.156732Z"
    },
    "hidden": true
   },
   "outputs": [],
   "source": [
    "## H6: Imóveis com sótão são 20% mais caros do que imóveis com porão\n",
    "\n",
    "above = raw_data.loc[raw_data['sqft_above']>0,'price'].mean()\n",
    "basement = raw_data.loc[raw_data['sqft_basement']>0,'price'].mean()\n",
    "df_h6 = pd.DataFrame([['above',above],['basement',basement]],columns=['attribute','mean'])\n",
    "df_h6['pct'] = df_h6['mean'].pct_change()\n",
    "\n",
    "print('Diferenca percentual: {:.2f}%'.format(df_h6.loc[1,'pct']*100))\n",
    "sns.barplot(data=df_h6, x='attribute', y='mean');"
   ]
  },
  {
   "cell_type": "code",
   "execution_count": null,
   "id": "2409cecd",
   "metadata": {
    "ExecuteTime": {
     "end_time": "2022-01-15T01:37:42.124076Z",
     "start_time": "2022-01-15T01:37:41.982420Z"
    },
    "hidden": true
   },
   "outputs": [],
   "source": [
    "# H7: Imóveis antigos reformados são 30% mais caros do que imóveis novos\n",
    "    #imóvel antigo = ano de construção anterior a 2000\n",
    "\n",
    "old = raw_data.loc[(raw_data['yr_renovated']>0) & (raw_data['yr_built'].between(1,2000)),'price'].mean()\n",
    "new = raw_data.loc[(raw_data['yr_renovated']==0) & (raw_data['yr_built']>=2000),'price'].mean()\n",
    "df_h7 = pd.DataFrame([['new',new],['old_renovated',old]],columns=['attribute','mean'])\n",
    "df_h7['pct'] = df_h7['mean'].pct_change()\n",
    "result = ''\n",
    "if df_h7.loc[1,'mean'] > df_h7.loc[0,'mean']:\n",
    "    result = 'Verdadeiro'\n",
    "else: result = 'Falso'\n",
    "    \n",
    "print('{:}. A diferença da média do valor dos imóveis antigos reformados em relação aos imóveis novos é de {:.2f}%'.format(result, df_h7.loc[1,'pct']*100))\n",
    "sns.barplot(data=df_h7, x='attribute', y='mean');"
   ]
  },
  {
   "cell_type": "code",
   "execution_count": null,
   "id": "47a32808",
   "metadata": {
    "ExecuteTime": {
     "end_time": "2022-01-15T01:37:44.710286Z",
     "start_time": "2022-01-15T01:37:44.582626Z"
    },
    "hidden": true
   },
   "outputs": [],
   "source": [
    "# H8: Imóveis com vista pra água tem um crescimento YoY de 20%\n",
    "df_h8 = raw_data[raw_data['waterfront']==1].copy()\n",
    "df_h8 = df_h8[['year','price']].groupby('year').sum().reset_index()\n",
    "df_h8 = df_h8.rename(columns={'price': 'mean'})\n",
    "df_h8['pct'] = df_h8['mean'].pct_change()\n",
    "\n",
    "print('Diferenca percentual: {:.2f}%'.format(df_h8.loc[1,'pct']*100))\n",
    "sns.barplot(data=df_h8, x='year', y='mean');"
   ]
  },
  {
   "cell_type": "code",
   "execution_count": null,
   "id": "19e0a72b",
   "metadata": {
    "ExecuteTime": {
     "end_time": "2022-01-15T01:37:47.035262Z",
     "start_time": "2022-01-15T01:37:46.907612Z"
    },
    "hidden": true
   },
   "outputs": [],
   "source": [
    "# H9: Imóveis com mais de 3 quartos são 30% mais caros que a média\n",
    "\n",
    "_3more = raw_data.loc[raw_data['bedrooms']>3,'price'].mean()\n",
    "_all = raw_data['price'].mean()\n",
    "df_h9 = pd.DataFrame([['all',_all],['3more',_3more]],columns=['attribute','mean'])\n",
    "df_h9['pct'] = df_h9['mean'].pct_change()\n",
    "\n",
    "print('Diferenca percentual: {:.2f}%'.format(df_h9.loc[1,'pct']*100))\n",
    "sns.barplot(data=df_h9, x='attribute', y='mean');"
   ]
  },
  {
   "cell_type": "code",
   "execution_count": null,
   "id": "30217de1",
   "metadata": {
    "ExecuteTime": {
     "end_time": "2022-01-15T01:37:49.918804Z",
     "start_time": "2022-01-15T01:37:49.794805Z"
    },
    "hidden": true
   },
   "outputs": [],
   "source": [
    "# H10: Imóveis em boas condições com 1 andar são 20% mais caros que a média\n",
    "\n",
    "raw_data['condition_type'] = raw_data['condition'].apply(lambda x: 'bad' if x <= 2 else 'regular' if x in([3,4]) else 'good' )\n",
    "good1f = raw_data.loc[(raw_data['floors']==1)&(raw_data['condition_type']=='regular'),'price'].mean()\n",
    "all = raw_data['price'].mean()\n",
    "df_h0 = pd.DataFrame([['all',all],['good1f',good1f]], columns=['attribute','mean'])\n",
    "df_h0['pct'] = df_h0['mean'].pct_change()\n",
    "\n",
    "print('Diferenca percentual: {:.2f}%'.format(df_h0.loc[1,'pct']*100))\n",
    "sns.barplot(data=df_h0, x='attribute', y='mean');"
   ]
  },
  {
   "cell_type": "markdown",
   "id": "685a9840",
   "metadata": {},
   "source": [
    "##### Construção do algoritmo da solução"
   ]
  },
  {
   "cell_type": "markdown",
   "id": "d847f18d",
   "metadata": {},
   "source": [
    "**Engenharia de atributos**"
   ]
  },
  {
   "cell_type": "code",
   "execution_count": null,
   "id": "32a5dc8b",
   "metadata": {
    "ExecuteTime": {
     "end_time": "2022-01-15T19:55:26.669544Z",
     "start_time": "2022-01-15T19:55:26.487836Z"
    }
   },
   "outputs": [],
   "source": [
    "#new attributes\n",
    "data = raw_data.copy()\n",
    "\n",
    "data['sn_compra'] = 'NA'\n",
    "data['condition_type'] = 'NA'\n",
    "\n",
    "data['sell_price'] = 0.0\n",
    "data['profit'] = 0.0\n",
    "data['month'] = data['date'].dt.strftime('%m').astype('int64')\n",
    "data['season'] = data['month'].apply(lambda x: 'winter' if x in(12,1,2) else\n",
    "                                               'spring' if x in(3,4,5) else\n",
    "                                               'summer' if x in(6,7,8) else 'fall' )\n",
    "data['sn_compra'] = data['sn_compra'].astype('string')\n",
    "data['condition_type'] = data['condition_type'].astype('string')\n",
    "data['condition_type'] = data['condition'].apply(lambda x: 'good' if x==5 else 'regular' if x in(3,4) else 'bad')\n",
    "data['season'] = data['season'].astype('string')\n",
    "\n",
    "# definindo mediana do custo por região\n",
    "regional_median = data[['zipcode','price']].groupby('zipcode').median().reset_index().copy()\n",
    "regional_median.columns = ['zipcode','regional_median']\n",
    "\n",
    "# definindo mediana do custo por região/estação\n",
    "season_median = data[['price','zipcode','season']].groupby(['zipcode','season']).median('price')\n",
    "season_median = season_median.rename(columns={'price': 'season_median'})"
   ]
  },
  {
   "cell_type": "markdown",
   "id": "6f41a223",
   "metadata": {},
   "source": [
    "**Criando filtros**"
   ]
  },
  {
   "cell_type": "code",
   "execution_count": null,
   "id": "c6f7c495",
   "metadata": {
    "ExecuteTime": {
     "end_time": "2022-01-15T01:38:00.044856Z",
     "start_time": "2022-01-15T01:38:00.019887Z"
    }
   },
   "outputs": [],
   "source": [
    "f_zipcode = widgets.Dropdown(\n",
    "    options = data['zipcode'].sort_values().unique().tolist(),\n",
    "    description = 'Zipcode',\n",
    "    disable = False\n",
    ")\n",
    "\n",
    "f_filters = widgets.Checkbox(\n",
    "    value=False,\n",
    "    description='Disable filter',\n",
    "    disabled=False,\n",
    "    indent=False\n",
    ")"
   ]
  },
  {
   "cell_type": "markdown",
   "id": "988ab1fe",
   "metadata": {
    "ExecuteTime": {
     "end_time": "2022-01-15T01:14:17.692078Z",
     "start_time": "2022-01-15T01:14:17.677112Z"
    }
   },
   "source": [
    "**Definição dos imóveis para compra**"
   ]
  },
  {
   "cell_type": "code",
   "execution_count": null,
   "id": "0dc01ba8",
   "metadata": {
    "ExecuteTime": {
     "end_time": "2022-01-15T19:55:31.060506Z",
     "start_time": "2022-01-15T19:55:30.671218Z"
    }
   },
   "outputs": [],
   "source": [
    "# adicionando a mediana regional para cada imóvel\n",
    "purchase = data.merge(regional_median,how='inner',on='zipcode').copy()\n",
    "\n",
    "purchase['condition_type'] = purchase['condition_type'].astype('string')\n",
    "purchase['sn_compra'] = purchase['sn_compra'].astype('string')\n",
    "\n",
    "purchase['sn_compra'] = purchase.apply(\n",
    "    lambda x: 'y' if (x['price'] < x['regional_median']) & (x['condition_type']=='good') else 'n',\n",
    "    axis=1 )\n",
    "\n",
    "purchase_list = purchase.drop(columns=['bedrooms', 'bathrooms', 'sqft_living', 'sqft_lot', 'floors', 'waterfront',\n",
    "                                  'view', 'condition', 'grade', 'sqft_above', 'sqft_basement', 'yr_built',\n",
    "                                  'yr_renovated', 'month'])"
   ]
  },
  {
   "cell_type": "markdown",
   "id": "caa5f7c8",
   "metadata": {},
   "source": [
    "**Coleta dos dados de geolocalização dos imóveis elegíveis**"
   ]
  },
  {
   "cell_type": "code",
   "execution_count": null,
   "id": "73a3982f",
   "metadata": {
    "ExecuteTime": {
     "end_time": "2022-01-15T19:45:09.916940Z",
     "start_time": "2022-01-15T19:39:17.670885Z"
    }
   },
   "outputs": [],
   "source": [
    "# dados de geolocalização\n",
    "\n",
    "geolocation = purchase_list.loc[purchase_list['sn_compra'] == 'y'][['id', 'lat', 'long']].copy().reset_index( drop=True )\n",
    "geolocator = Nominatim( user_agent='geoapiExercises' )\n",
    "geolocation['street'] = 'NA'\n",
    "geolocation['house_num'] = 'NA'\n",
    "geolocation['city'] = 'NA'\n",
    "geolocation['neighbourhood'] = 'NA'\n",
    "geolocation['state'] = 'NA'\n",
    "\n",
    "for i in range( len( geolocation ) ):\n",
    "    query = str( geolocation.loc[i, 'lat'] ) + ',' + str( geolocation.loc[i, 'long'] )\n",
    "    response = geolocator.reverse( query, timeout=10000 )\n",
    "    response = pd.json_normalize( response.raw['address'] )\n",
    "    geolocation.iloc[i, 3] = response.apply( lambda x: x['road'] if 'road' in response.columns else 'NA', axis = 1 )    \n",
    "    geolocation.iloc[i, 4] = response.apply( lambda x: x['house_number'] if 'house_number' in response.columns else 'NA', axis = 1 )\n",
    "    geolocation.iloc[i, 5] = response.apply( lambda x: x['city'] if 'city' in response.columns else 'NA', axis = 1 )\n",
    "    geolocation.iloc[i, 6] = response.apply( lambda x: x['neighbourhood'] if 'neighbourhood' in response.columns else\n",
    "                                                       x['county'] if 'county' in response.columns else 'NA', axis = 1 )\n",
    "    geolocation.iloc[i, 7] = response.apply( lambda x: x['state'] if 'state' in response.columns else 'NA', axis = 1 )\n",
    "geolocation['address'] = geolocation['street'] + ', ' + geolocation['house_num']"
   ]
  },
  {
   "cell_type": "markdown",
   "id": "4a1a81d8",
   "metadata": {},
   "source": [
    "**Definição do preço de revenda**"
   ]
  },
  {
   "cell_type": "code",
   "execution_count": null,
   "id": "bafdb0f4",
   "metadata": {
    "ExecuteTime": {
     "end_time": "2022-01-15T18:46:39.085857Z",
     "start_time": "2022-01-15T18:46:38.429983Z"
    }
   },
   "outputs": [],
   "source": [
    "sell = purchase_list.copy()\n",
    "\n",
    "sell = sell.merge(season_median,how='inner',on=['zipcode','season'])\n",
    "sell['sell_price'] = sell.apply(lambda x: x['price']*1.3 if x['price']<x['season_median'] else x['price']*1.1, axis=1)\n",
    "sell['profit'] = sell['sell_price'] - sell['price']\n",
    "sell = sell.loc[sell['sn_compra']=='y']\n",
    "sell = sell.drop(columns=['date','sn_compra','condition_type','regional_median','lat','long'])\n",
    "\n",
    "sell_list = sell.merge(geolocation[['id','address','neighbourhood','city']],how='inner',on='id')"
   ]
  },
  {
   "cell_type": "code",
   "execution_count": null,
   "id": "a9aa0c97",
   "metadata": {
    "ExecuteTime": {
     "end_time": "2022-01-15T18:46:44.665658Z",
     "start_time": "2022-01-15T18:46:44.642441Z"
    }
   },
   "outputs": [],
   "source": [
    "sell_list"
   ]
  },
  {
   "cell_type": "markdown",
   "id": "8c7d63ca",
   "metadata": {},
   "source": [
    "**Visualização dos imóveis para compra**"
   ]
  },
  {
   "cell_type": "code",
   "execution_count": null,
   "id": "c03156f2",
   "metadata": {
    "ExecuteTime": {
     "end_time": "2022-01-15T01:39:10.480988Z",
     "start_time": "2022-01-15T01:39:10.471014Z"
    }
   },
   "outputs": [],
   "source": [
    "def data_viz( df, region ):\n",
    "    plot = df[df['zipcode']==region][['id','price','zipcode','regional_median','condition_type','sn_compra']]\n",
    "    plot['color'] = plot['sn_compra'].apply(lambda x: 'lightgray' if x == 'n' else 'blue')\n",
    "     \n",
    "    fig = go.Figure()\n",
    "    \n",
    "    # Add traces\n",
    "    fig.add_trace(go.Scatter(y=plot['price'], \n",
    "                        marker_color=plot['color'],\n",
    "                        mode='markers',\n",
    "                        text='ID: '+plot['id'].astype('string')+' | Region: '+plot['zipcode'].astype('string')+' | Condition: ' + plot['condition_type'] + ' | Price: US$' + plot['price'].astype('string'),\n",
    "                        name='Imovel'))\n",
    "\n",
    "    fig.add_trace(go.Scatter(y=plot['regional_median'],\n",
    "                        mode='lines',\n",
    "                        text='Region: '+plot['zipcode'].astype('string')+' | Median: US$' + plot['regional_median'].astype('string'),\n",
    "                        name='Mediana Regional'))\n",
    "    \n",
    "    fig.update_layout(\n",
    "        xaxis_title=\"Houses\",\n",
    "        yaxis_title=\"Aquisition cost\",\n",
    "        font=dict( color=\"#000000\" )\n",
    "    )\n",
    "\n",
    "    fig.show()\n",
    "    \n",
    "    return None"
   ]
  },
  {
   "cell_type": "code",
   "execution_count": null,
   "id": "04c66076",
   "metadata": {
    "ExecuteTime": {
     "end_time": "2022-01-15T01:40:30.015183Z",
     "start_time": "2022-01-15T01:40:29.508966Z"
    }
   },
   "outputs": [],
   "source": [
    "interact(data_viz, df=fixed(purchase_list), region = f_zipcode);"
   ]
  },
  {
   "cell_type": "markdown",
   "id": "fcac49b4",
   "metadata": {},
   "source": [
    "**Visualização dos imóveis para compra/revenda no mapa**"
   ]
  },
  {
   "cell_type": "code",
   "execution_count": null,
   "id": "0ef26ef0",
   "metadata": {
    "ExecuteTime": {
     "end_time": "2022-01-15T01:41:06.432840Z",
     "start_time": "2022-01-15T01:41:06.420907Z"
    }
   },
   "outputs": [],
   "source": [
    "def make_map( house_list, geodata, region, filters ): \n",
    "    map_data = house_list[house_list['sn_compra']=='y'].merge(geodata[['id','address','neighbourhood','city']],how='inner',on='id').reset_index(drop=True)\n",
    "    map_data = map_data.drop(columns=['date','sn_compra','condition_type','sell_price','profit','regional_median'])\n",
    "    \n",
    "    if filters:\n",
    "        map_data\n",
    "    else:\n",
    "        map_data = map_data.loc[map_data['zipcode']==region]\n",
    "    \n",
    "    _map = px.scatter_mapbox( map_data,\n",
    "                              lat='lat',\n",
    "                              lon='long',\n",
    "                              hover_name='address',                              \n",
    "                              color='season',\n",
    "                              color_discrete_sequence=px.colors.qualitative.Dark2,\n",
    "                              zoom=10,\n",
    "                              text='ID: '+map_data['id'].astype('string'),\n",
    "                              hover_data=dict( lat=False, long=False, season=False)\n",
    "                            )\n",
    "\n",
    "    _map.update_layout(mapbox_style='open-street-map')\n",
    "    _map.update_layout(height=600, margin = {'r':0,'t':0,'l':0,'b':0})\n",
    "    _map.show()\n",
    "    \n",
    "    return None"
   ]
  },
  {
   "cell_type": "code",
   "execution_count": null,
   "id": "30e764de",
   "metadata": {
    "ExecuteTime": {
     "end_time": "2022-01-15T01:41:16.366254Z",
     "start_time": "2022-01-15T01:41:15.695712Z"
    }
   },
   "outputs": [],
   "source": [
    "interact( make_map, house_list=fixed( purchase_list ), geodata=fixed( geolocation ), region=f_zipcode, filters=f_filters );"
   ]
  }
 ],
 "metadata": {
  "hide_input": false,
  "kernelspec": {
   "display_name": "Python 3",
   "language": "python",
   "name": "python3"
  },
  "language_info": {
   "codemirror_mode": {
    "name": "ipython",
    "version": 3
   },
   "file_extension": ".py",
   "mimetype": "text/x-python",
   "name": "python",
   "nbconvert_exporter": "python",
   "pygments_lexer": "ipython3",
   "version": "3.8.8"
  }
 },
 "nbformat": 4,
 "nbformat_minor": 5
}
