{
 "cells": [
  {
   "cell_type": "code",
   "execution_count": 88,
   "id": "31d0c30d",
   "metadata": {
    "ExecuteTime": {
     "end_time": "2022-01-15T19:54:50.385704Z",
     "start_time": "2022-01-15T19:54:49.006767Z"
    }
   },
   "outputs": [],
   "source": [
    "import pandas               as pd\n",
    "import numpy                as np\n",
    "import plotly.express       as px\n",
    "import plotly.graph_objects as go\n",
    "import ipywidgets           as widgets\n",
    "from ipywidgets      import fixed, interact, interact_manual\n",
    "import matplotlib.pyplot as plt\n",
    "import matplotlib.ticker as mtick\n",
    "\n",
    "from geopy.geocoders import Nominatim\n",
    "\n",
    "# set float type display format\n",
    "pd.set_option('display.float_format', lambda x: '%.2f' % x)\n",
    "# set plots size\n",
    "plt.rcParams['figure.figsize'] = [ 20, 10 ]"
   ]
  },
  {
   "cell_type": "markdown",
   "id": "628207b1",
   "metadata": {},
   "source": [
    "## 0. Carga"
   ]
  },
  {
   "cell_type": "code",
   "execution_count": 99,
   "id": "cf246465",
   "metadata": {
    "ExecuteTime": {
     "end_time": "2022-01-15T19:54:52.905633Z",
     "start_time": "2022-01-15T19:54:52.837381Z"
    }
   },
   "outputs": [
    {
     "ename": "OSError",
     "evalue": "[Errno 22] Invalid argument: '*/kc_house_processed.csv'",
     "output_type": "error",
     "traceback": [
      "\u001b[1;31m---------------------------------------------------------------------------\u001b[0m",
      "\u001b[1;31mOSError\u001b[0m                                   Traceback (most recent call last)",
      "Cell \u001b[1;32mIn[99], line 2\u001b[0m\n\u001b[0;32m      1\u001b[0m \u001b[38;5;66;03m#df_raw = pd.read_csv('../data/processed/kc_house_processed.csv',parse_dates=['date'])\u001b[39;00m\n\u001b[1;32m----> 2\u001b[0m df_raw \u001b[38;5;241m=\u001b[39m pd\u001b[38;5;241m.\u001b[39mread_csv(\u001b[38;5;124m'\u001b[39m\u001b[38;5;124m*/kc_house_processed.csv\u001b[39m\u001b[38;5;124m'\u001b[39m,parse_dates\u001b[38;5;241m=\u001b[39m[\u001b[38;5;124m'\u001b[39m\u001b[38;5;124mdate\u001b[39m\u001b[38;5;124m'\u001b[39m])\n\u001b[0;32m      3\u001b[0m \u001b[38;5;28mprint\u001b[39m(df_raw\u001b[38;5;241m.\u001b[39minfo())\n\u001b[0;32m      4\u001b[0m df_raw\u001b[38;5;241m.\u001b[39mhead()\n",
      "File \u001b[1;32mc:\\Users\\rodri\\anaconda3\\Lib\\site-packages\\pandas\\io\\parsers\\readers.py:1026\u001b[0m, in \u001b[0;36mread_csv\u001b[1;34m(filepath_or_buffer, sep, delimiter, header, names, index_col, usecols, dtype, engine, converters, true_values, false_values, skipinitialspace, skiprows, skipfooter, nrows, na_values, keep_default_na, na_filter, verbose, skip_blank_lines, parse_dates, infer_datetime_format, keep_date_col, date_parser, date_format, dayfirst, cache_dates, iterator, chunksize, compression, thousands, decimal, lineterminator, quotechar, quoting, doublequote, escapechar, comment, encoding, encoding_errors, dialect, on_bad_lines, delim_whitespace, low_memory, memory_map, float_precision, storage_options, dtype_backend)\u001b[0m\n\u001b[0;32m   1013\u001b[0m kwds_defaults \u001b[38;5;241m=\u001b[39m _refine_defaults_read(\n\u001b[0;32m   1014\u001b[0m     dialect,\n\u001b[0;32m   1015\u001b[0m     delimiter,\n\u001b[1;32m   (...)\u001b[0m\n\u001b[0;32m   1022\u001b[0m     dtype_backend\u001b[38;5;241m=\u001b[39mdtype_backend,\n\u001b[0;32m   1023\u001b[0m )\n\u001b[0;32m   1024\u001b[0m kwds\u001b[38;5;241m.\u001b[39mupdate(kwds_defaults)\n\u001b[1;32m-> 1026\u001b[0m \u001b[38;5;28;01mreturn\u001b[39;00m _read(filepath_or_buffer, kwds)\n",
      "File \u001b[1;32mc:\\Users\\rodri\\anaconda3\\Lib\\site-packages\\pandas\\io\\parsers\\readers.py:620\u001b[0m, in \u001b[0;36m_read\u001b[1;34m(filepath_or_buffer, kwds)\u001b[0m\n\u001b[0;32m    617\u001b[0m _validate_names(kwds\u001b[38;5;241m.\u001b[39mget(\u001b[38;5;124m\"\u001b[39m\u001b[38;5;124mnames\u001b[39m\u001b[38;5;124m\"\u001b[39m, \u001b[38;5;28;01mNone\u001b[39;00m))\n\u001b[0;32m    619\u001b[0m \u001b[38;5;66;03m# Create the parser.\u001b[39;00m\n\u001b[1;32m--> 620\u001b[0m parser \u001b[38;5;241m=\u001b[39m TextFileReader(filepath_or_buffer, \u001b[38;5;241m*\u001b[39m\u001b[38;5;241m*\u001b[39mkwds)\n\u001b[0;32m    622\u001b[0m \u001b[38;5;28;01mif\u001b[39;00m chunksize \u001b[38;5;129;01mor\u001b[39;00m iterator:\n\u001b[0;32m    623\u001b[0m     \u001b[38;5;28;01mreturn\u001b[39;00m parser\n",
      "File \u001b[1;32mc:\\Users\\rodri\\anaconda3\\Lib\\site-packages\\pandas\\io\\parsers\\readers.py:1620\u001b[0m, in \u001b[0;36mTextFileReader.__init__\u001b[1;34m(self, f, engine, **kwds)\u001b[0m\n\u001b[0;32m   1617\u001b[0m     \u001b[38;5;28mself\u001b[39m\u001b[38;5;241m.\u001b[39moptions[\u001b[38;5;124m\"\u001b[39m\u001b[38;5;124mhas_index_names\u001b[39m\u001b[38;5;124m\"\u001b[39m] \u001b[38;5;241m=\u001b[39m kwds[\u001b[38;5;124m\"\u001b[39m\u001b[38;5;124mhas_index_names\u001b[39m\u001b[38;5;124m\"\u001b[39m]\n\u001b[0;32m   1619\u001b[0m \u001b[38;5;28mself\u001b[39m\u001b[38;5;241m.\u001b[39mhandles: IOHandles \u001b[38;5;241m|\u001b[39m \u001b[38;5;28;01mNone\u001b[39;00m \u001b[38;5;241m=\u001b[39m \u001b[38;5;28;01mNone\u001b[39;00m\n\u001b[1;32m-> 1620\u001b[0m \u001b[38;5;28mself\u001b[39m\u001b[38;5;241m.\u001b[39m_engine \u001b[38;5;241m=\u001b[39m \u001b[38;5;28mself\u001b[39m\u001b[38;5;241m.\u001b[39m_make_engine(f, \u001b[38;5;28mself\u001b[39m\u001b[38;5;241m.\u001b[39mengine)\n",
      "File \u001b[1;32mc:\\Users\\rodri\\anaconda3\\Lib\\site-packages\\pandas\\io\\parsers\\readers.py:1880\u001b[0m, in \u001b[0;36mTextFileReader._make_engine\u001b[1;34m(self, f, engine)\u001b[0m\n\u001b[0;32m   1878\u001b[0m     \u001b[38;5;28;01mif\u001b[39;00m \u001b[38;5;124m\"\u001b[39m\u001b[38;5;124mb\u001b[39m\u001b[38;5;124m\"\u001b[39m \u001b[38;5;129;01mnot\u001b[39;00m \u001b[38;5;129;01min\u001b[39;00m mode:\n\u001b[0;32m   1879\u001b[0m         mode \u001b[38;5;241m+\u001b[39m\u001b[38;5;241m=\u001b[39m \u001b[38;5;124m\"\u001b[39m\u001b[38;5;124mb\u001b[39m\u001b[38;5;124m\"\u001b[39m\n\u001b[1;32m-> 1880\u001b[0m \u001b[38;5;28mself\u001b[39m\u001b[38;5;241m.\u001b[39mhandles \u001b[38;5;241m=\u001b[39m get_handle(\n\u001b[0;32m   1881\u001b[0m     f,\n\u001b[0;32m   1882\u001b[0m     mode,\n\u001b[0;32m   1883\u001b[0m     encoding\u001b[38;5;241m=\u001b[39m\u001b[38;5;28mself\u001b[39m\u001b[38;5;241m.\u001b[39moptions\u001b[38;5;241m.\u001b[39mget(\u001b[38;5;124m\"\u001b[39m\u001b[38;5;124mencoding\u001b[39m\u001b[38;5;124m\"\u001b[39m, \u001b[38;5;28;01mNone\u001b[39;00m),\n\u001b[0;32m   1884\u001b[0m     compression\u001b[38;5;241m=\u001b[39m\u001b[38;5;28mself\u001b[39m\u001b[38;5;241m.\u001b[39moptions\u001b[38;5;241m.\u001b[39mget(\u001b[38;5;124m\"\u001b[39m\u001b[38;5;124mcompression\u001b[39m\u001b[38;5;124m\"\u001b[39m, \u001b[38;5;28;01mNone\u001b[39;00m),\n\u001b[0;32m   1885\u001b[0m     memory_map\u001b[38;5;241m=\u001b[39m\u001b[38;5;28mself\u001b[39m\u001b[38;5;241m.\u001b[39moptions\u001b[38;5;241m.\u001b[39mget(\u001b[38;5;124m\"\u001b[39m\u001b[38;5;124mmemory_map\u001b[39m\u001b[38;5;124m\"\u001b[39m, \u001b[38;5;28;01mFalse\u001b[39;00m),\n\u001b[0;32m   1886\u001b[0m     is_text\u001b[38;5;241m=\u001b[39mis_text,\n\u001b[0;32m   1887\u001b[0m     errors\u001b[38;5;241m=\u001b[39m\u001b[38;5;28mself\u001b[39m\u001b[38;5;241m.\u001b[39moptions\u001b[38;5;241m.\u001b[39mget(\u001b[38;5;124m\"\u001b[39m\u001b[38;5;124mencoding_errors\u001b[39m\u001b[38;5;124m\"\u001b[39m, \u001b[38;5;124m\"\u001b[39m\u001b[38;5;124mstrict\u001b[39m\u001b[38;5;124m\"\u001b[39m),\n\u001b[0;32m   1888\u001b[0m     storage_options\u001b[38;5;241m=\u001b[39m\u001b[38;5;28mself\u001b[39m\u001b[38;5;241m.\u001b[39moptions\u001b[38;5;241m.\u001b[39mget(\u001b[38;5;124m\"\u001b[39m\u001b[38;5;124mstorage_options\u001b[39m\u001b[38;5;124m\"\u001b[39m, \u001b[38;5;28;01mNone\u001b[39;00m),\n\u001b[0;32m   1889\u001b[0m )\n\u001b[0;32m   1890\u001b[0m \u001b[38;5;28;01massert\u001b[39;00m \u001b[38;5;28mself\u001b[39m\u001b[38;5;241m.\u001b[39mhandles \u001b[38;5;129;01mis\u001b[39;00m \u001b[38;5;129;01mnot\u001b[39;00m \u001b[38;5;28;01mNone\u001b[39;00m\n\u001b[0;32m   1891\u001b[0m f \u001b[38;5;241m=\u001b[39m \u001b[38;5;28mself\u001b[39m\u001b[38;5;241m.\u001b[39mhandles\u001b[38;5;241m.\u001b[39mhandle\n",
      "File \u001b[1;32mc:\\Users\\rodri\\anaconda3\\Lib\\site-packages\\pandas\\io\\common.py:873\u001b[0m, in \u001b[0;36mget_handle\u001b[1;34m(path_or_buf, mode, encoding, compression, memory_map, is_text, errors, storage_options)\u001b[0m\n\u001b[0;32m    868\u001b[0m \u001b[38;5;28;01melif\u001b[39;00m \u001b[38;5;28misinstance\u001b[39m(handle, \u001b[38;5;28mstr\u001b[39m):\n\u001b[0;32m    869\u001b[0m     \u001b[38;5;66;03m# Check whether the filename is to be opened in binary mode.\u001b[39;00m\n\u001b[0;32m    870\u001b[0m     \u001b[38;5;66;03m# Binary mode does not support 'encoding' and 'newline'.\u001b[39;00m\n\u001b[0;32m    871\u001b[0m     \u001b[38;5;28;01mif\u001b[39;00m ioargs\u001b[38;5;241m.\u001b[39mencoding \u001b[38;5;129;01mand\u001b[39;00m \u001b[38;5;124m\"\u001b[39m\u001b[38;5;124mb\u001b[39m\u001b[38;5;124m\"\u001b[39m \u001b[38;5;129;01mnot\u001b[39;00m \u001b[38;5;129;01min\u001b[39;00m ioargs\u001b[38;5;241m.\u001b[39mmode:\n\u001b[0;32m    872\u001b[0m         \u001b[38;5;66;03m# Encoding\u001b[39;00m\n\u001b[1;32m--> 873\u001b[0m         handle \u001b[38;5;241m=\u001b[39m \u001b[38;5;28mopen\u001b[39m(\n\u001b[0;32m    874\u001b[0m             handle,\n\u001b[0;32m    875\u001b[0m             ioargs\u001b[38;5;241m.\u001b[39mmode,\n\u001b[0;32m    876\u001b[0m             encoding\u001b[38;5;241m=\u001b[39mioargs\u001b[38;5;241m.\u001b[39mencoding,\n\u001b[0;32m    877\u001b[0m             errors\u001b[38;5;241m=\u001b[39merrors,\n\u001b[0;32m    878\u001b[0m             newline\u001b[38;5;241m=\u001b[39m\u001b[38;5;124m\"\u001b[39m\u001b[38;5;124m\"\u001b[39m,\n\u001b[0;32m    879\u001b[0m         )\n\u001b[0;32m    880\u001b[0m     \u001b[38;5;28;01melse\u001b[39;00m:\n\u001b[0;32m    881\u001b[0m         \u001b[38;5;66;03m# Binary mode\u001b[39;00m\n\u001b[0;32m    882\u001b[0m         handle \u001b[38;5;241m=\u001b[39m \u001b[38;5;28mopen\u001b[39m(handle, ioargs\u001b[38;5;241m.\u001b[39mmode)\n",
      "\u001b[1;31mOSError\u001b[0m: [Errno 22] Invalid argument: '*/kc_house_processed.csv'"
     ]
    }
   ],
   "source": [
    "df_raw = pd.read_csv('../data/processed/kc_house_processed.csv',parse_dates=['date'])\n",
    "print(df_raw.info())\n",
    "df_raw.head()"
   ]
  },
  {
   "cell_type": "markdown",
   "id": "e82b6669",
   "metadata": {},
   "source": [
    "## 1. Engenharia de atributos"
   ]
  },
  {
   "cell_type": "markdown",
   "id": "fd899eb0",
   "metadata": {},
   "source": [
    "#### 1.1. Criando variáveis"
   ]
  },
  {
   "cell_type": "code",
   "execution_count": 90,
   "id": "32a5dc8b",
   "metadata": {
    "ExecuteTime": {
     "end_time": "2022-01-15T19:55:26.669544Z",
     "start_time": "2022-01-15T19:55:26.487836Z"
    }
   },
   "outputs": [],
   "source": [
    "#new attributes\n",
    "data = df_raw.copy()\n",
    "data['month'] = data['date'].dt.month\n",
    "data['month_name'] = data['date'].dt.month_name()\n",
    "data['season'] = data['month'].apply(lambda x: 'winter' if x in(12,1,2) else\n",
    "                                               'spring' if x in(3,4,5) else\n",
    "                                               'summer' if x in(6,7,8) else 'fall' )\n",
    "data['condition_type'] = data['condition'].apply(lambda x: 'good' if x==5 else 'regular' if x in(3,4) else 'bad')\n",
    "# definindo mediana do custo por região\n",
    "regional_median = data[['zipcode','price']].groupby('zipcode').median().reset_index().copy()\n",
    "regional_median.columns = ['zipcode','regional_median']\n",
    "# definindo mediana do custo por região/estação\n",
    "season_region_median = data[['price','zipcode','season']].groupby(['zipcode','season']).median('price')\n",
    "season_region_median = season_region_median.rename(columns={'price': 'season_median'}).reset_index(drop=False)"
   ]
  },
  {
   "cell_type": "markdown",
   "id": "988ab1fe",
   "metadata": {
    "ExecuteTime": {
     "end_time": "2022-01-15T01:14:17.692078Z",
     "start_time": "2022-01-15T01:14:17.677112Z"
    }
   },
   "source": [
    "#### 1.1. Definição dos imóveis para compra"
   ]
  },
  {
   "cell_type": "code",
   "execution_count": null,
   "id": "0dc01ba8",
   "metadata": {
    "ExecuteTime": {
     "end_time": "2022-01-15T19:55:31.060506Z",
     "start_time": "2022-01-15T19:55:30.671218Z"
    }
   },
   "outputs": [],
   "source": [
    "data = pd.merge(data,regional_median,how='left',on='zipcode').copy()\n",
    "data['buy'] = data.apply(lambda x: 'Yes' if (x['price'] < x['regional_median']) & (x['condition_type']=='good') else 'No',axis=1 )"
   ]
  },
  {
   "cell_type": "markdown",
   "id": "caa5f7c8",
   "metadata": {},
   "source": [
    "#### 1.3. Dados de geolocalização dos imóveis elegíveis"
   ]
  },
  {
   "cell_type": "code",
   "execution_count": null,
   "id": "73a3982f",
   "metadata": {
    "ExecuteTime": {
     "end_time": "2022-01-15T19:45:09.916940Z",
     "start_time": "2022-01-15T19:39:17.670885Z"
    }
   },
   "outputs": [],
   "source": [
    "# dados de geolocalização\n",
    "# geolocation = data.loc[data['buy'] == 'Yes'][['id', 'lat', 'long']].copy().reset_index( drop=True )\n",
    "# geolocator = Nominatim( user_agent='geoapiExercises' )\n",
    "# geolocation['street'] = 'NA'\n",
    "# geolocation['house_num'] = 'NA'\n",
    "# geolocation['city'] = 'NA'\n",
    "# geolocation['neighbourhood'] = 'NA'\n",
    "# geolocation['county'] = 'NA'\n",
    "# geolocation['state'] = 'NA'\n",
    "# for i in range( len( geolocation ) ):\n",
    "#     query = str( geolocation.loc[i, 'lat'] ) + ',' + str( geolocation.loc[i, 'long'] )\n",
    "#     response = Nominatim( user_agent=f'geoapiExercises{i}' ).reverse( query )\n",
    "#     response = pd.json_normalize( response.raw['address'] )\n",
    "#     geolocation.iloc[i, 3] = response.apply( lambda x: x['road']          if 'road'          in response.columns else 'NA', axis = 1 )    \n",
    "#     geolocation.iloc[i, 4] = response.apply( lambda x: x['house_number']  if 'house_number'  in response.columns else 'NA', axis = 1 )\n",
    "#     geolocation.iloc[i, 5] = response.apply( lambda x: x['city']          if 'city'          in response.columns else 'NA', axis = 1 )\n",
    "#     geolocation.iloc[i, 6] = response.apply( lambda x: x['neighbourhood'] if 'neighbourhood' in response.columns else 'NA', axis = 1 )\n",
    "#     geolocation.iloc[i, 7] = response.apply( lambda x: x['county']        if 'county'        in response.columns else 'NA', axis = 1 )\n",
    "#     geolocation.iloc[i, 8] = response.apply( lambda x: x['state']         if 'state'         in response.columns else 'NA', axis = 1 )\n",
    "# geolocation['address'] = geolocation['street'] + ', ' + geolocation['house_num']\n",
    "# geolocation.to_csv('../data/processed/geoloc.csv', index=False)"
   ]
  },
  {
   "cell_type": "markdown",
   "id": "4a1a81d8",
   "metadata": {},
   "source": [
    "#### 1.4. Definição do preço de revenda"
   ]
  },
  {
   "cell_type": "code",
   "execution_count": null,
   "id": "bafdb0f4",
   "metadata": {
    "ExecuteTime": {
     "end_time": "2022-01-15T18:46:39.085857Z",
     "start_time": "2022-01-15T18:46:38.429983Z"
    }
   },
   "outputs": [],
   "source": [
    "data = pd.merge(data,season_region_median,how='left',on=['zipcode','season'])\n",
    "data['sell_price'] = data.apply(lambda x: x['price'] * 1.3 if x['price'] <  x['season_median'] and x['buy']=='Yes' else\n",
    "                                                    x['price'] * 1.1 if x['price'] >= x['season_median'] and x['buy']=='Yes'\n",
    "                                                    else 0, axis=1)\n",
    "data['diff_price'] = data.apply(lambda x: np.sqrt((x['sell_price']-x['season_median'])**2) if x['sell_price']!=0 else 0,axis=1)\n",
    "data['profit'] = data.apply(lambda x: x['sell_price'] - x['price'] if x['buy'] == \"Yes\" else 0, axis=1)\n",
    "data = data.drop(['year', 'month', 'month_name'],axis = 1)"
   ]
  },
  {
   "cell_type": "markdown",
   "id": "f4743938",
   "metadata": {},
   "source": [
    "## 2. Métricas"
   ]
  },
  {
   "cell_type": "code",
   "execution_count": null,
   "id": "f7f3ade8",
   "metadata": {},
   "outputs": [],
   "source": [
    "# tamanho da base\n",
    "data.shape[0]"
   ]
  },
  {
   "cell_type": "code",
   "execution_count": null,
   "id": "476a917b",
   "metadata": {},
   "outputs": [],
   "source": [
    "# custo total da base\n",
    "data['price'].sum()*1e-9"
   ]
  },
  {
   "cell_type": "code",
   "execution_count": null,
   "id": "af5aeb27",
   "metadata": {},
   "outputs": [],
   "source": [
    "# total imóveis sugeridos\n",
    "data.loc[data['buy']==\"Yes\",'id'].count()"
   ]
  },
  {
   "cell_type": "code",
   "execution_count": null,
   "id": "61a7fcd6",
   "metadata": {},
   "outputs": [],
   "source": [
    "# investimento total previsto\n",
    "data.loc[data['buy']==\"Yes\",'price'].sum()*1e-3"
   ]
  },
  {
   "cell_type": "code",
   "execution_count": null,
   "id": "e7a39b60",
   "metadata": {},
   "outputs": [],
   "source": [
    "# faturamento total previsto\n",
    "data.loc[data['buy']==\"Yes\",'sell_price'].sum()"
   ]
  },
  {
   "cell_type": "code",
   "execution_count": null,
   "id": "1d2dce8f",
   "metadata": {},
   "outputs": [],
   "source": [
    "# lucro total previsto\n",
    "data.loc[data['buy']==\"Yes\",'profit'].sum()"
   ]
  },
  {
   "cell_type": "code",
   "execution_count": null,
   "id": "38fe7800",
   "metadata": {},
   "outputs": [],
   "source": [
    "# lucro total previsto %\n",
    "aux = data.loc[data['buy']==\"Yes\",['price','profit']].sum().reset_index()\n",
    "val = (aux[0].pct_change()+1).dropna().values[0]\n",
    "val*100"
   ]
  },
  {
   "cell_type": "code",
   "execution_count": null,
   "id": "1a560fe1",
   "metadata": {},
   "outputs": [],
   "source": [
    "# imóveis por estado de conservação\n",
    "data[['condition_type','id']].groupby('condition_type').count().reset_index()"
   ]
  },
  {
   "cell_type": "code",
   "execution_count": null,
   "id": "784407b4",
   "metadata": {},
   "outputs": [],
   "source": [
    "# rentabilidade por estação do ano\n",
    "data[['season','profit']].groupby('season').sum().reset_index()"
   ]
  },
  {
   "cell_type": "code",
   "execution_count": null,
   "id": "59b37877",
   "metadata": {},
   "outputs": [],
   "source": [
    "# preco do m2 por regiao\n",
    "aux = data[['zipcode','sqft_lot','price']].copy()\n",
    "aux['price_m2'] = aux['price']/aux['sqft_lot']\n",
    "aux2 = aux[['zipcode','price_m2']].groupby('zipcode').mean().reset_index()\n",
    "aux2"
   ]
  },
  {
   "cell_type": "code",
   "execution_count": null,
   "id": "dbb2a616",
   "metadata": {},
   "outputs": [],
   "source": [
    "# pareto lucro por regiao\n",
    "pareto = data[['zipcode','profit']].groupby('zipcode').sum().reset_index().sort_values('profit',ascending=False).reset_index(drop=True)\n",
    "pareto['acumulado'] = pareto['profit'].cumsum()\n",
    "pareto['total'] = data['profit'].sum()\n",
    "pareto['perc_acumulado'] = pareto['acumulado']/pareto['total']\n",
    "pareto['zipcode'] = pareto['zipcode'].astype(str)"
   ]
  },
  {
   "cell_type": "markdown",
   "id": "64901156",
   "metadata": {},
   "source": [
    "## 3. Visualizações"
   ]
  },
  {
   "cell_type": "markdown",
   "id": "b4c5e077",
   "metadata": {},
   "source": [
    "#### 3.1. Pareto"
   ]
  },
  {
   "cell_type": "code",
   "execution_count": null,
   "id": "44e16fbf",
   "metadata": {},
   "outputs": [],
   "source": [
    "def millions(x, pos):\n",
    "    'The two args are the value and tick position'\n",
    "    return '$ %1.1fM' % (x * 1e-6)\n",
    "\n",
    "def addlabels(x,y):\n",
    "    for i in range(len(x)):\n",
    "        plt.text(i, y[i]/2, y[i], ha = 'center')\n",
    "\n",
    "# estilo bmh\n",
    "plt.style.use(\"bmh\")\n",
    "fig, ax = plt.subplots()\n",
    "# cria um segundo grafico que compartilha o eixo X mas tem o eixo Y independente\n",
    "ax2 = ax.twinx()\n",
    "# estrutura dos gráficos\n",
    "ax.bar(pareto['zipcode'],pareto['profit'],color=\"C0\")\n",
    "ax2.plot(pareto['zipcode'],pareto['perc_acumulado'],color='C4',marker=\"o\")\n",
    "# arrumando eixo y coluna\n",
    "ax.set_ylabel(\"Lucro por região\", color=\"C0\")\n",
    "ax.tick_params(axis=\"y\", labelcolor=\"C0\")\n",
    "# arrumando eixo y linha\n",
    "ax2.set_ylabel(\"Percentual\", color=\"C4\")\n",
    "ax2.tick_params(axis=\"y\", labelcolor=\"C4\")\n",
    "# formatar percentual\n",
    "ax.yaxis.set_major_formatter(mtick.FuncFormatter(millions))\n",
    "ax2.yaxis.set_major_formatter(mtick.PercentFormatter(1))\n",
    "# rotacao eixo x\n",
    "ax.tick_params(axis=\"x\", rotation=90)\n",
    "\n",
    "for i, percentual in enumerate(pareto['perc_acumulado']):\n",
    "    if i < 25:\n",
    "        ax2.annotate(f\"{percentual:.0%}\", (i, percentual), textcoords=\"offset points\", xytext=(0, 20), ha=\"center\", color=\"C4\", fontweight=\"bold\")\n",
    "    else:\n",
    "        if i%2 == 1:\n",
    "            ax2.annotate(f\"{percentual:.0%}\", (i, percentual), textcoords=\"offset points\", xytext=(10, -20), ha=\"center\", color=\"C4\", fontweight=\"bold\")\n",
    "        else:\n",
    "            ax2.annotate(f\"{percentual:.0%}\", (i, percentual), textcoords=\"offset points\", xytext=(0, 10), ha=\"center\", color=\"C4\", fontweight=\"bold\")\n",
    "\n",
    "for i, profit in enumerate(pareto['profit']):\n",
    "    if i < 38:\n",
    "        ax.annotate(f\"${profit*1e-6:1.1f}M\", (i, profit), textcoords=\"offset points\", xytext=(0, -40), ha=\"center\", rotation=90, color=\"white\", fontweight=\"bold\")\n",
    "    else:\n",
    "        ax.annotate(f\"${profit*1e-6:1.1f}M\", (i, profit), textcoords=\"offset points\", xytext=(0, 10), ha=\"center\", rotation=90, color=\"C0\", fontweight=\"bold\")        \n",
    "\n",
    "ax.grid(False)\n",
    "ax2.grid(True)\n",
    "\n",
    "plt.show()"
   ]
  },
  {
   "cell_type": "markdown",
   "id": "c1ff7827",
   "metadata": {},
   "source": [
    "#### 3.2. Filtros"
   ]
  },
  {
   "cell_type": "code",
   "execution_count": null,
   "id": "6cf9f458",
   "metadata": {},
   "outputs": [],
   "source": [
    "f_filters = widgets.Checkbox(\n",
    "    value=True,\n",
    "    description='Select all',\n",
    "    disabled=False,\n",
    "    indent=True\n",
    ")\n",
    "\n",
    "f_zipcode = widgets.Dropdown(\n",
    "    options = data['zipcode'].sort_values().unique().tolist(),\n",
    "    description = 'Region',\n",
    "    disable = False\n",
    ")"
   ]
  },
  {
   "cell_type": "markdown",
   "id": "fcac49b4",
   "metadata": {},
   "source": [
    "#### 3.3. Imóveis para compra/revenda"
   ]
  },
  {
   "cell_type": "code",
   "execution_count": null,
   "id": "ec546951",
   "metadata": {},
   "outputs": [],
   "source": [
    "mapdata = data[['id','lat','long','zipcode','buy','season','price','sell_price','profit']].copy()\n",
    "mapdata.columns=[i.capitalize().replace('_',' ') for i in mapdata.columns]\n",
    "mapdata['Season'] = mapdata['Season'].apply(lambda x: x.capitalize())\n",
    "mapdata['Price'] = mapdata['Price'].apply(lambda x: f\"${x*1e-3:1.1f}K\")\n",
    "mapdata['Sell price'] = mapdata['Sell price'].apply(lambda x: f\"${x*1e-3:1.1f}K\" if x != 0 else f\"${x}\")\n",
    "mapdata['size'] = mapdata['Profit'].apply(lambda x: int(data.loc[data['profit']!=0,'profit'].min()*.7) if x == 0 else int(x))\n",
    "mapdata['Profit'] = mapdata['Profit'].apply(lambda x: f\"${x*1e-3:1.1f}K\" if x != 0 else f\"${x}\")"
   ]
  },
  {
   "cell_type": "code",
   "execution_count": null,
   "id": "0ef26ef0",
   "metadata": {
    "ExecuteTime": {
     "end_time": "2022-01-15T01:41:06.432840Z",
     "start_time": "2022-01-15T01:41:06.420907Z"
    }
   },
   "outputs": [],
   "source": [
    "def make_map( mapdata = pd.DataFrame, filter_region = list, filter_clear = bool ) -> None: \n",
    "    \"\"\"\n",
    "    \"\"\"\n",
    "    \n",
    "    #if mapdata == None:\n",
    "\n",
    "\n",
    "    if filter_clear:\n",
    "        mapdata\n",
    "    else:\n",
    "        mapdata = mapdata.loc[mapdata['Zipcode']==filter_region]\n",
    "    \n",
    "    _map = px.scatter_mapbox( mapdata,\n",
    "                              lat='Lat',\n",
    "                              lon='Long',                            \n",
    "                              color='Buy',\n",
    "                              color_discrete_sequence=['#999999','#0F3D6E'],\n",
    "                              zoom=10,\n",
    "                              size='size',\n",
    "                              hover_data={'Id': True,\n",
    "                                          'Lat': False,\n",
    "                                          'Long': False,\n",
    "                                          'Zipcode': True,\n",
    "                                          'Buy': False,\n",
    "                                          'Season': True,\n",
    "                                          'Price': True,\n",
    "                                          'Sell price': True,\n",
    "                                          'Profit': True}\n",
    "                            )\n",
    "    _map.update_layout(mapbox_style='carto-positron')\n",
    "    _map.update_layout(height=600, margin = {'r':0,'t':0,'l':0,'b':0})\n",
    "    _map.show()\n",
    "    \n",
    "    return None"
   ]
  },
  {
   "cell_type": "code",
   "execution_count": null,
   "id": "30e764de",
   "metadata": {
    "ExecuteTime": {
     "end_time": "2022-01-15T01:41:16.366254Z",
     "start_time": "2022-01-15T01:41:15.695712Z"
    }
   },
   "outputs": [],
   "source": [
    "interact( make_map, mapdata=fixed(mapdata), filter_region=f_zipcode, filter_clear=f_filters );"
   ]
  }
 ],
 "metadata": {
  "hide_input": false,
  "kernelspec": {
   "display_name": "Python 3.9.12 ('houserocketsales')",
   "language": "python",
   "name": "python3"
  },
  "language_info": {
   "codemirror_mode": {
    "name": "ipython",
    "version": 3
   },
   "file_extension": ".py",
   "mimetype": "text/x-python",
   "name": "python",
   "nbconvert_exporter": "python",
   "pygments_lexer": "ipython3",
   "version": "3.12.4"
  },
  "vscode": {
   "interpreter": {
    "hash": "77bb0ab7f87f92e3b172b507f52e427f3f6cc921fca61a15ecb6888f90254f12"
   }
  }
 },
 "nbformat": 4,
 "nbformat_minor": 5
}
