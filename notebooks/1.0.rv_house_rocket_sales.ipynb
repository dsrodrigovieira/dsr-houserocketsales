{
 "cells": [
  {
   "cell_type": "markdown",
   "id": "8397a9a5",
   "metadata": {},
   "source": [
    "# Projeto de Insights"
   ]
  },
  {
   "cell_type": "markdown",
   "id": "2c3a02d9",
   "metadata": {},
   "source": [
    "## 1. Objetivo"
   ]
  },
  {
   "cell_type": "markdown",
   "id": "a254a6cd",
   "metadata": {},
   "source": [
    "- Gerar insight através da análise e manipulação dos dados para auxiliar a tomada de decisão do time de negócio\n"
   ]
  },
  {
   "cell_type": "markdown",
   "id": "0257a6b5",
   "metadata": {},
   "source": [
    "## 2. Metodologia"
   ]
  },
  {
   "cell_type": "markdown",
   "id": "e5d9a403",
   "metadata": {},
   "source": [
    "### 2.1. Problema de negócio"
   ]
  },
  {
   "cell_type": "markdown",
   "id": "94ea051f",
   "metadata": {},
   "source": [
    "- Quais são os imóveis que a House Rocket deveria comprar e por qual preço\n",
    "- Uma vez que o imóvel foi comprado, qual o melhor momento para revendê-lo e por qual preço"
   ]
  },
  {
   "cell_type": "markdown",
   "id": "b4bb8563",
   "metadata": {},
   "source": [
    "### 2.2. Planejamento da solução"
   ]
  },
  {
   "cell_type": "markdown",
   "id": "fc61085f",
   "metadata": {
    "ExecuteTime": {
     "end_time": "2022-01-14T22:17:48.606788Z",
     "start_time": "2022-01-14T22:17:48.413489Z"
    }
   },
   "source": [
    "- **Saída:**\n",
    "    - Reposta:\n",
    "        - Filtrar os imóveis com preço de custo abaixo da média da região.\n",
    "        - Calcular a margem para revenda em função do preço de custo e a sazonalidade.\n",
    "    - Entrega:\n",
    "        - Dashboard interativo.\n",
    "    - Local:\n",
    "        - Plataforma cloud.  \n",
    "    \n",
    "- **Processo:**\n",
    "    - Etapas:\n",
    "        - Agrupar os dados por região.\n",
    "        - Encontrar a mediana do preço de custo dos imóveis.\n",
    "        - Identificar os imóveis que estão abaixo do preço mediano de cada região e que estejam em boas condições.\n",
    "        - Coletar os dados de localização dos imóveis.\n",
    "        - Agrupar os dados por estação do ano.\n",
    "        - Definir o preço de revenda:\n",
    "            - Se o preço de compra for maior que a mediana da região/sazonalidade, considerar uma margem de 10%.\n",
    "            - Se o preço de compra for menor que a mediana da região/sazonalidade, considerar uma margem de 30%.\n",
    "    - Formato da entrega:\n",
    "        - Gráfico de dispersão indicando quais imóveis estão elegíveis para aquisição.\n",
    "        - Tabela com os imóveis sugeridos para compra com os seguintes dados: código do imóvel, região, endereço, preço de custo, preço de venda sugerido, lucro previsto.\n",
    "        - Mapa com a localização dos imóveis da tabela.\n",
    "        - Filtro para selecionar uma região ou todas.\n",
    "    - Local da entrega:\n",
    "        - URL\n",
    "\n",
    "- **Entrada:**\n",
    "    - Fonte de dados:\n",
    "        - Site Kaggle\n",
    "    - Ferramentas:\n",
    "        - Python\n",
    "        - Streamlit framework\n",
    "        - Heroku cloud\n",
    "        - VSCode\n",
    "        - Jupyter Notebook"
   ]
  },
  {
   "cell_type": "markdown",
   "id": "931c428e",
   "metadata": {},
   "source": [
    "## 3. Execução da solução"
   ]
  },
  {
   "cell_type": "markdown",
   "id": "17c26a79",
   "metadata": {},
   "source": [
    "**Bibliotecas e parâmetros**"
   ]
  },
  {
   "cell_type": "code",
   "execution_count": 3,
   "id": "31d0c30d",
   "metadata": {
    "ExecuteTime": {
     "end_time": "2022-01-15T19:54:50.385704Z",
     "start_time": "2022-01-15T19:54:49.006767Z"
    }
   },
   "outputs": [],
   "source": [
    "import pandas as pd\n",
    "import numpy as np\n",
    "import seaborn as sns\n",
    "import plotly.express as px\n",
    "import geopy.geocoders\n",
    "import plotly.graph_objects as go\n",
    "import ipywidgets as widgets\n",
    "from ipywidgets import fixed, interact, interact_manual\n",
    "\n",
    "from matplotlib import pyplot as plt\n",
    "from geopy.geocoders import Nominatim\n",
    "\n",
    "# definindo formato de exibição dos números decimais\n",
    "pd.set_option('display.float_format', lambda x: '%.2f' % x)\n",
    "\n",
    "# definindo tamanho de exibição dos gráficos\n",
    "plt.rcParams['figure.figsize'] = [ 20, 10 ]"
   ]
  },
  {
   "cell_type": "markdown",
   "id": "628207b1",
   "metadata": {},
   "source": [
    "**Coleta dos dados**"
   ]
  },
  {
   "cell_type": "code",
   "execution_count": 4,
   "id": "cf246465",
   "metadata": {
    "ExecuteTime": {
     "end_time": "2022-01-15T19:54:52.905633Z",
     "start_time": "2022-01-15T19:54:52.837381Z"
    }
   },
   "outputs": [
    {
     "data": {
      "text/html": [
       "<div>\n",
       "<style scoped>\n",
       "    .dataframe tbody tr th:only-of-type {\n",
       "        vertical-align: middle;\n",
       "    }\n",
       "\n",
       "    .dataframe tbody tr th {\n",
       "        vertical-align: top;\n",
       "    }\n",
       "\n",
       "    .dataframe thead th {\n",
       "        text-align: right;\n",
       "    }\n",
       "</style>\n",
       "<table border=\"1\" class=\"dataframe\">\n",
       "  <thead>\n",
       "    <tr style=\"text-align: right;\">\n",
       "      <th></th>\n",
       "      <th>id</th>\n",
       "      <th>date</th>\n",
       "      <th>price</th>\n",
       "      <th>bedrooms</th>\n",
       "      <th>bathrooms</th>\n",
       "      <th>sqft_living</th>\n",
       "      <th>sqft_lot</th>\n",
       "      <th>floors</th>\n",
       "      <th>waterfront</th>\n",
       "      <th>view</th>\n",
       "      <th>...</th>\n",
       "      <th>grade</th>\n",
       "      <th>sqft_above</th>\n",
       "      <th>sqft_basement</th>\n",
       "      <th>yr_built</th>\n",
       "      <th>yr_renovated</th>\n",
       "      <th>zipcode</th>\n",
       "      <th>lat</th>\n",
       "      <th>long</th>\n",
       "      <th>sqft_living15</th>\n",
       "      <th>sqft_lot15</th>\n",
       "    </tr>\n",
       "  </thead>\n",
       "  <tbody>\n",
       "    <tr>\n",
       "      <th>0</th>\n",
       "      <td>7129300520</td>\n",
       "      <td>20141013T000000</td>\n",
       "      <td>221900.00</td>\n",
       "      <td>3</td>\n",
       "      <td>1.00</td>\n",
       "      <td>1180</td>\n",
       "      <td>5650</td>\n",
       "      <td>1.00</td>\n",
       "      <td>0</td>\n",
       "      <td>0</td>\n",
       "      <td>...</td>\n",
       "      <td>7</td>\n",
       "      <td>1180</td>\n",
       "      <td>0</td>\n",
       "      <td>1955</td>\n",
       "      <td>0</td>\n",
       "      <td>98178</td>\n",
       "      <td>47.51</td>\n",
       "      <td>-122.26</td>\n",
       "      <td>1340</td>\n",
       "      <td>5650</td>\n",
       "    </tr>\n",
       "    <tr>\n",
       "      <th>1</th>\n",
       "      <td>6414100192</td>\n",
       "      <td>20141209T000000</td>\n",
       "      <td>538000.00</td>\n",
       "      <td>3</td>\n",
       "      <td>2.25</td>\n",
       "      <td>2570</td>\n",
       "      <td>7242</td>\n",
       "      <td>2.00</td>\n",
       "      <td>0</td>\n",
       "      <td>0</td>\n",
       "      <td>...</td>\n",
       "      <td>7</td>\n",
       "      <td>2170</td>\n",
       "      <td>400</td>\n",
       "      <td>1951</td>\n",
       "      <td>1991</td>\n",
       "      <td>98125</td>\n",
       "      <td>47.72</td>\n",
       "      <td>-122.32</td>\n",
       "      <td>1690</td>\n",
       "      <td>7639</td>\n",
       "    </tr>\n",
       "    <tr>\n",
       "      <th>2</th>\n",
       "      <td>5631500400</td>\n",
       "      <td>20150225T000000</td>\n",
       "      <td>180000.00</td>\n",
       "      <td>2</td>\n",
       "      <td>1.00</td>\n",
       "      <td>770</td>\n",
       "      <td>10000</td>\n",
       "      <td>1.00</td>\n",
       "      <td>0</td>\n",
       "      <td>0</td>\n",
       "      <td>...</td>\n",
       "      <td>6</td>\n",
       "      <td>770</td>\n",
       "      <td>0</td>\n",
       "      <td>1933</td>\n",
       "      <td>0</td>\n",
       "      <td>98028</td>\n",
       "      <td>47.74</td>\n",
       "      <td>-122.23</td>\n",
       "      <td>2720</td>\n",
       "      <td>8062</td>\n",
       "    </tr>\n",
       "    <tr>\n",
       "      <th>3</th>\n",
       "      <td>2487200875</td>\n",
       "      <td>20141209T000000</td>\n",
       "      <td>604000.00</td>\n",
       "      <td>4</td>\n",
       "      <td>3.00</td>\n",
       "      <td>1960</td>\n",
       "      <td>5000</td>\n",
       "      <td>1.00</td>\n",
       "      <td>0</td>\n",
       "      <td>0</td>\n",
       "      <td>...</td>\n",
       "      <td>7</td>\n",
       "      <td>1050</td>\n",
       "      <td>910</td>\n",
       "      <td>1965</td>\n",
       "      <td>0</td>\n",
       "      <td>98136</td>\n",
       "      <td>47.52</td>\n",
       "      <td>-122.39</td>\n",
       "      <td>1360</td>\n",
       "      <td>5000</td>\n",
       "    </tr>\n",
       "    <tr>\n",
       "      <th>4</th>\n",
       "      <td>1954400510</td>\n",
       "      <td>20150218T000000</td>\n",
       "      <td>510000.00</td>\n",
       "      <td>3</td>\n",
       "      <td>2.00</td>\n",
       "      <td>1680</td>\n",
       "      <td>8080</td>\n",
       "      <td>1.00</td>\n",
       "      <td>0</td>\n",
       "      <td>0</td>\n",
       "      <td>...</td>\n",
       "      <td>8</td>\n",
       "      <td>1680</td>\n",
       "      <td>0</td>\n",
       "      <td>1987</td>\n",
       "      <td>0</td>\n",
       "      <td>98074</td>\n",
       "      <td>47.62</td>\n",
       "      <td>-122.05</td>\n",
       "      <td>1800</td>\n",
       "      <td>7503</td>\n",
       "    </tr>\n",
       "  </tbody>\n",
       "</table>\n",
       "<p>5 rows × 21 columns</p>\n",
       "</div>"
      ],
      "text/plain": [
       "           id             date     price  bedrooms  bathrooms  sqft_living  \\\n",
       "0  7129300520  20141013T000000 221900.00         3       1.00         1180   \n",
       "1  6414100192  20141209T000000 538000.00         3       2.25         2570   \n",
       "2  5631500400  20150225T000000 180000.00         2       1.00          770   \n",
       "3  2487200875  20141209T000000 604000.00         4       3.00         1960   \n",
       "4  1954400510  20150218T000000 510000.00         3       2.00         1680   \n",
       "\n",
       "   sqft_lot  floors  waterfront  view  ...  grade  sqft_above  sqft_basement  \\\n",
       "0      5650    1.00           0     0  ...      7        1180              0   \n",
       "1      7242    2.00           0     0  ...      7        2170            400   \n",
       "2     10000    1.00           0     0  ...      6         770              0   \n",
       "3      5000    1.00           0     0  ...      7        1050            910   \n",
       "4      8080    1.00           0     0  ...      8        1680              0   \n",
       "\n",
       "   yr_built  yr_renovated  zipcode   lat    long  sqft_living15  sqft_lot15  \n",
       "0      1955             0    98178 47.51 -122.26           1340        5650  \n",
       "1      1951          1991    98125 47.72 -122.32           1690        7639  \n",
       "2      1933             0    98028 47.74 -122.23           2720        8062  \n",
       "3      1965             0    98136 47.52 -122.39           1360        5000  \n",
       "4      1987             0    98074 47.62 -122.05           1800        7503  \n",
       "\n",
       "[5 rows x 21 columns]"
      ]
     },
     "execution_count": 4,
     "metadata": {},
     "output_type": "execute_result"
    }
   ],
   "source": [
    "# dados dos imóveis em King County\n",
    "raw_data = pd.read_csv('../data/raw/kc_house_data.csv')\n",
    "raw_data.head()"
   ]
  },
  {
   "cell_type": "code",
   "execution_count": 6,
   "id": "dead594c",
   "metadata": {
    "ExecuteTime": {
     "end_time": "2022-01-15T19:55:00.875164Z",
     "start_time": "2022-01-15T19:55:00.868183Z"
    }
   },
   "outputs": [
    {
     "data": {
      "text/plain": [
       "id                 int64\n",
       "date              object\n",
       "price            float64\n",
       "bedrooms           int64\n",
       "bathrooms        float64\n",
       "sqft_living        int64\n",
       "sqft_lot           int64\n",
       "floors           float64\n",
       "waterfront         int64\n",
       "view               int64\n",
       "condition          int64\n",
       "grade              int64\n",
       "sqft_above         int64\n",
       "sqft_basement      int64\n",
       "yr_built           int64\n",
       "yr_renovated       int64\n",
       "zipcode            int64\n",
       "lat              float64\n",
       "long             float64\n",
       "sqft_living15      int64\n",
       "sqft_lot15         int64\n",
       "dtype: object"
      ]
     },
     "execution_count": 6,
     "metadata": {},
     "output_type": "execute_result"
    }
   ],
   "source": [
    "raw_data.dtypes"
   ]
  },
  {
   "cell_type": "markdown",
   "id": "4165b1e1",
   "metadata": {},
   "source": [
    "**Transformação dos dados**"
   ]
  },
  {
   "cell_type": "code",
   "execution_count": 5,
   "id": "86b1c2b3",
   "metadata": {
    "ExecuteTime": {
     "end_time": "2022-01-15T19:55:10.929899Z",
     "start_time": "2022-01-15T19:55:10.891762Z"
    }
   },
   "outputs": [],
   "source": [
    "# corrigindo tipagem dos dados\n",
    "raw_data['date'] = pd.to_datetime(raw_data['date'],format='%Y-%m-%d')\n",
    "raw_data['bathrooms'] = raw_data['bathrooms'].astype('int64')\n",
    "raw_data['floors'] = raw_data['floors'].astype('int64')\n",
    "\n",
    "# removendo atributos que não agregam à solução do problema\n",
    "raw_data = raw_data.drop(columns=['sqft_living15','sqft_lot15'])\n",
    "\n",
    "# removendo registros duplicados\n",
    "raw_data = raw_data.drop_duplicates(subset='id')"
   ]
  },
  {
   "cell_type": "markdown",
   "id": "26c4b219",
   "metadata": {},
   "source": [
    "**Análise Descritiva**"
   ]
  },
  {
   "cell_type": "code",
   "execution_count": 6,
   "id": "bbef5123",
   "metadata": {
    "ExecuteTime": {
     "end_time": "2022-01-15T19:55:14.753350Z",
     "start_time": "2022-01-15T19:55:14.694158Z"
    }
   },
   "outputs": [
    {
     "data": {
      "text/html": [
       "<div>\n",
       "<style scoped>\n",
       "    .dataframe tbody tr th:only-of-type {\n",
       "        vertical-align: middle;\n",
       "    }\n",
       "\n",
       "    .dataframe tbody tr th {\n",
       "        vertical-align: top;\n",
       "    }\n",
       "\n",
       "    .dataframe thead th {\n",
       "        text-align: right;\n",
       "    }\n",
       "</style>\n",
       "<table border=\"1\" class=\"dataframe\">\n",
       "  <thead>\n",
       "    <tr style=\"text-align: right;\">\n",
       "      <th></th>\n",
       "      <th>attributes</th>\n",
       "      <th>min</th>\n",
       "      <th>max</th>\n",
       "      <th>average</th>\n",
       "      <th>median</th>\n",
       "      <th>std</th>\n",
       "    </tr>\n",
       "  </thead>\n",
       "  <tbody>\n",
       "    <tr>\n",
       "      <th>0</th>\n",
       "      <td>id</td>\n",
       "      <td>1000102.00</td>\n",
       "      <td>9900000190.00</td>\n",
       "      <td>4580765328.18</td>\n",
       "      <td>3904921185.00</td>\n",
       "      <td>2876522535.73</td>\n",
       "    </tr>\n",
       "    <tr>\n",
       "      <th>1</th>\n",
       "      <td>price</td>\n",
       "      <td>75000.00</td>\n",
       "      <td>7700000.00</td>\n",
       "      <td>540529.29</td>\n",
       "      <td>450000.00</td>\n",
       "      <td>367680.72</td>\n",
       "    </tr>\n",
       "    <tr>\n",
       "      <th>2</th>\n",
       "      <td>bedrooms</td>\n",
       "      <td>0.00</td>\n",
       "      <td>33.00</td>\n",
       "      <td>3.37</td>\n",
       "      <td>3.00</td>\n",
       "      <td>0.93</td>\n",
       "    </tr>\n",
       "    <tr>\n",
       "      <th>3</th>\n",
       "      <td>bathrooms</td>\n",
       "      <td>0.00</td>\n",
       "      <td>8.00</td>\n",
       "      <td>1.75</td>\n",
       "      <td>2.00</td>\n",
       "      <td>0.73</td>\n",
       "    </tr>\n",
       "    <tr>\n",
       "      <th>4</th>\n",
       "      <td>sqft_living</td>\n",
       "      <td>290.00</td>\n",
       "      <td>13540.00</td>\n",
       "      <td>2082.70</td>\n",
       "      <td>1920.00</td>\n",
       "      <td>919.13</td>\n",
       "    </tr>\n",
       "    <tr>\n",
       "      <th>5</th>\n",
       "      <td>sqft_lot</td>\n",
       "      <td>520.00</td>\n",
       "      <td>1651359.00</td>\n",
       "      <td>15135.64</td>\n",
       "      <td>7614.00</td>\n",
       "      <td>41537.65</td>\n",
       "    </tr>\n",
       "    <tr>\n",
       "      <th>6</th>\n",
       "      <td>floors</td>\n",
       "      <td>1.00</td>\n",
       "      <td>3.00</td>\n",
       "      <td>1.45</td>\n",
       "      <td>1.00</td>\n",
       "      <td>0.55</td>\n",
       "    </tr>\n",
       "    <tr>\n",
       "      <th>7</th>\n",
       "      <td>waterfront</td>\n",
       "      <td>0.00</td>\n",
       "      <td>1.00</td>\n",
       "      <td>0.01</td>\n",
       "      <td>0.00</td>\n",
       "      <td>0.09</td>\n",
       "    </tr>\n",
       "    <tr>\n",
       "      <th>8</th>\n",
       "      <td>view</td>\n",
       "      <td>0.00</td>\n",
       "      <td>4.00</td>\n",
       "      <td>0.24</td>\n",
       "      <td>0.00</td>\n",
       "      <td>0.77</td>\n",
       "    </tr>\n",
       "    <tr>\n",
       "      <th>9</th>\n",
       "      <td>condition</td>\n",
       "      <td>1.00</td>\n",
       "      <td>5.00</td>\n",
       "      <td>3.41</td>\n",
       "      <td>3.00</td>\n",
       "      <td>0.65</td>\n",
       "    </tr>\n",
       "    <tr>\n",
       "      <th>10</th>\n",
       "      <td>grade</td>\n",
       "      <td>1.00</td>\n",
       "      <td>13.00</td>\n",
       "      <td>7.66</td>\n",
       "      <td>7.00</td>\n",
       "      <td>1.17</td>\n",
       "    </tr>\n",
       "    <tr>\n",
       "      <th>11</th>\n",
       "      <td>sqft_above</td>\n",
       "      <td>290.00</td>\n",
       "      <td>9410.00</td>\n",
       "      <td>1790.96</td>\n",
       "      <td>1560.00</td>\n",
       "      <td>829.01</td>\n",
       "    </tr>\n",
       "    <tr>\n",
       "      <th>12</th>\n",
       "      <td>sqft_basement</td>\n",
       "      <td>0.00</td>\n",
       "      <td>4820.00</td>\n",
       "      <td>291.74</td>\n",
       "      <td>0.00</td>\n",
       "      <td>442.77</td>\n",
       "    </tr>\n",
       "    <tr>\n",
       "      <th>13</th>\n",
       "      <td>yr_built</td>\n",
       "      <td>1900.00</td>\n",
       "      <td>2015.00</td>\n",
       "      <td>1971.10</td>\n",
       "      <td>1975.00</td>\n",
       "      <td>29.38</td>\n",
       "    </tr>\n",
       "    <tr>\n",
       "      <th>14</th>\n",
       "      <td>yr_renovated</td>\n",
       "      <td>0.00</td>\n",
       "      <td>2015.00</td>\n",
       "      <td>84.73</td>\n",
       "      <td>0.00</td>\n",
       "      <td>402.42</td>\n",
       "    </tr>\n",
       "    <tr>\n",
       "      <th>15</th>\n",
       "      <td>zipcode</td>\n",
       "      <td>98001.00</td>\n",
       "      <td>98199.00</td>\n",
       "      <td>98077.86</td>\n",
       "      <td>98065.00</td>\n",
       "      <td>53.47</td>\n",
       "    </tr>\n",
       "    <tr>\n",
       "      <th>16</th>\n",
       "      <td>lat</td>\n",
       "      <td>47.16</td>\n",
       "      <td>47.78</td>\n",
       "      <td>47.56</td>\n",
       "      <td>47.57</td>\n",
       "      <td>0.14</td>\n",
       "    </tr>\n",
       "    <tr>\n",
       "      <th>17</th>\n",
       "      <td>long</td>\n",
       "      <td>-122.52</td>\n",
       "      <td>-121.31</td>\n",
       "      <td>-122.21</td>\n",
       "      <td>-122.23</td>\n",
       "      <td>0.14</td>\n",
       "    </tr>\n",
       "  </tbody>\n",
       "</table>\n",
       "</div>"
      ],
      "text/plain": [
       "       attributes        min           max       average        median  \\\n",
       "0              id 1000102.00 9900000190.00 4580765328.18 3904921185.00   \n",
       "1           price   75000.00    7700000.00     540529.29     450000.00   \n",
       "2        bedrooms       0.00         33.00          3.37          3.00   \n",
       "3       bathrooms       0.00          8.00          1.75          2.00   \n",
       "4     sqft_living     290.00      13540.00       2082.70       1920.00   \n",
       "5        sqft_lot     520.00    1651359.00      15135.64       7614.00   \n",
       "6          floors       1.00          3.00          1.45          1.00   \n",
       "7      waterfront       0.00          1.00          0.01          0.00   \n",
       "8            view       0.00          4.00          0.24          0.00   \n",
       "9       condition       1.00          5.00          3.41          3.00   \n",
       "10          grade       1.00         13.00          7.66          7.00   \n",
       "11     sqft_above     290.00       9410.00       1790.96       1560.00   \n",
       "12  sqft_basement       0.00       4820.00        291.74          0.00   \n",
       "13       yr_built    1900.00       2015.00       1971.10       1975.00   \n",
       "14   yr_renovated       0.00       2015.00         84.73          0.00   \n",
       "15        zipcode   98001.00      98199.00      98077.86      98065.00   \n",
       "16            lat      47.16         47.78         47.56         47.57   \n",
       "17           long    -122.52       -121.31       -122.21       -122.23   \n",
       "\n",
       "             std  \n",
       "0  2876522535.73  \n",
       "1      367680.72  \n",
       "2           0.93  \n",
       "3           0.73  \n",
       "4         919.13  \n",
       "5       41537.65  \n",
       "6           0.55  \n",
       "7           0.09  \n",
       "8           0.77  \n",
       "9           0.65  \n",
       "10          1.17  \n",
       "11        829.01  \n",
       "12        442.77  \n",
       "13         29.38  \n",
       "14        402.42  \n",
       "15         53.47  \n",
       "16          0.14  \n",
       "17          0.14  "
      ]
     },
     "execution_count": 6,
     "metadata": {},
     "output_type": "execute_result"
    }
   ],
   "source": [
    "# separando dados de tipos numéricos\n",
    "num_attributes = raw_data.select_dtypes(include=['int64','float64'])\n",
    "\n",
    "# definindo medidas de dispersão e tendencia central\n",
    "max_ = pd.DataFrame(num_attributes.apply(np.max))\n",
    "min_ = pd.DataFrame(num_attributes.apply(np.min))\n",
    "avg = pd.DataFrame(num_attributes.apply(np.mean))\n",
    "median = pd.DataFrame(num_attributes.apply(np.median))\n",
    "std = pd.DataFrame(num_attributes.apply(np.std))\n",
    "\n",
    "# unindo resultados\n",
    "descriptive_analysis = pd.concat([min_,max_,avg,median,std], axis=1).reset_index()\n",
    "descriptive_analysis.columns = ['attributes','min','max','average','median','std']\n",
    "\n",
    "descriptive_analysis"
   ]
  },
  {
   "cell_type": "markdown",
   "id": "4629ddea",
   "metadata": {},
   "source": [
    "**Limpeza dos dados**"
   ]
  },
  {
   "cell_type": "code",
   "execution_count": 7,
   "id": "a1dd377c",
   "metadata": {
    "ExecuteTime": {
     "end_time": "2022-01-15T19:55:22.150773Z",
     "start_time": "2022-01-15T19:55:22.114873Z"
    }
   },
   "outputs": [],
   "source": [
    "# correção de outlier\n",
    "'''\n",
    "assumo que o registro com 33 quartos é um erro de digitação,\n",
    "considerando que os valores de preço, sala de estar, terreno\n",
    "e numero de banheiros estão na média dos imóveis de 3 quartos\n",
    "'''\n",
    "raw_data[raw_data['bedrooms'].isin([3,33])]\n",
    "\n",
    "price = raw_data[raw_data['bedrooms']==3]['price'].mean()\n",
    "sqft_lot = raw_data[raw_data['bedrooms']==3]['sqft_lot'].mean()\n",
    "sqft_living = raw_data[raw_data['bedrooms']==3]['sqft_living'].mean()\n",
    "bath = raw_data[raw_data['bedrooms']==3]['bathrooms'].mean()\n",
    "\n",
    "raw_data.loc[raw_data['bedrooms']==33,'bedrooms'] = 3"
   ]
  },
  {
   "cell_type": "markdown",
   "id": "d98f0e73",
   "metadata": {
    "heading_collapsed": true
   },
   "source": [
    "##### Levantamento de hipóteses"
   ]
  },
  {
   "cell_type": "code",
   "execution_count": 14,
   "id": "cc291340",
   "metadata": {
    "ExecuteTime": {
     "end_time": "2022-01-15T01:31:23.221867Z",
     "start_time": "2022-01-15T01:31:22.980535Z"
    },
    "hidden": true
   },
   "outputs": [
    {
     "name": "stdout",
     "output_type": "stream",
     "text": [
      "Verdadeiro. O valor dos imóveis com vista para a água apresentam variação de 207.45% em relação à média geral\n"
     ]
    },
    {
     "data": {
      "image/png": "[encoded data removed]",
      "text/plain": [
       "<Figure size 1440x720 with 1 Axes>"
      ]
     },
     "metadata": {
      "needs_background": "light"
     },
     "output_type": "display_data"
    }
   ],
   "source": [
    "# H1: Imóveis com vista para água são 20% mais caros que a média\n",
    "\n",
    "_all = raw_data['price'].mean()\n",
    "w_water = raw_data[raw_data['waterfront']==1]['price'].mean()\n",
    "df_h1 = pd.DataFrame({'attribute': ['geral','waterfront'], 'valor_medio': [_all, w_water]})\n",
    "df_h1['pct'] = df_h1['valor_medio'].pct_change()\n",
    "result = ''\n",
    "if df_h1.loc[1,'valor_medio'] > df_h1.loc[0,'valor_medio']:\n",
    "    result = 'Verdadeiro'\n",
    "else: 'Falso'\n",
    "\n",
    "print('{:}. O valor dos imóveis com vista para a água apresentam variação de {:.2f}% em relação à média geral'.format(result, df_h1.loc[1,'pct']*100))\n",
    "sns.barplot(data=df_h1, x='attribute', y='valor_medio');"
   ]
  },
  {
   "cell_type": "code",
   "execution_count": 15,
   "id": "09f26bb3",
   "metadata": {
    "ExecuteTime": {
     "end_time": "2022-01-15T01:37:29.920788Z",
     "start_time": "2022-01-15T01:37:29.808091Z"
    },
    "hidden": true
   },
   "outputs": [
    {
     "name": "stdout",
     "output_type": "stream",
     "text": [
      "Diferenca percentual: -0.44%\n"
     ]
    },
    {
     "data": {
      "image/png": "[encoded data removed]",
      "text/plain": [
       "<Figure size 1440x720 with 1 Axes>"
      ]
     },
     "metadata": {
      "needs_background": "light"
     },
     "output_type": "display_data"
    }
   ],
   "source": [
    "## H2: Imóveis com data de construção menor que 1955 são 50% mais baratos na média\n",
    "\n",
    "_all = raw_data['price'].mean()\n",
    "older_1955 = raw_data[raw_data['yr_built'] < 1955]['price'].mean()\n",
    "df_h2 = pd.DataFrame({'attribute': ['media_geral','older_1995'], 'mean': [_all, older_1955]})\n",
    "df_h2['pct'] = df_h2['mean'].pct_change()\n",
    "\n",
    "print('Diferenca percentual: {:.2f}%'.format(df_h2.loc[1,'pct']*100))\n",
    "sns.barplot(data=df_h2, x='attribute', y='mean');"
   ]
  },
  {
   "cell_type": "code",
   "execution_count": 16,
   "id": "09592934",
   "metadata": {
    "ExecuteTime": {
     "end_time": "2022-01-15T01:36:24.327406Z",
     "start_time": "2022-01-15T01:36:24.193765Z"
    },
    "hidden": true
   },
   "outputs": [
    {
     "name": "stdout",
     "output_type": "stream",
     "text": [
      "Verdadeiro. A diferença percentual da área total dos imóveis sem porão em relação aos imóveis com porão é de 22.79%\n"
     ]
    },
    {
     "data": {
      "image/png": "[encoded data removed]",
      "text/plain": [
       "<Figure size 1440x720 with 1 Axes>"
      ]
     },
     "metadata": {
      "needs_background": "light"
     },
     "output_type": "display_data"
    }
   ],
   "source": [
    "# H3: Imóveis sem porão são, em media, 40% maiores do que os imóveis com porão\n",
    "\n",
    "sem_porao = raw_data[raw_data['sqft_basement']==0]['sqft_lot'].mean()\n",
    "com_porao = raw_data[raw_data['sqft_basement']!=0]['sqft_lot'].mean()\n",
    "df_h3 = pd.DataFrame({'attribute': ['com_porao','sem_porao'], 'mean_sqft_lot': [com_porao, sem_porao]})\n",
    "df_h3['pct'] = df_h3['mean_sqft_lot'].pct_change()\n",
    "result = ''\n",
    "if df_h3.loc[0,'mean_sqft_lot'] < df_h3.loc[1,'mean_sqft_lot']:\n",
    "    result = 'Verdadeiro'\n",
    "else: result = 'Falso'\n",
    "\n",
    "print('{:}. A diferença percentual da área total dos imóveis sem porão em relação aos imóveis com porão é de {:.2f}%'.format(result, df_h3.loc[1,'pct']*100))\n",
    "sns.barplot(data=df_h3, x='attribute', y='mean_sqft_lot');"
   ]
  },
  {
   "cell_type": "code",
   "execution_count": 17,
   "id": "0d61831d",
   "metadata": {
    "ExecuteTime": {
     "end_time": "2022-01-15T01:36:26.920534Z",
     "start_time": "2022-01-15T01:36:26.594628Z"
    },
    "hidden": true
   },
   "outputs": [
    {
     "name": "stdout",
     "output_type": "stream",
     "text": [
      "Falso. A variação percentual do valor médio dos imóveis ano a ano é de 0.70%\n"
     ]
    },
    {
     "data": {
      "image/png": "[encoded data removed]",
      "text/plain": [
       "<Figure size 1440x720 with 1 Axes>"
      ]
     },
     "metadata": {
      "needs_background": "light"
     },
     "output_type": "display_data"
    }
   ],
   "source": [
    "# H4: Crescimento do preço dos imóveis Yoy é de 10%\n",
    "\n",
    "raw_data['year'] = pd.to_datetime(raw_data['date']).dt.strftime('%Y')\n",
    "df_h4 = raw_data[['year','price']].groupby('year').mean().reset_index()\n",
    "df_h4 = df_h4.rename(columns={'price': 'mean'})\n",
    "df_h4['pct'] = df_h4['mean'].pct_change()\n",
    "result = ''\n",
    "if df_h4.loc[1,'mean'] == 0.1:\n",
    "    result = 'Verdadeiro'\n",
    "else: result = 'Falso'\n",
    "    \n",
    "print('{:}. A variação percentual do valor médio dos imóveis ano a ano é de {:.2f}%'.format(result, df_h4.loc[1,'pct']*100))\n",
    "sns.barplot(data=df_h4, x='year', y='mean');"
   ]
  },
  {
   "cell_type": "code",
   "execution_count": 18,
   "id": "998a310f",
   "metadata": {
    "ExecuteTime": {
     "end_time": "2022-01-15T01:36:31.082425Z",
     "start_time": "2022-01-15T01:36:30.606627Z"
    },
    "hidden": true
   },
   "outputs": [
    {
     "data": {
      "image/png": "[encoded data removed]",
      "text/plain": [
       "<Figure size 1440x720 with 1 Axes>"
      ]
     },
     "metadata": {},
     "output_type": "display_data"
    }
   ],
   "source": [
    "## H5: Imóveis com 3 banheiros tem um crescimento MoM de 15%\n",
    "\n",
    "df_h5 = raw_data.loc[raw_data['bathrooms']==3,:].copy()\n",
    "df_h5['yr_m'] = raw_data['date'].dt.strftime('%Y-%m')\n",
    "df_h5 = df_h5[['yr_m','price']].groupby('yr_m').sum().reset_index()\n",
    "df_h5 = df_h5.rename(columns={'price': 'mean'})\n",
    "df_h5['pct'] = df_h5['mean'].pct_change()\n",
    "df_h5['variacao'] = df_h5['pct'].apply(lambda x: 'positivo' if x>0 else 'negativo')\n",
    "\n",
    "sns.set_style('darkgrid')\n",
    "color = ['red','green']\n",
    "p = sns.barplot(data=df_h5, x='yr_m', y='pct', hue='variacao', palette=color);\n",
    "plt.xticks(rotation=45);"
   ]
  },
  {
   "cell_type": "code",
   "execution_count": 19,
   "id": "e5a64b1c",
   "metadata": {
    "ExecuteTime": {
     "end_time": "2022-01-15T01:36:34.285387Z",
     "start_time": "2022-01-15T01:36:34.156732Z"
    },
    "hidden": true
   },
   "outputs": [
    {
     "name": "stdout",
     "output_type": "stream",
     "text": [
      "Diferenca percentual: 15.18%\n"
     ]
    },
    {
     "data": {
      "image/png": "[encoded data removed]",
      "text/plain": [
       "<Figure size 1440x720 with 1 Axes>"
      ]
     },
     "metadata": {},
     "output_type": "display_data"
    }
   ],
   "source": [
    "## H6: Imóveis com sótão são 20% mais caros do que imóveis com porão\n",
    "\n",
    "above = raw_data.loc[raw_data['sqft_above']>0,'price'].mean()\n",
    "basement = raw_data.loc[raw_data['sqft_basement']>0,'price'].mean()\n",
    "df_h6 = pd.DataFrame([['above',above],['basement',basement]],columns=['attribute','mean'])\n",
    "df_h6['pct'] = df_h6['mean'].pct_change()\n",
    "\n",
    "print('Diferenca percentual: {:.2f}%'.format(df_h6.loc[1,'pct']*100))\n",
    "sns.barplot(data=df_h6, x='attribute', y='mean');"
   ]
  },
  {
   "cell_type": "code",
   "execution_count": 20,
   "id": "2409cecd",
   "metadata": {
    "ExecuteTime": {
     "end_time": "2022-01-15T01:37:42.124076Z",
     "start_time": "2022-01-15T01:37:41.982420Z"
    },
    "hidden": true
   },
   "outputs": [
    {
     "name": "stdout",
     "output_type": "stream",
     "text": [
      "Verdadeiro. A diferença da média do valor dos imóveis antigos reformados em relação aos imóveis novos é de 23.15%\n"
     ]
    },
    {
     "data": {
      "image/png": "[encoded data removed]",
      "text/plain": [
       "<Figure size 1440x720 with 1 Axes>"
      ]
     },
     "metadata": {},
     "output_type": "display_data"
    }
   ],
   "source": [
    "# H7: Imóveis antigos reformados são 30% mais caros do que imóveis novos\n",
    "    #imóvel antigo = ano de construção anterior a 2000\n",
    "\n",
    "old = raw_data.loc[(raw_data['yr_renovated']>0) & (raw_data['yr_built'].between(1,2000)),'price'].mean()\n",
    "new = raw_data.loc[(raw_data['yr_renovated']==0) & (raw_data['yr_built']>=2000),'price'].mean()\n",
    "df_h7 = pd.DataFrame([['new',new],['old_renovated',old]],columns=['attribute','mean'])\n",
    "df_h7['pct'] = df_h7['mean'].pct_change()\n",
    "result = ''\n",
    "if df_h7.loc[1,'mean'] > df_h7.loc[0,'mean']:\n",
    "    result = 'Verdadeiro'\n",
    "else: result = 'Falso'\n",
    "    \n",
    "print('{:}. A diferença da média do valor dos imóveis antigos reformados em relação aos imóveis novos é de {:.2f}%'.format(result, df_h7.loc[1,'pct']*100))\n",
    "sns.barplot(data=df_h7, x='attribute', y='mean');"
   ]
  },
  {
   "cell_type": "code",
   "execution_count": 21,
   "id": "47a32808",
   "metadata": {
    "ExecuteTime": {
     "end_time": "2022-01-15T01:37:44.710286Z",
     "start_time": "2022-01-15T01:37:44.582626Z"
    },
    "hidden": true
   },
   "outputs": [
    {
     "name": "stdout",
     "output_type": "stream",
     "text": [
      "Diferenca percentual: -58.19%\n"
     ]
    },
    {
     "data": {
      "image/png": "[encoded data removed]",
      "text/plain": [
       "<Figure size 1440x720 with 1 Axes>"
      ]
     },
     "metadata": {},
     "output_type": "display_data"
    }
   ],
   "source": [
    "# H8: Imóveis com vista pra água tem um crescimento YoY de 20%\n",
    "df_h8 = raw_data[raw_data['waterfront']==1].copy()\n",
    "df_h8 = df_h8[['year','price']].groupby('year').sum().reset_index()\n",
    "df_h8 = df_h8.rename(columns={'price': 'mean'})\n",
    "df_h8['pct'] = df_h8['mean'].pct_change()\n",
    "\n",
    "print('Diferenca percentual: {:.2f}%'.format(df_h8.loc[1,'pct']*100))\n",
    "sns.barplot(data=df_h8, x='year', y='mean');"
   ]
  },
  {
   "cell_type": "code",
   "execution_count": 22,
   "id": "19e0a72b",
   "metadata": {
    "ExecuteTime": {
     "end_time": "2022-01-15T01:37:47.035262Z",
     "start_time": "2022-01-15T01:37:46.907612Z"
    },
    "hidden": true
   },
   "outputs": [
    {
     "name": "stdout",
     "output_type": "stream",
     "text": [
      "Diferenca percentual: 24.23%\n"
     ]
    },
    {
     "data": {
      "image/png": "[encoded data removed]",
      "text/plain": [
       "<Figure size 1440x720 with 1 Axes>"
      ]
     },
     "metadata": {},
     "output_type": "display_data"
    }
   ],
   "source": [
    "# H9: Imóveis com mais de 3 quartos são 30% mais caros que a média\n",
    "\n",
    "_3more = raw_data.loc[raw_data['bedrooms']>3,'price'].mean()\n",
    "_all = raw_data['price'].mean()\n",
    "df_h9 = pd.DataFrame([['all',_all],['3more',_3more]],columns=['attribute','mean'])\n",
    "df_h9['pct'] = df_h9['mean'].pct_change()\n",
    "\n",
    "print('Diferenca percentual: {:.2f}%'.format(df_h9.loc[1,'pct']*100))\n",
    "sns.barplot(data=df_h9, x='attribute', y='mean');"
   ]
  },
  {
   "cell_type": "code",
   "execution_count": 23,
   "id": "30217de1",
   "metadata": {
    "ExecuteTime": {
     "end_time": "2022-01-15T01:37:49.918804Z",
     "start_time": "2022-01-15T01:37:49.794805Z"
    },
    "hidden": true
   },
   "outputs": [
    {
     "name": "stdout",
     "output_type": "stream",
     "text": [
      "Diferenca percentual: -16.22%\n"
     ]
    },
    {
     "data": {
      "image/png": "[encoded data removed]",
      "text/plain": [
       "<Figure size 1440x720 with 1 Axes>"
      ]
     },
     "metadata": {},
     "output_type": "display_data"
    }
   ],
   "source": [
    "# H10: Imóveis em boas condições com 1 andar são 20% mais caros que a média\n",
    "\n",
    "raw_data['condition_type'] = raw_data['condition'].apply(lambda x: 'bad' if x <= 2 else 'regular' if x in([3,4]) else 'good' )\n",
    "good1f = raw_data.loc[(raw_data['floors']==1)&(raw_data['condition_type']=='regular'),'price'].mean()\n",
    "all = raw_data['price'].mean()\n",
    "df_h0 = pd.DataFrame([['all',all],['good1f',good1f]], columns=['attribute','mean'])\n",
    "df_h0['pct'] = df_h0['mean'].pct_change()\n",
    "\n",
    "print('Diferenca percentual: {:.2f}%'.format(df_h0.loc[1,'pct']*100))\n",
    "sns.barplot(data=df_h0, x='attribute', y='mean');"
   ]
  },
  {
   "cell_type": "markdown",
   "id": "685a9840",
   "metadata": {},
   "source": [
    "##### Construção do algoritmo da solução"
   ]
  },
  {
   "cell_type": "markdown",
   "id": "d847f18d",
   "metadata": {},
   "source": [
    "**Engenharia de atributos**"
   ]
  },
  {
   "cell_type": "code",
   "execution_count": 8,
   "id": "32a5dc8b",
   "metadata": {
    "ExecuteTime": {
     "end_time": "2022-01-15T19:55:26.669544Z",
     "start_time": "2022-01-15T19:55:26.487836Z"
    }
   },
   "outputs": [],
   "source": [
    "#new attributes\n",
    "data = raw_data.copy()\n",
    "\n",
    "data['sn_compra'] = 'NA'\n",
    "data['condition_type'] = 'NA'\n",
    "\n",
    "data['sell_price'] = 0.0\n",
    "data['profit'] = 0.0\n",
    "data['month'] = data['date'].dt.strftime('%m').astype('int64')\n",
    "data['season'] = data['month'].apply(lambda x: 'winter' if x in(12,1,2) else\n",
    "                                               'spring' if x in(3,4,5) else\n",
    "                                               'summer' if x in(6,7,8) else 'fall' )\n",
    "data['sn_compra'] = data['sn_compra'].astype('string')\n",
    "data['condition_type'] = data['condition_type'].astype('string')\n",
    "data['condition_type'] = data['condition'].apply(lambda x: 'good' if x==5 else 'regular' if x in(3,4) else 'bad')\n",
    "data['season'] = data['season'].astype('string')\n",
    "\n",
    "# definindo mediana do custo por região\n",
    "regional_median = data[['zipcode','price']].groupby('zipcode').median().reset_index().copy()\n",
    "regional_median.columns = ['zipcode','regional_median']\n",
    "regional_median.to_csv('../data/interim/regional_median.csv',index=False)\n",
    "\n",
    "# definindo mediana do custo por região/estação\n",
    "season_median = data[['price','zipcode','season']].groupby(['zipcode','season']).median('price')\n",
    "season_region_median = season_median.rename(columns={'price': 'season_median'}).reset_index(drop=False)\n",
    "season_region_median.to_csv('../data/interim/season_region_median.csv',index=False)"
   ]
  },
  {
   "cell_type": "markdown",
   "id": "6f41a223",
   "metadata": {},
   "source": [
    "**Criando filtros**"
   ]
  },
  {
   "cell_type": "code",
   "execution_count": 9,
   "id": "c6f7c495",
   "metadata": {
    "ExecuteTime": {
     "end_time": "2022-01-15T01:38:00.044856Z",
     "start_time": "2022-01-15T01:38:00.019887Z"
    }
   },
   "outputs": [],
   "source": [
    "f_zipcode = widgets.Dropdown(\n",
    "    options = data['zipcode'].sort_values().unique().tolist(),\n",
    "    description = 'Zipcode',\n",
    "    disable = False\n",
    ")\n",
    "\n",
    "f_filters = widgets.Checkbox(\n",
    "    value=False,\n",
    "    description='Disable filter',\n",
    "    disabled=False,\n",
    "    indent=False\n",
    ")"
   ]
  },
  {
   "cell_type": "markdown",
   "id": "988ab1fe",
   "metadata": {
    "ExecuteTime": {
     "end_time": "2022-01-15T01:14:17.692078Z",
     "start_time": "2022-01-15T01:14:17.677112Z"
    }
   },
   "source": [
    "**Definição dos imóveis para compra**"
   ]
  },
  {
   "cell_type": "code",
   "execution_count": 10,
   "id": "0dc01ba8",
   "metadata": {
    "ExecuteTime": {
     "end_time": "2022-01-15T19:55:31.060506Z",
     "start_time": "2022-01-15T19:55:30.671218Z"
    }
   },
   "outputs": [],
   "source": [
    "# adicionando a mediana regional para cada imóvel\n",
    "purchase = pd.merge(data,regional_median,how='left',on='zipcode').copy()\n",
    "\n",
    "purchase['sn_compra'] = purchase.apply(\n",
    "    lambda x: 'y' if (x['price'] < x['regional_median']) & (x['condition_type']=='good') else 'n',\n",
    "    axis=1 )\n",
    "\n",
    "purchase_list = purchase.drop(columns=['bedrooms', 'bathrooms', 'sqft_living', 'sqft_lot', 'floors', 'waterfront',\n",
    "                                  'view', 'condition', 'grade', 'sqft_above', 'sqft_basement', 'yr_built',\n",
    "                                  'yr_renovated', 'month'])\n",
    "\n",
    "purchase_list.to_csv('../data/processed/purchase_list.csv',index=False)                                  "
   ]
  },
  {
   "cell_type": "markdown",
   "id": "caa5f7c8",
   "metadata": {},
   "source": [
    "**Coleta dos dados de geolocalização dos imóveis elegíveis**"
   ]
  },
  {
   "cell_type": "code",
   "execution_count": null,
   "id": "73a3982f",
   "metadata": {
    "ExecuteTime": {
     "end_time": "2022-01-15T19:45:09.916940Z",
     "start_time": "2022-01-15T19:39:17.670885Z"
    }
   },
   "outputs": [],
   "source": [
    "# dados de geolocalização\n",
    "\n",
    "geolocation = purchase_list.loc[purchase_list['sn_compra'] == 'y'][['id', 'lat', 'long']].copy().reset_index( drop=True )\n",
    "geolocator = Nominatim( user_agent='geoapiExercises' )\n",
    "geolocation['street'] = 'NA'\n",
    "geolocation['house_num'] = 'NA'\n",
    "geolocation['city'] = 'NA'\n",
    "geolocation['neighbourhood'] = 'NA'\n",
    "geolocation['state'] = 'NA'\n",
    "\n",
    "for i in range( len( geolocation ) ):\n",
    "    query = str( geolocation.loc[i, 'lat'] ) + ',' + str( geolocation.loc[i, 'long'] )\n",
    "    response = geolocator.reverse( query, timeout=10000 )\n",
    "    response = pd.json_normalize( response.raw['address'] )\n",
    "    geolocation.iloc[i, 3] = response.apply( lambda x: x['road'] if 'road' in response.columns else 'NA', axis = 1 )    \n",
    "    geolocation.iloc[i, 4] = response.apply( lambda x: x['house_number'] if 'house_number' in response.columns else 'NA', axis = 1 )\n",
    "    geolocation.iloc[i, 5] = response.apply( lambda x: x['city'] if 'city' in response.columns else 'NA', axis = 1 )\n",
    "    geolocation.iloc[i, 6] = response.apply( lambda x: x['neighbourhood'] if 'neighbourhood' in response.columns else\n",
    "                                                       x['county'] if 'county' in response.columns else 'NA', axis = 1 )\n",
    "    geolocation.iloc[i, 7] = response.apply( lambda x: x['state'] if 'state' in response.columns else 'NA', axis = 1 )\n",
    "geolocation['address'] = geolocation['street'] + ', ' + geolocation['house_num']\n",
    "\n",
    "geolocation.to_csv('../data/processed/geoloc.csv', index=False)"
   ]
  },
  {
   "cell_type": "code",
   "execution_count": 11,
   "id": "704fa6bd",
   "metadata": {},
   "outputs": [],
   "source": [
    "geolocation = pd.read_csv('../data/processed/geoloc.csv')"
   ]
  },
  {
   "cell_type": "markdown",
   "id": "4a1a81d8",
   "metadata": {},
   "source": [
    "**Definição do preço de revenda**"
   ]
  },
  {
   "cell_type": "code",
   "execution_count": null,
   "id": "bafdb0f4",
   "metadata": {
    "ExecuteTime": {
     "end_time": "2022-01-15T18:46:39.085857Z",
     "start_time": "2022-01-15T18:46:38.429983Z"
    }
   },
   "outputs": [],
   "source": [
    "sell = pd.merge(purchase_list,season_region_median,how='inner',on=['zipcode'])\n",
    "sell = sell.loc[sell['sn_compra'] == 'y']\n",
    "sell['sell_price'] = sell.apply(lambda x: x['price'] * 1.3 if x['price'] < x['season_median'] else x['price'] * 1.1, axis=1)\n",
    "sell['diff_price'] = sell.apply(lambda x: np.sqrt((x['sell_price']-x['season_median'])**2),axis=1)\n",
    "\n",
    "aux = sell[['id','diff_price']].groupby('id').min().reset_index(drop=False)\n",
    "aux['sn_vende'] = 'y'\n",
    "\n",
    "sell = pd.merge(sell,aux,how='left',on=['id','diff_price']).drop_duplicates(subset=['id','diff_price'])\n",
    "sell = sell.loc[sell['sn_vende']=='y']\n",
    "\n",
    "sell['profit'] = sell['sell_price'] - sell['price']\n",
    "\n",
    "sell = sell.drop(columns=['date','sn_compra','condition_type','regional_median','season_x','season_median','diff_price','sn_vende'])\n",
    "\n",
    "sell_list = pd.merge(sell,geolocation[['id','address','neighbourhood','city']],how='left',on='id').rename(columns={'season_y':'season'})\n",
    "\n",
    "sell_list.to_csv('../data/processed/sell_list.csv',index=False)"
   ]
  },
  {
   "cell_type": "code",
   "execution_count": 44,
   "id": "bafdb0f4",
   "metadata": {
    "ExecuteTime": {
     "end_time": "2022-01-15T18:46:39.085857Z",
     "start_time": "2022-01-15T18:46:38.429983Z"
    }
   },
   "outputs": [
    {
     "data": {
      "text/plain": [
       "72079180.8"
      ]
     },
     "execution_count": 44,
     "metadata": {},
     "output_type": "execute_result"
    }
   ],
   "source": [
    "# lucro total\n",
    "sell_list = pd.read_csv('../data/processed/sell_list.csv')\n",
    "sell_list['profit'].sum()"
   ]
  },
  {
   "cell_type": "code",
   "execution_count": 43,
   "id": "59b37877",
   "metadata": {},
   "outputs": [
    {
     "data": {
      "text/html": [
       "<div>\n",
       "<style scoped>\n",
       "    .dataframe tbody tr th:only-of-type {\n",
       "        vertical-align: middle;\n",
       "    }\n",
       "\n",
       "    .dataframe tbody tr th {\n",
       "        vertical-align: top;\n",
       "    }\n",
       "\n",
       "    .dataframe thead th {\n",
       "        text-align: right;\n",
       "    }\n",
       "</style>\n",
       "<table border=\"1\" class=\"dataframe\">\n",
       "  <thead>\n",
       "    <tr style=\"text-align: right;\">\n",
       "      <th></th>\n",
       "      <th>zipcode</th>\n",
       "      <th>id</th>\n",
       "    </tr>\n",
       "  </thead>\n",
       "  <tbody>\n",
       "    <tr>\n",
       "      <th>0</th>\n",
       "      <td>98042</td>\n",
       "      <td>49</td>\n",
       "    </tr>\n",
       "  </tbody>\n",
       "</table>\n",
       "</div>"
      ],
      "text/plain": [
       "   zipcode  id\n",
       "0    98042  49"
      ]
     },
     "execution_count": 43,
     "metadata": {},
     "output_type": "execute_result"
    }
   ],
   "source": [
    "# top3 regions with more available houses to sell\n",
    "sell_list[['id','zipcode']].groupby('zipcode').count().sort_values('id',ascending=False).head(1).reset_index()"
   ]
  },
  {
   "cell_type": "code",
   "execution_count": 42,
   "id": "f10b9b45",
   "metadata": {},
   "outputs": [
    {
     "data": {
      "text/html": [
       "<div>\n",
       "<style scoped>\n",
       "    .dataframe tbody tr th:only-of-type {\n",
       "        vertical-align: middle;\n",
       "    }\n",
       "\n",
       "    .dataframe tbody tr th {\n",
       "        vertical-align: top;\n",
       "    }\n",
       "\n",
       "    .dataframe thead th {\n",
       "        text-align: right;\n",
       "    }\n",
       "</style>\n",
       "<table border=\"1\" class=\"dataframe\">\n",
       "  <thead>\n",
       "    <tr style=\"text-align: right;\">\n",
       "      <th></th>\n",
       "      <th>zipcode</th>\n",
       "      <th>profit</th>\n",
       "    </tr>\n",
       "  </thead>\n",
       "  <tbody>\n",
       "    <tr>\n",
       "      <th>0</th>\n",
       "      <td>98006</td>\n",
       "      <td>6816570.0</td>\n",
       "    </tr>\n",
       "  </tbody>\n",
       "</table>\n",
       "</div>"
      ],
      "text/plain": [
       "   zipcode     profit\n",
       "0    98006  6816570.0"
      ]
     },
     "execution_count": 42,
     "metadata": {},
     "output_type": "execute_result"
    }
   ],
   "source": [
    "# top3 most valuable regions\n",
    "sell_list[['profit','zipcode']].groupby('zipcode').sum().sort_values('profit',ascending=False).head(1).reset_index()"
   ]
  },
  {
   "cell_type": "code",
   "execution_count": 39,
   "metadata": {},
   "outputs": [
    {
     "data": {
      "text/html": [
       "<div>\n",
       "<style scoped>\n",
       "    .dataframe tbody tr th:only-of-type {\n",
       "        vertical-align: middle;\n",
       "    }\n",
       "\n",
       "    .dataframe tbody tr th {\n",
       "        vertical-align: top;\n",
       "    }\n",
       "\n",
       "    .dataframe thead th {\n",
       "        text-align: right;\n",
       "    }\n",
       "</style>\n",
       "<table border=\"1\" class=\"dataframe\">\n",
       "  <thead>\n",
       "    <tr style=\"text-align: right;\">\n",
       "      <th></th>\n",
       "      <th>season</th>\n",
       "      <th>zipcode</th>\n",
       "      <th>profit</th>\n",
       "    </tr>\n",
       "  </thead>\n",
       "  <tbody>\n",
       "    <tr>\n",
       "      <th>0</th>\n",
       "      <td>fall</td>\n",
       "      <td>98006</td>\n",
       "      <td>3100530.0</td>\n",
       "    </tr>\n",
       "    <tr>\n",
       "      <th>1</th>\n",
       "      <td>spring</td>\n",
       "      <td>98004</td>\n",
       "      <td>2408160.0</td>\n",
       "    </tr>\n",
       "    <tr>\n",
       "      <th>2</th>\n",
       "      <td>summer</td>\n",
       "      <td>98006</td>\n",
       "      <td>3362040.0</td>\n",
       "    </tr>\n",
       "    <tr>\n",
       "      <th>3</th>\n",
       "      <td>winter</td>\n",
       "      <td>98117</td>\n",
       "      <td>1405035.0</td>\n",
       "    </tr>\n",
       "  </tbody>\n",
       "</table>\n",
       "</div>"
      ],
      "text/plain": [
       "   season  zipcode     profit\n",
       "0    fall    98006  3100530.0\n",
       "1  spring    98004  2408160.0\n",
       "2  summer    98006  3362040.0\n",
       "3  winter    98117  1405035.0"
      ]
     },
     "execution_count": 39,
     "metadata": {},
     "output_type": "execute_result"
    }
   ],
   "source": [
    "# most valuable regions per season\n",
    "a = sell_list[['profit','zipcode','season']].groupby(['season','zipcode']).sum().sort_values(['season','profit'],ascending=False).reset_index()\n",
    "b = sell_list[['profit','zipcode','season']].groupby(['season','zipcode']).sum().groupby('season').max().reset_index()\n",
    "pd.merge(a,b,how='right', on=['season','profit'])"
   ]
  },
  {
   "cell_type": "markdown",
   "id": "8c7d63ca",
   "metadata": {},
   "source": [
    "**Visualização dos imóveis para compra**"
   ]
  },
  {
   "cell_type": "code",
   "execution_count": 151,
   "id": "c03156f2",
   "metadata": {
    "ExecuteTime": {
     "end_time": "2022-01-15T01:39:10.480988Z",
     "start_time": "2022-01-15T01:39:10.471014Z"
    }
   },
   "outputs": [],
   "source": [
    "def data_viz( df, region ):\n",
    "    plot = df[df['zipcode']==region][['id','price','zipcode','regional_median','condition_type','sn_compra']]\n",
    "    plot['color'] = plot['sn_compra'].apply(lambda x: 'lightgray' if x == 'n' else 'blue')\n",
    "     \n",
    "    fig = go.Figure()\n",
    "    \n",
    "    # Add traces\n",
    "    fig.add_trace(go.Scatter(y=plot['price'], \n",
    "                        marker_color=plot['color'],\n",
    "                        mode='markers',\n",
    "                        text='ID: '+plot['id'].astype('string')+' | Region: '+plot['zipcode'].astype('string')+' | Condition: ' + plot['condition_type'] + ' | Price: US$' + plot['price'].astype('string'),\n",
    "                        name='Imovel'))\n",
    "\n",
    "    fig.add_trace(go.Scatter(y=plot['regional_median'],\n",
    "                        mode='lines',\n",
    "                        text='Region: '+plot['zipcode'].astype('string')+' | Median: US$' + plot['regional_median'].astype('string'),\n",
    "                        name='Mediana Regional'))\n",
    "    \n",
    "    fig.update_layout(\n",
    "        xaxis_title=\"Houses\",\n",
    "        yaxis_title=\"Aquisition cost\",\n",
    "        font=dict( color=\"#000000\" )\n",
    "    )\n",
    "\n",
    "    fig.show()\n",
    "    \n",
    "    return None"
   ]
  },
  {
   "cell_type": "code",
   "execution_count": 152,
   "id": "04c66076",
   "metadata": {
    "ExecuteTime": {
     "end_time": "2022-01-15T01:40:30.015183Z",
     "start_time": "2022-01-15T01:40:29.508966Z"
    }
   },
   "outputs": [
    {
     "data": {
      "application/vnd.plotly.v1+json": {
       "config": {
        "plotlyServerURL": "https://plot.ly"
       },
       "data": [
        {
         "marker": {
          "color": [
           "lightgray",
           "lightgray",
           "lightgray",
           "lightgray",
           "lightgray",
           "lightgray",
           "lightgray",
           "blue",
           "lightgray",
           "lightgray",
           "lightgray",
           "lightgray",
           "lightgray",
           "lightgray",
           "lightgray",
           "lightgray",
           "lightgray",
           "blue",
           "lightgray",
           "lightgray",
           "lightgray",
           "lightgray",
           "lightgray",
           "lightgray",
           "lightgray",
           "lightgray",
           "lightgray",
           "lightgray",
           "lightgray",
           "lightgray",
           "lightgray",
           "lightgray",
           "lightgray",
           "lightgray",
           "lightgray",
           "lightgray",
           "lightgray",
           "lightgray",
           "lightgray",
           "lightgray",
           "lightgray",
           "blue",
           "lightgray",
           "lightgray",
           "lightgray",
           "lightgray",
           "lightgray",
           "lightgray",
           "lightgray",
           "lightgray",
           "blue",
           "lightgray",
           "lightgray",
           "lightgray",
           "lightgray",
           "lightgray",
           "lightgray",
           "lightgray",
           "lightgray",
           "lightgray",
           "lightgray",
           "lightgray",
           "lightgray",
           "lightgray",
           "lightgray",
           "lightgray",
           "blue",
           "lightgray",
           "lightgray",
           "lightgray",
           "lightgray",
           "lightgray",
           "lightgray",
           "lightgray",
           "lightgray",
           "lightgray",
           "lightgray",
           "lightgray",
           "lightgray",
           "lightgray",
           "lightgray",
           "lightgray",
           "lightgray",
           "lightgray",
           "lightgray",
           "lightgray",
           "lightgray",
           "lightgray",
           "lightgray",
           "lightgray",
           "lightgray",
           "lightgray",
           "lightgray",
           "lightgray",
           "lightgray",
           "lightgray",
           "lightgray",
           "lightgray",
           "lightgray",
           "lightgray",
           "lightgray",
           "lightgray",
           "blue",
           "lightgray",
           "lightgray",
           "lightgray",
           "lightgray",
           "lightgray",
           "lightgray",
           "lightgray",
           "lightgray",
           "lightgray",
           "lightgray",
           "lightgray",
           "lightgray",
           "lightgray",
           "lightgray",
           "lightgray",
           "lightgray",
           "lightgray",
           "lightgray",
           "lightgray",
           "lightgray",
           "lightgray",
           "lightgray",
           "lightgray",
           "blue",
           "lightgray",
           "lightgray",
           "lightgray",
           "lightgray",
           "lightgray",
           "lightgray",
           "lightgray",
           "lightgray",
           "lightgray",
           "lightgray",
           "blue",
           "lightgray",
           "lightgray",
           "lightgray",
           "lightgray",
           "lightgray",
           "lightgray",
           "lightgray",
           "lightgray",
           "lightgray",
           "lightgray",
           "lightgray",
           "lightgray",
           "lightgray",
           "lightgray",
           "lightgray",
           "lightgray",
           "lightgray",
           "lightgray",
           "lightgray",
           "lightgray",
           "lightgray",
           "lightgray",
           "lightgray",
           "lightgray",
           "lightgray",
           "lightgray",
           "lightgray",
           "lightgray",
           "lightgray",
           "lightgray",
           "lightgray",
           "lightgray",
           "lightgray",
           "lightgray",
           "lightgray",
           "lightgray",
           "blue",
           "lightgray",
           "lightgray",
           "lightgray",
           "lightgray",
           "lightgray",
           "lightgray",
           "lightgray",
           "lightgray",
           "lightgray",
           "blue",
           "lightgray",
           "lightgray",
           "lightgray",
           "lightgray",
           "lightgray",
           "lightgray",
           "lightgray",
           "lightgray",
           "lightgray",
           "lightgray",
           "lightgray",
           "lightgray",
           "lightgray",
           "lightgray",
           "lightgray",
           "lightgray",
           "lightgray",
           "lightgray",
           "lightgray",
           "lightgray",
           "lightgray",
           "lightgray",
           "lightgray",
           "lightgray",
           "lightgray",
           "lightgray",
           "lightgray",
           "lightgray",
           "lightgray",
           "lightgray",
           "lightgray",
           "lightgray",
           "lightgray",
           "lightgray",
           "lightgray",
           "lightgray",
           "lightgray",
           "lightgray",
           "lightgray",
           "lightgray",
           "lightgray",
           "lightgray",
           "lightgray",
           "lightgray",
           "lightgray",
           "lightgray",
           "lightgray",
           "lightgray",
           "lightgray",
           "lightgray",
           "lightgray",
           "lightgray",
           "lightgray",
           "lightgray",
           "lightgray",
           "lightgray",
           "lightgray",
           "lightgray",
           "lightgray",
           "lightgray",
           "lightgray",
           "lightgray",
           "lightgray",
           "lightgray",
           "lightgray",
           "lightgray",
           "lightgray",
           "lightgray",
           "lightgray",
           "blue",
           "lightgray",
           "lightgray",
           "lightgray",
           "lightgray",
           "lightgray",
           "lightgray",
           "lightgray",
           "lightgray",
           "lightgray",
           "lightgray",
           "lightgray",
           "lightgray",
           "lightgray",
           "lightgray",
           "lightgray",
           "lightgray",
           "lightgray",
           "lightgray",
           "lightgray",
           "lightgray",
           "lightgray",
           "lightgray",
           "lightgray",
           "lightgray",
           "lightgray",
           "lightgray",
           "lightgray",
           "lightgray",
           "lightgray",
           "lightgray",
           "lightgray",
           "lightgray",
           "lightgray",
           "lightgray",
           "lightgray",
           "lightgray",
           "lightgray",
           "lightgray",
           "lightgray",
           "lightgray",
           "lightgray",
           "lightgray",
           "lightgray",
           "lightgray",
           "lightgray",
           "lightgray",
           "lightgray",
           "lightgray",
           "lightgray",
           "lightgray",
           "lightgray",
           "blue",
           "lightgray",
           "lightgray",
           "lightgray",
           "lightgray",
           "lightgray",
           "lightgray",
           "lightgray",
           "lightgray",
           "lightgray",
           "lightgray",
           "lightgray",
           "lightgray",
           "lightgray",
           "lightgray",
           "lightgray",
           "lightgray",
           "lightgray",
           "lightgray",
           "lightgray",
           "lightgray",
           "lightgray",
           "lightgray",
           "lightgray",
           "lightgray",
           "lightgray",
           "lightgray",
           "lightgray",
           "lightgray",
           "lightgray",
           "lightgray",
           "lightgray",
           "lightgray",
           "lightgray",
           "lightgray",
           "lightgray",
           "lightgray",
           "lightgray",
           "lightgray",
           "lightgray",
           "lightgray",
           "lightgray",
           "lightgray",
           "lightgray",
           "lightgray",
           "lightgray",
           "lightgray",
           "lightgray",
           "lightgray",
           "lightgray",
           "lightgray",
           "lightgray",
           "lightgray"
          ]
         },
         "mode": "markers",
         "name": "Imovel",
         "text": [
          "ID: 7895500070 | Region: 98001 | Condition: bad | Price: US$240000.0",
          "ID: 3717000160 | Region: 98001 | Condition: regular | Price: US$287000.0",
          "ID: 8961960160 | Region: 98001 | Condition: regular | Price: US$480000.0",
          "ID: 4014400292 | Region: 98001 | Condition: regular | Price: US$465000.0",
          "ID: 1115450240 | Region: 98001 | Condition: regular | Price: US$360000.0",
          "ID: 3353400435 | Region: 98001 | Condition: regular | Price: US$230000.0",
          "ID: 9262800171 | Region: 98001 | Condition: regular | Price: US$252000.0",
          "ID: 3353401710 | Region: 98001 | Condition: good | Price: US$227950.0",
          "ID: 8159610030 | Region: 98001 | Condition: regular | Price: US$196000.0",
          "ID: 3329500060 | Region: 98001 | Condition: regular | Price: US$305000.0",
          "ID: 7967200060 | Region: 98001 | Condition: regular | Price: US$243000.0",
          "ID: 8159610060 | Region: 98001 | Condition: regular | Price: US$233000.0",
          "ID: 5066400483 | Region: 98001 | Condition: regular | Price: US$249900.0",
          "ID: 3329530200 | Region: 98001 | Condition: regular | Price: US$205000.0",
          "ID: 5462100240 | Region: 98001 | Condition: regular | Price: US$196500.0",
          "ID: 8856004730 | Region: 98001 | Condition: regular | Price: US$199950.0",
          "ID: 8001400340 | Region: 98001 | Condition: regular | Price: US$289000.0",
          "ID: 3353400860 | Region: 98001 | Condition: good | Price: US$249900.0",
          "ID: 3751600030 | Region: 98001 | Condition: regular | Price: US$100000.0",
          "ID: 4401150070 | Region: 98001 | Condition: regular | Price: US$320000.0",
          "ID: 1687000270 | Region: 98001 | Condition: regular | Price: US$267000.0",
          "ID: 3751604974 | Region: 98001 | Condition: regular | Price: US$350000.0",
          "ID: 2214800270 | Region: 98001 | Condition: regular | Price: US$355000.0",
          "ID: 1311100520 | Region: 98001 | Condition: regular | Price: US$250000.0",
          "ID: 5412100550 | Region: 98001 | Condition: regular | Price: US$355000.0",
          "ID: 5515600075 | Region: 98001 | Condition: regular | Price: US$299000.0",
          "ID: 6181430800 | Region: 98001 | Condition: regular | Price: US$330000.0",
          "ID: 3356406510 | Region: 98001 | Condition: regular | Price: US$196440.0",
          "ID: 9510930350 | Region: 98001 | Condition: regular | Price: US$429000.0",
          "ID: 5402100045 | Region: 98001 | Condition: regular | Price: US$189950.0",
          "ID: 3751602329 | Region: 98001 | Condition: regular | Price: US$215500.0",
          "ID: 3356404330 | Region: 98001 | Condition: regular | Price: US$206000.0",
          "ID: 3874000240 | Region: 98001 | Condition: regular | Price: US$210000.0",
          "ID: 8159620160 | Region: 98001 | Condition: regular | Price: US$284200.0",
          "ID: 5651500140 | Region: 98001 | Condition: regular | Price: US$272000.0",
          "ID: 7967600069 | Region: 98001 | Condition: regular | Price: US$185000.0",
          "ID: 7351000160 | Region: 98001 | Condition: regular | Price: US$332000.0",
          "ID: 3354400060 | Region: 98001 | Condition: regular | Price: US$238000.0",
          "ID: 5413200140 | Region: 98001 | Condition: regular | Price: US$213550.0",
          "ID: 5556800260 | Region: 98001 | Condition: regular | Price: US$230000.0",
          "ID: 128500260 | Region: 98001 | Condition: regular | Price: US$262000.0",
          "ID: 303000445 | Region: 98001 | Condition: good | Price: US$175000.0",
          "ID: 8856004400 | Region: 98001 | Condition: regular | Price: US$235000.0",
          "ID: 7696600240 | Region: 98001 | Condition: regular | Price: US$165000.0",
          "ID: 1687000240 | Region: 98001 | Condition: regular | Price: US$276000.0",
          "ID: 1312920060 | Region: 98001 | Condition: regular | Price: US$265000.0",
          "ID: 1687000200 | Region: 98001 | Condition: regular | Price: US$259000.0",
          "ID: 2366800055 | Region: 98001 | Condition: regular | Price: US$225000.0",
          "ID: 2595650060 | Region: 98001 | Condition: regular | Price: US$354450.0",
          "ID: 2408600160 | Region: 98001 | Condition: regular | Price: US$352000.0",
          "ID: 3750605349 | Region: 98001 | Condition: good | Price: US$210500.0",
          "ID: 3750603732 | Region: 98001 | Condition: regular | Price: US$276000.0",
          "ID: 2744000100 | Region: 98001 | Condition: regular | Price: US$299950.0",
          "ID: 3751604169 | Region: 98001 | Condition: regular | Price: US$279000.0",
          "ID: 221049191 | Region: 98001 | Condition: good | Price: US$329500.0",
          "ID: 3751600176 | Region: 98001 | Condition: regular | Price: US$196000.0",
          "ID: 3521049048 | Region: 98001 | Condition: regular | Price: US$515000.0",
          "ID: 3356407665 | Region: 98001 | Condition: regular | Price: US$180000.0",
          "ID: 2721049059 | Region: 98001 | Condition: regular | Price: US$225000.0",
          "ID: 3356403820 | Region: 98001 | Condition: regular | Price: US$115000.0",
          "ID: 5647900930 | Region: 98001 | Condition: regular | Price: US$195000.0",
          "ID: 6648760100 | Region: 98001 | Condition: regular | Price: US$299950.0",
          "ID: 3751600457 | Region: 98001 | Condition: regular | Price: US$299000.0",
          "ID: 7585000110 | Region: 98001 | Condition: regular | Price: US$201700.0",
          "ID: 5515600088 | Region: 98001 | Condition: regular | Price: US$194820.0",
          "ID: 3329510850 | Region: 98001 | Condition: regular | Price: US$286950.0",
          "ID: 1311000600 | Region: 98001 | Condition: good | Price: US$250000.0",
          "ID: 304100090 | Region: 98001 | Condition: regular | Price: US$215000.0",
          "ID: 3751603173 | Region: 98001 | Condition: regular | Price: US$212500.0",
          "ID: 3751601501 | Region: 98001 | Condition: regular | Price: US$382450.0",
          "ID: 9262800057 | Region: 98001 | Condition: bad | Price: US$269950.0",
          "ID: 1311300100 | Region: 98001 | Condition: regular | Price: US$221000.0",
          "ID: 3751606513 | Region: 98001 | Condition: regular | Price: US$263400.0",
          "ID: 4013800131 | Region: 98001 | Condition: regular | Price: US$267500.0",
          "ID: 1312200080 | Region: 98001 | Condition: regular | Price: US$224000.0",
          "ID: 6181430280 | Region: 98001 | Condition: regular | Price: US$330000.0",
          "ID: 302000545 | Region: 98001 | Condition: regular | Price: US$359000.0",
          "ID: 7237590010 | Region: 98001 | Condition: regular | Price: US$214100.0",
          "ID: 4014400190 | Region: 98001 | Condition: regular | Price: US$482000.0",
          "ID: 5647900670 | Region: 98001 | Condition: regular | Price: US$340000.0",
          "ID: 5729000080 | Region: 98001 | Condition: regular | Price: US$465000.0",
          "ID: 5412101150 | Region: 98001 | Condition: regular | Price: US$299000.0",
          "ID: 1311500020 | Region: 98001 | Condition: regular | Price: US$198000.0",
          "ID: 5556900080 | Region: 98001 | Condition: regular | Price: US$169000.0",
          "ID: 4031000290 | Region: 98001 | Condition: regular | Price: US$195000.0",
          "ID: 3329520170 | Region: 98001 | Condition: regular | Price: US$250000.0",
          "ID: 7696600020 | Region: 98001 | Condition: regular | Price: US$260000.0",
          "ID: 9262800294 | Region: 98001 | Condition: regular | Price: US$260000.0",
          "ID: 3914000095 | Region: 98001 | Condition: regular | Price: US$430000.0",
          "ID: 7967650010 | Region: 98001 | Condition: regular | Price: US$339000.0",
          "ID: 6181400470 | Region: 98001 | Condition: regular | Price: US$215000.0",
          "ID: 6085000130 | Region: 98001 | Condition: regular | Price: US$230000.0",
          "ID: 3328500250 | Region: 98001 | Condition: regular | Price: US$285000.0",
          "ID: 321049127 | Region: 98001 | Condition: regular | Price: US$277500.0",
          "ID: 2005950050 | Region: 98001 | Condition: regular | Price: US$260000.0",
          "ID: 3522049063 | Region: 98001 | Condition: regular | Price: US$639900.0",
          "ID: 2085700050 | Region: 98001 | Condition: regular | Price: US$420000.0",
          "ID: 8001210170 | Region: 98001 | Condition: regular | Price: US$275000.0",
          "ID: 2214800630 | Region: 98001 | Condition: regular | Price: US$239950.0",
          "ID: 3751605432 | Region: 98001 | Condition: regular | Price: US$239950.0",
          "ID: 3356404198 | Region: 98001 | Condition: regular | Price: US$286000.0",
          "ID: 9262800255 | Region: 98001 | Condition: regular | Price: US$280000.0",
          "ID: 321049090 | Region: 98001 | Condition: good | Price: US$254000.0",
          "ID: 5706600170 | Region: 98001 | Condition: bad | Price: US$204900.0",
          "ID: 3322049005 | Region: 98001 | Condition: bad | Price: US$850000.0",
          "ID: 7895500290 | Region: 98001 | Condition: regular | Price: US$265000.0",
          "ID: 4012800050 | Region: 98001 | Condition: regular | Price: US$175000.0",
          "ID: 304100010 | Region: 98001 | Condition: regular | Price: US$269500.0",
          "ID: 6181400920 | Region: 98001 | Condition: regular | Price: US$286651.0",
          "ID: 6084601060 | Region: 98001 | Condition: regular | Price: US$270000.0",
          "ID: 1021049022 | Region: 98001 | Condition: regular | Price: US$415000.0",
          "ID: 3329530480 | Region: 98001 | Condition: regular | Price: US$241000.0",
          "ID: 255580190 | Region: 98001 | Condition: regular | Price: US$302000.0",
          "ID: 1311200460 | Region: 98001 | Condition: regular | Price: US$265000.0",
          "ID: 7967600285 | Region: 98001 | Condition: regular | Price: US$449888.0",
          "ID: 6084600660 | Region: 98001 | Condition: regular | Price: US$263000.0",
          "ID: 8961950250 | Region: 98001 | Condition: regular | Price: US$384000.0",
          "ID: 7967200290 | Region: 98001 | Condition: regular | Price: US$190000.0",
          "ID: 6143600580 | Region: 98001 | Condition: regular | Price: US$184000.0",
          "ID: 8856004328 | Region: 98001 | Condition: regular | Price: US$255000.0",
          "ID: 4031700210 | Region: 98001 | Condition: regular | Price: US$220000.0",
          "ID: 1311400120 | Region: 98001 | Condition: regular | Price: US$160000.0",
          "ID: 303000220 | Region: 98001 | Condition: regular | Price: US$375000.0",
          "ID: 3750605620 | Region: 98001 | Condition: regular | Price: US$225000.0",
          "ID: 2214800110 | Region: 98001 | Condition: regular | Price: US$259900.0",
          "ID: 1311910300 | Region: 98001 | Condition: regular | Price: US$260000.0",
          "ID: 4463400195 | Region: 98001 | Condition: good | Price: US$170000.0",
          "ID: 6649250410 | Region: 98001 | Condition: regular | Price: US$317000.0",
          "ID: 1864940180 | Region: 98001 | Condition: regular | Price: US$335000.0",
          "ID: 2595650100 | Region: 98001 | Condition: regular | Price: US$359500.0",
          "ID: 2616700450 | Region: 98001 | Condition: regular | Price: US$248000.0",
          "ID: 3876600120 | Region: 98001 | Condition: regular | Price: US$265000.0",
          "ID: 5706600150 | Region: 98001 | Condition: regular | Price: US$215000.0",
          "ID: 3751600025 | Region: 98001 | Condition: regular | Price: US$139000.0",
          "ID: 5066400564 | Region: 98001 | Condition: regular | Price: US$199129.0",
          "ID: 1687000220 | Region: 98001 | Condition: regular | Price: US$285000.0",
          "ID: 3750607974 | Region: 98001 | Condition: regular | Price: US$280000.0",
          "ID: 3750603940 | Region: 98001 | Condition: good | Price: US$240000.0",
          "ID: 2048000330 | Region: 98001 | Condition: regular | Price: US$214000.0",
          "ID: 1687000210 | Region: 98001 | Condition: regular | Price: US$275000.0",
          "ID: 1311100490 | Region: 98001 | Condition: regular | Price: US$274000.0",
          "ID: 5556800150 | Region: 98001 | Condition: regular | Price: US$204700.0",
          "ID: 302000375 | Region: 98001 | Condition: regular | Price: US$169100.0",
          "ID: 4045700115 | Region: 98001 | Condition: regular | Price: US$370000.0",
          "ID: 4420600015 | Region: 98001 | Condition: regular | Price: US$571500.0",
          "ID: 9543000945 | Region: 98001 | Condition: regular | Price: US$182500.0",
          "ID: 3751601785 | Region: 98001 | Condition: regular | Price: US$551870.0",
          "ID: 5647900120 | Region: 98001 | Condition: regular | Price: US$250600.0",
          "ID: 3914000090 | Region: 98001 | Condition: regular | Price: US$541500.0",
          "ID: 8159620260 | Region: 98001 | Condition: regular | Price: US$303000.0",
          "ID: 4031000260 | Region: 98001 | Condition: regular | Price: US$200000.0",
          "ID: 7982600030 | Region: 98001 | Condition: regular | Price: US$219000.0",
          "ID: 2730000070 | Region: 98001 | Condition: regular | Price: US$225000.0",
          "ID: 6648770240 | Region: 98001 | Condition: regular | Price: US$360000.0",
          "ID: 3353402400 | Region: 98001 | Condition: regular | Price: US$124500.0",
          "ID: 8947250060 | Region: 98001 | Condition: regular | Price: US$292500.0",
          "ID: 1311600030 | Region: 98001 | Condition: regular | Price: US$270000.0",
          "ID: 3353404510 | Region: 98001 | Condition: regular | Price: US$305000.0",
          "ID: 2616700520 | Region: 98001 | Condition: regular | Price: US$285000.0",
          "ID: 3750603471 | Region: 98001 | Condition: regular | Price: US$239950.0",
          "ID: 1311900240 | Region: 98001 | Condition: regular | Price: US$226500.0",
          "ID: 8001450060 | Region: 98001 | Condition: regular | Price: US$370000.0",
          "ID: 8856004327 | Region: 98001 | Condition: regular | Price: US$248000.0",
          "ID: 5412100240 | Region: 98001 | Condition: regular | Price: US$340000.0",
          "ID: 7696610270 | Region: 98001 | Condition: regular | Price: US$238000.0",
          "ID: 2616700560 | Region: 98001 | Condition: regular | Price: US$250000.0",
          "ID: 1311800560 | Region: 98001 | Condition: regular | Price: US$209000.0",
          "ID: 3751602797 | Region: 98001 | Condition: regular | Price: US$411000.0",
          "ID: 3751601171 | Region: 98001 | Condition: regular | Price: US$229500.0",
          "ID: 3422049276 | Region: 98001 | Condition: regular | Price: US$310000.0",
          "ID: 3750605247 | Region: 98001 | Condition: regular | Price: US$255000.0",
          "ID: 1460900030 | Region: 98001 | Condition: regular | Price: US$280000.0",
          "ID: 5515600163 | Region: 98001 | Condition: regular | Price: US$420000.0",
          "ID: 8001100030 | Region: 98001 | Condition: regular | Price: US$256000.0",
          "ID: 7905400160 | Region: 98001 | Condition: good | Price: US$246900.0",
          "ID: 3750600566 | Region: 98001 | Condition: regular | Price: US$199950.0",
          "ID: 5530000030 | Region: 98001 | Condition: regular | Price: US$233000.0",
          "ID: 3329510200 | Region: 98001 | Condition: regular | Price: US$299900.0",
          "ID: 4031700030 | Region: 98001 | Condition: regular | Price: US$299999.0",
          "ID: 2730000270 | Region: 98001 | Condition: regular | Price: US$178500.0",
          "ID: 9262800002 | Region: 98001 | Condition: regular | Price: US$232000.0",
          "ID: 3329530030 | Region: 98001 | Condition: regular | Price: US$271920.0",
          "ID: 7696610240 | Region: 98001 | Condition: regular | Price: US$257000.0",
          "ID: 304100070 | Region: 98001 | Condition: regular | Price: US$210000.0",
          "ID: 1311000270 | Region: 98001 | Condition: good | Price: US$247000.0",
          "ID: 4031000520 | Region: 98001 | Condition: regular | Price: US$115000.0",
          "ID: 8856004582 | Region: 98001 | Condition: regular | Price: US$198000.0",
          "ID: 8856001090 | Region: 98001 | Condition: regular | Price: US$185900.0",
          "ID: 1311400350 | Region: 98001 | Condition: regular | Price: US$235000.0",
          "ID: 7895500550 | Region: 98001 | Condition: regular | Price: US$190848.0",
          "ID: 2730500140 | Region: 98001 | Condition: regular | Price: US$314950.0",
          "ID: 3750603492 | Region: 98001 | Condition: regular | Price: US$185000.0",
          "ID: 3353400120 | Region: 98001 | Condition: regular | Price: US$174000.0",
          "ID: 302000065 | Region: 98001 | Condition: regular | Price: US$184000.0",
          "ID: 2595650220 | Region: 98001 | Condition: regular | Price: US$313100.0",
          "ID: 3751600146 | Region: 98001 | Condition: regular | Price: US$166000.0",
          "ID: 3751604895 | Region: 98001 | Condition: regular | Price: US$165000.0",
          "ID: 4014400237 | Region: 98001 | Condition: regular | Price: US$132500.0",
          "ID: 7968000120 | Region: 98001 | Condition: regular | Price: US$290000.0",
          "ID: 7905400040 | Region: 98001 | Condition: regular | Price: US$206000.0",
          "ID: 7967950040 | Region: 98001 | Condition: regular | Price: US$485000.0",
          "ID: 5647900650 | Region: 98001 | Condition: regular | Price: US$500000.0",
          "ID: 4013200145 | Region: 98001 | Condition: regular | Price: US$429000.0",
          "ID: 3750605674 | Region: 98001 | Condition: regular | Price: US$270000.0",
          "ID: 9265400210 | Region: 98001 | Condition: regular | Price: US$227000.0",
          "ID: 1329500120 | Region: 98001 | Condition: regular | Price: US$300000.0",
          "ID: 3599600150 | Region: 98001 | Condition: regular | Price: US$201000.0",
          "ID: 6699300330 | Region: 98001 | Condition: regular | Price: US$372000.0",
          "ID: 5515600087 | Region: 98001 | Condition: regular | Price: US$215000.0",
          "ID: 2482500040 | Region: 98001 | Condition: regular | Price: US$199900.0",
          "ID: 1021049057 | Region: 98001 | Condition: regular | Price: US$207000.0",
          "ID: 7967900150 | Region: 98001 | Condition: regular | Price: US$367950.0",
          "ID: 3751606606 | Region: 98001 | Condition: good | Price: US$262500.0",
          "ID: 3874010220 | Region: 98001 | Condition: regular | Price: US$289000.0",
          "ID: 8001600150 | Region: 98001 | Condition: regular | Price: US$300000.0",
          "ID: 6699300210 | Region: 98001 | Condition: regular | Price: US$321500.0",
          "ID: 3329520410 | Region: 98001 | Condition: regular | Price: US$245000.0",
          "ID: 4013800206 | Region: 98001 | Condition: regular | Price: US$199000.0",
          "ID: 2460600040 | Region: 98001 | Condition: regular | Price: US$175000.0",
          "ID: 9543000205 | Region: 98001 | Condition: regular | Price: US$139950.0",
          "ID: 2154900330 | Region: 98001 | Condition: regular | Price: US$234000.0",
          "ID: 8159610150 | Region: 98001 | Condition: regular | Price: US$234950.0",
          "ID: 3353402390 | Region: 98001 | Condition: regular | Price: US$171500.0",
          "ID: 8001210120 | Region: 98001 | Condition: regular | Price: US$234500.0",
          "ID: 3422049158 | Region: 98001 | Condition: regular | Price: US$246000.0",
          "ID: 3329500730 | Region: 98001 | Condition: regular | Price: US$220000.0",
          "ID: 6143600555 | Region: 98001 | Condition: regular | Price: US$229950.0",
          "ID: 7436200040 | Region: 98001 | Condition: regular | Price: US$290000.0",
          "ID: 3750603685 | Region: 98001 | Condition: regular | Price: US$250000.0",
          "ID: 3599600276 | Region: 98001 | Condition: bad | Price: US$215500.0",
          "ID: 3421049044 | Region: 98001 | Condition: regular | Price: US$289000.0",
          "ID: 1311800220 | Region: 98001 | Condition: regular | Price: US$234950.0",
          "ID: 1311600020 | Region: 98001 | Condition: regular | Price: US$285000.0",
          "ID: 3751606785 | Region: 98001 | Condition: regular | Price: US$335000.0",
          "ID: 6306100190 | Region: 98001 | Condition: regular | Price: US$220000.0",
          "ID: 2595650170 | Region: 98001 | Condition: regular | Price: US$367300.0",
          "ID: 9264000010 | Region: 98001 | Condition: regular | Price: US$535000.0",
          "ID: 3717000250 | Region: 98001 | Condition: regular | Price: US$321000.0",
          "ID: 3353400840 | Region: 98001 | Condition: regular | Price: US$230000.0",
          "ID: 8001600130 | Region: 98001 | Condition: regular | Price: US$289950.0",
          "ID: 5412100920 | Region: 98001 | Condition: regular | Price: US$250000.0",
          "ID: 3876500290 | Region: 98001 | Condition: regular | Price: US$175000.0",
          "ID: 4012800010 | Region: 98001 | Condition: good | Price: US$360000.0",
          "ID: 3422049088 | Region: 98001 | Condition: regular | Price: US$389000.0",
          "ID: 8856000545 | Region: 98001 | Condition: regular | Price: US$100000.0",
          "ID: 1311800130 | Region: 98001 | Condition: regular | Price: US$162500.0",
          "ID: 3751602249 | Region: 98001 | Condition: regular | Price: US$205000.0",
          "ID: 8961950050 | Region: 98001 | Condition: regular | Price: US$409000.0",
          "ID: 3750604417 | Region: 98001 | Condition: regular | Price: US$172500.0",
          "ID: 6084600420 | Region: 98001 | Condition: regular | Price: US$245000.0",
          "ID: 7696630170 | Region: 98001 | Condition: regular | Price: US$276000.0",
          "ID: 3751600635 | Region: 98001 | Condition: regular | Price: US$264500.0",
          "ID: 3356403304 | Region: 98001 | Condition: regular | Price: US$154000.0",
          "ID: 3356403140 | Region: 98001 | Condition: regular | Price: US$225000.0",
          "ID: 321049193 | Region: 98001 | Condition: good | Price: US$215000.0",
          "ID: 9264030470 | Region: 98001 | Condition: regular | Price: US$455000.0",
          "ID: 3275910020 | Region: 98001 | Condition: regular | Price: US$340000.0",
          "ID: 9265410010 | Region: 98001 | Condition: regular | Price: US$212000.0",
          "ID: 2895550050 | Region: 98001 | Condition: regular | Price: US$280000.0",
          "ID: 8001450170 | Region: 98001 | Condition: regular | Price: US$274950.0",
          "ID: 2895550280 | Region: 98001 | Condition: regular | Price: US$280000.0",
          "ID: 2214800170 | Region: 98001 | Condition: regular | Price: US$295000.0",
          "ID: 5419000050 | Region: 98001 | Condition: regular | Price: US$338500.0",
          "ID: 3751600430 | Region: 98001 | Condition: regular | Price: US$250000.0",
          "ID: 2895550190 | Region: 98001 | Condition: regular | Price: US$245000.0",
          "ID: 9543000896 | Region: 98001 | Condition: regular | Price: US$237000.0",
          "ID: 6306100080 | Region: 98001 | Condition: regular | Price: US$234950.0",
          "ID: 5530000050 | Region: 98001 | Condition: regular | Price: US$278000.0",
          "ID: 1311200380 | Region: 98001 | Condition: regular | Price: US$210000.0",
          "ID: 4031000250 | Region: 98001 | Condition: regular | Price: US$150000.0",
          "ID: 3354400545 | Region: 98001 | Condition: regular | Price: US$190000.0",
          "ID: 7696500280 | Region: 98001 | Condition: regular | Price: US$182500.0",
          "ID: 6143000020 | Region: 98001 | Condition: regular | Price: US$175000.0",
          "ID: 7696630080 | Region: 98001 | Condition: regular | Price: US$197000.0",
          "ID: 2460500020 | Region: 98001 | Condition: regular | Price: US$305000.0",
          "ID: 2744000010 | Region: 98001 | Condition: regular | Price: US$287600.0",
          "ID: 2817850290 | Region: 98001 | Condition: regular | Price: US$258000.0",
          "ID: 4031000460 | Region: 98001 | Condition: regular | Price: US$199500.0",
          "ID: 3750606890 | Region: 98001 | Condition: regular | Price: US$220000.0",
          "ID: 3356402232 | Region: 98001 | Condition: regular | Price: US$179900.0",
          "ID: 3751606514 | Region: 98001 | Condition: regular | Price: US$270000.0",
          "ID: 9264030040 | Region: 98001 | Condition: regular | Price: US$425000.0",
          "ID: 2214800730 | Region: 98001 | Condition: regular | Price: US$287500.0",
          "ID: 1521049156 | Region: 98001 | Condition: regular | Price: US$255000.0",
          "ID: 6648760150 | Region: 98001 | Condition: regular | Price: US$315000.0",
          "ID: 4045700455 | Region: 98001 | Condition: regular | Price: US$363000.0",
          "ID: 3322049095 | Region: 98001 | Condition: regular | Price: US$240000.0",
          "ID: 1311200120 | Region: 98001 | Condition: regular | Price: US$225000.0",
          "ID: 1311800040 | Region: 98001 | Condition: regular | Price: US$260000.0",
          "ID: 2422000067 | Region: 98001 | Condition: regular | Price: US$230000.0",
          "ID: 9262800208 | Region: 98001 | Condition: regular | Price: US$637000.0",
          "ID: 6084600330 | Region: 98001 | Condition: regular | Price: US$260000.0",
          "ID: 2895550330 | Region: 98001 | Condition: regular | Price: US$290000.0",
          "ID: 9265410090 | Region: 98001 | Condition: regular | Price: US$160000.0",
          "ID: 2154900040 | Region: 98001 | Condition: regular | Price: US$194250.0",
          "ID: 5702330120 | Region: 98001 | Condition: regular | Price: US$222400.0",
          "ID: 8856003525 | Region: 98001 | Condition: regular | Price: US$183500.0",
          "ID: 2721049061 | Region: 98001 | Condition: regular | Price: US$625000.0",
          "ID: 8001400300 | Region: 98001 | Condition: regular | Price: US$310000.0",
          "ID: 7696620100 | Region: 98001 | Condition: regular | Price: US$254999.0",
          "ID: 3353404265 | Region: 98001 | Condition: regular | Price: US$460000.0",
          "ID: 3356402020 | Region: 98001 | Condition: regular | Price: US$230000.0",
          "ID: 3751604653 | Region: 98001 | Condition: regular | Price: US$205000.0",
          "ID: 8856004415 | Region: 98001 | Condition: regular | Price: US$168000.0",
          "ID: 1312900180 | Region: 98001 | Condition: regular | Price: US$225000.0",
          "ID: 3356403400 | Region: 98001 | Condition: regular | Price: US$159000.0",
          "ID: 3353401340 | Region: 98001 | Condition: good | Price: US$199900.0",
          "ID: 8961950410 | Region: 98001 | Condition: regular | Price: US$328000.0",
          "ID: 6181500340 | Region: 98001 | Condition: regular | Price: US$359000.0",
          "ID: 629650370 | Region: 98001 | Condition: regular | Price: US$250000.0",
          "ID: 7967000060 | Region: 98001 | Condition: regular | Price: US$349500.0",
          "ID: 7967000160 | Region: 98001 | Condition: regular | Price: US$355000.0",
          "ID: 3751600784 | Region: 98001 | Condition: regular | Price: US$331210.0",
          "ID: 6181420200 | Region: 98001 | Condition: regular | Price: US$272000.0",
          "ID: 3356402702 | Region: 98001 | Condition: regular | Price: US$215000.0",
          "ID: 8856004786 | Region: 98001 | Condition: regular | Price: US$275000.0",
          "ID: 2911000100 | Region: 98001 | Condition: regular | Price: US$245000.0",
          "ID: 6181500100 | Region: 98001 | Condition: regular | Price: US$351000.0",
          "ID: 6181410950 | Region: 98001 | Condition: regular | Price: US$254950.0",
          "ID: 9264450460 | Region: 98001 | Condition: regular | Price: US$309000.0",
          "ID: 7967000130 | Region: 98001 | Condition: regular | Price: US$370228.0",
          "ID: 6601200250 | Region: 98001 | Condition: regular | Price: US$205000.0",
          "ID: 3356402705 | Region: 98001 | Condition: regular | Price: US$216000.0",
          "ID: 629650380 | Region: 98001 | Condition: regular | Price: US$255000.0",
          "ID: 1115600130 | Region: 98001 | Condition: regular | Price: US$415000.0",
          "ID: 9511120050 | Region: 98001 | Condition: regular | Price: US$427000.0",
          "ID: 8956200560 | Region: 98001 | Condition: regular | Price: US$453000.0",
          "ID: 3751601877 | Region: 98001 | Condition: regular | Price: US$552900.0",
          "ID: 8956200960 | Region: 98001 | Condition: regular | Price: US$524225.0",
          "ID: 3682000060 | Region: 98001 | Condition: regular | Price: US$349950.0",
          "ID: 3304030140 | Region: 98001 | Condition: regular | Price: US$424000.0",
          "ID: 629650030 | Region: 98001 | Condition: regular | Price: US$317500.0",
          "ID: 7967000200 | Region: 98001 | Condition: regular | Price: US$345500.0",
          "ID: 3353401070 | Region: 98001 | Condition: regular | Price: US$260000.0",
          "ID: 8956200990 | Region: 98001 | Condition: regular | Price: US$499160.0",
          "ID: 9264450550 | Region: 98001 | Condition: regular | Price: US$329995.0",
          "ID: 7967000270 | Region: 98001 | Condition: regular | Price: US$353000.0",
          "ID: 8956200070 | Region: 98001 | Condition: regular | Price: US$447500.0",
          "ID: 3353400092 | Region: 98001 | Condition: regular | Price: US$270500.0",
          "ID: 8956200530 | Region: 98001 | Condition: regular | Price: US$457000.0",
          "ID: 3355400242 | Region: 98001 | Condition: regular | Price: US$274900.0",
          "ID: 6601200040 | Region: 98001 | Condition: regular | Price: US$280000.0",
          "ID: 1278000210 | Region: 98001 | Condition: regular | Price: US$110000.0",
          "ID: 7967000150 | Region: 98001 | Condition: regular | Price: US$353500.0",
          "ID: 1389600040 | Region: 98001 | Condition: regular | Price: US$255000.0",
          "ID: 8956200770 | Region: 98001 | Condition: regular | Price: US$549950.0",
          "ID: 3751600409 | Region: 98001 | Condition: regular | Price: US$510000.0",
          "ID: 1389600080 | Region: 98001 | Condition: regular | Price: US$277950.0",
          "ID: 3304040130 | Region: 98001 | Condition: regular | Price: US$375900.0",
          "ID: 8856003839 | Region: 98001 | Condition: regular | Price: US$215000.0",
          "ID: 6601200020 | Region: 98001 | Condition: regular | Price: US$235245.0",
          "ID: 3304040020 | Region: 98001 | Condition: regular | Price: US$375500.0",
          "ID: 3682000050 | Region: 98001 | Condition: regular | Price: US$349950.0",
          "ID: 4014400381 | Region: 98001 | Condition: regular | Price: US$495000.0",
          "ID: 3094000210 | Region: 98001 | Condition: regular | Price: US$269950.0",
          "ID: 6181500120 | Region: 98001 | Condition: regular | Price: US$312891.0",
          "ID: 3304030220 | Region: 98001 | Condition: regular | Price: US$480000.0",
          "ID: 5007500120 | Region: 98001 | Condition: regular | Price: US$341780.0",
          "ID: 8956200760 | Region: 98001 | Condition: regular | Price: US$541800.0"
         ],
         "type": "scatter",
         "y": [
          240000,
          287000,
          480000,
          465000,
          360000,
          230000,
          252000,
          227950,
          196000,
          305000,
          243000,
          233000,
          249900,
          205000,
          196500,
          199950,
          289000,
          249900,
          100000,
          320000,
          267000,
          350000,
          355000,
          250000,
          355000,
          299000,
          330000,
          196440,
          429000,
          189950,
          215500,
          206000,
          210000,
          284200,
          272000,
          185000,
          332000,
          238000,
          213550,
          230000,
          262000,
          175000,
          235000,
          165000,
          276000,
          265000,
          259000,
          225000,
          354450,
          352000,
          210500,
          276000,
          299950,
          279000,
          329500,
          196000,
          515000,
          180000,
          225000,
          115000,
          195000,
          299950,
          299000,
          201700,
          194820,
          286950,
          250000,
          215000,
          212500,
          382450,
          269950,
          221000,
          263400,
          267500,
          224000,
          330000,
          359000,
          214100,
          482000,
          340000,
          465000,
          299000,
          198000,
          169000,
          195000,
          250000,
          260000,
          260000,
          430000,
          339000,
          215000,
          230000,
          285000,
          277500,
          260000,
          639900,
          420000,
          275000,
          239950,
          239950,
          286000,
          280000,
          254000,
          204900,
          850000,
          265000,
          175000,
          269500,
          286651,
          270000,
          415000,
          241000,
          302000,
          265000,
          449888,
          263000,
          384000,
          190000,
          184000,
          255000,
          220000,
          160000,
          375000,
          225000,
          259900,
          260000,
          170000,
          317000,
          335000,
          359500,
          248000,
          265000,
          215000,
          139000,
          199129,
          285000,
          280000,
          240000,
          214000,
          275000,
          274000,
          204700,
          169100,
          370000,
          571500,
          182500,
          551870,
          250600,
          541500,
          303000,
          200000,
          219000,
          225000,
          360000,
          124500,
          292500,
          270000,
          305000,
          285000,
          239950,
          226500,
          370000,
          248000,
          340000,
          238000,
          250000,
          209000,
          411000,
          229500,
          310000,
          255000,
          280000,
          420000,
          256000,
          246900,
          199950,
          233000,
          299900,
          299999,
          178500,
          232000,
          271920,
          257000,
          210000,
          247000,
          115000,
          198000,
          185900,
          235000,
          190848,
          314950,
          185000,
          174000,
          184000,
          313100,
          166000,
          165000,
          132500,
          290000,
          206000,
          485000,
          500000,
          429000,
          270000,
          227000,
          300000,
          201000,
          372000,
          215000,
          199900,
          207000,
          367950,
          262500,
          289000,
          300000,
          321500,
          245000,
          199000,
          175000,
          139950,
          234000,
          234950,
          171500,
          234500,
          246000,
          220000,
          229950,
          290000,
          250000,
          215500,
          289000,
          234950,
          285000,
          335000,
          220000,
          367300,
          535000,
          321000,
          230000,
          289950,
          250000,
          175000,
          360000,
          389000,
          100000,
          162500,
          205000,
          409000,
          172500,
          245000,
          276000,
          264500,
          154000,
          225000,
          215000,
          455000,
          340000,
          212000,
          280000,
          274950,
          280000,
          295000,
          338500,
          250000,
          245000,
          237000,
          234950,
          278000,
          210000,
          150000,
          190000,
          182500,
          175000,
          197000,
          305000,
          287600,
          258000,
          199500,
          220000,
          179900,
          270000,
          425000,
          287500,
          255000,
          315000,
          363000,
          240000,
          225000,
          260000,
          230000,
          637000,
          260000,
          290000,
          160000,
          194250,
          222400,
          183500,
          625000,
          310000,
          254999,
          460000,
          230000,
          205000,
          168000,
          225000,
          159000,
          199900,
          328000,
          359000,
          250000,
          349500,
          355000,
          331210,
          272000,
          215000,
          275000,
          245000,
          351000,
          254950,
          309000,
          370228,
          205000,
          216000,
          255000,
          415000,
          427000,
          453000,
          552900,
          524225,
          349950,
          424000,
          317500,
          345500,
          260000,
          499160,
          329995,
          353000,
          447500,
          270500,
          457000,
          274900,
          280000,
          110000,
          353500,
          255000,
          549950,
          510000,
          277950,
          375900,
          215000,
          235245,
          375500,
          349950,
          495000,
          269950,
          312891,
          480000,
          341780,
          541800
         ]
        },
        {
         "mode": "lines",
         "name": "Mediana Regional",
         "text": [
          "Region: 98001 | Median: US$260000.0",
          "Region: 98001 | Median: US$260000.0",
          "Region: 98001 | Median: US$260000.0",
          "Region: 98001 | Median: US$260000.0",
          "Region: 98001 | Median: US$260000.0",
          "Region: 98001 | Median: US$260000.0",
          "Region: 98001 | Median: US$260000.0",
          "Region: 98001 | Median: US$260000.0",
          "Region: 98001 | Median: US$260000.0",
          "Region: 98001 | Median: US$260000.0",
          "Region: 98001 | Median: US$260000.0",
          "Region: 98001 | Median: US$260000.0",
          "Region: 98001 | Median: US$260000.0",
          "Region: 98001 | Median: US$260000.0",
          "Region: 98001 | Median: US$260000.0",
          "Region: 98001 | Median: US$260000.0",
          "Region: 98001 | Median: US$260000.0",
          "Region: 98001 | Median: US$260000.0",
          "Region: 98001 | Median: US$260000.0",
          "Region: 98001 | Median: US$260000.0",
          "Region: 98001 | Median: US$260000.0",
          "Region: 98001 | Median: US$260000.0",
          "Region: 98001 | Median: US$260000.0",
          "Region: 98001 | Median: US$260000.0",
          "Region: 98001 | Median: US$260000.0",
          "Region: 98001 | Median: US$260000.0",
          "Region: 98001 | Median: US$260000.0",
          "Region: 98001 | Median: US$260000.0",
          "Region: 98001 | Median: US$260000.0",
          "Region: 98001 | Median: US$260000.0",
          "Region: 98001 | Median: US$260000.0",
          "Region: 98001 | Median: US$260000.0",
          "Region: 98001 | Median: US$260000.0",
          "Region: 98001 | Median: US$260000.0",
          "Region: 98001 | Median: US$260000.0",
          "Region: 98001 | Median: US$260000.0",
          "Region: 98001 | Median: US$260000.0",
          "Region: 98001 | Median: US$260000.0",
          "Region: 98001 | Median: US$260000.0",
          "Region: 98001 | Median: US$260000.0",
          "Region: 98001 | Median: US$260000.0",
          "Region: 98001 | Median: US$260000.0",
          "Region: 98001 | Median: US$260000.0",
          "Region: 98001 | Median: US$260000.0",
          "Region: 98001 | Median: US$260000.0",
          "Region: 98001 | Median: US$260000.0",
          "Region: 98001 | Median: US$260000.0",
          "Region: 98001 | Median: US$260000.0",
          "Region: 98001 | Median: US$260000.0",
          "Region: 98001 | Median: US$260000.0",
          "Region: 98001 | Median: US$260000.0",
          "Region: 98001 | Median: US$260000.0",
          "Region: 98001 | Median: US$260000.0",
          "Region: 98001 | Median: US$260000.0",
          "Region: 98001 | Median: US$260000.0",
          "Region: 98001 | Median: US$260000.0",
          "Region: 98001 | Median: US$260000.0",
          "Region: 98001 | Median: US$260000.0",
          "Region: 98001 | Median: US$260000.0",
          "Region: 98001 | Median: US$260000.0",
          "Region: 98001 | Median: US$260000.0",
          "Region: 98001 | Median: US$260000.0",
          "Region: 98001 | Median: US$260000.0",
          "Region: 98001 | Median: US$260000.0",
          "Region: 98001 | Median: US$260000.0",
          "Region: 98001 | Median: US$260000.0",
          "Region: 98001 | Median: US$260000.0",
          "Region: 98001 | Median: US$260000.0",
          "Region: 98001 | Median: US$260000.0",
          "Region: 98001 | Median: US$260000.0",
          "Region: 98001 | Median: US$260000.0",
          "Region: 98001 | Median: US$260000.0",
          "Region: 98001 | Median: US$260000.0",
          "Region: 98001 | Median: US$260000.0",
          "Region: 98001 | Median: US$260000.0",
          "Region: 98001 | Median: US$260000.0",
          "Region: 98001 | Median: US$260000.0",
          "Region: 98001 | Median: US$260000.0",
          "Region: 98001 | Median: US$260000.0",
          "Region: 98001 | Median: US$260000.0",
          "Region: 98001 | Median: US$260000.0",
          "Region: 98001 | Median: US$260000.0",
          "Region: 98001 | Median: US$260000.0",
          "Region: 98001 | Median: US$260000.0",
          "Region: 98001 | Median: US$260000.0",
          "Region: 98001 | Median: US$260000.0",
          "Region: 98001 | Median: US$260000.0",
          "Region: 98001 | Median: US$260000.0",
          "Region: 98001 | Median: US$260000.0",
          "Region: 98001 | Median: US$260000.0",
          "Region: 98001 | Median: US$260000.0",
          "Region: 98001 | Median: US$260000.0",
          "Region: 98001 | Median: US$260000.0",
          "Region: 98001 | Median: US$260000.0",
          "Region: 98001 | Median: US$260000.0",
          "Region: 98001 | Median: US$260000.0",
          "Region: 98001 | Median: US$260000.0",
          "Region: 98001 | Median: US$260000.0",
          "Region: 98001 | Median: US$260000.0",
          "Region: 98001 | Median: US$260000.0",
          "Region: 98001 | Median: US$260000.0",
          "Region: 98001 | Median: US$260000.0",
          "Region: 98001 | Median: US$260000.0",
          "Region: 98001 | Median: US$260000.0",
          "Region: 98001 | Median: US$260000.0",
          "Region: 98001 | Median: US$260000.0",
          "Region: 98001 | Median: US$260000.0",
          "Region: 98001 | Median: US$260000.0",
          "Region: 98001 | Median: US$260000.0",
          "Region: 98001 | Median: US$260000.0",
          "Region: 98001 | Median: US$260000.0",
          "Region: 98001 | Median: US$260000.0",
          "Region: 98001 | Median: US$260000.0",
          "Region: 98001 | Median: US$260000.0",
          "Region: 98001 | Median: US$260000.0",
          "Region: 98001 | Median: US$260000.0",
          "Region: 98001 | Median: US$260000.0",
          "Region: 98001 | Median: US$260000.0",
          "Region: 98001 | Median: US$260000.0",
          "Region: 98001 | Median: US$260000.0",
          "Region: 98001 | Median: US$260000.0",
          "Region: 98001 | Median: US$260000.0",
          "Region: 98001 | Median: US$260000.0",
          "Region: 98001 | Median: US$260000.0",
          "Region: 98001 | Median: US$260000.0",
          "Region: 98001 | Median: US$260000.0",
          "Region: 98001 | Median: US$260000.0",
          "Region: 98001 | Median: US$260000.0",
          "Region: 98001 | Median: US$260000.0",
          "Region: 98001 | Median: US$260000.0",
          "Region: 98001 | Median: US$260000.0",
          "Region: 98001 | Median: US$260000.0",
          "Region: 98001 | Median: US$260000.0",
          "Region: 98001 | Median: US$260000.0",
          "Region: 98001 | Median: US$260000.0",
          "Region: 98001 | Median: US$260000.0",
          "Region: 98001 | Median: US$260000.0",
          "Region: 98001 | Median: US$260000.0",
          "Region: 98001 | Median: US$260000.0",
          "Region: 98001 | Median: US$260000.0",
          "Region: 98001 | Median: US$260000.0",
          "Region: 98001 | Median: US$260000.0",
          "Region: 98001 | Median: US$260000.0",
          "Region: 98001 | Median: US$260000.0",
          "Region: 98001 | Median: US$260000.0",
          "Region: 98001 | Median: US$260000.0",
          "Region: 98001 | Median: US$260000.0",
          "Region: 98001 | Median: US$260000.0",
          "Region: 98001 | Median: US$260000.0",
          "Region: 98001 | Median: US$260000.0",
          "Region: 98001 | Median: US$260000.0",
          "Region: 98001 | Median: US$260000.0",
          "Region: 98001 | Median: US$260000.0",
          "Region: 98001 | Median: US$260000.0",
          "Region: 98001 | Median: US$260000.0",
          "Region: 98001 | Median: US$260000.0",
          "Region: 98001 | Median: US$260000.0",
          "Region: 98001 | Median: US$260000.0",
          "Region: 98001 | Median: US$260000.0",
          "Region: 98001 | Median: US$260000.0",
          "Region: 98001 | Median: US$260000.0",
          "Region: 98001 | Median: US$260000.0",
          "Region: 98001 | Median: US$260000.0",
          "Region: 98001 | Median: US$260000.0",
          "Region: 98001 | Median: US$260000.0",
          "Region: 98001 | Median: US$260000.0",
          "Region: 98001 | Median: US$260000.0",
          "Region: 98001 | Median: US$260000.0",
          "Region: 98001 | Median: US$260000.0",
          "Region: 98001 | Median: US$260000.0",
          "Region: 98001 | Median: US$260000.0",
          "Region: 98001 | Median: US$260000.0",
          "Region: 98001 | Median: US$260000.0",
          "Region: 98001 | Median: US$260000.0",
          "Region: 98001 | Median: US$260000.0",
          "Region: 98001 | Median: US$260000.0",
          "Region: 98001 | Median: US$260000.0",
          "Region: 98001 | Median: US$260000.0",
          "Region: 98001 | Median: US$260000.0",
          "Region: 98001 | Median: US$260000.0",
          "Region: 98001 | Median: US$260000.0",
          "Region: 98001 | Median: US$260000.0",
          "Region: 98001 | Median: US$260000.0",
          "Region: 98001 | Median: US$260000.0",
          "Region: 98001 | Median: US$260000.0",
          "Region: 98001 | Median: US$260000.0",
          "Region: 98001 | Median: US$260000.0",
          "Region: 98001 | Median: US$260000.0",
          "Region: 98001 | Median: US$260000.0",
          "Region: 98001 | Median: US$260000.0",
          "Region: 98001 | Median: US$260000.0",
          "Region: 98001 | Median: US$260000.0",
          "Region: 98001 | Median: US$260000.0",
          "Region: 98001 | Median: US$260000.0",
          "Region: 98001 | Median: US$260000.0",
          "Region: 98001 | Median: US$260000.0",
          "Region: 98001 | Median: US$260000.0",
          "Region: 98001 | Median: US$260000.0",
          "Region: 98001 | Median: US$260000.0",
          "Region: 98001 | Median: US$260000.0",
          "Region: 98001 | Median: US$260000.0",
          "Region: 98001 | Median: US$260000.0",
          "Region: 98001 | Median: US$260000.0",
          "Region: 98001 | Median: US$260000.0",
          "Region: 98001 | Median: US$260000.0",
          "Region: 98001 | Median: US$260000.0",
          "Region: 98001 | Median: US$260000.0",
          "Region: 98001 | Median: US$260000.0",
          "Region: 98001 | Median: US$260000.0",
          "Region: 98001 | Median: US$260000.0",
          "Region: 98001 | Median: US$260000.0",
          "Region: 98001 | Median: US$260000.0",
          "Region: 98001 | Median: US$260000.0",
          "Region: 98001 | Median: US$260000.0",
          "Region: 98001 | Median: US$260000.0",
          "Region: 98001 | Median: US$260000.0",
          "Region: 98001 | Median: US$260000.0",
          "Region: 98001 | Median: US$260000.0",
          "Region: 98001 | Median: US$260000.0",
          "Region: 98001 | Median: US$260000.0",
          "Region: 98001 | Median: US$260000.0",
          "Region: 98001 | Median: US$260000.0",
          "Region: 98001 | Median: US$260000.0",
          "Region: 98001 | Median: US$260000.0",
          "Region: 98001 | Median: US$260000.0",
          "Region: 98001 | Median: US$260000.0",
          "Region: 98001 | Median: US$260000.0",
          "Region: 98001 | Median: US$260000.0",
          "Region: 98001 | Median: US$260000.0",
          "Region: 98001 | Median: US$260000.0",
          "Region: 98001 | Median: US$260000.0",
          "Region: 98001 | Median: US$260000.0",
          "Region: 98001 | Median: US$260000.0",
          "Region: 98001 | Median: US$260000.0",
          "Region: 98001 | Median: US$260000.0",
          "Region: 98001 | Median: US$260000.0",
          "Region: 98001 | Median: US$260000.0",
          "Region: 98001 | Median: US$260000.0",
          "Region: 98001 | Median: US$260000.0",
          "Region: 98001 | Median: US$260000.0",
          "Region: 98001 | Median: US$260000.0",
          "Region: 98001 | Median: US$260000.0",
          "Region: 98001 | Median: US$260000.0",
          "Region: 98001 | Median: US$260000.0",
          "Region: 98001 | Median: US$260000.0",
          "Region: 98001 | Median: US$260000.0",
          "Region: 98001 | Median: US$260000.0",
          "Region: 98001 | Median: US$260000.0",
          "Region: 98001 | Median: US$260000.0",
          "Region: 98001 | Median: US$260000.0",
          "Region: 98001 | Median: US$260000.0",
          "Region: 98001 | Median: US$260000.0",
          "Region: 98001 | Median: US$260000.0",
          "Region: 98001 | Median: US$260000.0",
          "Region: 98001 | Median: US$260000.0",
          "Region: 98001 | Median: US$260000.0",
          "Region: 98001 | Median: US$260000.0",
          "Region: 98001 | Median: US$260000.0",
          "Region: 98001 | Median: US$260000.0",
          "Region: 98001 | Median: US$260000.0",
          "Region: 98001 | Median: US$260000.0",
          "Region: 98001 | Median: US$260000.0",
          "Region: 98001 | Median: US$260000.0",
          "Region: 98001 | Median: US$260000.0",
          "Region: 98001 | Median: US$260000.0",
          "Region: 98001 | Median: US$260000.0",
          "Region: 98001 | Median: US$260000.0",
          "Region: 98001 | Median: US$260000.0",
          "Region: 98001 | Median: US$260000.0",
          "Region: 98001 | Median: US$260000.0",
          "Region: 98001 | Median: US$260000.0",
          "Region: 98001 | Median: US$260000.0",
          "Region: 98001 | Median: US$260000.0",
          "Region: 98001 | Median: US$260000.0",
          "Region: 98001 | Median: US$260000.0",
          "Region: 98001 | Median: US$260000.0",
          "Region: 98001 | Median: US$260000.0",
          "Region: 98001 | Median: US$260000.0",
          "Region: 98001 | Median: US$260000.0",
          "Region: 98001 | Median: US$260000.0",
          "Region: 98001 | Median: US$260000.0",
          "Region: 98001 | Median: US$260000.0",
          "Region: 98001 | Median: US$260000.0",
          "Region: 98001 | Median: US$260000.0",
          "Region: 98001 | Median: US$260000.0",
          "Region: 98001 | Median: US$260000.0",
          "Region: 98001 | Median: US$260000.0",
          "Region: 98001 | Median: US$260000.0",
          "Region: 98001 | Median: US$260000.0",
          "Region: 98001 | Median: US$260000.0",
          "Region: 98001 | Median: US$260000.0",
          "Region: 98001 | Median: US$260000.0",
          "Region: 98001 | Median: US$260000.0",
          "Region: 98001 | Median: US$260000.0",
          "Region: 98001 | Median: US$260000.0",
          "Region: 98001 | Median: US$260000.0",
          "Region: 98001 | Median: US$260000.0",
          "Region: 98001 | Median: US$260000.0",
          "Region: 98001 | Median: US$260000.0",
          "Region: 98001 | Median: US$260000.0",
          "Region: 98001 | Median: US$260000.0",
          "Region: 98001 | Median: US$260000.0",
          "Region: 98001 | Median: US$260000.0",
          "Region: 98001 | Median: US$260000.0",
          "Region: 98001 | Median: US$260000.0",
          "Region: 98001 | Median: US$260000.0",
          "Region: 98001 | Median: US$260000.0",
          "Region: 98001 | Median: US$260000.0",
          "Region: 98001 | Median: US$260000.0",
          "Region: 98001 | Median: US$260000.0",
          "Region: 98001 | Median: US$260000.0",
          "Region: 98001 | Median: US$260000.0",
          "Region: 98001 | Median: US$260000.0",
          "Region: 98001 | Median: US$260000.0",
          "Region: 98001 | Median: US$260000.0",
          "Region: 98001 | Median: US$260000.0",
          "Region: 98001 | Median: US$260000.0",
          "Region: 98001 | Median: US$260000.0",
          "Region: 98001 | Median: US$260000.0",
          "Region: 98001 | Median: US$260000.0",
          "Region: 98001 | Median: US$260000.0",
          "Region: 98001 | Median: US$260000.0",
          "Region: 98001 | Median: US$260000.0",
          "Region: 98001 | Median: US$260000.0",
          "Region: 98001 | Median: US$260000.0",
          "Region: 98001 | Median: US$260000.0",
          "Region: 98001 | Median: US$260000.0",
          "Region: 98001 | Median: US$260000.0",
          "Region: 98001 | Median: US$260000.0",
          "Region: 98001 | Median: US$260000.0",
          "Region: 98001 | Median: US$260000.0",
          "Region: 98001 | Median: US$260000.0",
          "Region: 98001 | Median: US$260000.0",
          "Region: 98001 | Median: US$260000.0",
          "Region: 98001 | Median: US$260000.0",
          "Region: 98001 | Median: US$260000.0",
          "Region: 98001 | Median: US$260000.0",
          "Region: 98001 | Median: US$260000.0",
          "Region: 98001 | Median: US$260000.0",
          "Region: 98001 | Median: US$260000.0",
          "Region: 98001 | Median: US$260000.0",
          "Region: 98001 | Median: US$260000.0",
          "Region: 98001 | Median: US$260000.0",
          "Region: 98001 | Median: US$260000.0",
          "Region: 98001 | Median: US$260000.0",
          "Region: 98001 | Median: US$260000.0",
          "Region: 98001 | Median: US$260000.0",
          "Region: 98001 | Median: US$260000.0",
          "Region: 98001 | Median: US$260000.0",
          "Region: 98001 | Median: US$260000.0",
          "Region: 98001 | Median: US$260000.0",
          "Region: 98001 | Median: US$260000.0",
          "Region: 98001 | Median: US$260000.0",
          "Region: 98001 | Median: US$260000.0",
          "Region: 98001 | Median: US$260000.0",
          "Region: 98001 | Median: US$260000.0",
          "Region: 98001 | Median: US$260000.0",
          "Region: 98001 | Median: US$260000.0",
          "Region: 98001 | Median: US$260000.0"
         ],
         "type": "scatter",
         "y": [
          260000,
          260000,
          260000,
          260000,
          260000,
          260000,
          260000,
          260000,
          260000,
          260000,
          260000,
          260000,
          260000,
          260000,
          260000,
          260000,
          260000,
          260000,
          260000,
          260000,
          260000,
          260000,
          260000,
          260000,
          260000,
          260000,
          260000,
          260000,
          260000,
          260000,
          260000,
          260000,
          260000,
          260000,
          260000,
          260000,
          260000,
          260000,
          260000,
          260000,
          260000,
          260000,
          260000,
          260000,
          260000,
          260000,
          260000,
          260000,
          260000,
          260000,
          260000,
          260000,
          260000,
          260000,
          260000,
          260000,
          260000,
          260000,
          260000,
          260000,
          260000,
          260000,
          260000,
          260000,
          260000,
          260000,
          260000,
          260000,
          260000,
          260000,
          260000,
          260000,
          260000,
          260000,
          260000,
          260000,
          260000,
          260000,
          260000,
          260000,
          260000,
          260000,
          260000,
          260000,
          260000,
          260000,
          260000,
          260000,
          260000,
          260000,
          260000,
          260000,
          260000,
          260000,
          260000,
          260000,
          260000,
          260000,
          260000,
          260000,
          260000,
          260000,
          260000,
          260000,
          260000,
          260000,
          260000,
          260000,
          260000,
          260000,
          260000,
          260000,
          260000,
          260000,
          260000,
          260000,
          260000,
          260000,
          260000,
          260000,
          260000,
          260000,
          260000,
          260000,
          260000,
          260000,
          260000,
          260000,
          260000,
          260000,
          260000,
          260000,
          260000,
          260000,
          260000,
          260000,
          260000,
          260000,
          260000,
          260000,
          260000,
          260000,
          260000,
          260000,
          260000,
          260000,
          260000,
          260000,
          260000,
          260000,
          260000,
          260000,
          260000,
          260000,
          260000,
          260000,
          260000,
          260000,
          260000,
          260000,
          260000,
          260000,
          260000,
          260000,
          260000,
          260000,
          260000,
          260000,
          260000,
          260000,
          260000,
          260000,
          260000,
          260000,
          260000,
          260000,
          260000,
          260000,
          260000,
          260000,
          260000,
          260000,
          260000,
          260000,
          260000,
          260000,
          260000,
          260000,
          260000,
          260000,
          260000,
          260000,
          260000,
          260000,
          260000,
          260000,
          260000,
          260000,
          260000,
          260000,
          260000,
          260000,
          260000,
          260000,
          260000,
          260000,
          260000,
          260000,
          260000,
          260000,
          260000,
          260000,
          260000,
          260000,
          260000,
          260000,
          260000,
          260000,
          260000,
          260000,
          260000,
          260000,
          260000,
          260000,
          260000,
          260000,
          260000,
          260000,
          260000,
          260000,
          260000,
          260000,
          260000,
          260000,
          260000,
          260000,
          260000,
          260000,
          260000,
          260000,
          260000,
          260000,
          260000,
          260000,
          260000,
          260000,
          260000,
          260000,
          260000,
          260000,
          260000,
          260000,
          260000,
          260000,
          260000,
          260000,
          260000,
          260000,
          260000,
          260000,
          260000,
          260000,
          260000,
          260000,
          260000,
          260000,
          260000,
          260000,
          260000,
          260000,
          260000,
          260000,
          260000,
          260000,
          260000,
          260000,
          260000,
          260000,
          260000,
          260000,
          260000,
          260000,
          260000,
          260000,
          260000,
          260000,
          260000,
          260000,
          260000,
          260000,
          260000,
          260000,
          260000,
          260000,
          260000,
          260000,
          260000,
          260000,
          260000,
          260000,
          260000,
          260000,
          260000,
          260000,
          260000,
          260000,
          260000,
          260000,
          260000,
          260000,
          260000,
          260000,
          260000,
          260000,
          260000,
          260000,
          260000,
          260000,
          260000,
          260000,
          260000,
          260000,
          260000,
          260000,
          260000,
          260000,
          260000,
          260000,
          260000,
          260000,
          260000,
          260000,
          260000,
          260000,
          260000,
          260000,
          260000,
          260000,
          260000,
          260000,
          260000,
          260000,
          260000,
          260000,
          260000,
          260000,
          260000,
          260000,
          260000,
          260000,
          260000,
          260000,
          260000,
          260000,
          260000,
          260000,
          260000,
          260000,
          260000
         ]
        }
       ],
       "layout": {
        "font": {
         "color": "#000000"
        },
        "template": {
         "data": {
          "bar": [
           {
            "error_x": {
             "color": "#2a3f5f"
            },
            "error_y": {
             "color": "#2a3f5f"
            },
            "marker": {
             "line": {
              "color": "#E5ECF6",
              "width": 0.5
             },
             "pattern": {
              "fillmode": "overlay",
              "size": 10,
              "solidity": 0.2
             }
            },
            "type": "bar"
           }
          ],
          "barpolar": [
           {
            "marker": {
             "line": {
              "color": "#E5ECF6",
              "width": 0.5
             },
             "pattern": {
              "fillmode": "overlay",
              "size": 10,
              "solidity": 0.2
             }
            },
            "type": "barpolar"
           }
          ],
          "carpet": [
           {
            "aaxis": {
             "endlinecolor": "#2a3f5f",
             "gridcolor": "white",
             "linecolor": "white",
             "minorgridcolor": "white",
             "startlinecolor": "#2a3f5f"
            },
            "baxis": {
             "endlinecolor": "#2a3f5f",
             "gridcolor": "white",
             "linecolor": "white",
             "minorgridcolor": "white",
             "startlinecolor": "#2a3f5f"
            },
            "type": "carpet"
           }
          ],
          "choropleth": [
           {
            "colorbar": {
             "outlinewidth": 0,
             "ticks": ""
            },
            "type": "choropleth"
           }
          ],
          "contour": [
           {
            "colorbar": {
             "outlinewidth": 0,
             "ticks": ""
            },
            "colorscale": [
             [
              0,
              "#0d0887"
             ],
             [
              0.1111111111111111,
              "#46039f"
             ],
             [
              0.2222222222222222,
              "#7201a8"
             ],
             [
              0.3333333333333333,
              "#9c179e"
             ],
             [
              0.4444444444444444,
              "#bd3786"
             ],
             [
              0.5555555555555556,
              "#d8576b"
             ],
             [
              0.6666666666666666,
              "#ed7953"
             ],
             [
              0.7777777777777778,
              "#fb9f3a"
             ],
             [
              0.8888888888888888,
              "#fdca26"
             ],
             [
              1,
              "#f0f921"
             ]
            ],
            "type": "contour"
           }
          ],
          "contourcarpet": [
           {
            "colorbar": {
             "outlinewidth": 0,
             "ticks": ""
            },
            "type": "contourcarpet"
           }
          ],
          "heatmap": [
           {
            "colorbar": {
             "outlinewidth": 0,
             "ticks": ""
            },
            "colorscale": [
             [
              0,
              "#0d0887"
             ],
             [
              0.1111111111111111,
              "#46039f"
             ],
             [
              0.2222222222222222,
              "#7201a8"
             ],
             [
              0.3333333333333333,
              "#9c179e"
             ],
             [
              0.4444444444444444,
              "#bd3786"
             ],
             [
              0.5555555555555556,
              "#d8576b"
             ],
             [
              0.6666666666666666,
              "#ed7953"
             ],
             [
              0.7777777777777778,
              "#fb9f3a"
             ],
             [
              0.8888888888888888,
              "#fdca26"
             ],
             [
              1,
              "#f0f921"
             ]
            ],
            "type": "heatmap"
           }
          ],
          "heatmapgl": [
           {
            "colorbar": {
             "outlinewidth": 0,
             "ticks": ""
            },
            "colorscale": [
             [
              0,
              "#0d0887"
             ],
             [
              0.1111111111111111,
              "#46039f"
             ],
             [
              0.2222222222222222,
              "#7201a8"
             ],
             [
              0.3333333333333333,
              "#9c179e"
             ],
             [
              0.4444444444444444,
              "#bd3786"
             ],
             [
              0.5555555555555556,
              "#d8576b"
             ],
             [
              0.6666666666666666,
              "#ed7953"
             ],
             [
              0.7777777777777778,
              "#fb9f3a"
             ],
             [
              0.8888888888888888,
              "#fdca26"
             ],
             [
              1,
              "#f0f921"
             ]
            ],
            "type": "heatmapgl"
           }
          ],
          "histogram": [
           {
            "marker": {
             "pattern": {
              "fillmode": "overlay",
              "size": 10,
              "solidity": 0.2
             }
            },
            "type": "histogram"
           }
          ],
          "histogram2d": [
           {
            "colorbar": {
             "outlinewidth": 0,
             "ticks": ""
            },
            "colorscale": [
             [
              0,
              "#0d0887"
             ],
             [
              0.1111111111111111,
              "#46039f"
             ],
             [
              0.2222222222222222,
              "#7201a8"
             ],
             [
              0.3333333333333333,
              "#9c179e"
             ],
             [
              0.4444444444444444,
              "#bd3786"
             ],
             [
              0.5555555555555556,
              "#d8576b"
             ],
             [
              0.6666666666666666,
              "#ed7953"
             ],
             [
              0.7777777777777778,
              "#fb9f3a"
             ],
             [
              0.8888888888888888,
              "#fdca26"
             ],
             [
              1,
              "#f0f921"
             ]
            ],
            "type": "histogram2d"
           }
          ],
          "histogram2dcontour": [
           {
            "colorbar": {
             "outlinewidth": 0,
             "ticks": ""
            },
            "colorscale": [
             [
              0,
              "#0d0887"
             ],
             [
              0.1111111111111111,
              "#46039f"
             ],
             [
              0.2222222222222222,
              "#7201a8"
             ],
             [
              0.3333333333333333,
              "#9c179e"
             ],
             [
              0.4444444444444444,
              "#bd3786"
             ],
             [
              0.5555555555555556,
              "#d8576b"
             ],
             [
              0.6666666666666666,
              "#ed7953"
             ],
             [
              0.7777777777777778,
              "#fb9f3a"
             ],
             [
              0.8888888888888888,
              "#fdca26"
             ],
             [
              1,
              "#f0f921"
             ]
            ],
            "type": "histogram2dcontour"
           }
          ],
          "mesh3d": [
           {
            "colorbar": {
             "outlinewidth": 0,
             "ticks": ""
            },
            "type": "mesh3d"
           }
          ],
          "parcoords": [
           {
            "line": {
             "colorbar": {
              "outlinewidth": 0,
              "ticks": ""
             }
            },
            "type": "parcoords"
           }
          ],
          "pie": [
           {
            "automargin": true,
            "type": "pie"
           }
          ],
          "scatter": [
           {
            "fillpattern": {
             "fillmode": "overlay",
             "size": 10,
             "solidity": 0.2
            },
            "type": "scatter"
           }
          ],
          "scatter3d": [
           {
            "line": {
             "colorbar": {
              "outlinewidth": 0,
              "ticks": ""
             }
            },
            "marker": {
             "colorbar": {
              "outlinewidth": 0,
              "ticks": ""
             }
            },
            "type": "scatter3d"
           }
          ],
          "scattercarpet": [
           {
            "marker": {
             "colorbar": {
              "outlinewidth": 0,
              "ticks": ""
             }
            },
            "type": "scattercarpet"
           }
          ],
          "scattergeo": [
           {
            "marker": {
             "colorbar": {
              "outlinewidth": 0,
              "ticks": ""
             }
            },
            "type": "scattergeo"
           }
          ],
          "scattergl": [
           {
            "marker": {
             "colorbar": {
              "outlinewidth": 0,
              "ticks": ""
             }
            },
            "type": "scattergl"
           }
          ],
          "scattermapbox": [
           {
            "marker": {
             "colorbar": {
              "outlinewidth": 0,
              "ticks": ""
             }
            },
            "type": "scattermapbox"
           }
          ],
          "scatterpolar": [
           {
            "marker": {
             "colorbar": {
              "outlinewidth": 0,
              "ticks": ""
             }
            },
            "type": "scatterpolar"
           }
          ],
          "scatterpolargl": [
           {
            "marker": {
             "colorbar": {
              "outlinewidth": 0,
              "ticks": ""
             }
            },
            "type": "scatterpolargl"
           }
          ],
          "scatterternary": [
           {
            "marker": {
             "colorbar": {
              "outlinewidth": 0,
              "ticks": ""
             }
            },
            "type": "scatterternary"
           }
          ],
          "surface": [
           {
            "colorbar": {
             "outlinewidth": 0,
             "ticks": ""
            },
            "colorscale": [
             [
              0,
              "#0d0887"
             ],
             [
              0.1111111111111111,
              "#46039f"
             ],
             [
              0.2222222222222222,
              "#7201a8"
             ],
             [
              0.3333333333333333,
              "#9c179e"
             ],
             [
              0.4444444444444444,
              "#bd3786"
             ],
             [
              0.5555555555555556,
              "#d8576b"
             ],
             [
              0.6666666666666666,
              "#ed7953"
             ],
             [
              0.7777777777777778,
              "#fb9f3a"
             ],
             [
              0.8888888888888888,
              "#fdca26"
             ],
             [
              1,
              "#f0f921"
             ]
            ],
            "type": "surface"
           }
          ],
          "table": [
           {
            "cells": {
             "fill": {
              "color": "#EBF0F8"
             },
             "line": {
              "color": "white"
             }
            },
            "header": {
             "fill": {
              "color": "#C8D4E3"
             },
             "line": {
              "color": "white"
             }
            },
            "type": "table"
           }
          ]
         },
         "layout": {
          "annotationdefaults": {
           "arrowcolor": "#2a3f5f",
           "arrowhead": 0,
           "arrowwidth": 1
          },
          "autotypenumbers": "strict",
          "coloraxis": {
           "colorbar": {
            "outlinewidth": 0,
            "ticks": ""
           }
          },
          "colorscale": {
           "diverging": [
            [
             0,
             "#8e0152"
            ],
            [
             0.1,
             "#c51b7d"
            ],
            [
             0.2,
             "#de77ae"
            ],
            [
             0.3,
             "#f1b6da"
            ],
            [
             0.4,
             "#fde0ef"
            ],
            [
             0.5,
             "#f7f7f7"
            ],
            [
             0.6,
             "#e6f5d0"
            ],
            [
             0.7,
             "#b8e186"
            ],
            [
             0.8,
             "#7fbc41"
            ],
            [
             0.9,
             "#4d9221"
            ],
            [
             1,
             "#276419"
            ]
           ],
           "sequential": [
            [
             0,
             "#0d0887"
            ],
            [
             0.1111111111111111,
             "#46039f"
            ],
            [
             0.2222222222222222,
             "#7201a8"
            ],
            [
             0.3333333333333333,
             "#9c179e"
            ],
            [
             0.4444444444444444,
             "#bd3786"
            ],
            [
             0.5555555555555556,
             "#d8576b"
            ],
            [
             0.6666666666666666,
             "#ed7953"
            ],
            [
             0.7777777777777778,
             "#fb9f3a"
            ],
            [
             0.8888888888888888,
             "#fdca26"
            ],
            [
             1,
             "#f0f921"
            ]
           ],
           "sequentialminus": [
            [
             0,
             "#0d0887"
            ],
            [
             0.1111111111111111,
             "#46039f"
            ],
            [
             0.2222222222222222,
             "#7201a8"
            ],
            [
             0.3333333333333333,
             "#9c179e"
            ],
            [
             0.4444444444444444,
             "#bd3786"
            ],
            [
             0.5555555555555556,
             "#d8576b"
            ],
            [
             0.6666666666666666,
             "#ed7953"
            ],
            [
             0.7777777777777778,
             "#fb9f3a"
            ],
            [
             0.8888888888888888,
             "#fdca26"
            ],
            [
             1,
             "#f0f921"
            ]
           ]
          },
          "colorway": [
           "#636efa",
           "#EF553B",
           "#00cc96",
           "#ab63fa",
           "#FFA15A",
           "#19d3f3",
           "#FF6692",
           "#B6E880",
           "#FF97FF",
           "#FECB52"
          ],
          "font": {
           "color": "#2a3f5f"
          },
          "geo": {
           "bgcolor": "white",
           "lakecolor": "white",
           "landcolor": "#E5ECF6",
           "showlakes": true,
           "showland": true,
           "subunitcolor": "white"
          },
          "hoverlabel": {
           "align": "left"
          },
          "hovermode": "closest",
          "mapbox": {
           "style": "light"
          },
          "paper_bgcolor": "white",
          "plot_bgcolor": "#E5ECF6",
          "polar": {
           "angularaxis": {
            "gridcolor": "white",
            "linecolor": "white",
            "ticks": ""
           },
           "bgcolor": "#E5ECF6",
           "radialaxis": {
            "gridcolor": "white",
            "linecolor": "white",
            "ticks": ""
           }
          },
          "scene": {
           "xaxis": {
            "backgroundcolor": "#E5ECF6",
            "gridcolor": "white",
            "gridwidth": 2,
            "linecolor": "white",
            "showbackground": true,
            "ticks": "",
            "zerolinecolor": "white"
           },
           "yaxis": {
            "backgroundcolor": "#E5ECF6",
            "gridcolor": "white",
            "gridwidth": 2,
            "linecolor": "white",
            "showbackground": true,
            "ticks": "",
            "zerolinecolor": "white"
           },
           "zaxis": {
            "backgroundcolor": "#E5ECF6",
            "gridcolor": "white",
            "gridwidth": 2,
            "linecolor": "white",
            "showbackground": true,
            "ticks": "",
            "zerolinecolor": "white"
           }
          },
          "shapedefaults": {
           "line": {
            "color": "#2a3f5f"
           }
          },
          "ternary": {
           "aaxis": {
            "gridcolor": "white",
            "linecolor": "white",
            "ticks": ""
           },
           "baxis": {
            "gridcolor": "white",
            "linecolor": "white",
            "ticks": ""
           },
           "bgcolor": "#E5ECF6",
           "caxis": {
            "gridcolor": "white",
            "linecolor": "white",
            "ticks": ""
           }
          },
          "title": {
           "x": 0.05
          },
          "xaxis": {
           "automargin": true,
           "gridcolor": "white",
           "linecolor": "white",
           "ticks": "",
           "title": {
            "standoff": 15
           },
           "zerolinecolor": "white",
           "zerolinewidth": 2
          },
          "yaxis": {
           "automargin": true,
           "gridcolor": "white",
           "linecolor": "white",
           "ticks": "",
           "title": {
            "standoff": 15
           },
           "zerolinecolor": "white",
           "zerolinewidth": 2
          }
         }
        },
        "xaxis": {
         "title": {
          "text": "Houses"
         }
        },
        "yaxis": {
         "title": {
          "text": "Aquisition cost"
         }
        }
       }
      }
     },
     "metadata": {},
     "output_type": "display_data"
    }
   ],
   "source": [
    "interact(data_viz, df=fixed(purchase_list), region = f_zipcode);"
   ]
  },
  {
   "cell_type": "markdown",
   "id": "fcac49b4",
   "metadata": {},
   "source": [
    "**Visualização dos imóveis para compra/revenda no mapa**"
   ]
  },
  {
   "cell_type": "code",
   "execution_count": 162,
   "id": "0ef26ef0",
   "metadata": {
    "ExecuteTime": {
     "end_time": "2022-01-15T01:41:06.432840Z",
     "start_time": "2022-01-15T01:41:06.420907Z"
    }
   },
   "outputs": [],
   "source": [
    "def make_map( house_list, region, filters ): \n",
    "    \n",
    "    map_data = house_list\n",
    "\n",
    "    if filters:\n",
    "        map_data\n",
    "    else:\n",
    "        map_data = map_data.loc[map_data['zipcode']==region]\n",
    "    \n",
    "    _map = px.scatter_mapbox( map_data,\n",
    "                              lat='lat',\n",
    "                              lon='long',\n",
    "                              hover_name='address',                              \n",
    "                              color='season',\n",
    "                              color_discrete_sequence=px.colors.qualitative.Dark2,\n",
    "                              zoom=10,\n",
    "                              text='ID: '+map_data['id'].astype('string'),\n",
    "                              hover_data=dict( lat=False, long=False, season=False)\n",
    "                            )\n",
    "\n",
    "    _map.update_layout(mapbox_style='open-street-map')\n",
    "    _map.update_layout(height=600, margin = {'r':0,'t':0,'l':0,'b':0})\n",
    "    _map.show()\n",
    "    \n",
    "    return None"
   ]
  },
  {
   "cell_type": "code",
   "execution_count": 163,
   "id": "30e764de",
   "metadata": {
    "ExecuteTime": {
     "end_time": "2022-01-15T01:41:16.366254Z",
     "start_time": "2022-01-15T01:41:15.695712Z"
    }
   },
   "outputs": [
    {
     "data": {
      "application/vnd.plotly.v1+json": {
       "config": {
        "plotlyServerURL": "https://plot.ly"
       },
       "data": [
        {
         "customdata": [
          [
           47.2613,
           -122.255,
           "summer"
          ],
          [
           47.267,
           -122.25,
           "summer"
          ],
          [
           47.2622,
           -122.282,
           "summer"
          ],
          [
           47.2633,
           -122.281,
           "summer"
          ],
          [
           47.3068,
           -122.27,
           "summer"
          ],
          [
           47.3398,
           -122.286,
           "summer"
          ],
          [
           47.3413,
           -122.29,
           "summer"
          ]
         ],
         "hovertemplate": "<b>%{hovertext}</b><br><br>text=%{text}<extra></extra>",
         "hovertext": [
          "5th Avenue Southwest, 200",
          "Milwaukee Boulevard South, 117",
          "42nd Avenue South, 37820",
          "43rd Avenue South, 37637",
          "South 329th Place, 5120",
          "South 292nd Place, 3653",
          "South 290th Street, 3385"
         ],
         "lat": [
          47.2613,
          47.267,
          47.2622,
          47.2633,
          47.3068,
          47.3398,
          47.3413
         ],
         "legendgroup": "summer",
         "lon": [
          -122.255,
          -122.25,
          -122.282,
          -122.281,
          -122.27,
          -122.286,
          -122.29
         ],
         "marker": {
          "color": "rgb(27,158,119)"
         },
         "mode": "markers+text",
         "name": "summer",
         "showlegend": true,
         "subplot": "mapbox",
         "text": [
          "ID: 3353401710",
          "ID: 3353400860",
          "ID: 3750605349",
          "ID: 3750603940",
          "ID: 7905400160",
          "ID: 1311000270",
          "ID: 321049193"
         ],
         "type": "scattermapbox"
        },
        {
         "customdata": [
          [
           47.327,
           -122.267,
           "fall"
          ],
          [
           47.3426,
           -122.285,
           "fall"
          ],
          [
           47.3424,
           -122.289,
           "fall"
          ],
          [
           47.3096,
           -122.241,
           "fall"
          ]
         ],
         "hovertemplate": "<b>%{hovertext}</b><br><br>text=%{text}<extra></extra>",
         "hovertext": [
          "55th Avenue South, 30567",
          "39th Avenue South, 28821",
          "34th Avenue South, 28830",
          "Clay Street Northwest, 201"
         ],
         "lat": [
          47.327,
          47.3426,
          47.3424,
          47.3096
         ],
         "legendgroup": "fall",
         "lon": [
          -122.267,
          -122.285,
          -122.289,
          -122.241
         ],
         "marker": {
          "color": "rgb(217,95,2)"
         },
         "mode": "markers+text",
         "name": "fall",
         "showlegend": true,
         "subplot": "mapbox",
         "text": [
          "ID: 303000445",
          "ID: 1311000600",
          "ID: 321049090",
          "ID: 4463400195"
         ],
         "type": "scattermapbox"
        },
        {
         "customdata": [
          [
           47.2664,
           -122.256,
           "winter"
          ]
         ],
         "hovertemplate": "<b>%{hovertext}</b><br><br>text=%{text}<extra></extra>",
         "hovertext": [
          "2nd Avenue Southwest, 221"
         ],
         "lat": [
          47.2664
         ],
         "legendgroup": "winter",
         "lon": [
          -122.256
         ],
         "marker": {
          "color": "rgb(117,112,179)"
         },
         "mode": "markers+text",
         "name": "winter",
         "showlegend": true,
         "subplot": "mapbox",
         "text": [
          "ID: 3353401340"
         ],
         "type": "scattermapbox"
        }
       ],
       "layout": {
        "height": 600,
        "legend": {
         "title": {
          "text": "season"
         },
         "tracegroupgap": 0
        },
        "mapbox": {
         "center": {
          "lat": 47.30247500000001,
          "lon": -122.27100000000002
         },
         "domain": {
          "x": [
           0,
           1
          ],
          "y": [
           0,
           1
          ]
         },
         "style": "open-street-map",
         "zoom": 10
        },
        "margin": {
         "b": 0,
         "l": 0,
         "r": 0,
         "t": 0
        },
        "template": {
         "data": {
          "bar": [
           {
            "error_x": {
             "color": "#2a3f5f"
            },
            "error_y": {
             "color": "#2a3f5f"
            },
            "marker": {
             "line": {
              "color": "#E5ECF6",
              "width": 0.5
             },
             "pattern": {
              "fillmode": "overlay",
              "size": 10,
              "solidity": 0.2
             }
            },
            "type": "bar"
           }
          ],
          "barpolar": [
           {
            "marker": {
             "line": {
              "color": "#E5ECF6",
              "width": 0.5
             },
             "pattern": {
              "fillmode": "overlay",
              "size": 10,
              "solidity": 0.2
             }
            },
            "type": "barpolar"
           }
          ],
          "carpet": [
           {
            "aaxis": {
             "endlinecolor": "#2a3f5f",
             "gridcolor": "white",
             "linecolor": "white",
             "minorgridcolor": "white",
             "startlinecolor": "#2a3f5f"
            },
            "baxis": {
             "endlinecolor": "#2a3f5f",
             "gridcolor": "white",
             "linecolor": "white",
             "minorgridcolor": "white",
             "startlinecolor": "#2a3f5f"
            },
            "type": "carpet"
           }
          ],
          "choropleth": [
           {
            "colorbar": {
             "outlinewidth": 0,
             "ticks": ""
            },
            "type": "choropleth"
           }
          ],
          "contour": [
           {
            "colorbar": {
             "outlinewidth": 0,
             "ticks": ""
            },
            "colorscale": [
             [
              0,
              "#0d0887"
             ],
             [
              0.1111111111111111,
              "#46039f"
             ],
             [
              0.2222222222222222,
              "#7201a8"
             ],
             [
              0.3333333333333333,
              "#9c179e"
             ],
             [
              0.4444444444444444,
              "#bd3786"
             ],
             [
              0.5555555555555556,
              "#d8576b"
             ],
             [
              0.6666666666666666,
              "#ed7953"
             ],
             [
              0.7777777777777778,
              "#fb9f3a"
             ],
             [
              0.8888888888888888,
              "#fdca26"
             ],
             [
              1,
              "#f0f921"
             ]
            ],
            "type": "contour"
           }
          ],
          "contourcarpet": [
           {
            "colorbar": {
             "outlinewidth": 0,
             "ticks": ""
            },
            "type": "contourcarpet"
           }
          ],
          "heatmap": [
           {
            "colorbar": {
             "outlinewidth": 0,
             "ticks": ""
            },
            "colorscale": [
             [
              0,
              "#0d0887"
             ],
             [
              0.1111111111111111,
              "#46039f"
             ],
             [
              0.2222222222222222,
              "#7201a8"
             ],
             [
              0.3333333333333333,
              "#9c179e"
             ],
             [
              0.4444444444444444,
              "#bd3786"
             ],
             [
              0.5555555555555556,
              "#d8576b"
             ],
             [
              0.6666666666666666,
              "#ed7953"
             ],
             [
              0.7777777777777778,
              "#fb9f3a"
             ],
             [
              0.8888888888888888,
              "#fdca26"
             ],
             [
              1,
              "#f0f921"
             ]
            ],
            "type": "heatmap"
           }
          ],
          "heatmapgl": [
           {
            "colorbar": {
             "outlinewidth": 0,
             "ticks": ""
            },
            "colorscale": [
             [
              0,
              "#0d0887"
             ],
             [
              0.1111111111111111,
              "#46039f"
             ],
             [
              0.2222222222222222,
              "#7201a8"
             ],
             [
              0.3333333333333333,
              "#9c179e"
             ],
             [
              0.4444444444444444,
              "#bd3786"
             ],
             [
              0.5555555555555556,
              "#d8576b"
             ],
             [
              0.6666666666666666,
              "#ed7953"
             ],
             [
              0.7777777777777778,
              "#fb9f3a"
             ],
             [
              0.8888888888888888,
              "#fdca26"
             ],
             [
              1,
              "#f0f921"
             ]
            ],
            "type": "heatmapgl"
           }
          ],
          "histogram": [
           {
            "marker": {
             "pattern": {
              "fillmode": "overlay",
              "size": 10,
              "solidity": 0.2
             }
            },
            "type": "histogram"
           }
          ],
          "histogram2d": [
           {
            "colorbar": {
             "outlinewidth": 0,
             "ticks": ""
            },
            "colorscale": [
             [
              0,
              "#0d0887"
             ],
             [
              0.1111111111111111,
              "#46039f"
             ],
             [
              0.2222222222222222,
              "#7201a8"
             ],
             [
              0.3333333333333333,
              "#9c179e"
             ],
             [
              0.4444444444444444,
              "#bd3786"
             ],
             [
              0.5555555555555556,
              "#d8576b"
             ],
             [
              0.6666666666666666,
              "#ed7953"
             ],
             [
              0.7777777777777778,
              "#fb9f3a"
             ],
             [
              0.8888888888888888,
              "#fdca26"
             ],
             [
              1,
              "#f0f921"
             ]
            ],
            "type": "histogram2d"
           }
          ],
          "histogram2dcontour": [
           {
            "colorbar": {
             "outlinewidth": 0,
             "ticks": ""
            },
            "colorscale": [
             [
              0,
              "#0d0887"
             ],
             [
              0.1111111111111111,
              "#46039f"
             ],
             [
              0.2222222222222222,
              "#7201a8"
             ],
             [
              0.3333333333333333,
              "#9c179e"
             ],
             [
              0.4444444444444444,
              "#bd3786"
             ],
             [
              0.5555555555555556,
              "#d8576b"
             ],
             [
              0.6666666666666666,
              "#ed7953"
             ],
             [
              0.7777777777777778,
              "#fb9f3a"
             ],
             [
              0.8888888888888888,
              "#fdca26"
             ],
             [
              1,
              "#f0f921"
             ]
            ],
            "type": "histogram2dcontour"
           }
          ],
          "mesh3d": [
           {
            "colorbar": {
             "outlinewidth": 0,
             "ticks": ""
            },
            "type": "mesh3d"
           }
          ],
          "parcoords": [
           {
            "line": {
             "colorbar": {
              "outlinewidth": 0,
              "ticks": ""
             }
            },
            "type": "parcoords"
           }
          ],
          "pie": [
           {
            "automargin": true,
            "type": "pie"
           }
          ],
          "scatter": [
           {
            "fillpattern": {
             "fillmode": "overlay",
             "size": 10,
             "solidity": 0.2
            },
            "type": "scatter"
           }
          ],
          "scatter3d": [
           {
            "line": {
             "colorbar": {
              "outlinewidth": 0,
              "ticks": ""
             }
            },
            "marker": {
             "colorbar": {
              "outlinewidth": 0,
              "ticks": ""
             }
            },
            "type": "scatter3d"
           }
          ],
          "scattercarpet": [
           {
            "marker": {
             "colorbar": {
              "outlinewidth": 0,
              "ticks": ""
             }
            },
            "type": "scattercarpet"
           }
          ],
          "scattergeo": [
           {
            "marker": {
             "colorbar": {
              "outlinewidth": 0,
              "ticks": ""
             }
            },
            "type": "scattergeo"
           }
          ],
          "scattergl": [
           {
            "marker": {
             "colorbar": {
              "outlinewidth": 0,
              "ticks": ""
             }
            },
            "type": "scattergl"
           }
          ],
          "scattermapbox": [
           {
            "marker": {
             "colorbar": {
              "outlinewidth": 0,
              "ticks": ""
             }
            },
            "type": "scattermapbox"
           }
          ],
          "scatterpolar": [
           {
            "marker": {
             "colorbar": {
              "outlinewidth": 0,
              "ticks": ""
             }
            },
            "type": "scatterpolar"
           }
          ],
          "scatterpolargl": [
           {
            "marker": {
             "colorbar": {
              "outlinewidth": 0,
              "ticks": ""
             }
            },
            "type": "scatterpolargl"
           }
          ],
          "scatterternary": [
           {
            "marker": {
             "colorbar": {
              "outlinewidth": 0,
              "ticks": ""
             }
            },
            "type": "scatterternary"
           }
          ],
          "surface": [
           {
            "colorbar": {
             "outlinewidth": 0,
             "ticks": ""
            },
            "colorscale": [
             [
              0,
              "#0d0887"
             ],
             [
              0.1111111111111111,
              "#46039f"
             ],
             [
              0.2222222222222222,
              "#7201a8"
             ],
             [
              0.3333333333333333,
              "#9c179e"
             ],
             [
              0.4444444444444444,
              "#bd3786"
             ],
             [
              0.5555555555555556,
              "#d8576b"
             ],
             [
              0.6666666666666666,
              "#ed7953"
             ],
             [
              0.7777777777777778,
              "#fb9f3a"
             ],
             [
              0.8888888888888888,
              "#fdca26"
             ],
             [
              1,
              "#f0f921"
             ]
            ],
            "type": "surface"
           }
          ],
          "table": [
           {
            "cells": {
             "fill": {
              "color": "#EBF0F8"
             },
             "line": {
              "color": "white"
             }
            },
            "header": {
             "fill": {
              "color": "#C8D4E3"
             },
             "line": {
              "color": "white"
             }
            },
            "type": "table"
           }
          ]
         },
         "layout": {
          "annotationdefaults": {
           "arrowcolor": "#2a3f5f",
           "arrowhead": 0,
           "arrowwidth": 1
          },
          "autotypenumbers": "strict",
          "coloraxis": {
           "colorbar": {
            "outlinewidth": 0,
            "ticks": ""
           }
          },
          "colorscale": {
           "diverging": [
            [
             0,
             "#8e0152"
            ],
            [
             0.1,
             "#c51b7d"
            ],
            [
             0.2,
             "#de77ae"
            ],
            [
             0.3,
             "#f1b6da"
            ],
            [
             0.4,
             "#fde0ef"
            ],
            [
             0.5,
             "#f7f7f7"
            ],
            [
             0.6,
             "#e6f5d0"
            ],
            [
             0.7,
             "#b8e186"
            ],
            [
             0.8,
             "#7fbc41"
            ],
            [
             0.9,
             "#4d9221"
            ],
            [
             1,
             "#276419"
            ]
           ],
           "sequential": [
            [
             0,
             "#0d0887"
            ],
            [
             0.1111111111111111,
             "#46039f"
            ],
            [
             0.2222222222222222,
             "#7201a8"
            ],
            [
             0.3333333333333333,
             "#9c179e"
            ],
            [
             0.4444444444444444,
             "#bd3786"
            ],
            [
             0.5555555555555556,
             "#d8576b"
            ],
            [
             0.6666666666666666,
             "#ed7953"
            ],
            [
             0.7777777777777778,
             "#fb9f3a"
            ],
            [
             0.8888888888888888,
             "#fdca26"
            ],
            [
             1,
             "#f0f921"
            ]
           ],
           "sequentialminus": [
            [
             0,
             "#0d0887"
            ],
            [
             0.1111111111111111,
             "#46039f"
            ],
            [
             0.2222222222222222,
             "#7201a8"
            ],
            [
             0.3333333333333333,
             "#9c179e"
            ],
            [
             0.4444444444444444,
             "#bd3786"
            ],
            [
             0.5555555555555556,
             "#d8576b"
            ],
            [
             0.6666666666666666,
             "#ed7953"
            ],
            [
             0.7777777777777778,
             "#fb9f3a"
            ],
            [
             0.8888888888888888,
             "#fdca26"
            ],
            [
             1,
             "#f0f921"
            ]
           ]
          },
          "colorway": [
           "#636efa",
           "#EF553B",
           "#00cc96",
           "#ab63fa",
           "#FFA15A",
           "#19d3f3",
           "#FF6692",
           "#B6E880",
           "#FF97FF",
           "#FECB52"
          ],
          "font": {
           "color": "#2a3f5f"
          },
          "geo": {
           "bgcolor": "white",
           "lakecolor": "white",
           "landcolor": "#E5ECF6",
           "showlakes": true,
           "showland": true,
           "subunitcolor": "white"
          },
          "hoverlabel": {
           "align": "left"
          },
          "hovermode": "closest",
          "mapbox": {
           "style": "light"
          },
          "paper_bgcolor": "white",
          "plot_bgcolor": "#E5ECF6",
          "polar": {
           "angularaxis": {
            "gridcolor": "white",
            "linecolor": "white",
            "ticks": ""
           },
           "bgcolor": "#E5ECF6",
           "radialaxis": {
            "gridcolor": "white",
            "linecolor": "white",
            "ticks": ""
           }
          },
          "scene": {
           "xaxis": {
            "backgroundcolor": "#E5ECF6",
            "gridcolor": "white",
            "gridwidth": 2,
            "linecolor": "white",
            "showbackground": true,
            "ticks": "",
            "zerolinecolor": "white"
           },
           "yaxis": {
            "backgroundcolor": "#E5ECF6",
            "gridcolor": "white",
            "gridwidth": 2,
            "linecolor": "white",
            "showbackground": true,
            "ticks": "",
            "zerolinecolor": "white"
           },
           "zaxis": {
            "backgroundcolor": "#E5ECF6",
            "gridcolor": "white",
            "gridwidth": 2,
            "linecolor": "white",
            "showbackground": true,
            "ticks": "",
            "zerolinecolor": "white"
           }
          },
          "shapedefaults": {
           "line": {
            "color": "#2a3f5f"
           }
          },
          "ternary": {
           "aaxis": {
            "gridcolor": "white",
            "linecolor": "white",
            "ticks": ""
           },
           "baxis": {
            "gridcolor": "white",
            "linecolor": "white",
            "ticks": ""
           },
           "bgcolor": "#E5ECF6",
           "caxis": {
            "gridcolor": "white",
            "linecolor": "white",
            "ticks": ""
           }
          },
          "title": {
           "x": 0.05
          },
          "xaxis": {
           "automargin": true,
           "gridcolor": "white",
           "linecolor": "white",
           "ticks": "",
           "title": {
            "standoff": 15
           },
           "zerolinecolor": "white",
           "zerolinewidth": 2
          },
          "yaxis": {
           "automargin": true,
           "gridcolor": "white",
           "linecolor": "white",
           "ticks": "",
           "title": {
            "standoff": 15
           },
           "zerolinecolor": "white",
           "zerolinewidth": 2
          }
         }
        }
       }
      }
     },
     "metadata": {},
     "output_type": "display_data"
    }
   ],
   "source": [
    "interact( make_map, house_list=fixed( sell_list ), region=f_zipcode, filters=f_filters );"
   ]
  }
 ],
 "metadata": {
  "hide_input": false,
  "kernelspec": {
   "display_name": "Python 3.9.12 ('houserocketsales')",
   "language": "python",
   "name": "python3"
  },
  "language_info": {
   "codemirror_mode": {
    "name": "ipython",
    "version": 3
   },
   "file_extension": ".py",
   "mimetype": "text/x-python",
   "name": "python",
   "nbconvert_exporter": "python",
   "pygments_lexer": "ipython3",
   "version": "3.9.12"
  },
  "vscode": {
   "interpreter": {
    "hash": "77bb0ab7f87f92e3b172b507f52e427f3f6cc921fca61a15ecb6888f90254f12"
   }
  }
 },
 "nbformat": 4,
 "nbformat_minor": 5
}
