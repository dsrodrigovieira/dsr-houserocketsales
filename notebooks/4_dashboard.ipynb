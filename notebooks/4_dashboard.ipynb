{
 "cells": [
  {
   "cell_type": "code",
   "execution_count": 2,
   "id": "31d0c30d",
   "metadata": {
    "ExecuteTime": {
     "end_time": "2022-01-15T19:54:50.385704Z",
     "start_time": "2022-01-15T19:54:49.006767Z"
    }
   },
   "outputs": [],
   "source": [
    "import pandas               as pd\n",
    "import seaborn              as sns\n",
    "import plotly.express       as px\n",
    "import plotly.graph_objects as go\n",
    "import ipywidgets           as widgets\n",
    "from ipywidgets      import fixed, interact, interact_manual\n",
    "from matplotlib      import pyplot as plt\n",
    "\n",
    "# set float type display format\n",
    "pd.set_option('display.float_format', lambda x: '%.2f' % x)\n",
    "# set plots size\n",
    "plt.rcParams['figure.figsize'] = [ 20, 10 ]"
   ]
  },
  {
   "cell_type": "markdown",
   "id": "628207b1",
   "metadata": {},
   "source": [
    "## 0. Carga"
   ]
  },
  {
   "cell_type": "code",
   "execution_count": 8,
   "id": "bde789e5",
   "metadata": {},
   "outputs": [
    {
     "name": "stdout",
     "output_type": "stream",
     "text": [
      "<class 'pandas.core.frame.DataFrame'>\n",
      "RangeIndex: 21436 entries, 0 to 21435\n",
      "Data columns (total 24 columns):\n",
      " #   Column          Non-Null Count  Dtype  \n",
      "---  ------          --------------  -----  \n",
      " 0   id              21436 non-null  int64  \n",
      " 1   date            21436 non-null  object \n",
      " 2   price           21436 non-null  float64\n",
      " 3   bedrooms        21436 non-null  int64  \n",
      " 4   bathrooms       21436 non-null  int64  \n",
      " 5   sqft_living     21436 non-null  int64  \n",
      " 6   sqft_lot        21436 non-null  int64  \n",
      " 7   floors          21436 non-null  int64  \n",
      " 8   waterfront      21436 non-null  int64  \n",
      " 9   view            21436 non-null  int64  \n",
      " 10  condition       21436 non-null  int64  \n",
      " 11  grade           21436 non-null  int64  \n",
      " 12  sqft_above      21436 non-null  int64  \n",
      " 13  sqft_basement   21436 non-null  int64  \n",
      " 14  yr_built        21436 non-null  int64  \n",
      " 15  yr_renovated    21436 non-null  int64  \n",
      " 16  zipcode         21436 non-null  int64  \n",
      " 17  lat             21436 non-null  float64\n",
      " 18  long            21436 non-null  float64\n",
      " 19  year            21436 non-null  int64  \n",
      " 20  month           21436 non-null  int64  \n",
      " 21  month_name      21436 non-null  object \n",
      " 22  season          21436 non-null  object \n",
      " 23  condition_type  21436 non-null  object \n",
      "dtypes: float64(3), int64(17), object(4)\n",
      "memory usage: 3.9+ MB\n",
      "None\n"
     ]
    },
    {
     "data": {
      "text/html": [
       "<div>\n",
       "<style scoped>\n",
       "    .dataframe tbody tr th:only-of-type {\n",
       "        vertical-align: middle;\n",
       "    }\n",
       "\n",
       "    .dataframe tbody tr th {\n",
       "        vertical-align: top;\n",
       "    }\n",
       "\n",
       "    .dataframe thead th {\n",
       "        text-align: right;\n",
       "    }\n",
       "</style>\n",
       "<table border=\"1\" class=\"dataframe\">\n",
       "  <thead>\n",
       "    <tr style=\"text-align: right;\">\n",
       "      <th></th>\n",
       "      <th>id</th>\n",
       "      <th>date</th>\n",
       "      <th>price</th>\n",
       "      <th>bedrooms</th>\n",
       "      <th>bathrooms</th>\n",
       "      <th>sqft_living</th>\n",
       "      <th>sqft_lot</th>\n",
       "      <th>floors</th>\n",
       "      <th>waterfront</th>\n",
       "      <th>view</th>\n",
       "      <th>...</th>\n",
       "      <th>yr_built</th>\n",
       "      <th>yr_renovated</th>\n",
       "      <th>zipcode</th>\n",
       "      <th>lat</th>\n",
       "      <th>long</th>\n",
       "      <th>year</th>\n",
       "      <th>month</th>\n",
       "      <th>month_name</th>\n",
       "      <th>season</th>\n",
       "      <th>condition_type</th>\n",
       "    </tr>\n",
       "  </thead>\n",
       "  <tbody>\n",
       "    <tr>\n",
       "      <th>0</th>\n",
       "      <td>7129300520</td>\n",
       "      <td>2014-10-13</td>\n",
       "      <td>221900.00</td>\n",
       "      <td>3</td>\n",
       "      <td>1</td>\n",
       "      <td>1180</td>\n",
       "      <td>5650</td>\n",
       "      <td>1</td>\n",
       "      <td>0</td>\n",
       "      <td>0</td>\n",
       "      <td>...</td>\n",
       "      <td>1955</td>\n",
       "      <td>0</td>\n",
       "      <td>98178</td>\n",
       "      <td>47.51</td>\n",
       "      <td>-122.26</td>\n",
       "      <td>2014</td>\n",
       "      <td>10</td>\n",
       "      <td>October</td>\n",
       "      <td>fall</td>\n",
       "      <td>regular</td>\n",
       "    </tr>\n",
       "    <tr>\n",
       "      <th>1</th>\n",
       "      <td>6414100192</td>\n",
       "      <td>2014-12-09</td>\n",
       "      <td>538000.00</td>\n",
       "      <td>3</td>\n",
       "      <td>2</td>\n",
       "      <td>2570</td>\n",
       "      <td>7242</td>\n",
       "      <td>2</td>\n",
       "      <td>0</td>\n",
       "      <td>0</td>\n",
       "      <td>...</td>\n",
       "      <td>1951</td>\n",
       "      <td>1991</td>\n",
       "      <td>98125</td>\n",
       "      <td>47.72</td>\n",
       "      <td>-122.32</td>\n",
       "      <td>2014</td>\n",
       "      <td>12</td>\n",
       "      <td>December</td>\n",
       "      <td>winter</td>\n",
       "      <td>regular</td>\n",
       "    </tr>\n",
       "    <tr>\n",
       "      <th>2</th>\n",
       "      <td>5631500400</td>\n",
       "      <td>2015-02-25</td>\n",
       "      <td>180000.00</td>\n",
       "      <td>2</td>\n",
       "      <td>1</td>\n",
       "      <td>770</td>\n",
       "      <td>10000</td>\n",
       "      <td>1</td>\n",
       "      <td>0</td>\n",
       "      <td>0</td>\n",
       "      <td>...</td>\n",
       "      <td>1933</td>\n",
       "      <td>0</td>\n",
       "      <td>98028</td>\n",
       "      <td>47.74</td>\n",
       "      <td>-122.23</td>\n",
       "      <td>2015</td>\n",
       "      <td>2</td>\n",
       "      <td>February</td>\n",
       "      <td>winter</td>\n",
       "      <td>regular</td>\n",
       "    </tr>\n",
       "    <tr>\n",
       "      <th>3</th>\n",
       "      <td>2487200875</td>\n",
       "      <td>2014-12-09</td>\n",
       "      <td>604000.00</td>\n",
       "      <td>4</td>\n",
       "      <td>3</td>\n",
       "      <td>1960</td>\n",
       "      <td>5000</td>\n",
       "      <td>1</td>\n",
       "      <td>0</td>\n",
       "      <td>0</td>\n",
       "      <td>...</td>\n",
       "      <td>1965</td>\n",
       "      <td>0</td>\n",
       "      <td>98136</td>\n",
       "      <td>47.52</td>\n",
       "      <td>-122.39</td>\n",
       "      <td>2014</td>\n",
       "      <td>12</td>\n",
       "      <td>December</td>\n",
       "      <td>winter</td>\n",
       "      <td>good</td>\n",
       "    </tr>\n",
       "    <tr>\n",
       "      <th>4</th>\n",
       "      <td>1954400510</td>\n",
       "      <td>2015-02-18</td>\n",
       "      <td>510000.00</td>\n",
       "      <td>3</td>\n",
       "      <td>2</td>\n",
       "      <td>1680</td>\n",
       "      <td>8080</td>\n",
       "      <td>1</td>\n",
       "      <td>0</td>\n",
       "      <td>0</td>\n",
       "      <td>...</td>\n",
       "      <td>1987</td>\n",
       "      <td>0</td>\n",
       "      <td>98074</td>\n",
       "      <td>47.62</td>\n",
       "      <td>-122.05</td>\n",
       "      <td>2015</td>\n",
       "      <td>2</td>\n",
       "      <td>February</td>\n",
       "      <td>winter</td>\n",
       "      <td>regular</td>\n",
       "    </tr>\n",
       "  </tbody>\n",
       "</table>\n",
       "<p>5 rows × 24 columns</p>\n",
       "</div>"
      ],
      "text/plain": [
       "           id        date     price  bedrooms  bathrooms  sqft_living  \\\n",
       "0  7129300520  2014-10-13 221900.00         3          1         1180   \n",
       "1  6414100192  2014-12-09 538000.00         3          2         2570   \n",
       "2  5631500400  2015-02-25 180000.00         2          1          770   \n",
       "3  2487200875  2014-12-09 604000.00         4          3         1960   \n",
       "4  1954400510  2015-02-18 510000.00         3          2         1680   \n",
       "\n",
       "   sqft_lot  floors  waterfront  view  ...  yr_built  yr_renovated  zipcode  \\\n",
       "0      5650       1           0     0  ...      1955             0    98178   \n",
       "1      7242       2           0     0  ...      1951          1991    98125   \n",
       "2     10000       1           0     0  ...      1933             0    98028   \n",
       "3      5000       1           0     0  ...      1965             0    98136   \n",
       "4      8080       1           0     0  ...      1987             0    98074   \n",
       "\n",
       "    lat    long  year  month  month_name  season  condition_type  \n",
       "0 47.51 -122.26  2014     10     October    fall         regular  \n",
       "1 47.72 -122.32  2014     12    December  winter         regular  \n",
       "2 47.74 -122.23  2015      2    February  winter         regular  \n",
       "3 47.52 -122.39  2014     12    December  winter            good  \n",
       "4 47.62 -122.05  2015      2    February  winter         regular  \n",
       "\n",
       "[5 rows x 24 columns]"
      ]
     },
     "execution_count": 8,
     "metadata": {},
     "output_type": "execute_result"
    }
   ],
   "source": [
    "data = pd.read_csv('../data/processed/kc_data.csv')\n",
    "print(data.info())\n",
    "data.head()"
   ]
  },
  {
   "cell_type": "code",
   "execution_count": 5,
   "id": "cf246465",
   "metadata": {
    "ExecuteTime": {
     "end_time": "2022-01-15T19:54:52.905633Z",
     "start_time": "2022-01-15T19:54:52.837381Z"
    }
   },
   "outputs": [
    {
     "name": "stdout",
     "output_type": "stream",
     "text": [
      "<class 'pandas.core.frame.DataFrame'>\n",
      "RangeIndex: 698 entries, 0 to 697\n",
      "Data columns (total 13 columns):\n",
      " #   Column         Non-Null Count  Dtype  \n",
      "---  ------         --------------  -----  \n",
      " 0   id             698 non-null    int64  \n",
      " 1   price          698 non-null    float64\n",
      " 2   zipcode        698 non-null    int64  \n",
      " 3   lat            698 non-null    float64\n",
      " 4   long           698 non-null    float64\n",
      " 5   year           698 non-null    int64  \n",
      " 6   month_name     698 non-null    object \n",
      " 7   season         698 non-null    object \n",
      " 8   sell_price     698 non-null    float64\n",
      " 9   profit         698 non-null    float64\n",
      " 10  address        698 non-null    object \n",
      " 11  neighbourhood  698 non-null    object \n",
      " 12  city           269 non-null    object \n",
      "dtypes: float64(5), int64(3), object(5)\n",
      "memory usage: 71.0+ KB\n",
      "None\n"
     ]
    },
    {
     "data": {
      "text/html": [
       "<div>\n",
       "<style scoped>\n",
       "    .dataframe tbody tr th:only-of-type {\n",
       "        vertical-align: middle;\n",
       "    }\n",
       "\n",
       "    .dataframe tbody tr th {\n",
       "        vertical-align: top;\n",
       "    }\n",
       "\n",
       "    .dataframe thead th {\n",
       "        text-align: right;\n",
       "    }\n",
       "</style>\n",
       "<table border=\"1\" class=\"dataframe\">\n",
       "  <thead>\n",
       "    <tr style=\"text-align: right;\">\n",
       "      <th></th>\n",
       "      <th>id</th>\n",
       "      <th>price</th>\n",
       "      <th>zipcode</th>\n",
       "      <th>lat</th>\n",
       "      <th>long</th>\n",
       "      <th>year</th>\n",
       "      <th>month_name</th>\n",
       "      <th>season</th>\n",
       "      <th>sell_price</th>\n",
       "      <th>profit</th>\n",
       "      <th>address</th>\n",
       "      <th>neighbourhood</th>\n",
       "      <th>city</th>\n",
       "    </tr>\n",
       "  </thead>\n",
       "  <tbody>\n",
       "    <tr>\n",
       "      <th>0</th>\n",
       "      <td>1202000200</td>\n",
       "      <td>233000.00</td>\n",
       "      <td>98002</td>\n",
       "      <td>47.30</td>\n",
       "      <td>-122.22</td>\n",
       "      <td>2014</td>\n",
       "      <td>November</td>\n",
       "      <td>summer</td>\n",
       "      <td>256300.00</td>\n",
       "      <td>23300.00</td>\n",
       "      <td>I Street Southeast, 316</td>\n",
       "      <td>King County</td>\n",
       "      <td>NaN</td>\n",
       "    </tr>\n",
       "    <tr>\n",
       "      <th>1</th>\n",
       "      <td>3303700376</td>\n",
       "      <td>667000.00</td>\n",
       "      <td>98112</td>\n",
       "      <td>47.62</td>\n",
       "      <td>-122.31</td>\n",
       "      <td>2014</td>\n",
       "      <td>December</td>\n",
       "      <td>fall</td>\n",
       "      <td>867100.00</td>\n",
       "      <td>200100.00</td>\n",
       "      <td>East Harrison Street, 1414</td>\n",
       "      <td>King County</td>\n",
       "      <td>Seattle</td>\n",
       "    </tr>\n",
       "    <tr>\n",
       "      <th>2</th>\n",
       "      <td>3253500160</td>\n",
       "      <td>317625.00</td>\n",
       "      <td>98144</td>\n",
       "      <td>47.57</td>\n",
       "      <td>-122.30</td>\n",
       "      <td>2014</td>\n",
       "      <td>November</td>\n",
       "      <td>spring</td>\n",
       "      <td>412912.50</td>\n",
       "      <td>95287.50</td>\n",
       "      <td>22nd Avenue South, 3214</td>\n",
       "      <td>King County</td>\n",
       "      <td>Seattle</td>\n",
       "    </tr>\n",
       "    <tr>\n",
       "      <th>3</th>\n",
       "      <td>2599001200</td>\n",
       "      <td>305000.00</td>\n",
       "      <td>98092</td>\n",
       "      <td>47.29</td>\n",
       "      <td>-122.19</td>\n",
       "      <td>2014</td>\n",
       "      <td>November</td>\n",
       "      <td>summer</td>\n",
       "      <td>335500.00</td>\n",
       "      <td>30500.00</td>\n",
       "      <td>Fir Street Southeast, 2020</td>\n",
       "      <td>King County</td>\n",
       "      <td>NaN</td>\n",
       "    </tr>\n",
       "    <tr>\n",
       "      <th>4</th>\n",
       "      <td>722079104</td>\n",
       "      <td>314000.00</td>\n",
       "      <td>98038</td>\n",
       "      <td>47.41</td>\n",
       "      <td>-121.96</td>\n",
       "      <td>2014</td>\n",
       "      <td>July</td>\n",
       "      <td>spring</td>\n",
       "      <td>408200.00</td>\n",
       "      <td>94200.00</td>\n",
       "      <td>290th Avenue Southeast, 21315</td>\n",
       "      <td>King County</td>\n",
       "      <td>NaN</td>\n",
       "    </tr>\n",
       "  </tbody>\n",
       "</table>\n",
       "</div>"
      ],
      "text/plain": [
       "           id     price  zipcode   lat    long  year month_name  season  \\\n",
       "0  1202000200 233000.00    98002 47.30 -122.22  2014   November  summer   \n",
       "1  3303700376 667000.00    98112 47.62 -122.31  2014   December    fall   \n",
       "2  3253500160 317625.00    98144 47.57 -122.30  2014   November  spring   \n",
       "3  2599001200 305000.00    98092 47.29 -122.19  2014   November  summer   \n",
       "4   722079104 314000.00    98038 47.41 -121.96  2014       July  spring   \n",
       "\n",
       "   sell_price    profit                        address neighbourhood     city  \n",
       "0   256300.00  23300.00        I Street Southeast, 316   King County      NaN  \n",
       "1   867100.00 200100.00     East Harrison Street, 1414   King County  Seattle  \n",
       "2   412912.50  95287.50        22nd Avenue South, 3214   King County  Seattle  \n",
       "3   335500.00  30500.00     Fir Street Southeast, 2020   King County      NaN  \n",
       "4   408200.00  94200.00  290th Avenue Southeast, 21315   King County      NaN  "
      ]
     },
     "execution_count": 5,
     "metadata": {},
     "output_type": "execute_result"
    }
   ],
   "source": [
    "sell_list = pd.read_csv('../data/processed/sell_list.csv')\n",
    "print(sell_list.info())\n",
    "sell_list.head()"
   ]
  },
  {
   "cell_type": "code",
   "execution_count": 7,
   "id": "3193b486",
   "metadata": {},
   "outputs": [
    {
     "name": "stdout",
     "output_type": "stream",
     "text": [
      "<class 'pandas.core.frame.DataFrame'>\n",
      "RangeIndex: 21436 entries, 0 to 21435\n",
      "Data columns (total 12 columns):\n",
      " #   Column           Non-Null Count  Dtype         \n",
      "---  ------           --------------  -----         \n",
      " 0   id               21436 non-null  int64         \n",
      " 1   date             21436 non-null  datetime64[ns]\n",
      " 2   price            21436 non-null  float64       \n",
      " 3   zipcode          21436 non-null  int64         \n",
      " 4   lat              21436 non-null  float64       \n",
      " 5   long             21436 non-null  float64       \n",
      " 6   year             21436 non-null  int64         \n",
      " 7   month_name       21436 non-null  object        \n",
      " 8   season           21436 non-null  object        \n",
      " 9   condition_type   21436 non-null  object        \n",
      " 10  regional_median  21436 non-null  float64       \n",
      " 11  buy              21436 non-null  object        \n",
      "dtypes: datetime64[ns](1), float64(4), int64(3), object(4)\n",
      "memory usage: 2.0+ MB\n",
      "None\n"
     ]
    },
    {
     "data": {
      "text/html": [
       "<div>\n",
       "<style scoped>\n",
       "    .dataframe tbody tr th:only-of-type {\n",
       "        vertical-align: middle;\n",
       "    }\n",
       "\n",
       "    .dataframe tbody tr th {\n",
       "        vertical-align: top;\n",
       "    }\n",
       "\n",
       "    .dataframe thead th {\n",
       "        text-align: right;\n",
       "    }\n",
       "</style>\n",
       "<table border=\"1\" class=\"dataframe\">\n",
       "  <thead>\n",
       "    <tr style=\"text-align: right;\">\n",
       "      <th></th>\n",
       "      <th>id</th>\n",
       "      <th>date</th>\n",
       "      <th>price</th>\n",
       "      <th>zipcode</th>\n",
       "      <th>lat</th>\n",
       "      <th>long</th>\n",
       "      <th>year</th>\n",
       "      <th>month_name</th>\n",
       "      <th>season</th>\n",
       "      <th>condition_type</th>\n",
       "      <th>regional_median</th>\n",
       "      <th>buy</th>\n",
       "    </tr>\n",
       "  </thead>\n",
       "  <tbody>\n",
       "    <tr>\n",
       "      <th>0</th>\n",
       "      <td>7129300520</td>\n",
       "      <td>2014-10-13</td>\n",
       "      <td>221900.00</td>\n",
       "      <td>98178</td>\n",
       "      <td>47.51</td>\n",
       "      <td>-122.26</td>\n",
       "      <td>2014</td>\n",
       "      <td>October</td>\n",
       "      <td>fall</td>\n",
       "      <td>regular</td>\n",
       "      <td>279500.00</td>\n",
       "      <td>n</td>\n",
       "    </tr>\n",
       "    <tr>\n",
       "      <th>1</th>\n",
       "      <td>6414100192</td>\n",
       "      <td>2014-12-09</td>\n",
       "      <td>538000.00</td>\n",
       "      <td>98125</td>\n",
       "      <td>47.72</td>\n",
       "      <td>-122.32</td>\n",
       "      <td>2014</td>\n",
       "      <td>December</td>\n",
       "      <td>winter</td>\n",
       "      <td>regular</td>\n",
       "      <td>425000.00</td>\n",
       "      <td>n</td>\n",
       "    </tr>\n",
       "    <tr>\n",
       "      <th>2</th>\n",
       "      <td>5631500400</td>\n",
       "      <td>2015-02-25</td>\n",
       "      <td>180000.00</td>\n",
       "      <td>98028</td>\n",
       "      <td>47.74</td>\n",
       "      <td>-122.23</td>\n",
       "      <td>2015</td>\n",
       "      <td>February</td>\n",
       "      <td>winter</td>\n",
       "      <td>regular</td>\n",
       "      <td>442500.00</td>\n",
       "      <td>n</td>\n",
       "    </tr>\n",
       "    <tr>\n",
       "      <th>3</th>\n",
       "      <td>2487200875</td>\n",
       "      <td>2014-12-09</td>\n",
       "      <td>604000.00</td>\n",
       "      <td>98136</td>\n",
       "      <td>47.52</td>\n",
       "      <td>-122.39</td>\n",
       "      <td>2014</td>\n",
       "      <td>December</td>\n",
       "      <td>winter</td>\n",
       "      <td>good</td>\n",
       "      <td>489950.00</td>\n",
       "      <td>n</td>\n",
       "    </tr>\n",
       "    <tr>\n",
       "      <th>4</th>\n",
       "      <td>1954400510</td>\n",
       "      <td>2015-02-18</td>\n",
       "      <td>510000.00</td>\n",
       "      <td>98074</td>\n",
       "      <td>47.62</td>\n",
       "      <td>-122.05</td>\n",
       "      <td>2015</td>\n",
       "      <td>February</td>\n",
       "      <td>winter</td>\n",
       "      <td>regular</td>\n",
       "      <td>645000.00</td>\n",
       "      <td>n</td>\n",
       "    </tr>\n",
       "  </tbody>\n",
       "</table>\n",
       "</div>"
      ],
      "text/plain": [
       "           id       date     price  zipcode   lat    long  year month_name  \\\n",
       "0  7129300520 2014-10-13 221900.00    98178 47.51 -122.26  2014    October   \n",
       "1  6414100192 2014-12-09 538000.00    98125 47.72 -122.32  2014   December   \n",
       "2  5631500400 2015-02-25 180000.00    98028 47.74 -122.23  2015   February   \n",
       "3  2487200875 2014-12-09 604000.00    98136 47.52 -122.39  2014   December   \n",
       "4  1954400510 2015-02-18 510000.00    98074 47.62 -122.05  2015   February   \n",
       "\n",
       "   season condition_type  regional_median buy  \n",
       "0    fall        regular        279500.00   n  \n",
       "1  winter        regular        425000.00   n  \n",
       "2  winter        regular        442500.00   n  \n",
       "3  winter           good        489950.00   n  \n",
       "4  winter        regular        645000.00   n  "
      ]
     },
     "execution_count": 7,
     "metadata": {},
     "output_type": "execute_result"
    }
   ],
   "source": [
    "purchase_list = pd.read_csv('../data/processed/purchase_list.csv',parse_dates=['date'])\n",
    "print(purchase_list.info())\n",
    "purchase_list.head()"
   ]
  },
  {
   "cell_type": "markdown",
   "id": "e82b6669",
   "metadata": {},
   "source": [
    "## 1. Dash"
   ]
  },
  {
   "cell_type": "code",
   "execution_count": 31,
   "id": "bafdb0f4",
   "metadata": {
    "ExecuteTime": {
     "end_time": "2022-01-15T18:46:39.085857Z",
     "start_time": "2022-01-15T18:46:38.429983Z"
    }
   },
   "outputs": [
    {
     "data": {
      "text/plain": [
       "71884784.6"
      ]
     },
     "execution_count": 31,
     "metadata": {},
     "output_type": "execute_result"
    }
   ],
   "source": [
    "# lucro total\n",
    "sell_list['profit'].sum()"
   ]
  },
  {
   "cell_type": "code",
   "execution_count": 32,
   "id": "59b37877",
   "metadata": {},
   "outputs": [
    {
     "data": {
      "text/html": [
       "<div>\n",
       "<style scoped>\n",
       "    .dataframe tbody tr th:only-of-type {\n",
       "        vertical-align: middle;\n",
       "    }\n",
       "\n",
       "    .dataframe tbody tr th {\n",
       "        vertical-align: top;\n",
       "    }\n",
       "\n",
       "    .dataframe thead th {\n",
       "        text-align: right;\n",
       "    }\n",
       "</style>\n",
       "<table border=\"1\" class=\"dataframe\">\n",
       "  <thead>\n",
       "    <tr style=\"text-align: right;\">\n",
       "      <th></th>\n",
       "      <th>zipcode</th>\n",
       "      <th>id</th>\n",
       "    </tr>\n",
       "  </thead>\n",
       "  <tbody>\n",
       "    <tr>\n",
       "      <th>0</th>\n",
       "      <td>98042</td>\n",
       "      <td>49</td>\n",
       "    </tr>\n",
       "    <tr>\n",
       "      <th>1</th>\n",
       "      <td>98056</td>\n",
       "      <td>48</td>\n",
       "    </tr>\n",
       "    <tr>\n",
       "      <th>2</th>\n",
       "      <td>98006</td>\n",
       "      <td>41</td>\n",
       "    </tr>\n",
       "  </tbody>\n",
       "</table>\n",
       "</div>"
      ],
      "text/plain": [
       "   zipcode  id\n",
       "0    98042  49\n",
       "1    98056  48\n",
       "2    98006  41"
      ]
     },
     "execution_count": 32,
     "metadata": {},
     "output_type": "execute_result"
    }
   ],
   "source": [
    "# top3 regions with more available houses to sell\n",
    "sell_list[['id','zipcode']].groupby('zipcode').count().sort_values('id',ascending=False).head(3).reset_index()"
   ]
  },
  {
   "cell_type": "code",
   "execution_count": 33,
   "id": "f10b9b45",
   "metadata": {},
   "outputs": [
    {
     "data": {
      "text/html": [
       "<div>\n",
       "<style scoped>\n",
       "    .dataframe tbody tr th:only-of-type {\n",
       "        vertical-align: middle;\n",
       "    }\n",
       "\n",
       "    .dataframe tbody tr th {\n",
       "        vertical-align: top;\n",
       "    }\n",
       "\n",
       "    .dataframe thead th {\n",
       "        text-align: right;\n",
       "    }\n",
       "</style>\n",
       "<table border=\"1\" class=\"dataframe\">\n",
       "  <thead>\n",
       "    <tr style=\"text-align: right;\">\n",
       "      <th></th>\n",
       "      <th>zipcode</th>\n",
       "      <th>profit</th>\n",
       "    </tr>\n",
       "  </thead>\n",
       "  <tbody>\n",
       "    <tr>\n",
       "      <th>0</th>\n",
       "      <td>98006</td>\n",
       "      <td>6945070.00</td>\n",
       "    </tr>\n",
       "    <tr>\n",
       "      <th>1</th>\n",
       "      <td>98056</td>\n",
       "      <td>3364235.00</td>\n",
       "    </tr>\n",
       "    <tr>\n",
       "      <th>2</th>\n",
       "      <td>98042</td>\n",
       "      <td>3133960.00</td>\n",
       "    </tr>\n",
       "  </tbody>\n",
       "</table>\n",
       "</div>"
      ],
      "text/plain": [
       "   zipcode     profit\n",
       "0    98006 6945070.00\n",
       "1    98056 3364235.00\n",
       "2    98042 3133960.00"
      ]
     },
     "execution_count": 33,
     "metadata": {},
     "output_type": "execute_result"
    }
   ],
   "source": [
    "# top3 most valuable regions\n",
    "sell_list[['profit','zipcode']].groupby('zipcode').sum().sort_values('profit',ascending=False).head(3).reset_index()"
   ]
  },
  {
   "cell_type": "code",
   "execution_count": 34,
   "metadata": {},
   "outputs": [
    {
     "data": {
      "text/html": [
       "<div>\n",
       "<style scoped>\n",
       "    .dataframe tbody tr th:only-of-type {\n",
       "        vertical-align: middle;\n",
       "    }\n",
       "\n",
       "    .dataframe tbody tr th {\n",
       "        vertical-align: top;\n",
       "    }\n",
       "\n",
       "    .dataframe thead th {\n",
       "        text-align: right;\n",
       "    }\n",
       "</style>\n",
       "<table border=\"1\" class=\"dataframe\">\n",
       "  <thead>\n",
       "    <tr style=\"text-align: right;\">\n",
       "      <th></th>\n",
       "      <th>season</th>\n",
       "      <th>zipcode</th>\n",
       "      <th>profit</th>\n",
       "    </tr>\n",
       "  </thead>\n",
       "  <tbody>\n",
       "    <tr>\n",
       "      <th>0</th>\n",
       "      <td>fall</td>\n",
       "      <td>98006</td>\n",
       "      <td>3153030.00</td>\n",
       "    </tr>\n",
       "    <tr>\n",
       "      <th>1</th>\n",
       "      <td>spring</td>\n",
       "      <td>98004</td>\n",
       "      <td>2408160.00</td>\n",
       "    </tr>\n",
       "    <tr>\n",
       "      <th>2</th>\n",
       "      <td>summer</td>\n",
       "      <td>98059</td>\n",
       "      <td>1614750.00</td>\n",
       "    </tr>\n",
       "    <tr>\n",
       "      <th>3</th>\n",
       "      <td>winter</td>\n",
       "      <td>98006</td>\n",
       "      <td>3002190.00</td>\n",
       "    </tr>\n",
       "  </tbody>\n",
       "</table>\n",
       "</div>"
      ],
      "text/plain": [
       "   season  zipcode     profit\n",
       "0    fall    98006 3153030.00\n",
       "1  spring    98004 2408160.00\n",
       "2  summer    98059 1614750.00\n",
       "3  winter    98006 3002190.00"
      ]
     },
     "execution_count": 34,
     "metadata": {},
     "output_type": "execute_result"
    }
   ],
   "source": [
    "# most valuable regions per season\n",
    "a = sell_list[['profit','zipcode','season']].groupby(['season','zipcode']).sum().sort_values(['season','profit'],ascending=False).reset_index()\n",
    "b = sell_list[['profit','zipcode','season']].groupby(['season','zipcode']).sum().groupby('season').max().reset_index()\n",
    "pd.merge(a,b,how='right', on=['season','profit'])"
   ]
  },
  {
   "cell_type": "markdown",
   "id": "c1ff7827",
   "metadata": {},
   "source": [
    "#### 3.1. Filtros"
   ]
  },
  {
   "cell_type": "code",
   "execution_count": 35,
   "id": "6cf9f458",
   "metadata": {},
   "outputs": [],
   "source": [
    "f_zipcode = widgets.Dropdown(\n",
    "    options = data['zipcode'].sort_values().unique().tolist(),\n",
    "    description = 'Zipcode',\n",
    "    disable = False\n",
    ")\n",
    "\n",
    "f_filters = widgets.Checkbox(\n",
    "    value=False,\n",
    "    description='Disable filter',\n",
    "    disabled=False,\n",
    "    indent=False\n",
    ")"
   ]
  },
  {
   "cell_type": "markdown",
   "id": "eb6b01ae",
   "metadata": {},
   "source": [
    "#### 3.2. Preço do imóveis"
   ]
  },
  {
   "cell_type": "code",
   "execution_count": 36,
   "id": "c03156f2",
   "metadata": {
    "ExecuteTime": {
     "end_time": "2022-01-15T01:39:10.480988Z",
     "start_time": "2022-01-15T01:39:10.471014Z"
    }
   },
   "outputs": [],
   "source": [
    "def data_viz( df, region ):\n",
    "    plot = df[df['zipcode']==region][['id','price','zipcode','regional_median','condition_type','buy']]\n",
    "    plot['color'] = plot['buy'].apply(lambda x: 'lightgray' if x == 'n' else 'blue')\n",
    "     \n",
    "    fig = go.Figure()\n",
    "    \n",
    "    # Add traces\n",
    "    fig.add_trace(go.Scatter(y=plot['price'], \n",
    "                        marker_color=plot['color'],\n",
    "                        mode='markers',\n",
    "                        text='ID: '+plot['id'].astype('string')+' | Region: '+plot['zipcode'].astype('string')+' | Condition: ' + plot['condition_type'] + ' | Price: US$' + plot['price'].astype('string'),\n",
    "                        name='Imovel'))\n",
    "\n",
    "    fig.add_trace(go.Scatter(y=plot['regional_median'],\n",
    "                        mode='lines',\n",
    "                        text='Region: '+plot['zipcode'].astype('string')+' | Median: US$' + plot['regional_median'].astype('string'),\n",
    "                        name='Mediana Regional'))\n",
    "    \n",
    "    fig.update_layout(\n",
    "        xaxis_title=\"Houses\",\n",
    "        yaxis_title=\"Aquisition cost\",\n",
    "        font=dict( color=\"#000000\" )\n",
    "    )\n",
    "\n",
    "    fig.show()\n",
    "    \n",
    "    return None"
   ]
  },
  {
   "cell_type": "code",
   "execution_count": 37,
   "id": "04c66076",
   "metadata": {
    "ExecuteTime": {
     "end_time": "2022-01-15T01:40:30.015183Z",
     "start_time": "2022-01-15T01:40:29.508966Z"
    }
   },
   "outputs": [
    {
     "data": {
      "application/vnd.jupyter.widget-view+json": {
       "model_id": "d11e5166aef64cafb4133e88356b284f",
       "version_major": 2,
       "version_minor": 0
      },
      "text/plain": [
       "interactive(children=(Dropdown(description='Zipcode', options=(98001, 98002, 98003, 98004, 98005, 98006, 98007…"
      ]
     },
     "metadata": {},
     "output_type": "display_data"
    },
    {
     "data": {
      "application/vnd.plotly.v1+json": {
       "config": {
        "plotlyServerURL": "https://plot.ly"
       },
       "data": [
        {
         "marker": {
          "color": [
           "lightgray",
           "lightgray",
           "lightgray",
           "lightgray",
           "lightgray",
           "lightgray",
           "lightgray",
           "blue",
           "lightgray",
           "lightgray",
           "lightgray",
           "lightgray",
           "lightgray",
           "lightgray",
           "lightgray",
           "lightgray",
           "lightgray",
           "blue",
           "lightgray",
           "lightgray",
           "lightgray",
           "lightgray",
           "lightgray",
           "lightgray",
           "lightgray",
           "lightgray",
           "lightgray",
           "lightgray",
           "lightgray",
           "lightgray",
           "lightgray",
           "lightgray",
           "lightgray",
           "lightgray",
           "lightgray",
           "lightgray",
           "lightgray",
           "lightgray",
           "lightgray",
           "lightgray",
           "lightgray",
           "blue",
           "lightgray",
           "lightgray",
           "lightgray",
           "lightgray",
           "lightgray",
           "lightgray",
           "lightgray",
           "lightgray",
           "blue",
           "lightgray",
           "lightgray",
           "lightgray",
           "lightgray",
           "lightgray",
           "lightgray",
           "lightgray",
           "lightgray",
           "lightgray",
           "lightgray",
           "lightgray",
           "lightgray",
           "lightgray",
           "lightgray",
           "lightgray",
           "blue",
           "lightgray",
           "lightgray",
           "lightgray",
           "lightgray",
           "lightgray",
           "lightgray",
           "lightgray",
           "lightgray",
           "lightgray",
           "lightgray",
           "lightgray",
           "lightgray",
           "lightgray",
           "lightgray",
           "lightgray",
           "lightgray",
           "lightgray",
           "lightgray",
           "lightgray",
           "lightgray",
           "lightgray",
           "lightgray",
           "lightgray",
           "lightgray",
           "lightgray",
           "lightgray",
           "lightgray",
           "lightgray",
           "lightgray",
           "lightgray",
           "lightgray",
           "lightgray",
           "lightgray",
           "lightgray",
           "lightgray",
           "blue",
           "lightgray",
           "lightgray",
           "lightgray",
           "lightgray",
           "lightgray",
           "lightgray",
           "lightgray",
           "lightgray",
           "lightgray",
           "lightgray",
           "lightgray",
           "lightgray",
           "lightgray",
           "lightgray",
           "lightgray",
           "lightgray",
           "lightgray",
           "lightgray",
           "lightgray",
           "lightgray",
           "lightgray",
           "lightgray",
           "lightgray",
           "blue",
           "lightgray",
           "lightgray",
           "lightgray",
           "lightgray",
           "lightgray",
           "lightgray",
           "lightgray",
           "lightgray",
           "lightgray",
           "lightgray",
           "blue",
           "lightgray",
           "lightgray",
           "lightgray",
           "lightgray",
           "lightgray",
           "lightgray",
           "lightgray",
           "lightgray",
           "lightgray",
           "lightgray",
           "lightgray",
           "lightgray",
           "lightgray",
           "lightgray",
           "lightgray",
           "lightgray",
           "lightgray",
           "lightgray",
           "lightgray",
           "lightgray",
           "lightgray",
           "lightgray",
           "lightgray",
           "lightgray",
           "lightgray",
           "lightgray",
           "lightgray",
           "lightgray",
           "lightgray",
           "lightgray",
           "lightgray",
           "lightgray",
           "lightgray",
           "lightgray",
           "lightgray",
           "lightgray",
           "blue",
           "lightgray",
           "lightgray",
           "lightgray",
           "lightgray",
           "lightgray",
           "lightgray",
           "lightgray",
           "lightgray",
           "lightgray",
           "blue",
           "lightgray",
           "lightgray",
           "lightgray",
           "lightgray",
           "lightgray",
           "lightgray",
           "lightgray",
           "lightgray",
           "lightgray",
           "lightgray",
           "lightgray",
           "lightgray",
           "lightgray",
           "lightgray",
           "lightgray",
           "lightgray",
           "lightgray",
           "lightgray",
           "lightgray",
           "lightgray",
           "lightgray",
           "lightgray",
           "lightgray",
           "lightgray",
           "lightgray",
           "lightgray",
           "lightgray",
           "lightgray",
           "lightgray",
           "lightgray",
           "lightgray",
           "lightgray",
           "lightgray",
           "lightgray",
           "lightgray",
           "lightgray",
           "lightgray",
           "lightgray",
           "lightgray",
           "lightgray",
           "lightgray",
           "lightgray",
           "lightgray",
           "lightgray",
           "lightgray",
           "lightgray",
           "lightgray",
           "lightgray",
           "lightgray",
           "lightgray",
           "lightgray",
           "lightgray",
           "lightgray",
           "lightgray",
           "lightgray",
           "lightgray",
           "lightgray",
           "lightgray",
           "lightgray",
           "lightgray",
           "lightgray",
           "lightgray",
           "lightgray",
           "lightgray",
           "lightgray",
           "lightgray",
           "lightgray",
           "lightgray",
           "lightgray",
           "blue",
           "lightgray",
           "lightgray",
           "lightgray",
           "lightgray",
           "lightgray",
           "lightgray",
           "lightgray",
           "lightgray",
           "lightgray",
           "lightgray",
           "lightgray",
           "lightgray",
           "lightgray",
           "lightgray",
           "lightgray",
           "lightgray",
           "lightgray",
           "lightgray",
           "lightgray",
           "lightgray",
           "lightgray",
           "lightgray",
           "lightgray",
           "lightgray",
           "lightgray",
           "lightgray",
           "lightgray",
           "lightgray",
           "lightgray",
           "lightgray",
           "lightgray",
           "lightgray",
           "lightgray",
           "lightgray",
           "lightgray",
           "lightgray",
           "lightgray",
           "lightgray",
           "lightgray",
           "lightgray",
           "lightgray",
           "lightgray",
           "lightgray",
           "lightgray",
           "lightgray",
           "lightgray",
           "lightgray",
           "lightgray",
           "lightgray",
           "lightgray",
           "lightgray",
           "blue",
           "lightgray",
           "lightgray",
           "lightgray",
           "lightgray",
           "lightgray",
           "lightgray",
           "lightgray",
           "lightgray",
           "lightgray",
           "lightgray",
           "lightgray",
           "lightgray",
           "lightgray",
           "lightgray",
           "lightgray",
           "lightgray",
           "lightgray",
           "lightgray",
           "lightgray",
           "lightgray",
           "lightgray",
           "lightgray",
           "lightgray",
           "lightgray",
           "lightgray",
           "lightgray",
           "lightgray",
           "lightgray",
           "lightgray",
           "lightgray",
           "lightgray",
           "lightgray",
           "lightgray",
           "lightgray",
           "lightgray",
           "lightgray",
           "lightgray",
           "lightgray",
           "lightgray",
           "lightgray",
           "lightgray",
           "lightgray",
           "lightgray",
           "lightgray",
           "lightgray",
           "lightgray",
           "lightgray",
           "lightgray",
           "lightgray",
           "lightgray",
           "lightgray",
           "lightgray"
          ]
         },
         "mode": "markers",
         "name": "Imovel",
         "text": [
          "ID: 7895500070 | Region: 98001 | Condition: bad | Price: US$240000.0",
          "ID: 3717000160 | Region: 98001 | Condition: regular | Price: US$287000.0",
          "ID: 8961960160 | Region: 98001 | Condition: regular | Price: US$480000.0",
          "ID: 4014400292 | Region: 98001 | Condition: regular | Price: US$465000.0",
          "ID: 1115450240 | Region: 98001 | Condition: regular | Price: US$360000.0",
          "ID: 3353400435 | Region: 98001 | Condition: regular | Price: US$230000.0",
          "ID: 9262800171 | Region: 98001 | Condition: regular | Price: US$252000.0",
          "ID: 3353401710 | Region: 98001 | Condition: good | Price: US$227950.0",
          "ID: 8159610030 | Region: 98001 | Condition: regular | Price: US$196000.0",
          "ID: 3329500060 | Region: 98001 | Condition: regular | Price: US$305000.0",
          "ID: 7967200060 | Region: 98001 | Condition: regular | Price: US$243000.0",
          "ID: 8159610060 | Region: 98001 | Condition: regular | Price: US$233000.0",
          "ID: 5066400483 | Region: 98001 | Condition: regular | Price: US$249900.0",
          "ID: 3329530200 | Region: 98001 | Condition: regular | Price: US$205000.0",
          "ID: 5462100240 | Region: 98001 | Condition: regular | Price: US$196500.0",
          "ID: 8856004730 | Region: 98001 | Condition: regular | Price: US$199950.0",
          "ID: 8001400340 | Region: 98001 | Condition: regular | Price: US$289000.0",
          "ID: 3353400860 | Region: 98001 | Condition: good | Price: US$249900.0",
          "ID: 3751600030 | Region: 98001 | Condition: regular | Price: US$100000.0",
          "ID: 4401150070 | Region: 98001 | Condition: regular | Price: US$320000.0",
          "ID: 1687000270 | Region: 98001 | Condition: regular | Price: US$267000.0",
          "ID: 3751604974 | Region: 98001 | Condition: regular | Price: US$350000.0",
          "ID: 2214800270 | Region: 98001 | Condition: regular | Price: US$355000.0",
          "ID: 1311100520 | Region: 98001 | Condition: regular | Price: US$250000.0",
          "ID: 5412100550 | Region: 98001 | Condition: regular | Price: US$355000.0",
          "ID: 5515600075 | Region: 98001 | Condition: regular | Price: US$299000.0",
          "ID: 6181430800 | Region: 98001 | Condition: regular | Price: US$330000.0",
          "ID: 3356406510 | Region: 98001 | Condition: regular | Price: US$196440.0",
          "ID: 9510930350 | Region: 98001 | Condition: regular | Price: US$429000.0",
          "ID: 5402100045 | Region: 98001 | Condition: regular | Price: US$189950.0",
          "ID: 3751602329 | Region: 98001 | Condition: regular | Price: US$215500.0",
          "ID: 3356404330 | Region: 98001 | Condition: regular | Price: US$206000.0",
          "ID: 3874000240 | Region: 98001 | Condition: regular | Price: US$210000.0",
          "ID: 8159620160 | Region: 98001 | Condition: regular | Price: US$284200.0",
          "ID: 5651500140 | Region: 98001 | Condition: regular | Price: US$272000.0",
          "ID: 7967600069 | Region: 98001 | Condition: regular | Price: US$185000.0",
          "ID: 7351000160 | Region: 98001 | Condition: regular | Price: US$332000.0",
          "ID: 3354400060 | Region: 98001 | Condition: regular | Price: US$238000.0",
          "ID: 5413200140 | Region: 98001 | Condition: regular | Price: US$213550.0",
          "ID: 5556800260 | Region: 98001 | Condition: regular | Price: US$230000.0",
          "ID: 128500260 | Region: 98001 | Condition: regular | Price: US$262000.0",
          "ID: 303000445 | Region: 98001 | Condition: good | Price: US$175000.0",
          "ID: 8856004400 | Region: 98001 | Condition: regular | Price: US$235000.0",
          "ID: 7696600240 | Region: 98001 | Condition: regular | Price: US$165000.0",
          "ID: 1687000240 | Region: 98001 | Condition: regular | Price: US$276000.0",
          "ID: 1312920060 | Region: 98001 | Condition: regular | Price: US$265000.0",
          "ID: 1687000200 | Region: 98001 | Condition: regular | Price: US$259000.0",
          "ID: 2366800055 | Region: 98001 | Condition: regular | Price: US$225000.0",
          "ID: 2595650060 | Region: 98001 | Condition: regular | Price: US$354450.0",
          "ID: 2408600160 | Region: 98001 | Condition: regular | Price: US$352000.0",
          "ID: 3750605349 | Region: 98001 | Condition: good | Price: US$210500.0",
          "ID: 3750603732 | Region: 98001 | Condition: regular | Price: US$276000.0",
          "ID: 2744000100 | Region: 98001 | Condition: regular | Price: US$299950.0",
          "ID: 3751604169 | Region: 98001 | Condition: regular | Price: US$279000.0",
          "ID: 221049191 | Region: 98001 | Condition: good | Price: US$329500.0",
          "ID: 3751600176 | Region: 98001 | Condition: regular | Price: US$196000.0",
          "ID: 3521049048 | Region: 98001 | Condition: regular | Price: US$515000.0",
          "ID: 3356407665 | Region: 98001 | Condition: regular | Price: US$180000.0",
          "ID: 2721049059 | Region: 98001 | Condition: regular | Price: US$225000.0",
          "ID: 3356403820 | Region: 98001 | Condition: regular | Price: US$115000.0",
          "ID: 5647900930 | Region: 98001 | Condition: regular | Price: US$195000.0",
          "ID: 6648760100 | Region: 98001 | Condition: regular | Price: US$299950.0",
          "ID: 3751600457 | Region: 98001 | Condition: regular | Price: US$299000.0",
          "ID: 7585000110 | Region: 98001 | Condition: regular | Price: US$201700.0",
          "ID: 5515600088 | Region: 98001 | Condition: regular | Price: US$194820.0",
          "ID: 3329510850 | Region: 98001 | Condition: regular | Price: US$286950.0",
          "ID: 1311000600 | Region: 98001 | Condition: good | Price: US$250000.0",
          "ID: 304100090 | Region: 98001 | Condition: regular | Price: US$215000.0",
          "ID: 3751603173 | Region: 98001 | Condition: regular | Price: US$212500.0",
          "ID: 3751601501 | Region: 98001 | Condition: regular | Price: US$382450.0",
          "ID: 9262800057 | Region: 98001 | Condition: bad | Price: US$269950.0",
          "ID: 1311300100 | Region: 98001 | Condition: regular | Price: US$221000.0",
          "ID: 3751606513 | Region: 98001 | Condition: regular | Price: US$263400.0",
          "ID: 4013800131 | Region: 98001 | Condition: regular | Price: US$267500.0",
          "ID: 1312200080 | Region: 98001 | Condition: regular | Price: US$224000.0",
          "ID: 6181430280 | Region: 98001 | Condition: regular | Price: US$330000.0",
          "ID: 302000545 | Region: 98001 | Condition: regular | Price: US$359000.0",
          "ID: 7237590010 | Region: 98001 | Condition: regular | Price: US$214100.0",
          "ID: 4014400190 | Region: 98001 | Condition: regular | Price: US$482000.0",
          "ID: 5647900670 | Region: 98001 | Condition: regular | Price: US$340000.0",
          "ID: 5729000080 | Region: 98001 | Condition: regular | Price: US$465000.0",
          "ID: 5412101150 | Region: 98001 | Condition: regular | Price: US$299000.0",
          "ID: 1311500020 | Region: 98001 | Condition: regular | Price: US$198000.0",
          "ID: 5556900080 | Region: 98001 | Condition: regular | Price: US$169000.0",
          "ID: 4031000290 | Region: 98001 | Condition: regular | Price: US$195000.0",
          "ID: 3329520170 | Region: 98001 | Condition: regular | Price: US$250000.0",
          "ID: 7696600020 | Region: 98001 | Condition: regular | Price: US$260000.0",
          "ID: 9262800294 | Region: 98001 | Condition: regular | Price: US$260000.0",
          "ID: 3914000095 | Region: 98001 | Condition: regular | Price: US$430000.0",
          "ID: 7967650010 | Region: 98001 | Condition: regular | Price: US$339000.0",
          "ID: 6181400470 | Region: 98001 | Condition: regular | Price: US$215000.0",
          "ID: 6085000130 | Region: 98001 | Condition: regular | Price: US$230000.0",
          "ID: 3328500250 | Region: 98001 | Condition: regular | Price: US$285000.0",
          "ID: 321049127 | Region: 98001 | Condition: regular | Price: US$277500.0",
          "ID: 2005950050 | Region: 98001 | Condition: regular | Price: US$260000.0",
          "ID: 3522049063 | Region: 98001 | Condition: regular | Price: US$639900.0",
          "ID: 2085700050 | Region: 98001 | Condition: regular | Price: US$420000.0",
          "ID: 8001210170 | Region: 98001 | Condition: regular | Price: US$275000.0",
          "ID: 2214800630 | Region: 98001 | Condition: regular | Price: US$239950.0",
          "ID: 3751605432 | Region: 98001 | Condition: regular | Price: US$239950.0",
          "ID: 3356404198 | Region: 98001 | Condition: regular | Price: US$286000.0",
          "ID: 9262800255 | Region: 98001 | Condition: regular | Price: US$280000.0",
          "ID: 321049090 | Region: 98001 | Condition: good | Price: US$254000.0",
          "ID: 5706600170 | Region: 98001 | Condition: bad | Price: US$204900.0",
          "ID: 3322049005 | Region: 98001 | Condition: bad | Price: US$850000.0",
          "ID: 7895500290 | Region: 98001 | Condition: regular | Price: US$265000.0",
          "ID: 4012800050 | Region: 98001 | Condition: regular | Price: US$175000.0",
          "ID: 304100010 | Region: 98001 | Condition: regular | Price: US$269500.0",
          "ID: 6181400920 | Region: 98001 | Condition: regular | Price: US$286651.0",
          "ID: 6084601060 | Region: 98001 | Condition: regular | Price: US$270000.0",
          "ID: 1021049022 | Region: 98001 | Condition: regular | Price: US$415000.0",
          "ID: 3329530480 | Region: 98001 | Condition: regular | Price: US$241000.0",
          "ID: 255580190 | Region: 98001 | Condition: regular | Price: US$302000.0",
          "ID: 1311200460 | Region: 98001 | Condition: regular | Price: US$265000.0",
          "ID: 7967600285 | Region: 98001 | Condition: regular | Price: US$449888.0",
          "ID: 6084600660 | Region: 98001 | Condition: regular | Price: US$263000.0",
          "ID: 8961950250 | Region: 98001 | Condition: regular | Price: US$384000.0",
          "ID: 7967200290 | Region: 98001 | Condition: regular | Price: US$190000.0",
          "ID: 6143600580 | Region: 98001 | Condition: regular | Price: US$184000.0",
          "ID: 8856004328 | Region: 98001 | Condition: regular | Price: US$255000.0",
          "ID: 4031700210 | Region: 98001 | Condition: regular | Price: US$220000.0",
          "ID: 1311400120 | Region: 98001 | Condition: regular | Price: US$160000.0",
          "ID: 303000220 | Region: 98001 | Condition: regular | Price: US$375000.0",
          "ID: 3750605620 | Region: 98001 | Condition: regular | Price: US$225000.0",
          "ID: 2214800110 | Region: 98001 | Condition: regular | Price: US$259900.0",
          "ID: 1311910300 | Region: 98001 | Condition: regular | Price: US$260000.0",
          "ID: 4463400195 | Region: 98001 | Condition: good | Price: US$170000.0",
          "ID: 6649250410 | Region: 98001 | Condition: regular | Price: US$317000.0",
          "ID: 1864940180 | Region: 98001 | Condition: regular | Price: US$335000.0",
          "ID: 2595650100 | Region: 98001 | Condition: regular | Price: US$359500.0",
          "ID: 2616700450 | Region: 98001 | Condition: regular | Price: US$248000.0",
          "ID: 3876600120 | Region: 98001 | Condition: regular | Price: US$265000.0",
          "ID: 5706600150 | Region: 98001 | Condition: regular | Price: US$215000.0",
          "ID: 3751600025 | Region: 98001 | Condition: regular | Price: US$139000.0",
          "ID: 5066400564 | Region: 98001 | Condition: regular | Price: US$199129.0",
          "ID: 1687000220 | Region: 98001 | Condition: regular | Price: US$285000.0",
          "ID: 3750607974 | Region: 98001 | Condition: regular | Price: US$280000.0",
          "ID: 3750603940 | Region: 98001 | Condition: good | Price: US$240000.0",
          "ID: 2048000330 | Region: 98001 | Condition: regular | Price: US$214000.0",
          "ID: 1687000210 | Region: 98001 | Condition: regular | Price: US$275000.0",
          "ID: 1311100490 | Region: 98001 | Condition: regular | Price: US$274000.0",
          "ID: 5556800150 | Region: 98001 | Condition: regular | Price: US$204700.0",
          "ID: 302000375 | Region: 98001 | Condition: regular | Price: US$250000.0",
          "ID: 4045700115 | Region: 98001 | Condition: regular | Price: US$370000.0",
          "ID: 4420600015 | Region: 98001 | Condition: regular | Price: US$571500.0",
          "ID: 9543000945 | Region: 98001 | Condition: regular | Price: US$182500.0",
          "ID: 3751601785 | Region: 98001 | Condition: regular | Price: US$551870.0",
          "ID: 5647900120 | Region: 98001 | Condition: regular | Price: US$250600.0",
          "ID: 3914000090 | Region: 98001 | Condition: regular | Price: US$541500.0",
          "ID: 8159620260 | Region: 98001 | Condition: regular | Price: US$303000.0",
          "ID: 4031000260 | Region: 98001 | Condition: regular | Price: US$200000.0",
          "ID: 7982600030 | Region: 98001 | Condition: regular | Price: US$219000.0",
          "ID: 2730000070 | Region: 98001 | Condition: regular | Price: US$225000.0",
          "ID: 6648770240 | Region: 98001 | Condition: regular | Price: US$360000.0",
          "ID: 3353402400 | Region: 98001 | Condition: regular | Price: US$124500.0",
          "ID: 8947250060 | Region: 98001 | Condition: regular | Price: US$292500.0",
          "ID: 1311600030 | Region: 98001 | Condition: regular | Price: US$270000.0",
          "ID: 3353404510 | Region: 98001 | Condition: regular | Price: US$305000.0",
          "ID: 2616700520 | Region: 98001 | Condition: regular | Price: US$285000.0",
          "ID: 3750603471 | Region: 98001 | Condition: regular | Price: US$239950.0",
          "ID: 1311900240 | Region: 98001 | Condition: regular | Price: US$226500.0",
          "ID: 8001450060 | Region: 98001 | Condition: regular | Price: US$370000.0",
          "ID: 8856004327 | Region: 98001 | Condition: regular | Price: US$248000.0",
          "ID: 5412100240 | Region: 98001 | Condition: regular | Price: US$340000.0",
          "ID: 7696610270 | Region: 98001 | Condition: regular | Price: US$238000.0",
          "ID: 2616700560 | Region: 98001 | Condition: regular | Price: US$250000.0",
          "ID: 1311800560 | Region: 98001 | Condition: regular | Price: US$209000.0",
          "ID: 3751602797 | Region: 98001 | Condition: regular | Price: US$411000.0",
          "ID: 3751601171 | Region: 98001 | Condition: regular | Price: US$229500.0",
          "ID: 3422049276 | Region: 98001 | Condition: regular | Price: US$310000.0",
          "ID: 3750605247 | Region: 98001 | Condition: regular | Price: US$255000.0",
          "ID: 1460900030 | Region: 98001 | Condition: regular | Price: US$280000.0",
          "ID: 5515600163 | Region: 98001 | Condition: regular | Price: US$420000.0",
          "ID: 8001100030 | Region: 98001 | Condition: regular | Price: US$256000.0",
          "ID: 7905400160 | Region: 98001 | Condition: good | Price: US$246900.0",
          "ID: 3750600566 | Region: 98001 | Condition: regular | Price: US$199950.0",
          "ID: 5530000030 | Region: 98001 | Condition: regular | Price: US$233000.0",
          "ID: 3329510200 | Region: 98001 | Condition: regular | Price: US$299900.0",
          "ID: 4031700030 | Region: 98001 | Condition: regular | Price: US$299999.0",
          "ID: 2730000270 | Region: 98001 | Condition: regular | Price: US$178500.0",
          "ID: 9262800002 | Region: 98001 | Condition: regular | Price: US$232000.0",
          "ID: 3329530030 | Region: 98001 | Condition: regular | Price: US$271920.0",
          "ID: 7696610240 | Region: 98001 | Condition: regular | Price: US$257000.0",
          "ID: 304100070 | Region: 98001 | Condition: regular | Price: US$210000.0",
          "ID: 1311000270 | Region: 98001 | Condition: good | Price: US$247000.0",
          "ID: 4031000520 | Region: 98001 | Condition: regular | Price: US$227000.0",
          "ID: 8856004582 | Region: 98001 | Condition: regular | Price: US$198000.0",
          "ID: 8856001090 | Region: 98001 | Condition: regular | Price: US$185900.0",
          "ID: 1311400350 | Region: 98001 | Condition: regular | Price: US$235000.0",
          "ID: 7895500550 | Region: 98001 | Condition: regular | Price: US$190848.0",
          "ID: 2730500140 | Region: 98001 | Condition: regular | Price: US$314950.0",
          "ID: 3750603492 | Region: 98001 | Condition: regular | Price: US$185000.0",
          "ID: 3353400120 | Region: 98001 | Condition: regular | Price: US$174000.0",
          "ID: 302000065 | Region: 98001 | Condition: regular | Price: US$184000.0",
          "ID: 2595650220 | Region: 98001 | Condition: regular | Price: US$313100.0",
          "ID: 3751600146 | Region: 98001 | Condition: regular | Price: US$166000.0",
          "ID: 3751604895 | Region: 98001 | Condition: regular | Price: US$165000.0",
          "ID: 4014400237 | Region: 98001 | Condition: regular | Price: US$132500.0",
          "ID: 7968000120 | Region: 98001 | Condition: regular | Price: US$290000.0",
          "ID: 7905400040 | Region: 98001 | Condition: regular | Price: US$206000.0",
          "ID: 7967950040 | Region: 98001 | Condition: regular | Price: US$485000.0",
          "ID: 5647900650 | Region: 98001 | Condition: regular | Price: US$500000.0",
          "ID: 4013200145 | Region: 98001 | Condition: regular | Price: US$429000.0",
          "ID: 3750605674 | Region: 98001 | Condition: regular | Price: US$270000.0",
          "ID: 9265400210 | Region: 98001 | Condition: regular | Price: US$227000.0",
          "ID: 1329500120 | Region: 98001 | Condition: regular | Price: US$300000.0",
          "ID: 3599600150 | Region: 98001 | Condition: regular | Price: US$201000.0",
          "ID: 6699300330 | Region: 98001 | Condition: regular | Price: US$372000.0",
          "ID: 5515600087 | Region: 98001 | Condition: regular | Price: US$215000.0",
          "ID: 2482500040 | Region: 98001 | Condition: regular | Price: US$199900.0",
          "ID: 1021049057 | Region: 98001 | Condition: regular | Price: US$207000.0",
          "ID: 7967900150 | Region: 98001 | Condition: regular | Price: US$367950.0",
          "ID: 3751606606 | Region: 98001 | Condition: good | Price: US$262500.0",
          "ID: 3874010220 | Region: 98001 | Condition: regular | Price: US$289000.0",
          "ID: 8001600150 | Region: 98001 | Condition: regular | Price: US$300000.0",
          "ID: 6699300210 | Region: 98001 | Condition: regular | Price: US$321500.0",
          "ID: 3329520410 | Region: 98001 | Condition: regular | Price: US$245000.0",
          "ID: 4013800206 | Region: 98001 | Condition: regular | Price: US$199000.0",
          "ID: 2460600040 | Region: 98001 | Condition: regular | Price: US$175000.0",
          "ID: 9543000205 | Region: 98001 | Condition: regular | Price: US$139950.0",
          "ID: 2154900330 | Region: 98001 | Condition: regular | Price: US$234000.0",
          "ID: 8159610150 | Region: 98001 | Condition: regular | Price: US$234950.0",
          "ID: 3353402390 | Region: 98001 | Condition: regular | Price: US$171500.0",
          "ID: 8001210120 | Region: 98001 | Condition: regular | Price: US$234500.0",
          "ID: 3422049158 | Region: 98001 | Condition: regular | Price: US$246000.0",
          "ID: 3329500730 | Region: 98001 | Condition: regular | Price: US$220000.0",
          "ID: 6143600555 | Region: 98001 | Condition: regular | Price: US$229950.0",
          "ID: 7436200040 | Region: 98001 | Condition: regular | Price: US$290000.0",
          "ID: 3750603685 | Region: 98001 | Condition: regular | Price: US$250000.0",
          "ID: 3599600276 | Region: 98001 | Condition: bad | Price: US$215500.0",
          "ID: 3421049044 | Region: 98001 | Condition: regular | Price: US$289000.0",
          "ID: 1311800220 | Region: 98001 | Condition: regular | Price: US$234950.0",
          "ID: 1311600020 | Region: 98001 | Condition: regular | Price: US$285000.0",
          "ID: 3751606785 | Region: 98001 | Condition: regular | Price: US$335000.0",
          "ID: 6306100190 | Region: 98001 | Condition: regular | Price: US$220000.0",
          "ID: 2595650170 | Region: 98001 | Condition: regular | Price: US$367300.0",
          "ID: 9264000010 | Region: 98001 | Condition: regular | Price: US$535000.0",
          "ID: 3717000250 | Region: 98001 | Condition: regular | Price: US$321000.0",
          "ID: 3353400840 | Region: 98001 | Condition: regular | Price: US$230000.0",
          "ID: 8001600130 | Region: 98001 | Condition: regular | Price: US$289950.0",
          "ID: 5412100920 | Region: 98001 | Condition: regular | Price: US$250000.0",
          "ID: 3876500290 | Region: 98001 | Condition: regular | Price: US$175000.0",
          "ID: 4012800010 | Region: 98001 | Condition: good | Price: US$360000.0",
          "ID: 3422049088 | Region: 98001 | Condition: regular | Price: US$389000.0",
          "ID: 8856000545 | Region: 98001 | Condition: regular | Price: US$100000.0",
          "ID: 1311800130 | Region: 98001 | Condition: regular | Price: US$162500.0",
          "ID: 3751602249 | Region: 98001 | Condition: regular | Price: US$205000.0",
          "ID: 8961950050 | Region: 98001 | Condition: regular | Price: US$409000.0",
          "ID: 3750604417 | Region: 98001 | Condition: regular | Price: US$172500.0",
          "ID: 6084600420 | Region: 98001 | Condition: regular | Price: US$245000.0",
          "ID: 7696630170 | Region: 98001 | Condition: regular | Price: US$276000.0",
          "ID: 3751600635 | Region: 98001 | Condition: regular | Price: US$264500.0",
          "ID: 3356403304 | Region: 98001 | Condition: regular | Price: US$154000.0",
          "ID: 3356403140 | Region: 98001 | Condition: regular | Price: US$225000.0",
          "ID: 321049193 | Region: 98001 | Condition: good | Price: US$215000.0",
          "ID: 9264030470 | Region: 98001 | Condition: regular | Price: US$455000.0",
          "ID: 3275910020 | Region: 98001 | Condition: regular | Price: US$340000.0",
          "ID: 9265410010 | Region: 98001 | Condition: regular | Price: US$212000.0",
          "ID: 2895550050 | Region: 98001 | Condition: regular | Price: US$280000.0",
          "ID: 8001450170 | Region: 98001 | Condition: regular | Price: US$274950.0",
          "ID: 2895550280 | Region: 98001 | Condition: regular | Price: US$280000.0",
          "ID: 2214800170 | Region: 98001 | Condition: regular | Price: US$295000.0",
          "ID: 5419000050 | Region: 98001 | Condition: regular | Price: US$338500.0",
          "ID: 3751600430 | Region: 98001 | Condition: regular | Price: US$250000.0",
          "ID: 2895550190 | Region: 98001 | Condition: regular | Price: US$245000.0",
          "ID: 9543000896 | Region: 98001 | Condition: regular | Price: US$237000.0",
          "ID: 6306100080 | Region: 98001 | Condition: regular | Price: US$234950.0",
          "ID: 5530000050 | Region: 98001 | Condition: regular | Price: US$278000.0",
          "ID: 1311200380 | Region: 98001 | Condition: regular | Price: US$210000.0",
          "ID: 4031000250 | Region: 98001 | Condition: regular | Price: US$150000.0",
          "ID: 3354400545 | Region: 98001 | Condition: regular | Price: US$190000.0",
          "ID: 7696500280 | Region: 98001 | Condition: regular | Price: US$182500.0",
          "ID: 6143000020 | Region: 98001 | Condition: regular | Price: US$299000.0",
          "ID: 7696630080 | Region: 98001 | Condition: regular | Price: US$197000.0",
          "ID: 2460500020 | Region: 98001 | Condition: regular | Price: US$305000.0",
          "ID: 2744000010 | Region: 98001 | Condition: regular | Price: US$287600.0",
          "ID: 2817850290 | Region: 98001 | Condition: regular | Price: US$258000.0",
          "ID: 4031000460 | Region: 98001 | Condition: regular | Price: US$199500.0",
          "ID: 3750606890 | Region: 98001 | Condition: regular | Price: US$220000.0",
          "ID: 3356402232 | Region: 98001 | Condition: regular | Price: US$179900.0",
          "ID: 3751606514 | Region: 98001 | Condition: regular | Price: US$270000.0",
          "ID: 9264030040 | Region: 98001 | Condition: regular | Price: US$425000.0",
          "ID: 2214800730 | Region: 98001 | Condition: regular | Price: US$287500.0",
          "ID: 1521049156 | Region: 98001 | Condition: regular | Price: US$255000.0",
          "ID: 6648760150 | Region: 98001 | Condition: regular | Price: US$315000.0",
          "ID: 4045700455 | Region: 98001 | Condition: regular | Price: US$363000.0",
          "ID: 3322049095 | Region: 98001 | Condition: regular | Price: US$240000.0",
          "ID: 1311200120 | Region: 98001 | Condition: regular | Price: US$225000.0",
          "ID: 1311800040 | Region: 98001 | Condition: regular | Price: US$260000.0",
          "ID: 2422000067 | Region: 98001 | Condition: regular | Price: US$230000.0",
          "ID: 9262800208 | Region: 98001 | Condition: regular | Price: US$637000.0",
          "ID: 6084600330 | Region: 98001 | Condition: regular | Price: US$260000.0",
          "ID: 2895550330 | Region: 98001 | Condition: regular | Price: US$290000.0",
          "ID: 9265410090 | Region: 98001 | Condition: regular | Price: US$160000.0",
          "ID: 2154900040 | Region: 98001 | Condition: regular | Price: US$194250.0",
          "ID: 5702330120 | Region: 98001 | Condition: regular | Price: US$222400.0",
          "ID: 8856003525 | Region: 98001 | Condition: regular | Price: US$183500.0",
          "ID: 2721049061 | Region: 98001 | Condition: regular | Price: US$625000.0",
          "ID: 8001400300 | Region: 98001 | Condition: regular | Price: US$310000.0",
          "ID: 7696620100 | Region: 98001 | Condition: regular | Price: US$254999.0",
          "ID: 3353404265 | Region: 98001 | Condition: regular | Price: US$460000.0",
          "ID: 3356402020 | Region: 98001 | Condition: regular | Price: US$230000.0",
          "ID: 3751604653 | Region: 98001 | Condition: regular | Price: US$205000.0",
          "ID: 8856004415 | Region: 98001 | Condition: regular | Price: US$168000.0",
          "ID: 1312900180 | Region: 98001 | Condition: regular | Price: US$225000.0",
          "ID: 3356403400 | Region: 98001 | Condition: regular | Price: US$159000.0",
          "ID: 3353401340 | Region: 98001 | Condition: good | Price: US$199900.0",
          "ID: 8961950410 | Region: 98001 | Condition: regular | Price: US$328000.0",
          "ID: 6181500340 | Region: 98001 | Condition: regular | Price: US$359000.0",
          "ID: 629650370 | Region: 98001 | Condition: regular | Price: US$250000.0",
          "ID: 7967000060 | Region: 98001 | Condition: regular | Price: US$349500.0",
          "ID: 7967000160 | Region: 98001 | Condition: regular | Price: US$355000.0",
          "ID: 3751600784 | Region: 98001 | Condition: regular | Price: US$331210.0",
          "ID: 6181420200 | Region: 98001 | Condition: regular | Price: US$272000.0",
          "ID: 3356402702 | Region: 98001 | Condition: regular | Price: US$215000.0",
          "ID: 8856004786 | Region: 98001 | Condition: regular | Price: US$275000.0",
          "ID: 2911000100 | Region: 98001 | Condition: regular | Price: US$245000.0",
          "ID: 6181500100 | Region: 98001 | Condition: regular | Price: US$351000.0",
          "ID: 6181410950 | Region: 98001 | Condition: regular | Price: US$254950.0",
          "ID: 9264450460 | Region: 98001 | Condition: regular | Price: US$309000.0",
          "ID: 7967000130 | Region: 98001 | Condition: regular | Price: US$370228.0",
          "ID: 6601200250 | Region: 98001 | Condition: regular | Price: US$205000.0",
          "ID: 3356402705 | Region: 98001 | Condition: regular | Price: US$216000.0",
          "ID: 629650380 | Region: 98001 | Condition: regular | Price: US$255000.0",
          "ID: 1115600130 | Region: 98001 | Condition: regular | Price: US$415000.0",
          "ID: 9511120050 | Region: 98001 | Condition: regular | Price: US$427000.0",
          "ID: 8956200560 | Region: 98001 | Condition: regular | Price: US$453000.0",
          "ID: 3751601877 | Region: 98001 | Condition: regular | Price: US$552900.0",
          "ID: 8956200960 | Region: 98001 | Condition: regular | Price: US$524225.0",
          "ID: 3682000060 | Region: 98001 | Condition: regular | Price: US$349950.0",
          "ID: 3304030140 | Region: 98001 | Condition: regular | Price: US$424000.0",
          "ID: 629650030 | Region: 98001 | Condition: regular | Price: US$317500.0",
          "ID: 7967000200 | Region: 98001 | Condition: regular | Price: US$345500.0",
          "ID: 3353401070 | Region: 98001 | Condition: regular | Price: US$260000.0",
          "ID: 8956200990 | Region: 98001 | Condition: regular | Price: US$499160.0",
          "ID: 9264450550 | Region: 98001 | Condition: regular | Price: US$329995.0",
          "ID: 7967000270 | Region: 98001 | Condition: regular | Price: US$353000.0",
          "ID: 8956200070 | Region: 98001 | Condition: regular | Price: US$447500.0",
          "ID: 3353400092 | Region: 98001 | Condition: regular | Price: US$270500.0",
          "ID: 8956200530 | Region: 98001 | Condition: regular | Price: US$457000.0",
          "ID: 3355400242 | Region: 98001 | Condition: regular | Price: US$274900.0",
          "ID: 6601200040 | Region: 98001 | Condition: regular | Price: US$280000.0",
          "ID: 1278000210 | Region: 98001 | Condition: regular | Price: US$110000.0",
          "ID: 7967000150 | Region: 98001 | Condition: regular | Price: US$353500.0",
          "ID: 1389600040 | Region: 98001 | Condition: regular | Price: US$255000.0",
          "ID: 8956200770 | Region: 98001 | Condition: regular | Price: US$549950.0",
          "ID: 3751600409 | Region: 98001 | Condition: regular | Price: US$510000.0",
          "ID: 1389600080 | Region: 98001 | Condition: regular | Price: US$277950.0",
          "ID: 3304040130 | Region: 98001 | Condition: regular | Price: US$375900.0",
          "ID: 8856003839 | Region: 98001 | Condition: regular | Price: US$215000.0",
          "ID: 6601200020 | Region: 98001 | Condition: regular | Price: US$235245.0",
          "ID: 3304040020 | Region: 98001 | Condition: regular | Price: US$375500.0",
          "ID: 3682000050 | Region: 98001 | Condition: regular | Price: US$349950.0",
          "ID: 4014400381 | Region: 98001 | Condition: regular | Price: US$495000.0",
          "ID: 3094000210 | Region: 98001 | Condition: regular | Price: US$269950.0",
          "ID: 6181500120 | Region: 98001 | Condition: regular | Price: US$312891.0",
          "ID: 3304030220 | Region: 98001 | Condition: regular | Price: US$480000.0",
          "ID: 5007500120 | Region: 98001 | Condition: regular | Price: US$341780.0",
          "ID: 8956200760 | Region: 98001 | Condition: regular | Price: US$541800.0"
         ],
         "type": "scatter",
         "y": [
          240000,
          287000,
          480000,
          465000,
          360000,
          230000,
          252000,
          227950,
          196000,
          305000,
          243000,
          233000,
          249900,
          205000,
          196500,
          199950,
          289000,
          249900,
          100000,
          320000,
          267000,
          350000,
          355000,
          250000,
          355000,
          299000,
          330000,
          196440,
          429000,
          189950,
          215500,
          206000,
          210000,
          284200,
          272000,
          185000,
          332000,
          238000,
          213550,
          230000,
          262000,
          175000,
          235000,
          165000,
          276000,
          265000,
          259000,
          225000,
          354450,
          352000,
          210500,
          276000,
          299950,
          279000,
          329500,
          196000,
          515000,
          180000,
          225000,
          115000,
          195000,
          299950,
          299000,
          201700,
          194820,
          286950,
          250000,
          215000,
          212500,
          382450,
          269950,
          221000,
          263400,
          267500,
          224000,
          330000,
          359000,
          214100,
          482000,
          340000,
          465000,
          299000,
          198000,
          169000,
          195000,
          250000,
          260000,
          260000,
          430000,
          339000,
          215000,
          230000,
          285000,
          277500,
          260000,
          639900,
          420000,
          275000,
          239950,
          239950,
          286000,
          280000,
          254000,
          204900,
          850000,
          265000,
          175000,
          269500,
          286651,
          270000,
          415000,
          241000,
          302000,
          265000,
          449888,
          263000,
          384000,
          190000,
          184000,
          255000,
          220000,
          160000,
          375000,
          225000,
          259900,
          260000,
          170000,
          317000,
          335000,
          359500,
          248000,
          265000,
          215000,
          139000,
          199129,
          285000,
          280000,
          240000,
          214000,
          275000,
          274000,
          204700,
          250000,
          370000,
          571500,
          182500,
          551870,
          250600,
          541500,
          303000,
          200000,
          219000,
          225000,
          360000,
          124500,
          292500,
          270000,
          305000,
          285000,
          239950,
          226500,
          370000,
          248000,
          340000,
          238000,
          250000,
          209000,
          411000,
          229500,
          310000,
          255000,
          280000,
          420000,
          256000,
          246900,
          199950,
          233000,
          299900,
          299999,
          178500,
          232000,
          271920,
          257000,
          210000,
          247000,
          227000,
          198000,
          185900,
          235000,
          190848,
          314950,
          185000,
          174000,
          184000,
          313100,
          166000,
          165000,
          132500,
          290000,
          206000,
          485000,
          500000,
          429000,
          270000,
          227000,
          300000,
          201000,
          372000,
          215000,
          199900,
          207000,
          367950,
          262500,
          289000,
          300000,
          321500,
          245000,
          199000,
          175000,
          139950,
          234000,
          234950,
          171500,
          234500,
          246000,
          220000,
          229950,
          290000,
          250000,
          215500,
          289000,
          234950,
          285000,
          335000,
          220000,
          367300,
          535000,
          321000,
          230000,
          289950,
          250000,
          175000,
          360000,
          389000,
          100000,
          162500,
          205000,
          409000,
          172500,
          245000,
          276000,
          264500,
          154000,
          225000,
          215000,
          455000,
          340000,
          212000,
          280000,
          274950,
          280000,
          295000,
          338500,
          250000,
          245000,
          237000,
          234950,
          278000,
          210000,
          150000,
          190000,
          182500,
          299000,
          197000,
          305000,
          287600,
          258000,
          199500,
          220000,
          179900,
          270000,
          425000,
          287500,
          255000,
          315000,
          363000,
          240000,
          225000,
          260000,
          230000,
          637000,
          260000,
          290000,
          160000,
          194250,
          222400,
          183500,
          625000,
          310000,
          254999,
          460000,
          230000,
          205000,
          168000,
          225000,
          159000,
          199900,
          328000,
          359000,
          250000,
          349500,
          355000,
          331210,
          272000,
          215000,
          275000,
          245000,
          351000,
          254950,
          309000,
          370228,
          205000,
          216000,
          255000,
          415000,
          427000,
          453000,
          552900,
          524225,
          349950,
          424000,
          317500,
          345500,
          260000,
          499160,
          329995,
          353000,
          447500,
          270500,
          457000,
          274900,
          280000,
          110000,
          353500,
          255000,
          549950,
          510000,
          277950,
          375900,
          215000,
          235245,
          375500,
          349950,
          495000,
          269950,
          312891,
          480000,
          341780,
          541800
         ]
        },
        {
         "mode": "lines",
         "name": "Mediana Regional",
         "text": [
          "Region: 98001 | Median: US$260000.0",
          "Region: 98001 | Median: US$260000.0",
          "Region: 98001 | Median: US$260000.0",
          "Region: 98001 | Median: US$260000.0",
          "Region: 98001 | Median: US$260000.0",
          "Region: 98001 | Median: US$260000.0",
          "Region: 98001 | Median: US$260000.0",
          "Region: 98001 | Median: US$260000.0",
          "Region: 98001 | Median: US$260000.0",
          "Region: 98001 | Median: US$260000.0",
          "Region: 98001 | Median: US$260000.0",
          "Region: 98001 | Median: US$260000.0",
          "Region: 98001 | Median: US$260000.0",
          "Region: 98001 | Median: US$260000.0",
          "Region: 98001 | Median: US$260000.0",
          "Region: 98001 | Median: US$260000.0",
          "Region: 98001 | Median: US$260000.0",
          "Region: 98001 | Median: US$260000.0",
          "Region: 98001 | Median: US$260000.0",
          "Region: 98001 | Median: US$260000.0",
          "Region: 98001 | Median: US$260000.0",
          "Region: 98001 | Median: US$260000.0",
          "Region: 98001 | Median: US$260000.0",
          "Region: 98001 | Median: US$260000.0",
          "Region: 98001 | Median: US$260000.0",
          "Region: 98001 | Median: US$260000.0",
          "Region: 98001 | Median: US$260000.0",
          "Region: 98001 | Median: US$260000.0",
          "Region: 98001 | Median: US$260000.0",
          "Region: 98001 | Median: US$260000.0",
          "Region: 98001 | Median: US$260000.0",
          "Region: 98001 | Median: US$260000.0",
          "Region: 98001 | Median: US$260000.0",
          "Region: 98001 | Median: US$260000.0",
          "Region: 98001 | Median: US$260000.0",
          "Region: 98001 | Median: US$260000.0",
          "Region: 98001 | Median: US$260000.0",
          "Region: 98001 | Median: US$260000.0",
          "Region: 98001 | Median: US$260000.0",
          "Region: 98001 | Median: US$260000.0",
          "Region: 98001 | Median: US$260000.0",
          "Region: 98001 | Median: US$260000.0",
          "Region: 98001 | Median: US$260000.0",
          "Region: 98001 | Median: US$260000.0",
          "Region: 98001 | Median: US$260000.0",
          "Region: 98001 | Median: US$260000.0",
          "Region: 98001 | Median: US$260000.0",
          "Region: 98001 | Median: US$260000.0",
          "Region: 98001 | Median: US$260000.0",
          "Region: 98001 | Median: US$260000.0",
          "Region: 98001 | Median: US$260000.0",
          "Region: 98001 | Median: US$260000.0",
          "Region: 98001 | Median: US$260000.0",
          "Region: 98001 | Median: US$260000.0",
          "Region: 98001 | Median: US$260000.0",
          "Region: 98001 | Median: US$260000.0",
          "Region: 98001 | Median: US$260000.0",
          "Region: 98001 | Median: US$260000.0",
          "Region: 98001 | Median: US$260000.0",
          "Region: 98001 | Median: US$260000.0",
          "Region: 98001 | Median: US$260000.0",
          "Region: 98001 | Median: US$260000.0",
          "Region: 98001 | Median: US$260000.0",
          "Region: 98001 | Median: US$260000.0",
          "Region: 98001 | Median: US$260000.0",
          "Region: 98001 | Median: US$260000.0",
          "Region: 98001 | Median: US$260000.0",
          "Region: 98001 | Median: US$260000.0",
          "Region: 98001 | Median: US$260000.0",
          "Region: 98001 | Median: US$260000.0",
          "Region: 98001 | Median: US$260000.0",
          "Region: 98001 | Median: US$260000.0",
          "Region: 98001 | Median: US$260000.0",
          "Region: 98001 | Median: US$260000.0",
          "Region: 98001 | Median: US$260000.0",
          "Region: 98001 | Median: US$260000.0",
          "Region: 98001 | Median: US$260000.0",
          "Region: 98001 | Median: US$260000.0",
          "Region: 98001 | Median: US$260000.0",
          "Region: 98001 | Median: US$260000.0",
          "Region: 98001 | Median: US$260000.0",
          "Region: 98001 | Median: US$260000.0",
          "Region: 98001 | Median: US$260000.0",
          "Region: 98001 | Median: US$260000.0",
          "Region: 98001 | Median: US$260000.0",
          "Region: 98001 | Median: US$260000.0",
          "Region: 98001 | Median: US$260000.0",
          "Region: 98001 | Median: US$260000.0",
          "Region: 98001 | Median: US$260000.0",
          "Region: 98001 | Median: US$260000.0",
          "Region: 98001 | Median: US$260000.0",
          "Region: 98001 | Median: US$260000.0",
          "Region: 98001 | Median: US$260000.0",
          "Region: 98001 | Median: US$260000.0",
          "Region: 98001 | Median: US$260000.0",
          "Region: 98001 | Median: US$260000.0",
          "Region: 98001 | Median: US$260000.0",
          "Region: 98001 | Median: US$260000.0",
          "Region: 98001 | Median: US$260000.0",
          "Region: 98001 | Median: US$260000.0",
          "Region: 98001 | Median: US$260000.0",
          "Region: 98001 | Median: US$260000.0",
          "Region: 98001 | Median: US$260000.0",
          "Region: 98001 | Median: US$260000.0",
          "Region: 98001 | Median: US$260000.0",
          "Region: 98001 | Median: US$260000.0",
          "Region: 98001 | Median: US$260000.0",
          "Region: 98001 | Median: US$260000.0",
          "Region: 98001 | Median: US$260000.0",
          "Region: 98001 | Median: US$260000.0",
          "Region: 98001 | Median: US$260000.0",
          "Region: 98001 | Median: US$260000.0",
          "Region: 98001 | Median: US$260000.0",
          "Region: 98001 | Median: US$260000.0",
          "Region: 98001 | Median: US$260000.0",
          "Region: 98001 | Median: US$260000.0",
          "Region: 98001 | Median: US$260000.0",
          "Region: 98001 | Median: US$260000.0",
          "Region: 98001 | Median: US$260000.0",
          "Region: 98001 | Median: US$260000.0",
          "Region: 98001 | Median: US$260000.0",
          "Region: 98001 | Median: US$260000.0",
          "Region: 98001 | Median: US$260000.0",
          "Region: 98001 | Median: US$260000.0",
          "Region: 98001 | Median: US$260000.0",
          "Region: 98001 | Median: US$260000.0",
          "Region: 98001 | Median: US$260000.0",
          "Region: 98001 | Median: US$260000.0",
          "Region: 98001 | Median: US$260000.0",
          "Region: 98001 | Median: US$260000.0",
          "Region: 98001 | Median: US$260000.0",
          "Region: 98001 | Median: US$260000.0",
          "Region: 98001 | Median: US$260000.0",
          "Region: 98001 | Median: US$260000.0",
          "Region: 98001 | Median: US$260000.0",
          "Region: 98001 | Median: US$260000.0",
          "Region: 98001 | Median: US$260000.0",
          "Region: 98001 | Median: US$260000.0",
          "Region: 98001 | Median: US$260000.0",
          "Region: 98001 | Median: US$260000.0",
          "Region: 98001 | Median: US$260000.0",
          "Region: 98001 | Median: US$260000.0",
          "Region: 98001 | Median: US$260000.0",
          "Region: 98001 | Median: US$260000.0",
          "Region: 98001 | Median: US$260000.0",
          "Region: 98001 | Median: US$260000.0",
          "Region: 98001 | Median: US$260000.0",
          "Region: 98001 | Median: US$260000.0",
          "Region: 98001 | Median: US$260000.0",
          "Region: 98001 | Median: US$260000.0",
          "Region: 98001 | Median: US$260000.0",
          "Region: 98001 | Median: US$260000.0",
          "Region: 98001 | Median: US$260000.0",
          "Region: 98001 | Median: US$260000.0",
          "Region: 98001 | Median: US$260000.0",
          "Region: 98001 | Median: US$260000.0",
          "Region: 98001 | Median: US$260000.0",
          "Region: 98001 | Median: US$260000.0",
          "Region: 98001 | Median: US$260000.0",
          "Region: 98001 | Median: US$260000.0",
          "Region: 98001 | Median: US$260000.0",
          "Region: 98001 | Median: US$260000.0",
          "Region: 98001 | Median: US$260000.0",
          "Region: 98001 | Median: US$260000.0",
          "Region: 98001 | Median: US$260000.0",
          "Region: 98001 | Median: US$260000.0",
          "Region: 98001 | Median: US$260000.0",
          "Region: 98001 | Median: US$260000.0",
          "Region: 98001 | Median: US$260000.0",
          "Region: 98001 | Median: US$260000.0",
          "Region: 98001 | Median: US$260000.0",
          "Region: 98001 | Median: US$260000.0",
          "Region: 98001 | Median: US$260000.0",
          "Region: 98001 | Median: US$260000.0",
          "Region: 98001 | Median: US$260000.0",
          "Region: 98001 | Median: US$260000.0",
          "Region: 98001 | Median: US$260000.0",
          "Region: 98001 | Median: US$260000.0",
          "Region: 98001 | Median: US$260000.0",
          "Region: 98001 | Median: US$260000.0",
          "Region: 98001 | Median: US$260000.0",
          "Region: 98001 | Median: US$260000.0",
          "Region: 98001 | Median: US$260000.0",
          "Region: 98001 | Median: US$260000.0",
          "Region: 98001 | Median: US$260000.0",
          "Region: 98001 | Median: US$260000.0",
          "Region: 98001 | Median: US$260000.0",
          "Region: 98001 | Median: US$260000.0",
          "Region: 98001 | Median: US$260000.0",
          "Region: 98001 | Median: US$260000.0",
          "Region: 98001 | Median: US$260000.0",
          "Region: 98001 | Median: US$260000.0",
          "Region: 98001 | Median: US$260000.0",
          "Region: 98001 | Median: US$260000.0",
          "Region: 98001 | Median: US$260000.0",
          "Region: 98001 | Median: US$260000.0",
          "Region: 98001 | Median: US$260000.0",
          "Region: 98001 | Median: US$260000.0",
          "Region: 98001 | Median: US$260000.0",
          "Region: 98001 | Median: US$260000.0",
          "Region: 98001 | Median: US$260000.0",
          "Region: 98001 | Median: US$260000.0",
          "Region: 98001 | Median: US$260000.0",
          "Region: 98001 | Median: US$260000.0",
          "Region: 98001 | Median: US$260000.0",
          "Region: 98001 | Median: US$260000.0",
          "Region: 98001 | Median: US$260000.0",
          "Region: 98001 | Median: US$260000.0",
          "Region: 98001 | Median: US$260000.0",
          "Region: 98001 | Median: US$260000.0",
          "Region: 98001 | Median: US$260000.0",
          "Region: 98001 | Median: US$260000.0",
          "Region: 98001 | Median: US$260000.0",
          "Region: 98001 | Median: US$260000.0",
          "Region: 98001 | Median: US$260000.0",
          "Region: 98001 | Median: US$260000.0",
          "Region: 98001 | Median: US$260000.0",
          "Region: 98001 | Median: US$260000.0",
          "Region: 98001 | Median: US$260000.0",
          "Region: 98001 | Median: US$260000.0",
          "Region: 98001 | Median: US$260000.0",
          "Region: 98001 | Median: US$260000.0",
          "Region: 98001 | Median: US$260000.0",
          "Region: 98001 | Median: US$260000.0",
          "Region: 98001 | Median: US$260000.0",
          "Region: 98001 | Median: US$260000.0",
          "Region: 98001 | Median: US$260000.0",
          "Region: 98001 | Median: US$260000.0",
          "Region: 98001 | Median: US$260000.0",
          "Region: 98001 | Median: US$260000.0",
          "Region: 98001 | Median: US$260000.0",
          "Region: 98001 | Median: US$260000.0",
          "Region: 98001 | Median: US$260000.0",
          "Region: 98001 | Median: US$260000.0",
          "Region: 98001 | Median: US$260000.0",
          "Region: 98001 | Median: US$260000.0",
          "Region: 98001 | Median: US$260000.0",
          "Region: 98001 | Median: US$260000.0",
          "Region: 98001 | Median: US$260000.0",
          "Region: 98001 | Median: US$260000.0",
          "Region: 98001 | Median: US$260000.0",
          "Region: 98001 | Median: US$260000.0",
          "Region: 98001 | Median: US$260000.0",
          "Region: 98001 | Median: US$260000.0",
          "Region: 98001 | Median: US$260000.0",
          "Region: 98001 | Median: US$260000.0",
          "Region: 98001 | Median: US$260000.0",
          "Region: 98001 | Median: US$260000.0",
          "Region: 98001 | Median: US$260000.0",
          "Region: 98001 | Median: US$260000.0",
          "Region: 98001 | Median: US$260000.0",
          "Region: 98001 | Median: US$260000.0",
          "Region: 98001 | Median: US$260000.0",
          "Region: 98001 | Median: US$260000.0",
          "Region: 98001 | Median: US$260000.0",
          "Region: 98001 | Median: US$260000.0",
          "Region: 98001 | Median: US$260000.0",
          "Region: 98001 | Median: US$260000.0",
          "Region: 98001 | Median: US$260000.0",
          "Region: 98001 | Median: US$260000.0",
          "Region: 98001 | Median: US$260000.0",
          "Region: 98001 | Median: US$260000.0",
          "Region: 98001 | Median: US$260000.0",
          "Region: 98001 | Median: US$260000.0",
          "Region: 98001 | Median: US$260000.0",
          "Region: 98001 | Median: US$260000.0",
          "Region: 98001 | Median: US$260000.0",
          "Region: 98001 | Median: US$260000.0",
          "Region: 98001 | Median: US$260000.0",
          "Region: 98001 | Median: US$260000.0",
          "Region: 98001 | Median: US$260000.0",
          "Region: 98001 | Median: US$260000.0",
          "Region: 98001 | Median: US$260000.0",
          "Region: 98001 | Median: US$260000.0",
          "Region: 98001 | Median: US$260000.0",
          "Region: 98001 | Median: US$260000.0",
          "Region: 98001 | Median: US$260000.0",
          "Region: 98001 | Median: US$260000.0",
          "Region: 98001 | Median: US$260000.0",
          "Region: 98001 | Median: US$260000.0",
          "Region: 98001 | Median: US$260000.0",
          "Region: 98001 | Median: US$260000.0",
          "Region: 98001 | Median: US$260000.0",
          "Region: 98001 | Median: US$260000.0",
          "Region: 98001 | Median: US$260000.0",
          "Region: 98001 | Median: US$260000.0",
          "Region: 98001 | Median: US$260000.0",
          "Region: 98001 | Median: US$260000.0",
          "Region: 98001 | Median: US$260000.0",
          "Region: 98001 | Median: US$260000.0",
          "Region: 98001 | Median: US$260000.0",
          "Region: 98001 | Median: US$260000.0",
          "Region: 98001 | Median: US$260000.0",
          "Region: 98001 | Median: US$260000.0",
          "Region: 98001 | Median: US$260000.0",
          "Region: 98001 | Median: US$260000.0",
          "Region: 98001 | Median: US$260000.0",
          "Region: 98001 | Median: US$260000.0",
          "Region: 98001 | Median: US$260000.0",
          "Region: 98001 | Median: US$260000.0",
          "Region: 98001 | Median: US$260000.0",
          "Region: 98001 | Median: US$260000.0",
          "Region: 98001 | Median: US$260000.0",
          "Region: 98001 | Median: US$260000.0",
          "Region: 98001 | Median: US$260000.0",
          "Region: 98001 | Median: US$260000.0",
          "Region: 98001 | Median: US$260000.0",
          "Region: 98001 | Median: US$260000.0",
          "Region: 98001 | Median: US$260000.0",
          "Region: 98001 | Median: US$260000.0",
          "Region: 98001 | Median: US$260000.0",
          "Region: 98001 | Median: US$260000.0",
          "Region: 98001 | Median: US$260000.0",
          "Region: 98001 | Median: US$260000.0",
          "Region: 98001 | Median: US$260000.0",
          "Region: 98001 | Median: US$260000.0",
          "Region: 98001 | Median: US$260000.0",
          "Region: 98001 | Median: US$260000.0",
          "Region: 98001 | Median: US$260000.0",
          "Region: 98001 | Median: US$260000.0",
          "Region: 98001 | Median: US$260000.0",
          "Region: 98001 | Median: US$260000.0",
          "Region: 98001 | Median: US$260000.0",
          "Region: 98001 | Median: US$260000.0",
          "Region: 98001 | Median: US$260000.0",
          "Region: 98001 | Median: US$260000.0",
          "Region: 98001 | Median: US$260000.0",
          "Region: 98001 | Median: US$260000.0",
          "Region: 98001 | Median: US$260000.0",
          "Region: 98001 | Median: US$260000.0",
          "Region: 98001 | Median: US$260000.0",
          "Region: 98001 | Median: US$260000.0",
          "Region: 98001 | Median: US$260000.0",
          "Region: 98001 | Median: US$260000.0",
          "Region: 98001 | Median: US$260000.0",
          "Region: 98001 | Median: US$260000.0",
          "Region: 98001 | Median: US$260000.0",
          "Region: 98001 | Median: US$260000.0",
          "Region: 98001 | Median: US$260000.0",
          "Region: 98001 | Median: US$260000.0",
          "Region: 98001 | Median: US$260000.0",
          "Region: 98001 | Median: US$260000.0",
          "Region: 98001 | Median: US$260000.0",
          "Region: 98001 | Median: US$260000.0",
          "Region: 98001 | Median: US$260000.0",
          "Region: 98001 | Median: US$260000.0",
          "Region: 98001 | Median: US$260000.0",
          "Region: 98001 | Median: US$260000.0",
          "Region: 98001 | Median: US$260000.0",
          "Region: 98001 | Median: US$260000.0",
          "Region: 98001 | Median: US$260000.0",
          "Region: 98001 | Median: US$260000.0",
          "Region: 98001 | Median: US$260000.0",
          "Region: 98001 | Median: US$260000.0",
          "Region: 98001 | Median: US$260000.0",
          "Region: 98001 | Median: US$260000.0",
          "Region: 98001 | Median: US$260000.0",
          "Region: 98001 | Median: US$260000.0",
          "Region: 98001 | Median: US$260000.0"
         ],
         "type": "scatter",
         "y": [
          260000,
          260000,
          260000,
          260000,
          260000,
          260000,
          260000,
          260000,
          260000,
          260000,
          260000,
          260000,
          260000,
          260000,
          260000,
          260000,
          260000,
          260000,
          260000,
          260000,
          260000,
          260000,
          260000,
          260000,
          260000,
          260000,
          260000,
          260000,
          260000,
          260000,
          260000,
          260000,
          260000,
          260000,
          260000,
          260000,
          260000,
          260000,
          260000,
          260000,
          260000,
          260000,
          260000,
          260000,
          260000,
          260000,
          260000,
          260000,
          260000,
          260000,
          260000,
          260000,
          260000,
          260000,
          260000,
          260000,
          260000,
          260000,
          260000,
          260000,
          260000,
          260000,
          260000,
          260000,
          260000,
          260000,
          260000,
          260000,
          260000,
          260000,
          260000,
          260000,
          260000,
          260000,
          260000,
          260000,
          260000,
          260000,
          260000,
          260000,
          260000,
          260000,
          260000,
          260000,
          260000,
          260000,
          260000,
          260000,
          260000,
          260000,
          260000,
          260000,
          260000,
          260000,
          260000,
          260000,
          260000,
          260000,
          260000,
          260000,
          260000,
          260000,
          260000,
          260000,
          260000,
          260000,
          260000,
          260000,
          260000,
          260000,
          260000,
          260000,
          260000,
          260000,
          260000,
          260000,
          260000,
          260000,
          260000,
          260000,
          260000,
          260000,
          260000,
          260000,
          260000,
          260000,
          260000,
          260000,
          260000,
          260000,
          260000,
          260000,
          260000,
          260000,
          260000,
          260000,
          260000,
          260000,
          260000,
          260000,
          260000,
          260000,
          260000,
          260000,
          260000,
          260000,
          260000,
          260000,
          260000,
          260000,
          260000,
          260000,
          260000,
          260000,
          260000,
          260000,
          260000,
          260000,
          260000,
          260000,
          260000,
          260000,
          260000,
          260000,
          260000,
          260000,
          260000,
          260000,
          260000,
          260000,
          260000,
          260000,
          260000,
          260000,
          260000,
          260000,
          260000,
          260000,
          260000,
          260000,
          260000,
          260000,
          260000,
          260000,
          260000,
          260000,
          260000,
          260000,
          260000,
          260000,
          260000,
          260000,
          260000,
          260000,
          260000,
          260000,
          260000,
          260000,
          260000,
          260000,
          260000,
          260000,
          260000,
          260000,
          260000,
          260000,
          260000,
          260000,
          260000,
          260000,
          260000,
          260000,
          260000,
          260000,
          260000,
          260000,
          260000,
          260000,
          260000,
          260000,
          260000,
          260000,
          260000,
          260000,
          260000,
          260000,
          260000,
          260000,
          260000,
          260000,
          260000,
          260000,
          260000,
          260000,
          260000,
          260000,
          260000,
          260000,
          260000,
          260000,
          260000,
          260000,
          260000,
          260000,
          260000,
          260000,
          260000,
          260000,
          260000,
          260000,
          260000,
          260000,
          260000,
          260000,
          260000,
          260000,
          260000,
          260000,
          260000,
          260000,
          260000,
          260000,
          260000,
          260000,
          260000,
          260000,
          260000,
          260000,
          260000,
          260000,
          260000,
          260000,
          260000,
          260000,
          260000,
          260000,
          260000,
          260000,
          260000,
          260000,
          260000,
          260000,
          260000,
          260000,
          260000,
          260000,
          260000,
          260000,
          260000,
          260000,
          260000,
          260000,
          260000,
          260000,
          260000,
          260000,
          260000,
          260000,
          260000,
          260000,
          260000,
          260000,
          260000,
          260000,
          260000,
          260000,
          260000,
          260000,
          260000,
          260000,
          260000,
          260000,
          260000,
          260000,
          260000,
          260000,
          260000,
          260000,
          260000,
          260000,
          260000,
          260000,
          260000,
          260000,
          260000,
          260000,
          260000,
          260000,
          260000,
          260000,
          260000,
          260000,
          260000,
          260000,
          260000,
          260000,
          260000,
          260000,
          260000,
          260000,
          260000,
          260000,
          260000,
          260000,
          260000,
          260000,
          260000,
          260000,
          260000,
          260000,
          260000,
          260000,
          260000,
          260000,
          260000,
          260000,
          260000,
          260000,
          260000
         ]
        }
       ],
       "layout": {
        "font": {
         "color": "#000000"
        },
        "template": {
         "data": {
          "bar": [
           {
            "error_x": {
             "color": "#2a3f5f"
            },
            "error_y": {
             "color": "#2a3f5f"
            },
            "marker": {
             "line": {
              "color": "#E5ECF6",
              "width": 0.5
             },
             "pattern": {
              "fillmode": "overlay",
              "size": 10,
              "solidity": 0.2
             }
            },
            "type": "bar"
           }
          ],
          "barpolar": [
           {
            "marker": {
             "line": {
              "color": "#E5ECF6",
              "width": 0.5
             },
             "pattern": {
              "fillmode": "overlay",
              "size": 10,
              "solidity": 0.2
             }
            },
            "type": "barpolar"
           }
          ],
          "carpet": [
           {
            "aaxis": {
             "endlinecolor": "#2a3f5f",
             "gridcolor": "white",
             "linecolor": "white",
             "minorgridcolor": "white",
             "startlinecolor": "#2a3f5f"
            },
            "baxis": {
             "endlinecolor": "#2a3f5f",
             "gridcolor": "white",
             "linecolor": "white",
             "minorgridcolor": "white",
             "startlinecolor": "#2a3f5f"
            },
            "type": "carpet"
           }
          ],
          "choropleth": [
           {
            "colorbar": {
             "outlinewidth": 0,
             "ticks": ""
            },
            "type": "choropleth"
           }
          ],
          "contour": [
           {
            "colorbar": {
             "outlinewidth": 0,
             "ticks": ""
            },
            "colorscale": [
             [
              0,
              "#0d0887"
             ],
             [
              0.1111111111111111,
              "#46039f"
             ],
             [
              0.2222222222222222,
              "#7201a8"
             ],
             [
              0.3333333333333333,
              "#9c179e"
             ],
             [
              0.4444444444444444,
              "#bd3786"
             ],
             [
              0.5555555555555556,
              "#d8576b"
             ],
             [
              0.6666666666666666,
              "#ed7953"
             ],
             [
              0.7777777777777778,
              "#fb9f3a"
             ],
             [
              0.8888888888888888,
              "#fdca26"
             ],
             [
              1,
              "#f0f921"
             ]
            ],
            "type": "contour"
           }
          ],
          "contourcarpet": [
           {
            "colorbar": {
             "outlinewidth": 0,
             "ticks": ""
            },
            "type": "contourcarpet"
           }
          ],
          "heatmap": [
           {
            "colorbar": {
             "outlinewidth": 0,
             "ticks": ""
            },
            "colorscale": [
             [
              0,
              "#0d0887"
             ],
             [
              0.1111111111111111,
              "#46039f"
             ],
             [
              0.2222222222222222,
              "#7201a8"
             ],
             [
              0.3333333333333333,
              "#9c179e"
             ],
             [
              0.4444444444444444,
              "#bd3786"
             ],
             [
              0.5555555555555556,
              "#d8576b"
             ],
             [
              0.6666666666666666,
              "#ed7953"
             ],
             [
              0.7777777777777778,
              "#fb9f3a"
             ],
             [
              0.8888888888888888,
              "#fdca26"
             ],
             [
              1,
              "#f0f921"
             ]
            ],
            "type": "heatmap"
           }
          ],
          "heatmapgl": [
           {
            "colorbar": {
             "outlinewidth": 0,
             "ticks": ""
            },
            "colorscale": [
             [
              0,
              "#0d0887"
             ],
             [
              0.1111111111111111,
              "#46039f"
             ],
             [
              0.2222222222222222,
              "#7201a8"
             ],
             [
              0.3333333333333333,
              "#9c179e"
             ],
             [
              0.4444444444444444,
              "#bd3786"
             ],
             [
              0.5555555555555556,
              "#d8576b"
             ],
             [
              0.6666666666666666,
              "#ed7953"
             ],
             [
              0.7777777777777778,
              "#fb9f3a"
             ],
             [
              0.8888888888888888,
              "#fdca26"
             ],
             [
              1,
              "#f0f921"
             ]
            ],
            "type": "heatmapgl"
           }
          ],
          "histogram": [
           {
            "marker": {
             "pattern": {
              "fillmode": "overlay",
              "size": 10,
              "solidity": 0.2
             }
            },
            "type": "histogram"
           }
          ],
          "histogram2d": [
           {
            "colorbar": {
             "outlinewidth": 0,
             "ticks": ""
            },
            "colorscale": [
             [
              0,
              "#0d0887"
             ],
             [
              0.1111111111111111,
              "#46039f"
             ],
             [
              0.2222222222222222,
              "#7201a8"
             ],
             [
              0.3333333333333333,
              "#9c179e"
             ],
             [
              0.4444444444444444,
              "#bd3786"
             ],
             [
              0.5555555555555556,
              "#d8576b"
             ],
             [
              0.6666666666666666,
              "#ed7953"
             ],
             [
              0.7777777777777778,
              "#fb9f3a"
             ],
             [
              0.8888888888888888,
              "#fdca26"
             ],
             [
              1,
              "#f0f921"
             ]
            ],
            "type": "histogram2d"
           }
          ],
          "histogram2dcontour": [
           {
            "colorbar": {
             "outlinewidth": 0,
             "ticks": ""
            },
            "colorscale": [
             [
              0,
              "#0d0887"
             ],
             [
              0.1111111111111111,
              "#46039f"
             ],
             [
              0.2222222222222222,
              "#7201a8"
             ],
             [
              0.3333333333333333,
              "#9c179e"
             ],
             [
              0.4444444444444444,
              "#bd3786"
             ],
             [
              0.5555555555555556,
              "#d8576b"
             ],
             [
              0.6666666666666666,
              "#ed7953"
             ],
             [
              0.7777777777777778,
              "#fb9f3a"
             ],
             [
              0.8888888888888888,
              "#fdca26"
             ],
             [
              1,
              "#f0f921"
             ]
            ],
            "type": "histogram2dcontour"
           }
          ],
          "mesh3d": [
           {
            "colorbar": {
             "outlinewidth": 0,
             "ticks": ""
            },
            "type": "mesh3d"
           }
          ],
          "parcoords": [
           {
            "line": {
             "colorbar": {
              "outlinewidth": 0,
              "ticks": ""
             }
            },
            "type": "parcoords"
           }
          ],
          "pie": [
           {
            "automargin": true,
            "type": "pie"
           }
          ],
          "scatter": [
           {
            "fillpattern": {
             "fillmode": "overlay",
             "size": 10,
             "solidity": 0.2
            },
            "type": "scatter"
           }
          ],
          "scatter3d": [
           {
            "line": {
             "colorbar": {
              "outlinewidth": 0,
              "ticks": ""
             }
            },
            "marker": {
             "colorbar": {
              "outlinewidth": 0,
              "ticks": ""
             }
            },
            "type": "scatter3d"
           }
          ],
          "scattercarpet": [
           {
            "marker": {
             "colorbar": {
              "outlinewidth": 0,
              "ticks": ""
             }
            },
            "type": "scattercarpet"
           }
          ],
          "scattergeo": [
           {
            "marker": {
             "colorbar": {
              "outlinewidth": 0,
              "ticks": ""
             }
            },
            "type": "scattergeo"
           }
          ],
          "scattergl": [
           {
            "marker": {
             "colorbar": {
              "outlinewidth": 0,
              "ticks": ""
             }
            },
            "type": "scattergl"
           }
          ],
          "scattermapbox": [
           {
            "marker": {
             "colorbar": {
              "outlinewidth": 0,
              "ticks": ""
             }
            },
            "type": "scattermapbox"
           }
          ],
          "scatterpolar": [
           {
            "marker": {
             "colorbar": {
              "outlinewidth": 0,
              "ticks": ""
             }
            },
            "type": "scatterpolar"
           }
          ],
          "scatterpolargl": [
           {
            "marker": {
             "colorbar": {
              "outlinewidth": 0,
              "ticks": ""
             }
            },
            "type": "scatterpolargl"
           }
          ],
          "scatterternary": [
           {
            "marker": {
             "colorbar": {
              "outlinewidth": 0,
              "ticks": ""
             }
            },
            "type": "scatterternary"
           }
          ],
          "surface": [
           {
            "colorbar": {
             "outlinewidth": 0,
             "ticks": ""
            },
            "colorscale": [
             [
              0,
              "#0d0887"
             ],
             [
              0.1111111111111111,
              "#46039f"
             ],
             [
              0.2222222222222222,
              "#7201a8"
             ],
             [
              0.3333333333333333,
              "#9c179e"
             ],
             [
              0.4444444444444444,
              "#bd3786"
             ],
             [
              0.5555555555555556,
              "#d8576b"
             ],
             [
              0.6666666666666666,
              "#ed7953"
             ],
             [
              0.7777777777777778,
              "#fb9f3a"
             ],
             [
              0.8888888888888888,
              "#fdca26"
             ],
             [
              1,
              "#f0f921"
             ]
            ],
            "type": "surface"
           }
          ],
          "table": [
           {
            "cells": {
             "fill": {
              "color": "#EBF0F8"
             },
             "line": {
              "color": "white"
             }
            },
            "header": {
             "fill": {
              "color": "#C8D4E3"
             },
             "line": {
              "color": "white"
             }
            },
            "type": "table"
           }
          ]
         },
         "layout": {
          "annotationdefaults": {
           "arrowcolor": "#2a3f5f",
           "arrowhead": 0,
           "arrowwidth": 1
          },
          "autotypenumbers": "strict",
          "coloraxis": {
           "colorbar": {
            "outlinewidth": 0,
            "ticks": ""
           }
          },
          "colorscale": {
           "diverging": [
            [
             0,
             "#8e0152"
            ],
            [
             0.1,
             "#c51b7d"
            ],
            [
             0.2,
             "#de77ae"
            ],
            [
             0.3,
             "#f1b6da"
            ],
            [
             0.4,
             "#fde0ef"
            ],
            [
             0.5,
             "#f7f7f7"
            ],
            [
             0.6,
             "#e6f5d0"
            ],
            [
             0.7,
             "#b8e186"
            ],
            [
             0.8,
             "#7fbc41"
            ],
            [
             0.9,
             "#4d9221"
            ],
            [
             1,
             "#276419"
            ]
           ],
           "sequential": [
            [
             0,
             "#0d0887"
            ],
            [
             0.1111111111111111,
             "#46039f"
            ],
            [
             0.2222222222222222,
             "#7201a8"
            ],
            [
             0.3333333333333333,
             "#9c179e"
            ],
            [
             0.4444444444444444,
             "#bd3786"
            ],
            [
             0.5555555555555556,
             "#d8576b"
            ],
            [
             0.6666666666666666,
             "#ed7953"
            ],
            [
             0.7777777777777778,
             "#fb9f3a"
            ],
            [
             0.8888888888888888,
             "#fdca26"
            ],
            [
             1,
             "#f0f921"
            ]
           ],
           "sequentialminus": [
            [
             0,
             "#0d0887"
            ],
            [
             0.1111111111111111,
             "#46039f"
            ],
            [
             0.2222222222222222,
             "#7201a8"
            ],
            [
             0.3333333333333333,
             "#9c179e"
            ],
            [
             0.4444444444444444,
             "#bd3786"
            ],
            [
             0.5555555555555556,
             "#d8576b"
            ],
            [
             0.6666666666666666,
             "#ed7953"
            ],
            [
             0.7777777777777778,
             "#fb9f3a"
            ],
            [
             0.8888888888888888,
             "#fdca26"
            ],
            [
             1,
             "#f0f921"
            ]
           ]
          },
          "colorway": [
           "#636efa",
           "#EF553B",
           "#00cc96",
           "#ab63fa",
           "#FFA15A",
           "#19d3f3",
           "#FF6692",
           "#B6E880",
           "#FF97FF",
           "#FECB52"
          ],
          "font": {
           "color": "#2a3f5f"
          },
          "geo": {
           "bgcolor": "white",
           "lakecolor": "white",
           "landcolor": "#E5ECF6",
           "showlakes": true,
           "showland": true,
           "subunitcolor": "white"
          },
          "hoverlabel": {
           "align": "left"
          },
          "hovermode": "closest",
          "mapbox": {
           "style": "light"
          },
          "paper_bgcolor": "white",
          "plot_bgcolor": "#E5ECF6",
          "polar": {
           "angularaxis": {
            "gridcolor": "white",
            "linecolor": "white",
            "ticks": ""
           },
           "bgcolor": "#E5ECF6",
           "radialaxis": {
            "gridcolor": "white",
            "linecolor": "white",
            "ticks": ""
           }
          },
          "scene": {
           "xaxis": {
            "backgroundcolor": "#E5ECF6",
            "gridcolor": "white",
            "gridwidth": 2,
            "linecolor": "white",
            "showbackground": true,
            "ticks": "",
            "zerolinecolor": "white"
           },
           "yaxis": {
            "backgroundcolor": "#E5ECF6",
            "gridcolor": "white",
            "gridwidth": 2,
            "linecolor": "white",
            "showbackground": true,
            "ticks": "",
            "zerolinecolor": "white"
           },
           "zaxis": {
            "backgroundcolor": "#E5ECF6",
            "gridcolor": "white",
            "gridwidth": 2,
            "linecolor": "white",
            "showbackground": true,
            "ticks": "",
            "zerolinecolor": "white"
           }
          },
          "shapedefaults": {
           "line": {
            "color": "#2a3f5f"
           }
          },
          "ternary": {
           "aaxis": {
            "gridcolor": "white",
            "linecolor": "white",
            "ticks": ""
           },
           "baxis": {
            "gridcolor": "white",
            "linecolor": "white",
            "ticks": ""
           },
           "bgcolor": "#E5ECF6",
           "caxis": {
            "gridcolor": "white",
            "linecolor": "white",
            "ticks": ""
           }
          },
          "title": {
           "x": 0.05
          },
          "xaxis": {
           "automargin": true,
           "gridcolor": "white",
           "linecolor": "white",
           "ticks": "",
           "title": {
            "standoff": 15
           },
           "zerolinecolor": "white",
           "zerolinewidth": 2
          },
          "yaxis": {
           "automargin": true,
           "gridcolor": "white",
           "linecolor": "white",
           "ticks": "",
           "title": {
            "standoff": 15
           },
           "zerolinecolor": "white",
           "zerolinewidth": 2
          }
         }
        },
        "xaxis": {
         "title": {
          "text": "Houses"
         }
        },
        "yaxis": {
         "title": {
          "text": "Aquisition cost"
         }
        }
       }
      }
     },
     "metadata": {},
     "output_type": "display_data"
    }
   ],
   "source": [
    "interact(data_viz, df=fixed(purchase_list), region = f_zipcode);"
   ]
  },
  {
   "cell_type": "markdown",
   "id": "fcac49b4",
   "metadata": {},
   "source": [
    "#### 3.3. Imóveis para compra/revenda"
   ]
  },
  {
   "cell_type": "code",
   "execution_count": 38,
   "id": "0ef26ef0",
   "metadata": {
    "ExecuteTime": {
     "end_time": "2022-01-15T01:41:06.432840Z",
     "start_time": "2022-01-15T01:41:06.420907Z"
    }
   },
   "outputs": [],
   "source": [
    "def make_map( house_list, region, filters ): \n",
    "    \n",
    "    map_data = house_list\n",
    "\n",
    "    if filters:\n",
    "        map_data\n",
    "    else:\n",
    "        map_data = map_data.loc[map_data['zipcode']==region]\n",
    "    \n",
    "    _map = px.scatter_mapbox( map_data,\n",
    "                              lat='lat',\n",
    "                              lon='long',\n",
    "                              hover_name='address',                              \n",
    "                              color='season',\n",
    "                              color_discrete_sequence=px.colors.qualitative.Dark2,\n",
    "                              zoom=10,\n",
    "                              text='ID: '+map_data['id'].astype('string'),\n",
    "                              hover_data=dict( lat=False, long=False, season=False)\n",
    "                            )\n",
    "\n",
    "    _map.update_layout(mapbox_style='open-street-map')\n",
    "    _map.update_layout(height=600, margin = {'r':0,'t':0,'l':0,'b':0})\n",
    "    _map.show()\n",
    "    \n",
    "    return None"
   ]
  },
  {
   "cell_type": "code",
   "execution_count": 39,
   "id": "30e764de",
   "metadata": {
    "ExecuteTime": {
     "end_time": "2022-01-15T01:41:16.366254Z",
     "start_time": "2022-01-15T01:41:15.695712Z"
    }
   },
   "outputs": [
    {
     "data": {
      "application/vnd.jupyter.widget-view+json": {
       "model_id": "26aa16011b5642b6899f1bbd805127ba",
       "version_major": 2,
       "version_minor": 0
      },
      "text/plain": [
       "interactive(children=(Dropdown(description='Zipcode', options=(98001, 98002, 98003, 98004, 98005, 98006, 98007…"
      ]
     },
     "metadata": {},
     "output_type": "display_data"
    },
    {
     "data": {
      "application/vnd.plotly.v1+json": {
       "config": {
        "plotlyServerURL": "https://plot.ly"
       },
       "data": [
        {
         "customdata": [
          [
           47.2613,
           -122.255,
           "summer"
          ],
          [
           47.267,
           -122.25,
           "summer"
          ],
          [
           47.2622,
           -122.282,
           "summer"
          ],
          [
           47.2633,
           -122.281,
           "summer"
          ],
          [
           47.3068,
           -122.27,
           "summer"
          ],
          [
           47.3398,
           -122.286,
           "summer"
          ],
          [
           47.3413,
           -122.29,
           "summer"
          ]
         ],
         "hovertemplate": "<b>%{hovertext}</b><br><br>text=%{text}<extra></extra>",
         "hovertext": [
          "5th Avenue Southwest, 200",
          "Milwaukee Boulevard South, 117",
          "42nd Avenue South, 37820",
          "43rd Avenue South, 37637",
          "South 329th Place, 5120",
          "South 292nd Place, 3653",
          "South 290th Street, 3385"
         ],
         "lat": [
          47.2613,
          47.267,
          47.2622,
          47.2633,
          47.3068,
          47.3398,
          47.3413
         ],
         "legendgroup": "summer",
         "lon": [
          -122.255,
          -122.25,
          -122.282,
          -122.281,
          -122.27,
          -122.286,
          -122.29
         ],
         "marker": {
          "color": "rgb(27,158,119)"
         },
         "mode": "markers+text",
         "name": "summer",
         "showlegend": true,
         "subplot": "mapbox",
         "text": [
          "ID: 3353401710",
          "ID: 3353400860",
          "ID: 3750605349",
          "ID: 3750603940",
          "ID: 7905400160",
          "ID: 1311000270",
          "ID: 321049193"
         ],
         "type": "scattermapbox"
        },
        {
         "customdata": [
          [
           47.327,
           -122.267,
           "fall"
          ],
          [
           47.3426,
           -122.285,
           "fall"
          ],
          [
           47.3424,
           -122.289,
           "fall"
          ],
          [
           47.3096,
           -122.241,
           "fall"
          ]
         ],
         "hovertemplate": "<b>%{hovertext}</b><br><br>text=%{text}<extra></extra>",
         "hovertext": [
          "55th Avenue South, 30567",
          "39th Avenue South, 28821",
          "34th Avenue South, 28830",
          "Clay Street Northwest, 201"
         ],
         "lat": [
          47.327,
          47.3426,
          47.3424,
          47.3096
         ],
         "legendgroup": "fall",
         "lon": [
          -122.267,
          -122.285,
          -122.289,
          -122.241
         ],
         "marker": {
          "color": "rgb(217,95,2)"
         },
         "mode": "markers+text",
         "name": "fall",
         "showlegend": true,
         "subplot": "mapbox",
         "text": [
          "ID: 303000445",
          "ID: 1311000600",
          "ID: 321049090",
          "ID: 4463400195"
         ],
         "type": "scattermapbox"
        },
        {
         "customdata": [
          [
           47.2664,
           -122.256,
           "winter"
          ]
         ],
         "hovertemplate": "<b>%{hovertext}</b><br><br>text=%{text}<extra></extra>",
         "hovertext": [
          "2nd Avenue Southwest, 221"
         ],
         "lat": [
          47.2664
         ],
         "legendgroup": "winter",
         "lon": [
          -122.256
         ],
         "marker": {
          "color": "rgb(117,112,179)"
         },
         "mode": "markers+text",
         "name": "winter",
         "showlegend": true,
         "subplot": "mapbox",
         "text": [
          "ID: 3353401340"
         ],
         "type": "scattermapbox"
        }
       ],
       "layout": {
        "height": 600,
        "legend": {
         "title": {
          "text": "season"
         },
         "tracegroupgap": 0
        },
        "mapbox": {
         "center": {
          "lat": 47.30247500000001,
          "lon": -122.27100000000002
         },
         "domain": {
          "x": [
           0,
           1
          ],
          "y": [
           0,
           1
          ]
         },
         "style": "open-street-map",
         "zoom": 10
        },
        "margin": {
         "b": 0,
         "l": 0,
         "r": 0,
         "t": 0
        },
        "template": {
         "data": {
          "bar": [
           {
            "error_x": {
             "color": "#2a3f5f"
            },
            "error_y": {
             "color": "#2a3f5f"
            },
            "marker": {
             "line": {
              "color": "#E5ECF6",
              "width": 0.5
             },
             "pattern": {
              "fillmode": "overlay",
              "size": 10,
              "solidity": 0.2
             }
            },
            "type": "bar"
           }
          ],
          "barpolar": [
           {
            "marker": {
             "line": {
              "color": "#E5ECF6",
              "width": 0.5
             },
             "pattern": {
              "fillmode": "overlay",
              "size": 10,
              "solidity": 0.2
             }
            },
            "type": "barpolar"
           }
          ],
          "carpet": [
           {
            "aaxis": {
             "endlinecolor": "#2a3f5f",
             "gridcolor": "white",
             "linecolor": "white",
             "minorgridcolor": "white",
             "startlinecolor": "#2a3f5f"
            },
            "baxis": {
             "endlinecolor": "#2a3f5f",
             "gridcolor": "white",
             "linecolor": "white",
             "minorgridcolor": "white",
             "startlinecolor": "#2a3f5f"
            },
            "type": "carpet"
           }
          ],
          "choropleth": [
           {
            "colorbar": {
             "outlinewidth": 0,
             "ticks": ""
            },
            "type": "choropleth"
           }
          ],
          "contour": [
           {
            "colorbar": {
             "outlinewidth": 0,
             "ticks": ""
            },
            "colorscale": [
             [
              0,
              "#0d0887"
             ],
             [
              0.1111111111111111,
              "#46039f"
             ],
             [
              0.2222222222222222,
              "#7201a8"
             ],
             [
              0.3333333333333333,
              "#9c179e"
             ],
             [
              0.4444444444444444,
              "#bd3786"
             ],
             [
              0.5555555555555556,
              "#d8576b"
             ],
             [
              0.6666666666666666,
              "#ed7953"
             ],
             [
              0.7777777777777778,
              "#fb9f3a"
             ],
             [
              0.8888888888888888,
              "#fdca26"
             ],
             [
              1,
              "#f0f921"
             ]
            ],
            "type": "contour"
           }
          ],
          "contourcarpet": [
           {
            "colorbar": {
             "outlinewidth": 0,
             "ticks": ""
            },
            "type": "contourcarpet"
           }
          ],
          "heatmap": [
           {
            "colorbar": {
             "outlinewidth": 0,
             "ticks": ""
            },
            "colorscale": [
             [
              0,
              "#0d0887"
             ],
             [
              0.1111111111111111,
              "#46039f"
             ],
             [
              0.2222222222222222,
              "#7201a8"
             ],
             [
              0.3333333333333333,
              "#9c179e"
             ],
             [
              0.4444444444444444,
              "#bd3786"
             ],
             [
              0.5555555555555556,
              "#d8576b"
             ],
             [
              0.6666666666666666,
              "#ed7953"
             ],
             [
              0.7777777777777778,
              "#fb9f3a"
             ],
             [
              0.8888888888888888,
              "#fdca26"
             ],
             [
              1,
              "#f0f921"
             ]
            ],
            "type": "heatmap"
           }
          ],
          "heatmapgl": [
           {
            "colorbar": {
             "outlinewidth": 0,
             "ticks": ""
            },
            "colorscale": [
             [
              0,
              "#0d0887"
             ],
             [
              0.1111111111111111,
              "#46039f"
             ],
             [
              0.2222222222222222,
              "#7201a8"
             ],
             [
              0.3333333333333333,
              "#9c179e"
             ],
             [
              0.4444444444444444,
              "#bd3786"
             ],
             [
              0.5555555555555556,
              "#d8576b"
             ],
             [
              0.6666666666666666,
              "#ed7953"
             ],
             [
              0.7777777777777778,
              "#fb9f3a"
             ],
             [
              0.8888888888888888,
              "#fdca26"
             ],
             [
              1,
              "#f0f921"
             ]
            ],
            "type": "heatmapgl"
           }
          ],
          "histogram": [
           {
            "marker": {
             "pattern": {
              "fillmode": "overlay",
              "size": 10,
              "solidity": 0.2
             }
            },
            "type": "histogram"
           }
          ],
          "histogram2d": [
           {
            "colorbar": {
             "outlinewidth": 0,
             "ticks": ""
            },
            "colorscale": [
             [
              0,
              "#0d0887"
             ],
             [
              0.1111111111111111,
              "#46039f"
             ],
             [
              0.2222222222222222,
              "#7201a8"
             ],
             [
              0.3333333333333333,
              "#9c179e"
             ],
             [
              0.4444444444444444,
              "#bd3786"
             ],
             [
              0.5555555555555556,
              "#d8576b"
             ],
             [
              0.6666666666666666,
              "#ed7953"
             ],
             [
              0.7777777777777778,
              "#fb9f3a"
             ],
             [
              0.8888888888888888,
              "#fdca26"
             ],
             [
              1,
              "#f0f921"
             ]
            ],
            "type": "histogram2d"
           }
          ],
          "histogram2dcontour": [
           {
            "colorbar": {
             "outlinewidth": 0,
             "ticks": ""
            },
            "colorscale": [
             [
              0,
              "#0d0887"
             ],
             [
              0.1111111111111111,
              "#46039f"
             ],
             [
              0.2222222222222222,
              "#7201a8"
             ],
             [
              0.3333333333333333,
              "#9c179e"
             ],
             [
              0.4444444444444444,
              "#bd3786"
             ],
             [
              0.5555555555555556,
              "#d8576b"
             ],
             [
              0.6666666666666666,
              "#ed7953"
             ],
             [
              0.7777777777777778,
              "#fb9f3a"
             ],
             [
              0.8888888888888888,
              "#fdca26"
             ],
             [
              1,
              "#f0f921"
             ]
            ],
            "type": "histogram2dcontour"
           }
          ],
          "mesh3d": [
           {
            "colorbar": {
             "outlinewidth": 0,
             "ticks": ""
            },
            "type": "mesh3d"
           }
          ],
          "parcoords": [
           {
            "line": {
             "colorbar": {
              "outlinewidth": 0,
              "ticks": ""
             }
            },
            "type": "parcoords"
           }
          ],
          "pie": [
           {
            "automargin": true,
            "type": "pie"
           }
          ],
          "scatter": [
           {
            "fillpattern": {
             "fillmode": "overlay",
             "size": 10,
             "solidity": 0.2
            },
            "type": "scatter"
           }
          ],
          "scatter3d": [
           {
            "line": {
             "colorbar": {
              "outlinewidth": 0,
              "ticks": ""
             }
            },
            "marker": {
             "colorbar": {
              "outlinewidth": 0,
              "ticks": ""
             }
            },
            "type": "scatter3d"
           }
          ],
          "scattercarpet": [
           {
            "marker": {
             "colorbar": {
              "outlinewidth": 0,
              "ticks": ""
             }
            },
            "type": "scattercarpet"
           }
          ],
          "scattergeo": [
           {
            "marker": {
             "colorbar": {
              "outlinewidth": 0,
              "ticks": ""
             }
            },
            "type": "scattergeo"
           }
          ],
          "scattergl": [
           {
            "marker": {
             "colorbar": {
              "outlinewidth": 0,
              "ticks": ""
             }
            },
            "type": "scattergl"
           }
          ],
          "scattermapbox": [
           {
            "marker": {
             "colorbar": {
              "outlinewidth": 0,
              "ticks": ""
             }
            },
            "type": "scattermapbox"
           }
          ],
          "scatterpolar": [
           {
            "marker": {
             "colorbar": {
              "outlinewidth": 0,
              "ticks": ""
             }
            },
            "type": "scatterpolar"
           }
          ],
          "scatterpolargl": [
           {
            "marker": {
             "colorbar": {
              "outlinewidth": 0,
              "ticks": ""
             }
            },
            "type": "scatterpolargl"
           }
          ],
          "scatterternary": [
           {
            "marker": {
             "colorbar": {
              "outlinewidth": 0,
              "ticks": ""
             }
            },
            "type": "scatterternary"
           }
          ],
          "surface": [
           {
            "colorbar": {
             "outlinewidth": 0,
             "ticks": ""
            },
            "colorscale": [
             [
              0,
              "#0d0887"
             ],
             [
              0.1111111111111111,
              "#46039f"
             ],
             [
              0.2222222222222222,
              "#7201a8"
             ],
             [
              0.3333333333333333,
              "#9c179e"
             ],
             [
              0.4444444444444444,
              "#bd3786"
             ],
             [
              0.5555555555555556,
              "#d8576b"
             ],
             [
              0.6666666666666666,
              "#ed7953"
             ],
             [
              0.7777777777777778,
              "#fb9f3a"
             ],
             [
              0.8888888888888888,
              "#fdca26"
             ],
             [
              1,
              "#f0f921"
             ]
            ],
            "type": "surface"
           }
          ],
          "table": [
           {
            "cells": {
             "fill": {
              "color": "#EBF0F8"
             },
             "line": {
              "color": "white"
             }
            },
            "header": {
             "fill": {
              "color": "#C8D4E3"
             },
             "line": {
              "color": "white"
             }
            },
            "type": "table"
           }
          ]
         },
         "layout": {
          "annotationdefaults": {
           "arrowcolor": "#2a3f5f",
           "arrowhead": 0,
           "arrowwidth": 1
          },
          "autotypenumbers": "strict",
          "coloraxis": {
           "colorbar": {
            "outlinewidth": 0,
            "ticks": ""
           }
          },
          "colorscale": {
           "diverging": [
            [
             0,
             "#8e0152"
            ],
            [
             0.1,
             "#c51b7d"
            ],
            [
             0.2,
             "#de77ae"
            ],
            [
             0.3,
             "#f1b6da"
            ],
            [
             0.4,
             "#fde0ef"
            ],
            [
             0.5,
             "#f7f7f7"
            ],
            [
             0.6,
             "#e6f5d0"
            ],
            [
             0.7,
             "#b8e186"
            ],
            [
             0.8,
             "#7fbc41"
            ],
            [
             0.9,
             "#4d9221"
            ],
            [
             1,
             "#276419"
            ]
           ],
           "sequential": [
            [
             0,
             "#0d0887"
            ],
            [
             0.1111111111111111,
             "#46039f"
            ],
            [
             0.2222222222222222,
             "#7201a8"
            ],
            [
             0.3333333333333333,
             "#9c179e"
            ],
            [
             0.4444444444444444,
             "#bd3786"
            ],
            [
             0.5555555555555556,
             "#d8576b"
            ],
            [
             0.6666666666666666,
             "#ed7953"
            ],
            [
             0.7777777777777778,
             "#fb9f3a"
            ],
            [
             0.8888888888888888,
             "#fdca26"
            ],
            [
             1,
             "#f0f921"
            ]
           ],
           "sequentialminus": [
            [
             0,
             "#0d0887"
            ],
            [
             0.1111111111111111,
             "#46039f"
            ],
            [
             0.2222222222222222,
             "#7201a8"
            ],
            [
             0.3333333333333333,
             "#9c179e"
            ],
            [
             0.4444444444444444,
             "#bd3786"
            ],
            [
             0.5555555555555556,
             "#d8576b"
            ],
            [
             0.6666666666666666,
             "#ed7953"
            ],
            [
             0.7777777777777778,
             "#fb9f3a"
            ],
            [
             0.8888888888888888,
             "#fdca26"
            ],
            [
             1,
             "#f0f921"
            ]
           ]
          },
          "colorway": [
           "#636efa",
           "#EF553B",
           "#00cc96",
           "#ab63fa",
           "#FFA15A",
           "#19d3f3",
           "#FF6692",
           "#B6E880",
           "#FF97FF",
           "#FECB52"
          ],
          "font": {
           "color": "#2a3f5f"
          },
          "geo": {
           "bgcolor": "white",
           "lakecolor": "white",
           "landcolor": "#E5ECF6",
           "showlakes": true,
           "showland": true,
           "subunitcolor": "white"
          },
          "hoverlabel": {
           "align": "left"
          },
          "hovermode": "closest",
          "mapbox": {
           "style": "light"
          },
          "paper_bgcolor": "white",
          "plot_bgcolor": "#E5ECF6",
          "polar": {
           "angularaxis": {
            "gridcolor": "white",
            "linecolor": "white",
            "ticks": ""
           },
           "bgcolor": "#E5ECF6",
           "radialaxis": {
            "gridcolor": "white",
            "linecolor": "white",
            "ticks": ""
           }
          },
          "scene": {
           "xaxis": {
            "backgroundcolor": "#E5ECF6",
            "gridcolor": "white",
            "gridwidth": 2,
            "linecolor": "white",
            "showbackground": true,
            "ticks": "",
            "zerolinecolor": "white"
           },
           "yaxis": {
            "backgroundcolor": "#E5ECF6",
            "gridcolor": "white",
            "gridwidth": 2,
            "linecolor": "white",
            "showbackground": true,
            "ticks": "",
            "zerolinecolor": "white"
           },
           "zaxis": {
            "backgroundcolor": "#E5ECF6",
            "gridcolor": "white",
            "gridwidth": 2,
            "linecolor": "white",
            "showbackground": true,
            "ticks": "",
            "zerolinecolor": "white"
           }
          },
          "shapedefaults": {
           "line": {
            "color": "#2a3f5f"
           }
          },
          "ternary": {
           "aaxis": {
            "gridcolor": "white",
            "linecolor": "white",
            "ticks": ""
           },
           "baxis": {
            "gridcolor": "white",
            "linecolor": "white",
            "ticks": ""
           },
           "bgcolor": "#E5ECF6",
           "caxis": {
            "gridcolor": "white",
            "linecolor": "white",
            "ticks": ""
           }
          },
          "title": {
           "x": 0.05
          },
          "xaxis": {
           "automargin": true,
           "gridcolor": "white",
           "linecolor": "white",
           "ticks": "",
           "title": {
            "standoff": 15
           },
           "zerolinecolor": "white",
           "zerolinewidth": 2
          },
          "yaxis": {
           "automargin": true,
           "gridcolor": "white",
           "linecolor": "white",
           "ticks": "",
           "title": {
            "standoff": 15
           },
           "zerolinecolor": "white",
           "zerolinewidth": 2
          }
         }
        }
       }
      }
     },
     "metadata": {},
     "output_type": "display_data"
    }
   ],
   "source": [
    "interact( make_map, house_list=fixed( sell_list ), region=f_zipcode, filters=f_filters );"
   ]
  }
 ],
 "metadata": {
  "hide_input": false,
  "kernelspec": {
   "display_name": "Python 3.9.12 ('houserocketsales')",
   "language": "python",
   "name": "python3"
  },
  "language_info": {
   "codemirror_mode": {
    "name": "ipython",
    "version": 3
   },
   "file_extension": ".py",
   "mimetype": "text/x-python",
   "name": "python",
   "nbconvert_exporter": "python",
   "pygments_lexer": "ipython3",
   "version": "3.12.4"
  },
  "vscode": {
   "interpreter": {
    "hash": "77bb0ab7f87f92e3b172b507f52e427f3f6cc921fca61a15ecb6888f90254f12"
   }
  }
 },
 "nbformat": 4,
 "nbformat_minor": 5
}
